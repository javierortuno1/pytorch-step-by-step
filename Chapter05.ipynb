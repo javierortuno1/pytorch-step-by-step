{
  "cells": [
    {
      "cell_type": "markdown",
      "metadata": {
        "id": "view-in-github",
        "colab_type": "text"
      },
      "source": [
        "<a href=\"https://colab.research.google.com/github/javierortuno1/pytorch-step-by-step/blob/main/Chapter05.ipynb\" target=\"_parent\"><img src=\"https://colab.research.google.com/assets/colab-badge.svg\" alt=\"Open In Colab\"/></a>"
      ]
    },
    {
      "cell_type": "markdown",
      "metadata": {
        "id": "lir0g3eWVZtW"
      },
      "source": [
        "# Deep Learning with PyTorch Step-by-Step: A Beginner's Guide"
      ]
    },
    {
      "cell_type": "markdown",
      "metadata": {
        "id": "WSd6NYLKVZtX"
      },
      "source": [
        "# Chapter 5 - Multiclass classification with CNN"
      ]
    },
    {
      "cell_type": "code",
      "execution_count": 1,
      "metadata": {
        "id": "k2IQTzp2VZtY",
        "outputId": "634daf74-1f9a-449a-8143-6d78524e8be0",
        "colab": {
          "base_uri": "https://localhost:8080/",
          "height": 17
        }
      },
      "outputs": [
        {
          "output_type": "display_data",
          "data": {
            "text/plain": [
              "<IPython.core.display.HTML object>"
            ],
            "text/html": [
              "<style>.container { width:80% !important; }</style>"
            ]
          },
          "metadata": {}
        }
      ],
      "source": [
        "from IPython.core.display import display, HTML\n",
        "display(HTML(\"<style>.container { width:80% !important; }</style>\"))"
      ]
    },
    {
      "cell_type": "code",
      "execution_count": 2,
      "metadata": {
        "id": "WzaR5xeYVZtZ",
        "colab": {
          "base_uri": "https://localhost:8080/"
        },
        "outputId": "e7bcef30-73b4-4262-dfd4-9105b309b19b"
      },
      "outputs": [
        {
          "output_type": "stream",
          "name": "stdout",
          "text": [
            "Downloading files from GitHub repo to Colab...\n",
            "Finished!\n"
          ]
        }
      ],
      "source": [
        "try:\n",
        "    import google.colab\n",
        "    import requests\n",
        "    url = 'https://raw.githubusercontent.com/dvgodoy/PyTorchStepByStep/master/config.py'\n",
        "    r = requests.get(url, allow_redirects=True)\n",
        "    open('config.py', 'wb').write(r.content)\n",
        "except ModuleNotFoundError:\n",
        "    pass\n",
        "\n",
        "from config import *\n",
        "config_chapter5()\n",
        "# This is needed to render the plots in this chapter\n",
        "from plots.chapter5 import *"
      ]
    },
    {
      "cell_type": "code",
      "execution_count": 3,
      "metadata": {
        "id": "EK8j0QCrVZta"
      },
      "outputs": [],
      "source": [
        "import random\n",
        "import numpy as np\n",
        "from PIL import Image\n",
        "\n",
        "import torch\n",
        "import torch.optim as optim\n",
        "import torch.nn as nn\n",
        "import torch.nn.functional as F\n",
        "\n",
        "from torch.utils.data import DataLoader, Dataset\n",
        "from torchvision.transforms.v2 import Compose, Normalize\n",
        "\n",
        "from data_generation.image_classification import generate_dataset\n",
        "from helpers import index_splitter, make_balanced_sampler\n",
        "from stepbystep.v1 import StepByStep"
      ]
    },
    {
      "cell_type": "markdown",
      "metadata": {
        "id": "M-qPhDXBVZta"
      },
      "source": [
        "# Convolutions\n",
        "\n",
        "Mathematical operation on two functions (f and g) that produces a third function (f*g) expressing how the shape of one is modified by the other.\n",
        "\n",
        "In image processing, a convolution matrix is also called a kernel or filter. Typical image processing operations - like blurring, sharpening, edge detection, and more, are accomplished by performing a convolution between a kernel (filter) and an image.\n",
        "\n",
        "And if we remember that weights used by a neuron can be interpreted as a weight image that will be multiplied by an input flattened image then we can say that those weights Images can be seen as the filter"
      ]
    },
    {
      "cell_type": "markdown",
      "metadata": {
        "id": "E2YUFyKxVZtb"
      },
      "source": [
        "## Filter / Kernel"
      ]
    },
    {
      "cell_type": "markdown",
      "metadata": {
        "id": "VdA9RgrbVZtb"
      },
      "source": [
        "Simply put, one defines a filter and applies this filter to an image. Usually, the filters are small square matrices\n",
        "\n",
        "The convolution itself is performed by applying the filter on the image repeatedly.\n",
        "\n",
        "![](https://github.com/dvgodoy/PyTorchStepByStep/blob/master/images/conv1.png?raw=1)\n",
        "\n",
        "We can see that the gray region on the top left corner of the image, is the region to which the filter is being applied. That gray region is called the receptive field (where our vision or model vision is being currently focusing)\n",
        "\n",
        "The shape follows the NCHW convention ->\n",
        "\n",
        "* Input: one image, one channel, six-by-six pixels in size\n",
        "* Filter: one filter, one channel, three-by-three pixels in size\n",
        "\n",
        "And we have the asterisk (*) which represents the convolution operation between the two\n",
        "\n",
        "\n"
      ]
    },
    {
      "cell_type": "code",
      "execution_count": 74,
      "metadata": {
        "id": "1ECqPTyQVZtb",
        "outputId": "4445fa2c-05fc-4d47-aa3a-cd6f5871ef30",
        "colab": {
          "base_uri": "https://localhost:8080/"
        }
      },
      "outputs": [
        {
          "output_type": "execute_result",
          "data": {
            "text/plain": [
              "(1, 1, 6, 6)"
            ]
          },
          "metadata": {},
          "execution_count": 74
        }
      ],
      "source": [
        "single = np.array(\n",
        "    [[[[5, 0, 8, 7, 8, 1],\n",
        "       [1, 9, 5, 0, 7, 7],\n",
        "       [6, 0, 2, 4, 6, 6],\n",
        "       [9, 7, 6, 6, 8, 4],\n",
        "       [8, 3, 8, 5, 1, 3],\n",
        "       [7, 2, 7, 0, 1, 0]]]]\n",
        ")\n",
        "single.shape"
      ]
    },
    {
      "cell_type": "markdown",
      "source": [
        "And the identity filter"
      ],
      "metadata": {
        "id": "OWFH9jC122i5"
      }
    },
    {
      "cell_type": "code",
      "execution_count": 75,
      "metadata": {
        "id": "Dpzhn2e4VZtc",
        "outputId": "9177d167-102f-4ab1-d4bc-7e21219c3377",
        "colab": {
          "base_uri": "https://localhost:8080/"
        }
      },
      "outputs": [
        {
          "output_type": "execute_result",
          "data": {
            "text/plain": [
              "(1, 1, 3, 3)"
            ]
          },
          "metadata": {},
          "execution_count": 75
        }
      ],
      "source": [
        "identity = np.array(\n",
        "    [[[[0, 0, 0],\n",
        "       [0, 1, 0],\n",
        "       [0, 0, 0]]]]\n",
        ")\n",
        "identity.shape"
      ]
    },
    {
      "cell_type": "markdown",
      "metadata": {
        "id": "9OTh6tpJVZtc"
      },
      "source": [
        "## Convolving\n",
        "\n",
        "Is the process where the filter modifies the selected region / receptive field by performing the convolution"
      ]
    },
    {
      "cell_type": "markdown",
      "metadata": {
        "id": "mvNba2s4VZtc"
      },
      "source": [
        "![](https://github.com/dvgodoy/PyTorchStepByStep/blob/master/images/conv2.png?raw=1)\n",
        "\n",
        "1. Element-wise multiplication between the two, region and filter, and adds everything up."
      ]
    },
    {
      "cell_type": "code",
      "execution_count": 76,
      "metadata": {
        "id": "6ZMttuNfVZtc",
        "outputId": "fba60324-9b7c-4cce-9908-308f1b68db6e",
        "colab": {
          "base_uri": "https://localhost:8080/"
        }
      },
      "outputs": [
        {
          "output_type": "execute_result",
          "data": {
            "text/plain": [
              "9"
            ]
          },
          "metadata": {},
          "execution_count": 76
        }
      ],
      "source": [
        "# We silice or extract the 'region' from the \"single\" numpy.\n",
        "# [start:end]\n",
        "# single[take all, take all, take first 3 rows, take first 3 columns]\n",
        "region = single[:, :, 0:3, 0:3]\n",
        "filtered_region = region * identity       # since both are matrix then we can perform the element-wise multiplication\n",
        "total = filtered_region.sum()             # Adding everything up from the multiplication result matrix\n",
        "total"
      ]
    },
    {
      "cell_type": "markdown",
      "metadata": {
        "id": "6dRTR2LIVZtd"
      },
      "source": [
        "And we're done for the first region of the image. Then we can say there are nin pixel values coming in, but only ONE value coming out\n",
        "\n",
        "![](https://github.com/dvgodoy/PyTorchStepByStep/blob/master/images/conv3.png?raw=1)\n",
        "\n",
        "Here we can see that doing a convolution produces an image with a reduced size. And since the Identity filter only has a value of one in the center, as a result we get a simple number once is multiplied with the receptive region.\n",
        "\n",
        "That result of the convolution value will be packed into a new shape or image called feature or activation map"
      ]
    },
    {
      "cell_type": "markdown",
      "metadata": {
        "id": "-U5gKoMUVZtd"
      },
      "source": [
        "## Moving Around\n",
        "\n",
        "Next, we move the region one step to the right; Changing the receptive field and apply the filter again.\n",
        "\n",
        "THE SIZE OF THE MOVEMENT, in pixels, is called a stride"
      ]
    },
    {
      "cell_type": "markdown",
      "metadata": {
        "id": "HtqwrPMkVZtd"
      },
      "source": [
        "![](https://github.com/dvgodoy/PyTorchStepByStep/blob/master/images/stride1.png?raw=1)"
      ]
    },
    {
      "cell_type": "code",
      "execution_count": 77,
      "metadata": {
        "id": "i2M6O_l3VZtd"
      },
      "outputs": [],
      "source": [
        "new_region = single[:, :, 0:3, (0+1):(3+1)]"
      ]
    },
    {
      "cell_type": "markdown",
      "metadata": {
        "id": "DnDRxTy2VZtd"
      },
      "source": [
        "![](https://github.com/dvgodoy/PyTorchStepByStep/blob/master/images/conv5.png?raw=1)"
      ]
    },
    {
      "cell_type": "code",
      "execution_count": 78,
      "metadata": {
        "id": "bGfA3oV4VZtd",
        "outputId": "be7d63cc-524a-4a8a-a509-f517aa22ef18",
        "colab": {
          "base_uri": "https://localhost:8080/"
        }
      },
      "outputs": [
        {
          "output_type": "execute_result",
          "data": {
            "text/plain": [
              "5"
            ]
          },
          "metadata": {},
          "execution_count": 78
        }
      ],
      "source": [
        "new_filtered_region = new_region * identity\n",
        "new_total = new_filtered_region.sum()\n",
        "new_total"
      ]
    },
    {
      "cell_type": "markdown",
      "metadata": {
        "id": "eoBC6wtKVZtd"
      },
      "source": [
        "![](https://github.com/dvgodoy/PyTorchStepByStep/blob/master/images/conv6.png?raw=1)"
      ]
    },
    {
      "cell_type": "markdown",
      "source": [
        "We can keep moving the gray region (receptive region) until we can't move it anymore"
      ],
      "metadata": {
        "id": "4STjlSrH81HC"
      }
    },
    {
      "cell_type": "markdown",
      "metadata": {
        "id": "Gw0TreKHVZtd"
      },
      "source": [
        "![](https://github.com/dvgodoy/PyTorchStepByStep/blob/master/images/conv7.png?raw=1)"
      ]
    },
    {
      "cell_type": "code",
      "execution_count": 79,
      "metadata": {
        "id": "sFXl-o4qVZte"
      },
      "outputs": [],
      "source": [
        "last_horizontal_region = single[:, :, 0:3, (0+4):(3+4)]"
      ]
    },
    {
      "cell_type": "code",
      "execution_count": 80,
      "metadata": {
        "id": "fOZcbdRNVZte",
        "outputId": "e589355b-0bd2-4d8f-da55-605481cb18d6",
        "colab": {
          "base_uri": "https://localhost:8080/",
          "height": 141
        }
      },
      "outputs": [
        {
          "output_type": "error",
          "ename": "ValueError",
          "evalue": "operands could not be broadcast together with shapes (1,1,3,2) (1,1,3,3) ",
          "traceback": [
            "\u001b[0;31m---------------------------------------------------------------------------\u001b[0m",
            "\u001b[0;31mValueError\u001b[0m                                Traceback (most recent call last)",
            "\u001b[0;32m<ipython-input-80-977c289755de>\u001b[0m in \u001b[0;36m<cell line: 1>\u001b[0;34m()\u001b[0m\n\u001b[0;32m----> 1\u001b[0;31m \u001b[0mlast_horizontal_region\u001b[0m \u001b[0;34m*\u001b[0m \u001b[0midentity\u001b[0m \u001b[0;31m# Not posible because the region has undefined elements\u001b[0m\u001b[0;34m\u001b[0m\u001b[0;34m\u001b[0m\u001b[0m\n\u001b[0m",
            "\u001b[0;31mValueError\u001b[0m: operands could not be broadcast together with shapes (1,1,3,2) (1,1,3,3) "
          ]
        }
      ],
      "source": [
        "last_horizontal_region * identity # Not posible because the region has undefined elements"
      ]
    },
    {
      "cell_type": "markdown",
      "metadata": {
        "id": "zN-QR7gzVZte"
      },
      "source": [
        "## Shape\n",
        "\n",
        "Next, we go back to the left side and move down one step. If we repeate the operation, covering all valid regions, we'll end up with a resulting image that is smaller.\n",
        "\n",
        "The size of the resulting image depend on the size of the filter\n",
        "\n",
        "(hi, wi)*f = (hi-f+1, wi-f+1) = (6,6)*3x3 = 6-3+1, 6-3+1 = (4,4)"
      ]
    },
    {
      "cell_type": "markdown",
      "metadata": {
        "id": "T6GZI7o-VZte"
      },
      "source": [
        "![](https://github.com/dvgodoy/PyTorchStepByStep/blob/master/images/conv8.png?raw=1)"
      ]
    },
    {
      "cell_type": "markdown",
      "metadata": {
        "id": "4JmeQVw7VZte"
      },
      "source": [
        "$$\n",
        "\\Large\n",
        "(h_i, w_i) * (h_f, w_f) = (h_i - (h_f - 1), w_i - (w_f - 1))\n",
        "$$"
      ]
    },
    {
      "cell_type": "markdown",
      "metadata": {
        "id": "S0vTbuOwVZte"
      },
      "source": [
        "$$\n",
        "\\Large\n",
        "(h_i, w_i) * f = (h_i - f + 1, w_i - f + 1)\n",
        "$$"
      ]
    },
    {
      "cell_type": "markdown",
      "source": [
        "If we want to keep the image size we will add padding"
      ],
      "metadata": {
        "id": "iRRQAdeaCf6E"
      }
    },
    {
      "cell_type": "markdown",
      "metadata": {
        "id": "3o5AEaOOVZte"
      },
      "source": [
        "## Convolving in PyTorch\n",
        "\n",
        "Let's try the convolution in python\n"
      ]
    },
    {
      "cell_type": "code",
      "execution_count": null,
      "metadata": {
        "id": "gfS32B8aVZtf"
      },
      "outputs": [],
      "source": [
        "# Image (numpy 4D NCHW) and filter to tensors\n",
        "image = torch.as_tensor(single).float()\n",
        "kernel_identity = torch.as_tensor(identity).float()"
      ]
    },
    {
      "cell_type": "markdown",
      "source": [
        "Convolutions come in two flavors:\n",
        "\n",
        "- Functional\n",
        "- and Module"
      ],
      "metadata": {
        "id": "vVA_maNUz3BH"
      }
    },
    {
      "cell_type": "code",
      "execution_count": null,
      "metadata": {
        "id": "3OjxCWqvVZtf"
      },
      "outputs": [],
      "source": [
        "# Functional takes the kernel/filter as argument\n",
        "convolved = F.conv2d(image, kernel_identity, stride=1)\n",
        "convolved"
      ]
    },
    {
      "cell_type": "code",
      "execution_count": null,
      "metadata": {
        "id": "t-kUPL5mVZtf"
      },
      "outputs": [],
      "source": [
        "# Module has learnable weights to represent the kernel/filter -> the Filter is learned by the module/layer\n",
        "# - in_channels: number of channels of the input image (Deep, channel or number of Level of information)\n",
        "# - out_channels: number of channels produced by the convolution (Deep, channel or number of level of information). It means that the module/layer is going to learn multiple filters and therefore different results\n",
        "# - kernel_size: size of the (square) convolution filter/kernel\n",
        "# - stride: the size of the movement of the selected region\n",
        "conv = nn.Conv2d(in_channels=1, out_channels=1, kernel_size=3, stride=1) # This module/layer is a trainable component that learns the optimal filter weights\n",
        "print(conv.weight)\n",
        "conv(image) # It has a grad_fn meaning that its weights are going to be updated during the trainning process of the whole model or NN"
      ]
    },
    {
      "cell_type": "markdown",
      "source": [
        "The network will come up with filters that highlight features that are relevant to the task at hand"
      ],
      "metadata": {
        "id": "3shVU8923-So"
      }
    },
    {
      "cell_type": "code",
      "execution_count": null,
      "metadata": {
        "id": "qYmO4YysVZtf"
      },
      "outputs": [],
      "source": [
        "conv_multiple = nn.Conv2d(in_channels=1, out_channels=2, kernel_size=3, stride=1)\n",
        "conv_multiple.weight"
      ]
    },
    {
      "cell_type": "code",
      "execution_count": null,
      "metadata": {
        "id": "FT0RImMAVZtf"
      },
      "outputs": [],
      "source": [
        "# We can also force a convolutional module to use a particular filter by setting its weights\n",
        "with torch.no_grad():       # We need to strictily tell the conv layer to no-gradient operations\n",
        "    conv.weight[0] = kernel_identity      # We provide the filter that cotians elements that are interpreted as weights\n",
        "    conv.bias[0] = 0"
      ]
    },
    {
      "cell_type": "markdown",
      "source": [
        "setting the weights to get specific filters is at the heart of transfer learning. Someone else trained a model, and that model learned lots of useful filters, so we don't have to learn them again. We can set the corresponding weights and go from there"
      ],
      "metadata": {
        "id": "gciUNLk48L9w"
      }
    },
    {
      "cell_type": "code",
      "execution_count": null,
      "metadata": {
        "id": "VT1SjYQjVZtg"
      },
      "outputs": [],
      "source": [
        "conv(image)"
      ]
    },
    {
      "cell_type": "markdown",
      "metadata": {
        "id": "ipXu8EuEVZtg"
      },
      "source": [
        "## Striding\n",
        "\n",
        "With stride of two, whe move two pixels to the right and down, the latest if is needed, before performing the filter"
      ]
    },
    {
      "cell_type": "markdown",
      "metadata": {
        "id": "19ieT9LJVZtg"
      },
      "source": [
        "![](https://github.com/dvgodoy/PyTorchStepByStep/blob/master/images/strider2.png?raw=1)"
      ]
    },
    {
      "cell_type": "markdown",
      "metadata": {
        "id": "iQV80DnTVZtg"
      },
      "source": [
        "![](https://github.com/dvgodoy/PyTorchStepByStep/blob/master/images/strider3.png?raw=1)"
      ]
    },
    {
      "cell_type": "markdown",
      "source": [
        "The larger the stride, the smaller the resulting image"
      ],
      "metadata": {
        "id": "NnOaeFAY9iC-"
      }
    },
    {
      "cell_type": "markdown",
      "metadata": {
        "id": "C7K5v9VgVZtg"
      },
      "source": [
        "$$\n",
        "\\Large\n",
        "(h_i, w_i) * f = \\left(\\frac{h_i - f + 1}{s}, \\frac{w_i - f + 1}{s}\\right)\n",
        "$$"
      ]
    },
    {
      "cell_type": "code",
      "execution_count": null,
      "metadata": {
        "id": "YHepb_LxVZtg"
      },
      "outputs": [],
      "source": [
        "convolved_stride2 = F.conv2d(image, kernel_identity, stride=2)\n",
        "convolved_stride2"
      ]
    },
    {
      "cell_type": "markdown",
      "metadata": {
        "id": "zSCoTmLFVZtl"
      },
      "source": [
        "## Padding\n",
        "\n",
        "It means stuffing. We need to stuff the original image so it can sustain the 'attack' on its size.\n",
        "\n",
        "Simply add zeros around it, expanding the input image. This siple trick can be used to preserve the original size of the image"
      ]
    },
    {
      "cell_type": "markdown",
      "metadata": {
        "id": "9BdFhbjFVZtl"
      },
      "source": [
        "![](https://github.com/dvgodoy/PyTorchStepByStep/blob/master/images/padding1.png?raw=1)"
      ]
    },
    {
      "cell_type": "markdown",
      "source": [
        "Two options:\n",
        "- module/layer (Trasnformation componenet). In this case we do not train only transform the space\n",
        "- functional (stateless functions)\n"
      ],
      "metadata": {
        "id": "ukAk3LrpiU8c"
      }
    },
    {
      "cell_type": "code",
      "execution_count": null,
      "metadata": {
        "id": "x4BRpgvJVZtl"
      },
      "outputs": [],
      "source": [
        "constant_padder = nn.ConstantPad2d(padding=1, value=0)\n",
        "constant_padder(image)"
      ]
    },
    {
      "cell_type": "code",
      "execution_count": null,
      "metadata": {
        "id": "2ldBdnPbVZtl"
      },
      "outputs": [],
      "source": [
        "padded = F.pad(image, pad=(1, 1, 1, 1), mode='constant', value=0)"
      ]
    },
    {
      "cell_type": "markdown",
      "metadata": {
        "id": "XhOFgf05VZtl"
      },
      "source": [
        "![](https://github.com/dvgodoy/PyTorchStepByStep/blob/master/images/paddings.png?raw=1)"
      ]
    },
    {
      "cell_type": "code",
      "execution_count": null,
      "metadata": {
        "id": "tRUOht0fVZtl"
      },
      "outputs": [],
      "source": [
        "replication_padder = nn.ReplicationPad2d(padding=1)\n",
        "replication_padder(image)"
      ]
    },
    {
      "cell_type": "code",
      "execution_count": null,
      "metadata": {
        "id": "XGxCEBvJVZtm"
      },
      "outputs": [],
      "source": [
        "reflection_padder = nn.ReflectionPad2d(padding=1)\n",
        "reflection_padder(image)"
      ]
    },
    {
      "cell_type": "code",
      "execution_count": null,
      "metadata": {
        "id": "0VQgSRDFVZtm"
      },
      "outputs": [],
      "source": [
        "F.pad(image, pad=(1, 1, 1, 1), mode='circular')"
      ]
    },
    {
      "cell_type": "markdown",
      "metadata": {
        "id": "A4Tx2zjmVZtm"
      },
      "source": [
        "$$\n",
        "\\Large\n",
        "(h_i, w_i) * f = \\left(\\frac{(h_i + 2p) - f + 1}{s}, \\frac{(w_i + 2p) - f + 1}{s}\\right)\n",
        "$$"
      ]
    },
    {
      "cell_type": "markdown",
      "metadata": {
        "id": "YVc7_fxjVZtm"
      },
      "source": [
        "## A REAL Filter\n",
        "\n",
        "We can try an edge detector filter from traditional computer vision"
      ]
    },
    {
      "cell_type": "code",
      "execution_count": null,
      "metadata": {
        "id": "DYq-kDIkVZtm"
      },
      "outputs": [],
      "source": [
        "edge = np.array(\n",
        "    [[[[0, 1, 0],\n",
        "       [1, -4, 1],\n",
        "       [0, 1, 0]]]]\n",
        ")\n",
        "kernel_edge = torch.as_tensor(edge).float()\n",
        "kernel_edge.shape"
      ]
    },
    {
      "cell_type": "markdown",
      "metadata": {
        "id": "RVxw8Ne3VZtm"
      },
      "source": [
        "![](https://github.com/dvgodoy/PyTorchStepByStep/blob/master/images/padding2.png?raw=1)"
      ]
    },
    {
      "cell_type": "markdown",
      "metadata": {
        "id": "sKbWTZR2VZtm"
      },
      "source": [
        "![](https://github.com/dvgodoy/PyTorchStepByStep/blob/master/images/padding3.png?raw=1)"
      ]
    },
    {
      "cell_type": "code",
      "execution_count": null,
      "metadata": {
        "id": "kgZq_UG6VZtn"
      },
      "outputs": [],
      "source": [
        "padded = F.pad(image, (1, 1, 1, 1), mode='constant', value=0)\n",
        "conv_padded = F.conv2d(padded, kernel_edge, stride=1)"
      ]
    },
    {
      "cell_type": "markdown",
      "metadata": {
        "id": "-p_5UcjKVZtn"
      },
      "source": [
        "# Pooling\n",
        "\n",
        "It is about shrinking or reducing images by spliting the image into tiny chunk, performing operations on each chunk (that yields a single value), and puts the chunks together as the resulting image.\n",
        "\n",
        "Let's check the max pooling filter/kernel"
      ]
    },
    {
      "cell_type": "markdown",
      "metadata": {
        "id": "gTfIdjgeVZtn"
      },
      "source": [
        "![](https://github.com/dvgodoy/PyTorchStepByStep/blob/master/images/pooling1.png?raw=1)"
      ]
    },
    {
      "cell_type": "markdown",
      "source": [
        "In this case the stride is assumed to be the same size as the kernel.\n",
        "\n",
        "The input image is split and we perform a simple max operation on each chunk and then putting this values together, in order, to produce smaller resulting image\n",
        "\n",
        "The larger the pooling kernel, the smaller the resulting image\n",
        "\n",
        "Again for pooling as filters we have both forms:\n",
        "\n",
        "- Functional\n",
        "- Module/layer"
      ],
      "metadata": {
        "id": "JEYUzvEKobCJ"
      }
    },
    {
      "cell_type": "code",
      "execution_count": null,
      "metadata": {
        "id": "rxW9vDT9VZtn",
        "outputId": "a3b22723-5939-40ed-b3ab-d04a53a31b52",
        "colab": {
          "base_uri": "https://localhost:8080/"
        }
      },
      "outputs": [
        {
          "output_type": "execute_result",
          "data": {
            "text/plain": [
              "tensor([[[[22., 23., 11.],\n",
              "          [24.,  7.,  1.],\n",
              "          [13., 13., 13.]]]])"
            ]
          },
          "metadata": {},
          "execution_count": 11
        }
      ],
      "source": [
        "pooled = F.max_pool2d(conv_padded, kernel_size=2)\n",
        "pooled"
      ]
    },
    {
      "cell_type": "code",
      "execution_count": null,
      "metadata": {
        "id": "3TEKzYTdVZtn",
        "outputId": "aa056ebd-e38d-49dc-f32c-7fc26da17675",
        "colab": {
          "base_uri": "https://localhost:8080/"
        }
      },
      "outputs": [
        {
          "output_type": "execute_result",
          "data": {
            "text/plain": [
              "tensor([[[[24.]]]])"
            ]
          },
          "metadata": {},
          "execution_count": 14
        }
      ],
      "source": [
        "maxpool4 = nn.MaxPool2d(kernel_size=4)\n",
        "pooled4 = maxpool4(conv_padded)\n",
        "pooled4"
      ]
    },
    {
      "cell_type": "code",
      "execution_count": null,
      "metadata": {
        "id": "VTkvw9JUVZtn",
        "outputId": "06f5dc8d-71b9-460c-fa10-934d8496ba51",
        "colab": {
          "base_uri": "https://localhost:8080/"
        }
      },
      "outputs": [
        {
          "output_type": "execute_result",
          "data": {
            "text/plain": [
              "tensor([[[[24., 24., 23., 23.],\n",
              "          [24., 24., 23., 23.],\n",
              "          [24., 24., 13., 13.],\n",
              "          [13., 13., 13., 13.]]]])"
            ]
          },
          "metadata": {},
          "execution_count": 16
        }
      ],
      "source": [
        "F.max_pool2d(conv_padded, kernel_size=3, stride=1) # here the stride does not match the kernel size but that does not matter, it will still perform the operation"
      ]
    },
    {
      "cell_type": "markdown",
      "metadata": {
        "id": "cU51rULHVZto"
      },
      "source": [
        "# Flattening\n",
        "\n",
        "It preserves the first dimension such that we keep the number of data points while collapsing all other dimensions.\n",
        "\n",
        "It has two options\n",
        "\n",
        "- Module/layer (As a trasnformation)\n",
        "- using view or reshape (No functional version)"
      ]
    },
    {
      "cell_type": "code",
      "execution_count": null,
      "metadata": {
        "id": "3ySSL_LHVZto",
        "outputId": "1e58f3f3-0e1b-4c44-bc6b-dfc3b841ed71",
        "colab": {
          "base_uri": "https://localhost:8080/"
        }
      },
      "outputs": [
        {
          "output_type": "execute_result",
          "data": {
            "text/plain": [
              "tensor([[22., 23., 11., 24.,  7.,  1., 13., 13., 13.]])"
            ]
          },
          "metadata": {},
          "execution_count": 17
        }
      ],
      "source": [
        "flattened = nn.Flatten()(pooled)\n",
        "flattened"
      ]
    },
    {
      "cell_type": "code",
      "execution_count": null,
      "metadata": {
        "id": "P_F49GU_VZto",
        "outputId": "e1530194-8b37-4e11-bd08-a79e29262097",
        "colab": {
          "base_uri": "https://localhost:8080/"
        }
      },
      "outputs": [
        {
          "output_type": "execute_result",
          "data": {
            "text/plain": [
              "tensor([[22., 23., 11., 24.,  7.,  1., 13., 13., 13.]])"
            ]
          },
          "metadata": {},
          "execution_count": 20
        }
      ],
      "source": [
        "pooled.view(1, -1)"
      ]
    },
    {
      "cell_type": "markdown",
      "metadata": {
        "id": "YxCUU5iKVZto"
      },
      "source": [
        "# Typical Architecture\n",
        "\n",
        "A typical architecture uses a sequence of one or more typical convolutional blocks, with each block consisting of three operations:\n",
        "\n",
        "1. Convolution\n",
        "2. Activation function\n",
        "3. Pooling\n",
        "\n",
        "The number of channels/filters produced by each block, usually increases as more blocks are added.\n",
        "\n",
        "After the sequence of blocks, the image gets flattened, form here it becomes a fairly standard problem that will go through a FFN\n",
        "\n",
        "these Convolutional blocks are akind to the pre-processing of images and converting them into features. Let's call this part of the network a featurizer (the one that generates features)"
      ]
    },
    {
      "cell_type": "markdown",
      "metadata": {
        "id": "-qx81FxRVZto"
      },
      "source": [
        "## LeNet5\n",
        "\n",
        "It is a seven-level convolutional neural network to recognize hand-written digits in 28x28 pixel images (The MNIST dataset)\n",
        "\n",
        "It uses back-propagation to learn the convolution filters, instead of developing them manually"
      ]
    },
    {
      "cell_type": "markdown",
      "metadata": {
        "id": "hz5JEISaVZto"
      },
      "source": [
        "![](https://github.com/dvgodoy/PyTorchStepByStep/blob/master/images/architecture_lenet.png?raw=1)\n",
        "\n",
        "*Source: Generated using Alexander Lenail's [NN-SVG](http://alexlenail.me/NN-SVG/) and adapted by the author. For more details, see LeCun, Y., et al (1998).  [Gradient-based learning applied to document recognition](http://yann.lecun.com/exdb/publis/pdf/lecun-01a.pdf). Proceedings of the IEEE,86(11), 2278–2324*\n",
        "\n",
        "The today version can be represented in code as:"
      ]
    },
    {
      "cell_type": "code",
      "execution_count": 4,
      "metadata": {
        "id": "5nDOpz5WVZtp"
      },
      "outputs": [],
      "source": [
        "lenet = nn.Sequential()\n",
        "\n",
        "# Featurizer\n",
        "# Block 1: 1@28x28 -> 6@28x28 -> 6@14x14\n",
        "lenet.add_module('C1', nn.Conv2d(in_channels=1, out_channels=6, kernel_size=5, padding=2))\n",
        "lenet.add_module('func1', nn.ReLU())\n",
        "lenet.add_module('S2', nn.MaxPool2d(kernel_size=2))\n",
        "# Block 2: 6@14x14 -> 16@10x10 -> 16@5x5\n",
        "lenet.add_module('C3', nn.Conv2d(in_channels=6, out_channels=16, kernel_size=5))\n",
        "lenet.add_module('func2', nn.ReLU())\n",
        "lenet.add_module('S4', nn.MaxPool2d(kernel_size=2))\n",
        "# Block 3: 16@5x5 -> 120@1x1\n",
        "lenet.add_module('C5', nn.Conv2d(in_channels=16, out_channels=120, kernel_size=5))\n",
        "lenet.add_module('func2', nn.ReLU())\n",
        "# Flattening\n",
        "lenet.add_module('flatten', nn.Flatten())\n",
        "\n",
        "# Classification\n",
        "# Hidden Layer\n",
        "lenet.add_module('F6', nn.Linear(in_features=120, out_features=84))\n",
        "lenet.add_module('func3', nn.ReLU())\n",
        "# Output Layer\n",
        "lenet.add_module('OUTPUT', nn.Linear(in_features=84, out_features=10))"
      ]
    },
    {
      "cell_type": "markdown",
      "source": [
        "LeNet-5 used three convolutional blocks, although the last one does not have a max pooling, because the convolution already produces a single pixel.\n",
        "\n",
        "The number of channels increase as the image size decrease\n",
        "\n",
        "- Input image: 1-channel 28x28 pixels\n",
        "- first block: produces 6-channel 14x14 pixels\n",
        "- second block: produces 16-channel 5x5 pixels\n",
        "- third block: produces 120-channel 1x1 pixels\n",
        "\n",
        "In the last block we have then 120 level of informations (channel) for one pixel therefore 120 elements/values/imageFeatures that are flattened and fed to a typical hidden layer with 84 units (F6). The last step is, obviously, the output layer, which produces ten logits (due to the ten units of the layer)to be used for digit classification (from 0 to 9, there are ten classes)"
      ],
      "metadata": {
        "id": "6NTxThPMBiWm"
      }
    },
    {
      "cell_type": "markdown",
      "metadata": {
        "id": "M73Dr-TEVZtp"
      },
      "source": [
        "# A Multiclass Classification Problem\n",
        "\n",
        "A problem is considered a multiclass classification problem if there are more than two classes. So, let's keep it as simple as possible and build a model to classify images into three classes."
      ]
    },
    {
      "cell_type": "markdown",
      "metadata": {
        "id": "fG4mlF7NVZtp"
      },
      "source": [
        "## Data Generation\n",
        "\n",
        "![image.png](data:image/png;base64,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)"
      ]
    },
    {
      "cell_type": "code",
      "execution_count": 4,
      "metadata": {
        "id": "erv2B7tIVZtp"
      },
      "outputs": [],
      "source": [
        "images, labels = generate_dataset(img_size=10, n_images=1000, binary=False, seed=17)"
      ]
    },
    {
      "cell_type": "code",
      "execution_count": null,
      "metadata": {
        "id": "-XqJueo_VZtp",
        "outputId": "bbc8cd1b-eca9-434c-b07e-458f5041cad7",
        "colab": {
          "base_uri": "https://localhost:8080/",
          "height": 444
        }
      },
      "outputs": [
        {
          "output_type": "display_data",
          "data": {
            "text/plain": [
              "<Figure size 1500x450 with 30 Axes>"
            ],
            "image/png": "[encoded data removed]"
          },
          "metadata": {}
        }
      ],
      "source": [
        "fig = plot_images(images, labels, n_plot=30)"
      ]
    },
    {
      "cell_type": "markdown",
      "metadata": {
        "id": "xhqqv6cUVZtp"
      },
      "source": [
        "## Data Preparation\n",
        "\n",
        "In this case we are not going to use data augmentation since it could produce images that are inconsistent with their labels.\n",
        "\n",
        "and we are going to use only the min-max scaling by using the Normalize() tasnform in the Compose of transform pipeline"
      ]
    },
    {
      "cell_type": "code",
      "execution_count": 5,
      "metadata": {
        "id": "7PtehWZrVZtq"
      },
      "outputs": [],
      "source": [
        "# Class for allowing the custom dataset to pass through the transform pipeline\n",
        "class TransformedTensorDataset(Dataset):\n",
        "    def __init__(self, x, y, transform=None):\n",
        "        self.x = x\n",
        "        self.y = y\n",
        "        self.transform = transform\n",
        "\n",
        "    def __getitem__(self, index):\n",
        "        x = self.x[index]\n",
        "\n",
        "        if self.transform:\n",
        "            x = self.transform(x)\n",
        "\n",
        "        return x, self.y[index]\n",
        "\n",
        "    def __len__(self):\n",
        "        return len(self.x)"
      ]
    },
    {
      "cell_type": "code",
      "execution_count": 6,
      "metadata": {
        "id": "GF6dkUucVZtq"
      },
      "outputs": [],
      "source": [
        "# Builds tensors from numpy arrays BEFORE split\n",
        "# Modifies the scale of pixel values from [0, 255] to [0, 1]\n",
        "x_tensor = torch.as_tensor(images / 255).float()                # It scale the intensity of the pixels to a range of [0,1]\n",
        "y_tensor = torch.as_tensor(labels).long()\n",
        "\n",
        "# Uses index_splitter to generate indices for training and\n",
        "# validation sets\n",
        "train_idx, val_idx = index_splitter(len(x_tensor), [80, 20])\n",
        "# Uses indices to perform the split\n",
        "x_train_tensor = x_tensor[train_idx]\n",
        "y_train_tensor = y_tensor[train_idx]\n",
        "x_val_tensor = x_tensor[val_idx]\n",
        "y_val_tensor = y_tensor[val_idx]\n",
        "\n",
        "# We're not doing any data augmentation now\n",
        "train_composer = Compose([Normalize(mean=(.5,), std=(.5,))])        # It scale or normalize the pixel values centering to zero fo a range of [-1,-1].\n",
        "                                                                    # Allowing the Network a full range of contrast, and letting it learn which differences are important to highlight\n",
        "\n",
        "val_composer = Compose([Normalize(mean=(.5,), std=(.5,))])\n",
        "\n",
        "# Uses custom dataset to apply composed transforms to each set\n",
        "train_dataset = TransformedTensorDataset(x_train_tensor, y_train_tensor, transform=train_composer)\n",
        "val_dataset = TransformedTensorDataset(x_val_tensor, y_val_tensor, transform=val_composer)\n",
        "\n",
        "# Builds a weighted random sampler to handle imbalanced classes\n",
        "sampler = make_balanced_sampler(y_train_tensor)\n",
        "\n",
        "# Uses sampler in the training set to get a balanced data loader\n",
        "train_loader = DataLoader(dataset=train_dataset, batch_size=16, sampler=sampler)\n",
        "val_loader = DataLoader(dataset=val_dataset, batch_size=16)"
      ]
    },
    {
      "cell_type": "markdown",
      "metadata": {
        "id": "DAdE3QV1VZtq"
      },
      "source": [
        "## Loss (It comes from the output layer analysis)\n",
        "\n",
        "Sincew we're embracing multiclass calssification now, we need to use a different loss\n",
        "\n",
        "Remember that a logit (z) is thet raw computation result of a neruon before the activation function; z = sum(weight * inputFeature) + bias\n",
        "\n",
        "In a binary classificaiton problem, the model would produce one logit, and only one for each data point. Since we were answering a simple question \"Does a given data point belong to the positive class?\"\n",
        "\n",
        "But a multiclass classification is more complex; We need to ask more questions; that is, we need to get log odds ratio (what are the chances) for every possible class regarding the data point. In other words, we need as many logits as there are classes.\n",
        "\n",
        "Logit odd ratio is the probability of something happening divided by the probability of it not happening\n",
        "\n",
        "odds ratio = p/(1-p)\n",
        "For example:\n",
        "\n",
        "- If probability p = 0.8\n",
        "- Then odds ratio = 0.8/0.2 = 4\n",
        "- This means the event is 4 times more likely to happen than not happen\n",
        "\n",
        "Since sigmoid takes only one logit, then, we need something else to get probabilities, therefore the softmax!!"
      ]
    },
    {
      "cell_type": "markdown",
      "metadata": {
        "id": "5Z93WCB_VZtq"
      },
      "source": [
        "### Softmax\n",
        "\n",
        "It retusn the contribution that a given class had to the sum iof odds ratios. The class with a higher odds ratio will have the largest contribution and this the highest probability.\n",
        "\n",
        "Since the softmax is computed using the odds ratios instead of log odds ratios (logits), we need to exponentiate the logits!"
      ]
    },
    {
      "cell_type": "markdown",
      "metadata": {
        "id": "VLuMS-2PVZtq"
      },
      "source": [
        "$$\n",
        "\\Large\n",
        "\\begin{array}\n",
        "& z & = \\text{logit}(p) & = \\text{log odds ratio }(p) & = \\text{log}\\left(\\frac{p}{1-p}\\right)\n",
        "\\\\\n",
        "e^z & = e^{\\text{logit}(p)} & = \\text{odds ratio }(p) & = \\left(\\frac{p}{1-p}\\right)\n",
        "\\end{array}\n",
        "$$"
      ]
    },
    {
      "cell_type": "markdown",
      "metadata": {
        "id": "XyOYGewiVZtq"
      },
      "source": [
        "$$\n",
        "\\Large\n",
        "\\text{softmax}(z_i) = \\frac{e^{z_i}}{\\sum_{c=0}^{C-1}{e^{z_c}}}\n",
        "$$\n",
        "\n",
        "- C: number of classes\n",
        "- i: index of a particular class\n",
        "\n",
        "In our example we have three classes, so our model needs to output three logits (z0,z1,z2)"
      ]
    },
    {
      "cell_type": "markdown",
      "metadata": {
        "id": "ZkhATnR0VZtq"
      },
      "source": [
        "$$\n",
        "\\Large\n",
        "\\text{softmax}(z) = \\left[\\frac{e^{z_0}}{e^{z_0}+e^{z_1}+e^{z_2}},\\frac{e^{z_1}}{e^{z_0}+e^{z_1}+e^{z_2}},\\frac{e^{z_2}}{e^{z_0}+e^{z_1}+e^{z_2}}\\right]\n",
        "$$"
      ]
    },
    {
      "cell_type": "code",
      "execution_count": 22,
      "metadata": {
        "id": "ChGdam0nVZtr"
      },
      "outputs": [],
      "source": [
        "logits = torch.tensor([ 1.3863,  0.0000, -0.6931])"
      ]
    },
    {
      "cell_type": "code",
      "execution_count": 23,
      "metadata": {
        "id": "bI8XiVHJVZtr",
        "outputId": "8306b056-ba54-4e45-857e-6a0462d8b4d0",
        "colab": {
          "base_uri": "https://localhost:8080/"
        }
      },
      "outputs": [
        {
          "output_type": "execute_result",
          "data": {
            "text/plain": [
              "tensor([4.0000, 1.0000, 0.5000])"
            ]
          },
          "metadata": {},
          "execution_count": 23
        }
      ],
      "source": [
        "odds_ratios = torch.exp(logits)\n",
        "odds_ratios # It is telling us scores that the first class has much better odds than the other two, and the second one has better odds than the third"
      ]
    },
    {
      "cell_type": "code",
      "execution_count": 24,
      "metadata": {
        "id": "USrcVr5aVZtr",
        "outputId": "c68b1597-de27-4572-da48-eb9e660d99ca",
        "colab": {
          "base_uri": "https://localhost:8080/"
        }
      },
      "outputs": [
        {
          "output_type": "execute_result",
          "data": {
            "text/plain": [
              "tensor([0.7273, 0.1818, 0.0909])"
            ]
          },
          "metadata": {},
          "execution_count": 24
        }
      ],
      "source": [
        "softmaxed = odds_ratios / odds_ratios.sum()\n",
        "softmaxed     # Now we have the probabilites are proportional to the odds ratios. This data point most likely belongs to the first class since it has a probability of 72.73%"
      ]
    },
    {
      "cell_type": "markdown",
      "source": [
        "For computing the softmax or odds ratios for the classes we have two options:\n",
        "\n",
        "- Functional (F.softmax())\n",
        "- Module/layer (transformation)\n",
        "\n",
        "In general, out models will produce logits with the shape (number of data points, number of classes), so the right dimension to apply softmax to is the last one (dim=-1) -> it indicates the last dimentsion\n",
        "\n",
        "then logits [batch_size, num_classes]"
      ],
      "metadata": {
        "id": "JHUz2FIi7pBg"
      }
    },
    {
      "cell_type": "code",
      "execution_count": 30,
      "metadata": {
        "id": "O15zNB5tVZtr",
        "outputId": "377aae4f-dc32-4bf4-e7c2-0d8a79465def",
        "colab": {
          "base_uri": "https://localhost:8080/"
        }
      },
      "outputs": [
        {
          "output_type": "execute_result",
          "data": {
            "text/plain": [
              "(tensor([0.7273, 0.1818, 0.0909]), tensor([0.7273, 0.1818, 0.0909]))"
            ]
          },
          "metadata": {},
          "execution_count": 30
        }
      ],
      "source": [
        "nn.Softmax(dim=-1)(logits), F.softmax(logits, dim=-1)"
      ]
    },
    {
      "cell_type": "markdown",
      "source": [
        "However the Loss function expects log probabilites as inputs, therefore we will need a LogSoftmax. Function that returns the logarithm of the softmax and it has as well its F.log_softmax() and nn.LogSoftmax module/layer out of the box"
      ],
      "metadata": {
        "id": "bmZbWuB2-A5g"
      }
    },
    {
      "cell_type": "markdown",
      "metadata": {
        "id": "c7qzWfvVVZtr"
      },
      "source": [
        "### Negative Log Likelihood Loss (Loss for handlling multiple classes - it's an extension of the binary cross-entropy loss)\n",
        "\n"
      ]
    },
    {
      "cell_type": "markdown",
      "metadata": {
        "id": "_fF_tlowVZtr"
      },
      "source": [
        "$$\n",
        "\\Large\n",
        "\\texttt{BCE}(y)={-\\frac{1}{(N_{\\text{pos}}+N_{\\text{neg}})}\\Bigg[{\\sum_{i=1}^{N_{\\text{pos}}}{\\text{log}(\\text{P}(y_i=1))} + \\sum_{i=1}^{N_{\\text{neg}}}{\\text{log}(1 - \\text{P}(y_i=1))}}\\Bigg]}\n",
        "\\\\\n",
        "\\Large\n",
        "\\texttt{NLLLoss}(y)={-\\frac{1}{(N_0+N_1+N_2)}\\Bigg[{\\sum_{i=1}^{N_0}{\\text{log}(\\text{P}(y_i=0))} + \\sum_{i=1}^{N_1}{\\text{log}(\\text{P}(y_i=1))} + \\sum_{i=1}^{N_2}{\\text{log}(\\text{P}(y_i=2))}}\\Bigg]}\n",
        "\\\\\n",
        "\\Large \\texttt{NLLLoss}(y)={-\\frac{1}{(N_0+\\cdots+N_{C-1})}\\sum_{c=0}^{C-1}{\\sum_{i=1}^{N_c}{\\text{log}(\\text{P}(y_i=c))} }}\n",
        "$$"
      ]
    },
    {
      "cell_type": "markdown",
      "source": [
        "The loss only considers the predicted probability for the true class"
      ],
      "metadata": {
        "id": "iKadyOxS-563"
      }
    },
    {
      "cell_type": "code",
      "execution_count": 31,
      "metadata": {
        "id": "_bUGpG9hVZts",
        "outputId": "0fa26aaa-c1c6-459b-b120-4893d5be54a7",
        "colab": {
          "base_uri": "https://localhost:8080/"
        }
      },
      "outputs": [
        {
          "output_type": "execute_result",
          "data": {
            "text/plain": [
              "tensor([-0.3185, -1.7048, -2.3979])"
            ]
          },
          "metadata": {},
          "execution_count": 31
        }
      ],
      "source": [
        "log_probs = F.log_softmax(logits, dim=-1)\n",
        "log_probs"
      ]
    },
    {
      "cell_type": "code",
      "execution_count": 32,
      "metadata": {
        "id": "Jwd-KpvaVZts",
        "outputId": "15861848-77db-4c66-9d73-c3ccb2426d44",
        "colab": {
          "base_uri": "https://localhost:8080/"
        }
      },
      "outputs": [
        {
          "output_type": "execute_result",
          "data": {
            "text/plain": [
              "tensor(2.3979)"
            ]
          },
          "metadata": {},
          "execution_count": 32
        }
      ],
      "source": [
        "label = torch.tensor([2])\n",
        "F.nll_loss(log_probs.view(-1, 3), label) # It's the negative of the log probability corresponding to the class index (two) of the true label"
      ]
    },
    {
      "cell_type": "markdown",
      "source": [
        "We have as well two function for the loss:\n",
        "\n",
        "- F.nll_loss()\n",
        "- nn.NLLLoss()"
      ],
      "metadata": {
        "id": "kkibO2d4_s1S"
      }
    },
    {
      "cell_type": "code",
      "execution_count": 33,
      "metadata": {
        "id": "pLkcjuzWVZts",
        "outputId": "603e414a-07a0-4082-acb4-39a75590e301",
        "colab": {
          "base_uri": "https://localhost:8080/"
        }
      },
      "outputs": [
        {
          "output_type": "execute_result",
          "data": {
            "text/plain": [
              "tensor([[-1.5229, -0.3146, -2.9600],\n",
              "        [-1.7934, -1.0044, -0.7607],\n",
              "        [-1.2513, -1.0136, -1.0471],\n",
              "        [-2.6799, -0.2219, -2.0367],\n",
              "        [-1.0728, -1.9098, -0.6737]])"
            ]
          },
          "metadata": {},
          "execution_count": 33
        }
      ],
      "source": [
        "torch.manual_seed(11)\n",
        "dummy_logits = torch.randn((5, 3))\n",
        "dummy_labels = torch.tensor([0, 0, 1, 2, 1])\n",
        "dummy_log_probs = F.log_softmax(dummy_logits, dim=-1)\n",
        "dummy_log_probs"
      ]
    },
    {
      "cell_type": "code",
      "execution_count": 34,
      "metadata": {
        "id": "MgwC4-3vVZts",
        "outputId": "e604153c-26ee-40fd-edf3-a87f7345ddbf",
        "colab": {
          "base_uri": "https://localhost:8080/"
        }
      },
      "outputs": [
        {
          "output_type": "execute_result",
          "data": {
            "text/plain": [
              "tensor(1.6553)"
            ]
          },
          "metadata": {},
          "execution_count": 34
        }
      ],
      "source": [
        "relevant_log_probs = torch.tensor([-1.5229, -1.7934, -1.0136, -2.0367, -1.9098])\n",
        "-relevant_log_probs.mean()"
      ]
    },
    {
      "cell_type": "code",
      "execution_count": 35,
      "metadata": {
        "id": "aYbZfz6wVZts",
        "outputId": "1fe10652-5edd-4417-ff9c-7ee06751b79c",
        "colab": {
          "base_uri": "https://localhost:8080/"
        }
      },
      "outputs": [
        {
          "output_type": "execute_result",
          "data": {
            "text/plain": [
              "tensor(1.6553)"
            ]
          },
          "metadata": {},
          "execution_count": 35
        }
      ],
      "source": [
        "loss_fn = nn.NLLLoss()          # Higher-order function\n",
        "loss_fn(dummy_log_probs, dummy_labels)"
      ]
    },
    {
      "cell_type": "code",
      "execution_count": 38,
      "metadata": {
        "id": "6MUeokOsVZts",
        "outputId": "a6e64b38-1d32-439e-d40b-bc3c3e90dc05",
        "colab": {
          "base_uri": "https://localhost:8080/"
        }
      },
      "outputs": [
        {
          "output_type": "execute_result",
          "data": {
            "text/plain": [
              "tensor(1.7188)"
            ]
          },
          "metadata": {},
          "execution_count": 38
        }
      ],
      "source": [
        "loss_fn = nn.NLLLoss(weight=torch.tensor([1., 1., 2.]))   # We can weight the classes\n",
        "loss_fn(dummy_log_probs, dummy_labels)"
      ]
    },
    {
      "cell_type": "code",
      "execution_count": 39,
      "metadata": {
        "id": "R6CBzDsiVZtt",
        "outputId": "e2eed4dc-a4de-4596-c31e-4a7ffe9a13f2",
        "colab": {
          "base_uri": "https://localhost:8080/"
        }
      },
      "outputs": [
        {
          "output_type": "execute_result",
          "data": {
            "text/plain": [
              "tensor(1.5599)"
            ]
          },
          "metadata": {},
          "execution_count": 39
        }
      ],
      "source": [
        "loss_fn = nn.NLLLoss(ignore_index=2)        # We can ignore a class\n",
        "loss_fn(dummy_log_probs, dummy_labels)"
      ]
    },
    {
      "cell_type": "markdown",
      "source": [
        "It takes log probabilities and lables"
      ],
      "metadata": {
        "id": "yvVfKfeBBXc1"
      }
    },
    {
      "cell_type": "markdown",
      "metadata": {
        "id": "6SdVZKTlVZtt"
      },
      "source": [
        "### Cross Entropy Loss (Another loss function for multiclass classification)\n",
        "\n",
        "It take logits and labels"
      ]
    },
    {
      "cell_type": "code",
      "execution_count": 40,
      "metadata": {
        "id": "LK8s85zeVZtt",
        "outputId": "7eada03c-3836-4328-f719-388e7c3787e6",
        "colab": {
          "base_uri": "https://localhost:8080/"
        }
      },
      "outputs": [
        {
          "output_type": "execute_result",
          "data": {
            "text/plain": [
              "tensor(1.6553)"
            ]
          },
          "metadata": {},
          "execution_count": 40
        }
      ],
      "source": [
        "torch.manual_seed(11)\n",
        "dummy_logits = torch.randn((5, 3))\n",
        "dummy_labels = torch.tensor([0, 0, 1, 2, 1])\n",
        "\n",
        "loss_fn = nn.CrossEntropyLoss()\n",
        "loss_fn(dummy_logits, dummy_labels)"
      ]
    },
    {
      "cell_type": "markdown",
      "source": [
        "![image.png](data:image/png;base64,iVBORw0KGgoAAAANSUhEUgAABeoAAAGoCAYAAAA5JNXfAAAKr2lDQ1BJQ0MgUHJvZmlsZQAASImVlwdUk9kSgO//pzcIJERASqihCNIJICX0UCTSwUZIAoQSYyCo2BBZXMG1ICICNnQFRMFVKWLHgm1RLICCLsiioq6LBVFReT9wCLv7znvvvMmZc79M5s7MvefOORMAKHS+VJoKUwFIk2TIQv08mdExsUzcIIAADpCAHqDxBelSDo8XBBCZWv8uHzsQb0TuWYzH+vff/6uoCEXpAgAgHsLxwnRBGsInEX0jkMoyAEAdROwGyzKk43wNYboMKRDhnnFOnOShcY6fYDR6wic81AthdQDwZD5flggA2RCxMzMFiUgcsjfCVhKhWIIw8h24paUtESKM5AUmiI8U4fH47Pi/xEn8W8x4RUw+P1HBk2eZELy3OF2ayl/xf17H/5a0VPlUDmNEyUky/1BkZSB31pWyJFDBkvi5IVMsFk74T3CS3D9iigXpXrFTLOR7Byr2ps4NmuIEsS9XESeDGz7FonSfsCmWLQlV5EqQeXGmmC+bzitPiVDYk0RcRfyspPCoKc4UR86d4vSUsMBpHy+FXSYPVdQvkvh5Tuf1VZw9Lf0v5xVzFXszksL9FWfnT9cvknCmY6ZHK2oTirx9pn0iFP7SDE9FLmkqT+EvSvVT2NMzwxR7M5AHOb2Xp7jDZH4Ab4qBN/ABQciHCXjABtgBa+AIkGozRMvH3yjwWiJdIRMnJmUwOUiXiZhcicByFtPGysYegPGenXwS77smehFi4KdtwgEAbMf7ymTalox0/OmPSPvVT9tYfQBQdwNwgSeQyzInbePtBDCACJQBHWgAHWAATIAFUp8DcAEeSMUBIASEgxiwCAhAEkgDMrAMrALrQB4oAFvBDlAK9oIDoAocBcdBIzgDLoKr4Ca4Ax6AbtALBsArMAQ+glEIgnAQBaJBGpAuZASZQzYQG3KDfKAgKBSKgeKgREgCyaFV0HqoACqESqH9UDX0C3QKughdh9qhh1AfNAi9g77AKJgM02Ft2BieDbNhDhwIh8ML4UR4KZwF58Kb4RK4Aj4CN8AX4ZvwA7gXfgUPowCKhGKg9FAWKDbKCxWCikUloGSoNah8VDGqAlWLaka1ou6helGvUZ/RWDQNzURboF3Q/ugItAC9FL0GvQldiq5CN6Avo++h+9BD6O8YCkYLY45xxnAx0ZhEzDJMHqYYcwhTj7mCeYAZwHzEYrEMLAvriPXHxmCTsSuxm7C7sXXYC9h2bD92GIfDaeDMca64EBwfl4HLw+3CHcGdx93FDeA+4Ul4XbwN3hcfi5fgc/DF+MP4c/i7+Of4UQKVYERwJoQQhIQVhC2Eg4Rmwm3CAGGUqEJkEV2J4cRk4jpiCbGWeIXYQ3xPIpH0SU6keSQxKZtUQjpGukbqI30mq5LNyF7kBWQ5eTO5knyB/JD8nkKhGFM8KLGUDMpmSjXlEuUJ5ZMSTclSiaskVFqrVKbUoHRX6Y0yQdlImaO8SDlLuVj5hPJt5ddUAtWY6kXlU9dQy6inqJ3UYRWairVKiEqayiaVwyrXVV6o4lSNVX1Uhaq5qgdUL6n201A0A5oXTUBbTztIu0IboGPpLDqXnkwvoB+lt9GH1FTV7NQi1ZarlamdVetloBjGDC4jlbGFcZzRwfgyQ3sGZ4ZoxsYZtTPuzhhRn6nuoS5Sz1evU3+g/kWDqeGjkaKxTaNR47EmWtNMc57mMs09mlc0X8+kz3SZKZiZP/P4zEdasJaZVqjWSq0DWre0hrV1tP20pdq7tC9pv9Zh6HjoJOsU6ZzTGdSl6brpinWLdM/rvmSqMTnMVGYJ8zJzSE9Lz19Prrdfr01vVJ+lH6Gfo1+n/9iAaMA2SDAoMmgxGDLUNQw2XGVYY/jIiGDENkoy2mnUajRizDKOMt5g3Gj8gqXO4rKyWDWsHhOKibvJUpMKk/umWFO2aYrpbtM7ZrCZvVmSWZnZbXPY3MFcbL7bvH0WZpbTLMmsilmdFmQLjkWmRY1FnyXDMsgyx7LR8s1sw9mxs7fNbp393creKtXqoFW3tap1gHWOdbP1OxszG4FNmc19W4qtr+1a2ybbt3bmdiK7PXZd9jT7YPsN9i323xwcHWQOtQ6DjoaOcY7ljp1sOpvH3sS+5oRx8nRa63TG6bOzg3OG83HnP10sXFJcDru8mMOaI5pzcE6/q74r33W/a68b0y3ObZ9br7ueO9+9wv2ph4GH0OOQx3OOKSeZc4TzxtPKU+ZZ7zni5ey12uuCN8rbzzvfu81H1SfCp9Tnia++b6Jvje+Qn73fSr8L/hj/QP9t/p1cba6AW80dCnAMWB1wOZAcGBZYGvg0yCxIFtQcDAcHBG8P7plrNFcytzEEhHBDtoc85rF4S3mn52Hn8eaVzXsWah26KrQ1jBa2OOxw2Mdwz/At4d0RJhHyiJZI5cgFkdWRI1HeUYVRvdGzo1dH34zRjBHHNMXiYiNjD8UOz/eZv2P+wAL7BXkLOhayFi5feH2R5qLURWcXKy/mLz4Rh4mLijsc95Ufwq/gD8dz48vjhwRegp2CV0IPYZFwUOQqKhQ9T3BNKEx4keiauD1xMMk9qTjptdhLXCp+m+yfvDd5JCUkpTJlLDUqtS4NnxaXdkqiKkmRXF6is2T5knapuTRP2rvUeemOpUOyQNmhdCh9YXpTBh0Zjm7JTeQ/yPsy3TLLMj8ti1x2YrnKcsnyWyvMVmxc8TzLN+vnleiVgpUtq/RWrVvVt5qzev8aaE38mpa1Bmtz1w5k+2VXrSOuS1n3a45VTmHOh/VR65tztXOzc/t/8PuhJk8pT5bXucFlw94f0T+Kf2zbaLtx18bv+cL8GwVWBcUFXzcJNt34yfqnkp/GNidsbtvisGXPVuxWydaObe7bqgpVCrMK+7cHb28oYhblF33YsXjH9WK74r07iTvlO3tLgkqadhnu2rrra2lS6YMyz7K6cq3yjeUju4W77+7x2FO7V3tvwd4v+8T7uvb77W+oMK4oPoA9kHng2cHIg60/s3+uPqR5qODQt0pJZW9VaNXlasfq6sNah7fUwDXymsEjC47cOep9tKnWonZ/HaOu4Bg4Jj/28pe4XzqOBx5vOcE+UXvS6GR5Pa0+vwFqWNEw1JjU2NsU09R+KuBUS7NLc/1py9OVZ/TOlJ1VO7vlHPFc7rmx81nnhy9IL7y+mHixv2VxS/el6Ev3L8+73HYl8Mq1q75XL7VyWs9fc7125rrz9VM32DcabzrcbLhlf6v+V/tf69sc2hpuO95uuuN0p7l9Tvu5u+53L97zvnf1Pvf+zQdzH7R3RHR0dS7o7O0Sdr14mPrw7aPMR6Pd2T2YnvzH1MfFT7SeVPxm+ltdr0Pv2T7vvltPw5529wv6X/2e/vvXgdxnlGfFz3WfV7+weXFm0Hfwzsv5LwdeSV+Nvs77Q+WP8jcmb07+6fHnraHooYG3srdj7za913hf+cHuQ8swb/jJx7SPoyP5nzQ+VX1mf279EvXl+eiyr7ivJd9MvzV/D/zeM5Y2Nibly/gTowAKUTghAYB3lQBQYgCg3QGAOH9ypp4QaPJ/wASB/8STc/eEOACAhAKRiIZ6AFCOKAtR5WwAeMga7gFgW1uFTs2/E7P6uFCPALCv2zrQNuj+Tuts8A+ZnOP/Uvc/VzAe1Q78c/0XxakFp2w2OuEAAABiZVhJZk1NACoAAAAIAAIBEgADAAAAAQABAACHaQAEAAAAAQAAACYAAAAAAAOShgAHAAAAEgAAAFCgAgAEAAAAAQAABeqgAwAEAAAAAQAAAagAAAAAQVNDSUkAAABTY3JlZW5zaG90zdp2gwAAAj5pVFh0WE1MOmNvbS5hZG9iZS54bXAAAAAAADx4OnhtcG1ldGEgeG1sbnM6eD0iYWRvYmU6bnM6bWV0YS8iIHg6eG1wdGs9IlhNUCBDb3JlIDYuMC4wIj4KICAgPHJkZjpSREYgeG1sbnM6cmRmPSJodHRwOi8vd3d3LnczLm9yZy8xOTk5LzAyLzIyLXJkZi1zeW50YXgtbnMjIj4KICAgICAgPHJkZjpEZXNjcmlwdGlvbiByZGY6YWJvdXQ9IiIKICAgICAgICAgICAgeG1sbnM6ZXhpZj0iaHR0cDovL25zLmFkb2JlLmNvbS9leGlmLzEuMC8iCiAgICAgICAgICAgIHhtbG5zOnRpZmY9Imh0dHA6Ly9ucy5hZG9iZS5jb20vdGlmZi8xLjAvIj4KICAgICAgICAgPGV4aWY6UGl4ZWxZRGltZW5zaW9uPjQyNDwvZXhpZjpQaXhlbFlEaW1lbnNpb24+CiAgICAgICAgIDxleGlmOlVzZXJDb21tZW50PlNjcmVlbnNob3Q8L2V4aWY6VXNlckNvbW1lbnQ+CiAgICAgICAgIDxleGlmOlBpeGVsWERpbWVuc2lvbj4xNTE0PC9leGlmOlBpeGVsWERpbWVuc2lvbj4KICAgICAgICAgPHRpZmY6T3JpZW50YXRpb24+MTwvdGlmZjpPcmllbnRhdGlvbj4KICAgICAgPC9yZGY6RGVzY3JpcHRpb24+CiAgIDwvcmRmOlJERj4KPC94OnhtcG1ldGE+Cnd2YwUAAEAASURBVHgB7N0J3FXT/sfx1UCiDE2UqSIqhHKJCHHNlSLzfK8y/A0hMpP5uubhKtPVgLjGJo1SKjShiZIGhSJJKmXov76/0zrt53SesfN0znPOZ71ez3PO2cPae7/32eustfbaa5Vb64MjIIAAAggggAACCCCAAAIIIIAAAggggAACCCCAQFoEyqdlq2wUAQQQQAABBBBAAAEEEEAAAQQQQAABBBBAAAEETICKer4ICCCAAAIIIIAAAggggAACCCCAAAIIIIAAAgikUYCK+jTis2kEEEAAAQQQQAABBBBAAAEEEEAAAQQQQAABBKio5zuAAAIIIIAAAggggAACCCCAAAIIIIAAAggggEAaBaioTyM+m0YAAQQQQAABBBBAAAEEEEAAAQQQQAABBBBAgIp6vgMIIIAAAggggAACCCCAAAIIIIAAAggggAACCKRRgIr6NOKzaQQQQAABBBBAAAEEEEAAAQQQQAABBBBAAAEEqKjnO4AAAggggAACCCCAAAIIIIAAAggggAACCCCAQBoFqKhPIz6bRgABBBBAAAEEEEAAAQQQQAABBBBAAAEEEECAinq+AwgggAACCCCAAAIIIIAAAggggAACCCCAAAIIpFGAivo04rNpBBBAAAEEEEAAAQQQQAABBBBAAAEEEEAAAQSoqOc7gAACCCCAAAIIIIAAAggggAACCCCAAAIIIIBAGgWoqE8jPptGAAEEEEAAAQQQQAABBBBAAAEEEEAAAQQQQICKer4DCCCAAAIIIIAAAggggAACCCCAAAIIIIAAAgikUYCK+jTis2kEEEAAAQQQQAABBBBAAAEEEEAAAQQQQAABBKio5zuAAAIIIIAAAggggAACCCCAAAIIIIAAAggggEAaBaioTyM+m0YAAQQQQAABBBBAAAEEEEAAAQQQQAABBBBAgIp6vgMIIIAAAggggAACCCCAAAIIIIAAAggggAACCKRRgIr6NOKzaQQQQAABBBBAAAEEEEAAAQQQQAABBBBAAAEEqKjnO4AAAggggAACCCCAAAIIIIAAAggggAACCCCAQBoFqKhPIz6bRgABBBBAAAEEEEAAAQQQQAABBBBAAAEEEECAinq+AwgggAACCCCAAAIIIIAAAggggAACCCCAAAIIpFGAivo04rNpBBBAAAEEEEAAAQQQQAABBBBAAAEEEEAAAQSoqOc7gAACCCCAAAIIIIAAAggggAACCCCAAAIIIIBAGgWoqE8jPptGAAEEEEAAAQQQQAABBBBAAAEEEEAAAQQQQICKer4DCCCAAAIIIIAAAggggAACCCCAAAIIIIAAAgikUYCK+jTis2kEEEAAAQQQQAABBBBAAAEEEEAAAQQQQAABBKio5zuAAAIIIIAAAggggAACCCCAAAIIIIAAAggggEAaBaioTyM+m0YAAQQQQAABBBBAAAEEEEAAAQQQQAABBBBAgIp6vgMIIIAAAggggAACCCCAAAIIIIAAAggggAACCKRRgIr6NOKzaQQQQAABBBBAAAEEEEAAAQQQQAABBBBAAAEEqKjnO4AAAggggAACCCCAAAIIIIAAAggggAACCCCAQBoFqKhPIz6bRgABBBBAAAEEEEAAAQQQQAABBBBAAAEEEECAinq+AwgggAACCCCAAAIIIIAAAggggAACCCCAAAIIpFGgYhq3zaYRQAABBBBAAAEEskRg5MiR7pVXXnbNmjVzHTt2KvCoZsyY4b788gs3d+5cN3v21+6JJ54ocPl0z1ywYIH7z3/+47bddlvXpUuXdO8O20cAAQQQQAABBBBAAIEsFCi31ocsPC4OCQEEEMgIAVVcLVnyo/9b4r777jv37bffuh122MHtuOOO7uij/+7q16+/wX4uXrzYTZ061U2bNtVed9xxJ7f33nu79u3b27I9enTfYJ3ECYmVZBMnTnQTJ05IXMydemoHV61atQ2mMwEBBEpXIFPShvzSE6UhK1eudKpQV2jYcE+31VZVfDqyYVrSrNkBVjl/wAHN4mgTJkyMv0/2Jrqs5he2fIijoP0Ny5TGa6dOHe3YFXf37j3seFO1nXQdU6r2n3iyVyDxu3naaafbzSodcbK0ID+JkEZE5yfGrXnJlitsHc1PzPNE1+E9AgggUFyB+fPn+8YEX7rPP//cffPNfLfLLru4PfbYw510UuviRrVJl0+WribuwDnnnOu23HLLxMlZ+TmZR+PGe7lDDz00K4+Xg8oeAVrUZ8+55EgQQCADBdS6VIXZZKFHjx7u+edfcPvuu2989tixY9yVV14Z/6w3Wv/dd99xP/74gzvkkBZO6xUU1Jo1MaiSPnG9tm1PppI+EYrPCGwigUxJG3S477zzjlu0aJEd+VZbbeXOPvtsez9z5kynCmoFtXg/+OBD7P3gwYPdvHnz7L1uNqpyTaFjx1hldmIa9Nhjj7rp06dbBbct6P+pYl4FqMR0KczP7/Wbb75xgwYNyjM73MTMMzHFH3RMlSpt4Xbeeec8lfRPPPG43VBVRWHicRd1F4YNG+a+/vrr+OIyve46Wu3HQXiTNgF9L/X9DEHX/T333Gsfv/vuW5sXvrvhe3vZZZeGxe01mkaEGVN9Y4TEa79Ro0bxtCQsl/gauzmwPk8VTa8Sl+UzAgggUBKBXr16OeVbkoXateuU+Lc+WXypnpaYRiaL/9hjj3O77rprsln5TlN+TXFvTF4n38hLaYb2N/F35uCDD3ZnnRXL45bSZokWgZQI0Ed9ShiJBAEEEEguoJaX+gtBlVOvvPJqvEWaKrxCUMH1jjvusI+q8BowYKBVZnXufI1Nq1q1qrWsVxyhQkivYRthO9ttt12IMv6qjFW0xariv/XWW+PzeYMAAptWIFy3YavpTBuirVG7dr0x3jpVFfUhqFWZgtKc559/3t4fcMAB7rXXXo+nR4pHxxWNb9y4cU6FXhWYUhHuuuvuPGmqtnfTTTenIuoC49AxPf7443m6vVm6dKl78803N/rYZKg0OQR9PvDAA8NHXhFIm8D99z+Q57upPMu7775r+6OWpfquhhC+t0rLEr/PIc8SltVTgol5mV69esfTkrBc4mssfVl/rTz88CN50pvE5fmMAAIIFEegX79345X0Sv8++GCUpVVHHHGERaObg5kcEvOW4bNer7gi1hBs9erVxTqEWF7nrY3O6xRroylYWL87ib8zTzzxpKtSpUoKYicKBEpXgBb1petL7AgggMAGAg0aNHCnnXaa3eVfvDjWilULPfzwQ+6nn36ygmq0oqtJkyauevXq1l3OBpH5CdECsFqW1qhRI9lixZrWs+dLbvjw4U79MpcvX95aXrRu3dqpFX4Iqnh7++233NixY51uIqhiqV279k6t4hQKmx/i4RUBBGIC6UoblMZUqVLV/frrcn89j3HHH3+87ZD6kA8hVNTr84gRI2zyAQf8Lcy2CutPP/3Ut8z/3qapUNi376vuo48+ji8TWud36HCa7/rr6Pj0unXr2rJvv/22mzVrlnXzFU1L4guW4I1agX344Yduzpw5/gbpdm633er7p5auytPtmFr76wkHpWWVKlWyVvPqGXL+/G8sPWvfvp2PY4zvT3+O7YGOTU66mbp8+XKbpu0oKD0O6Xf//v3ckCFDbVmd2yOPPNIf2ykbnUZfe+011gJfTxeotfJee+3lbr/9Dtt++Kf90fHMnj3bNWigx/VPinefpmUKmx/i4RWBIKCWpGpFr6dImjc/yNWqtX2YlZGva9ascY8++qivqBlv10th18pXX31leZ3DDz88z3XKtZKRp5edQiDlAup69M4777R4zzvvvDz5FKV/SkO23357t2zZMvfcc8/5cs4EK/88+OC/3SOPPGyVwt27d3d16tRxSk/+85+n3cyZs9zPPy919erVc2rcoPxHCIpHLb6Vn1BeQq3cTzxx/W91dL66Imzsu2xROe+www4LURTpNZQTFd9hh7V0tWvXtjLa+++/7/NcsQYZZ555luvdu5ff35k+H3OAO//8891+++0Xz+v86J/qVkjM6+jJA40z9Msvy9x///uSu/feeyw/qJscIZ9XUJ5F+zBhwgTfxdBndlyrVq1yo0aNipeH9XShuowN+cdwwDVr1nR3333PBtOVPytpULlVYxF9++1COx86Z8o7qcu3ENSFbZ8+fcwl2TnR/F69etrTZspPKv9VknMWtsdr7gpQUZ+7554jRwCBNAqESi/1d6igDFqYFrqXCLu3zz77uMGDh4SPBb6momWpHnNXy1EFZe6UcVFrClXC7bRTrNuH0aNHu86dr3YnnHCiz9R2c2+88YZlzHSTQBX1Q4YM8a1cb8x3foEHwUwEclggpAObMm1QYUSV9SosqnI3BF376upFFcLar4ULF9oNw7CMCp0hfPLJx5ZOaJ1QKAwV+mGZ8Prbb6vCW3tVYebBBx+MT1Mr9d9+W+26desWn1aSN1273hDvtiOkZapoVMX98OEj3DbbbOO039ddd531x6+bkWp9pWM4/vgTXJs2bXzhc7mvkB/g9+c3mx72Y+DAgdYdWfgcXjUWiYK6Cnrppf9ay2IVeFV4VYFcBeCNuZma2Le/uh3Rn25EqJCs8M9//sPS6xtu6OoqVKhg21YhWIVFhQsvvMBNmTLF5TffFuIfAgkCrVufZN9h5Qcee+yxeBc4CYtlzMd//OOi+BgbtWrVsusk8Vp56KGH7CadngA4/fQz7IZh9DpNNl/XsvJluvlGQACB7BHQk80htGx5eHhrr9dee238c2Le4sorr7Au8LRA5cqVLd0599xzbHnlb1b7FuxqEKA/VfQrrVG4+uqr7LdYT1MvWfKTpT9KX8JvdXS+Kv579+7ttzPFDR26vjsyi6iI/1q1auX0p6AKd+XtdHNC+aPrrlt/fKNHj/L7/Jt7+un/2HGFSvroZpTXUVrZr18/fyPiZ7f11lu7rl27+jzX0Ohi/uZE3u5YE/Msr776iqXN+l1RnmzatGmuYsWKVi7WWE56r0p/lS11/AraXzXmUGjR4lBfZn3MGrQ99NDDNq0k/77//vt4pb9uyuiGQThn22yzrTv22GN9fvAXny9sbdvq0uV6Oxfap5UrV9hNBlXSh/m33Xa7b6jykZ3TML8k+8U6uStQPncPnSNHAAEENr2AMiz604+3Coah5eUXX6xvubrTTjsVa8fOOOMMXyF+vM+sHOIzSTcUa93EhZURDHFcfXXneLc6m222mS369NNP2Wvon3rNmtU2IM8jjzziW2jUiUf3wQcf2PvE+WpZQEAAgQ0F0p02qKJeQS2u9CSNWmLrVeNiKKjQEgakVkW2Ck1qbRWCClKJQS2bVKAKQZ/1lzgYmwZs03RVkodC5OTJk8NqJXp977334pX0L7zwosWvbnNCeOmlWKX2ggULrZJeNx3VKl0VkAqDBg30x9jYHXfccVZIbNy4cVjVXtWSK6TfmqD3OobQsl2F0RBk8Nxzse6C9PRAScOTTz5hq9aoUdOs5BW6GFEFQ0h3Q5dF6gZNBf7ouZk7d65VDCii6PwmTdaPlVLS/WO97BfQzSwFdYGjJ2AyNehmnwbCVjcVuk4GDhyU9FoZOjRWqVS//m72JJFa0SqE6zRxvgZhVF5HFUoEBBDILoFp09ZX1BfUh7t+U/V7r6D8kFp867PyGPpdfeutN21eixYt3JgxY61hQPPmzW2aGiWocVb0t1gt5XVDX/mf8FucOF9lsg4dOuR5GtAiLOSfnoBq1+5kd9RRrfJUmof91eo6BnU9prRSN/AVPvnkE98Y4UfL2+SX11H+Y9iw4ba8KrFV6f/vfz/kny541FrTFyXPov3QcSmobKyx23QjQn3JK6jxmLwuu+xy31gsVj5Ww4mQt1QDEgXl4dSlWknD/fffZ6u2anWU3XxQw4cw4O5rr/W1eWFbSv/1dEU4JyF/qP1X0Hw99dClSxc/APGe/kmIvPlHW4h/CBQiULGQ+cxGAAEEEEihgDI1qkRRpkgtEdSy86mnnnaTJ0+Kb+XPP/+Ivy/Km2222dpnCra2lq/7779/UVbJd5lQwaMFQiWcMkNqjaYMSqigVyWdgjJQZ5xxum9pcJy1qA8V+sqgDB4cqyhT5vP000+3jI+txD8EENhAIN1pgx5RfuaZ/9h+KX36/fc19l43AL/6apalWZMmTXINGzayQtNRRx29wTFszIRQ6Np9992tax21fN+YMGlSrE98FZjCTQgVgrt128wf2+++W5t5Fn3FihXy3cy2225b4gG3NUi4WqUpndfTSMf61lgqBG9M0OPgCiH91XulzSHocW0FtdrXtnXTVWlz27Zt4ttWBaTWVyWm5itt1mPdL7zwQoiGVwTyFbj44o72XdL12b37Mxk7loKeDlJQ9wghRCtxwrWia2H06B/sWjjmmGOs24nodRqdH64ltSAlIIBA9glEW9T/9ddfRT5AdecX8jBaKdw0D7/PyocoLQkVuWqNrt9iVQSr+5ROnTo5pT/t2rWLDySv7nPC/Esu6WS/5eqeZpdddrH9Cl3QRHcyWqEepqtFv/Yj7EuYnviq/VNQBXQIKvMV5wnAyy+/PI9DUfMsYXt6DdvXU0sa40hBXnrKVEbKq6jVvYIakIwbN9aVK1fOp90n2rSS/Fu0aJGVx7WuuhJU0O+FTJQfDmXf3Xbbzc6JGmIkOyfhKVPNP/3002x/n3nmGXvawCLlHwLFEKBFfTGwWBQBBBDYWAFlotTaILRw1GN1ygQ0abK+NWPIEBR1W2qNEP7C45RFXTcsp31Qy4lon/nqDiMEtRZRqFatmr0qQxpacqoV/lNPPWktN5VhUlAr1DBfLVRuu+1Wa9ER5ttC/EMAgbhAutMGFRrDEy/q01lpgoJa1IfuuNT9TWhVHwok8QPIkDdhv0MXNCrshqACa6i0Dy2l1NJJBdiBAwf4brzucFdddZUtrhsXGhukpEEFytD6WC3T7rrrLnusWi3DihN0PKpUVwituXbdNVZQ17Sdd17/vmbNWKX9OeecEy8s64bpZZddZsem5RXUCixUKvTt29edckp7fwPjzthM/iNQgICup06dOtoSP/zwg1XWF7D4BrPUNYD+CgtFXS4xnnD9h1d1xxBCeDpIn8P1rxb0Ybq67Lvqqivd5ZdfZjcjtVx0frJrScsQEEAgOwTC76KOJvzuFvfI9IT0kiVLbDXd7A+hefNYC3F93mKLLdzmm2/ubrzxJquYXro01u2NGj6FLv+i8zV+mcbR0Xg5oYJelcFqCBD9CxXYYZt6Vd4ylBH1uilDUfMsyfZJTzQmhjZt2sYnaQyg4cOH2e+J+vVXI4/iBv1OqMwdLfuGGwWKK3wflHdU0Dm5/vrr7amqZOdEN1HUjZGeutJTqerv/oQTjo+fM4uEfwgUUYCK+iJCsRgCCCCQSoHQ/3SIM9rXqVqplzRoENhQiC5qHGrNcffdd7sXX3zRV8Svr5gKfWUrHrU2UDjiiCPsVf/UarNPn5etIKvPamH38ccf6621EAnzQ1+L6gsxzLeF+IcAAhsIpDNtaNHiENufsWPHWkX9sb4VuEKolJ8/f75NV6El2jrVFsqAf6rcU/qnSvfQCkyF7RUrVtjerVmzJt7tS2g9tvvuDazyXo9Ua/299mrsH0G/IH4ztaSHpVb7//jHP/1glo/FK+xVKAwViEWNV/uvvm6Vfob0OVqBoH5VQwjnSZ/VQk8FxkMPPdRmqxVwqDzQBBXYNaZJ+O15991388y3lfiHQBIBdV11yimn2hyN31Cc8OyzPaxf5sLWKepy0XhUcaPrX112ValS1Wb98MOP8UWi156uewW1mlXFy5NPPuVatmxp05RPCcsmm69rSU/JEBBAILsEGjTYI35AqgQuSQg3AbWuGkCFMGXK5/ZWXeOEVvFqJPDaa6/7LvNuj7ckf/fdd+K/xcnmq0905WXUil+/49G/aCVz2G70Vd0MqpvFaF4gOj/V74uTZ0nc9owZ0+OTwtMAyqcdffTfbbrKyqHFfklb0993373e/jb/VPr6GyrR7S5atNi2pdb9IagSXudAgwIHb43bpqDzHeaHxmrqpifMD3HwikBRBKioL4oSyyCAAAIpFNCjla+//prFqL6GdcdeLTfVCl1BrSTUErNXr142uOOgQYPsbnxBFfA//LDYHgXs2bOnda1jERXx3xdfzPCVQPNtMJzQcl6rhkylCqTqd1Bh//2b2qtanj7wwP1uzz33tMxKyJCsWvWbzddAs2G+KoMS59tC/EMAgTwC6U4b2rc/xfZH/dSrtVAo/KhSPlTMqwIrTM+z8/l8qFo1VmGm2VpXleZK41IZNAiZ4h4woL9Fq8q12rVrxzfx/vsj7P3w4cOtgKsPoYD1yCMPWxdet956mxV49bTTFVdcEV+3oDdVqlSJz9aNShWeVUmooFbqzz//nFWUq996pfMKGlSsOGH8+E/ii++2W317r4r6UFG4cGFse+rWR633ZKvfitmzv7axAHSjIITYOAMTbf7rr79uT0G98sqrYbY9Rh7/wBsEChC4+uqri9Xvrr6XqljRTcCCrv/ociE/UcBu2CzdYFM3gp98Mt4+q2FBuFY0CGKodA9PA6mSTNd/uFZ0nar/6IcffiT+dKOu02Tz9aSNQug6xz7wDwEEskLgyCOPjFei64bclVde6TTYqdKQt99+yw8S/3ihraNVjlJlvILSIqVPChMnxro4DV2UvvPO2/Hf4tat2+RpHKDf6mTzlW6pcVUYAFb5iuifBrJNFjTYq7o2VWMuhblz59prUf8VlNcpKI6QDheUZ0m2vvJ0U6ZMsVmHHdbS8jZhudCfvdJ8dY2jcQD+9re/hdmFvqoRhVr6Kw8lBw3iGz1n2q62r7/wZGbIL+pphnAzWE9bhf78V/vBghX0WxLm60mG8PR8mF/ozrEAAhGBipH3vEUAAQQQSLHAvffeY323h2jVkiEEZaguvPACFyqyNDihHsFThkaVPo899mhY1F7PPvtse73iiv+LFDwn5hkcSAuEgqQtvO6fCsh9+vSOTwqPSsYn+DcNGza0/mY1gI8yP1rmzTff8i0EfrDFrrvuuvjgPsp4hkKsMomhIHzCCSfEo9R8ZXJ33323eH+C0fnxBXmDQA4KZEraEKVXtxa6aRhaW4UuIbSMrl3dSFDXLRq0KzFosK3wmLPmqf9zFVI0SGMI4WajnsxRX6sh3dB83fy76KJ/+G1MC4tbgUcFoVBI0gwVlPr06ZNnmfiHdW/q1q1nldRKwxTUslytzpSuKigtO+ig2MBuGmxSIeybffD/dGPikEMOscfGlX6OGxcbJCwsq/3SYHO62ao0UtvQn1pThT6s1drr1ltv8a17qzh1c6YbmxqoLDGoVVdYR/OivxP6rDh33nlnuymqwqkK6v/85z/i21b3PbfccqsWtcKlXnXTdvr0aS6MG6JHxtUaLTwd9fLLfayQGm4chPlal4BAEFCXTaowUtD1pBaDuvmu/Iuuo4suuigsGn/t3LmzjZEQJiR+n1WJpXg0eF9IA/SauNzxxx8fooi/RvdHExOvW02rUaN6/FpRpYyWCfkUdV1w88232P7rvUL0Op01a2b8OtU+RudXrFjRbjbkdx3bwvxDAIEyLaABYS+99BL7ndVYF2G8i3BQyteoIVNocKXpN998s3VLo8pZpSsXXHChH1D1YRuQtU2b1ja4qBpARH+rN9sslv7k91scnmoO80O5q7Df6sS8ZbI0UuXOxGMIebYRI2ING3Rcym9pnLGmTZvF8xvRvE737t3dyy+/rEUt3HVXNz+Iakt37bXX2me1Oi8sz7Ju1fiLBr7VE4QKyo+Gp7LDAkrLVV5VF0O6oVFQwxH9rjz66CPxboz0+eCDY3m/EN9+++2b55yp/Pv3vx8dZvsxftpaPjA+wb958MF/Wf5Q5VyFU0+NPWFmH/y/wuaH5XhFoCCBcmt9KGgB5iGAAAIIlFxAmZzEUL16DVenTm3L+IR+76LLqFXoFH9HX4/cVaq0uVVSNfCPY6qlhzIZoVVYdJ3E98osRkOosIpOS3y/9957xftqVSv+8ePH+4q3BTaYzt5775PnBoAqrr7+erZlpvRYn1qjqeJLFUEKhc1P3DafEcg1gUxJGxLdo/u1YToSS88SpysOFfIU6tWr7wf2srdWuFGlsir6VAGvQpVuBqgPdT3enRjUXVZi+qbHnKMV9UqX1qxZ7VavXmMt2DXo7Zo1v9vgt+H11FM7WMFY8et4dAN0xYqV1s1Lo0YN81SWq7sMVeJvu+028cJcdL8m+AFgoyZhXjDQ+ipQq+WVWvG3aHGoO/zww52mz5kzx9JIFYqVPiqdjPaZHeIqSvocnkpSYf+ll16ywXArVdrCCv7qskg3JxT0G6HCo1qKqbCrFm1h20WZb5HwDwEvoKdqdFNMN+eWL//FtzqMPaVy1bpxHISkShpVmKirKd2YV0h2vdiMyL/YtT4xMiXZ27UbVJAUJe5wbUavFVWeKR+lLq90HSroCZghQwbne50WNj/ZHjMNAQSyQ0BpjbqWU+t1DUqtRgfqKk7pR37pUEh7JKCGDQMHDrTf4Vq1avrBUPf0v8UHlvpvdX77Fj0raiihPu8Tg/ZfTw0sW/ZLvBFZ8+YHWR4iWV5HXemoLKigm7dq+LDVVlX8jY5L41FH0+FkeRYtqH0O+SBVxCvPtMsuu/oGHWd4+9jYO/EI/Ru5auwz3fjo2bNXdFae98UtM0fPWe3aO9jAsm3bnhyPUzcdlL9SN5B6El3fBeWvtB8Khc2PR8QbBIogQEV9EZBYBAEEEEAAAQQQQCC7BFSIC63NVCEfDaF17/DhI+KV/tH5vEcAAQQQQAABBBDYOIFoRX1iXiwxZj3pdN1119oN4ieeeLJY3d4kxsVnBDJZoGIm7xz7hgACCCCAAAIIIIBAaQgsWrR+IFYVFBs33sv37T7bt/Z/1zanVuzbbLNNaWyaOBFAAAEEEEAAAQQKEQgt4/WU4PjxE6y7QXVhVpy+6QvZBLMRyDgBWtRn3ClhhxBAAAEEEEAAAQQ2hYC67Jk8eXK8X35tU91jtGvXfoO+UTfF/rANBBBAAAEEEEAgFwQefPBB17fv+kHtdczqjlBd4ISg/vnV17+CpmucJPUdT0AgmwWoqM/ms8uxIYAAAggggAACCBQqoILgkiU/ulq1tnfbb799ocuzAAIIIIAAAggggEDpC6g1/Z9//hHv47/0t8gWEEivABX16fVn6wgggAACCCCAAAIIIIAAAggggAACCCCAAAI5LlA+x4+fw0cAAQQQQAABBBBAAAEEEEAAAQQQQAABBBBAIK0CVNSnlZ+NI4AAAggggAACCCCAAAIIIIAAAggggAACCOS6ABX1uf4N4PgRQAABBBBAAAEEEEAAAQQQQAABBBBAAAEE0ipARX1a+dk4AggggAACCCCAAAIIIIAAAggggAACCCCAQK4LUFGf698Ajh8BBBBAAAEEEEAAAQQQQAABBBBAAAEEEEAgrQJU1KeVn40jgAACCCCAAAIIIIAAAggggAACCCCAAAII5LoAFfW5/g3g+BFAAAEEEEAAAQQQQAABBBBAAAEEEEAAAQTSKkBFfVr52TgCCCCAAAIIIIAAAggggAACCCCAAAIIIIBArgtQUZ/r3wCOHwEEEEAAAQQQQAABBBBAAAEEEEAAAQQQQCCtAlTUp5WfjSOAAAIIIIAAAggggAACCCCAAAIIIIAAAgjkugAV9bn+DeD4EUAAAQQQQAABBBBAAAEEEEAAAQQQQAABBNIqQEV9WvnZOAIIIIAAAggggAACCCCAAAIIIIAAAggggECuC1BRn+vfAI4fAQQQQAABBBBAAAEEEEAAAQQQQAABBBBAIK0CVNSnlZ+NI4AAAggggAACCCCAAAIIIIAAAggggAACCOS6ABX1uf4N4PgRQAABBBBAAAEEEEAAAQQQQAABBBBAAAEE0ipARX1a+dk4AggggAACCCCAAAIIIIAAAggggAACCCCAQK4LUFGf698Ajh8BBBBAAAEEEEAAAQQQQAABBBBAAAEEEEAgrQIV07X1OXPmuBEjhqdr8xm83XJ+39YWsn/Jlkk2rZBobHay9ZJNK0pcJV1mU2+vpPuZy+ul8hyVNK5UrleUuJIts37adttVc0uX/pTLXwqOHQEEkgiQNiSiKN0sKCTL8xS2TmJ8yeLQMsWJJ784ihNPKuLQ9gqKJ9n+JFs+8dgTlylsfkm2k7iNksShdRLjie6r5kU/a/mCQmJcYdlUxKG4UhFPceLQNpMdU/Hi2G677cjDiJKAAAJZL0C+LOtPMQeIQMYI1KtX37Vq1Wqj96fcWh82OpYSRLBq1Sq3ZMmSEqzJKggggED6BcqVK+fSlHym/+DZAwQQyFeAtCFfGmYggECGCJBOZciJYDcQQKDUBUjvSp2YDSCAwDqBypUru+rVq2+0R9oq6jd6z4kAAQQQQAABBBBAAAEEEEAAAQQQQAABBBBAAIEsEKCP+iw4iRwCAggggAACCCCAAAIIIIAAAggggAACCCCAQNkVoKK+7J479hwBBBBAAAEEEEAAAQQQQAABBBBAAAEEEEAgCwSoqM+Ck8ghIIAAAggggAACCCCAAAIIIIAAAggggAACCJRdASrqy+65Y88RQAABBBBAAAEEEEAAAQQQQAABBBBAAAEEskCAivosOIkcAgIIIIAAAggggAACCCCAAAIIIIAAAggggEDZFaCivuyeO/YcAQQQQAABBBBAAAEEEEAAAQQQQAABBBBAIAsEqKjPgpPIISCAAAIIIIAAAggggAACCCCAAAIIIIAAAgiUXQEq6svuuWPPEUAAAQQQQAABBBBAAAEEEEAAAQQQQAABBLJAgIr6LDiJHAICCCCAAAIIIIAAAggggAACCCCAAAIIIIBA2RWgor7snjv2HAEEEEAAAQQQQAABBBBAAAEEEEAAAQQQQCALBKioz4KTyCEggAACCCCAAAIIIIAAAggggAACCCCAAAIIlF0BKurL7rljzxFAAAEEEEAAAQQQQAABBBBAAAEEEEAAAQSyQICK+iw4iRwCAggggAACCCCAAAIIIIAAAggggAACCCCAQNkVoKK+7J479hwBBBBAAAEEEEAAAQQQQAABBBBAAAEEEEAgCwSoqM+Ck8ghIIAAAggggAACCCCAAAIIIIAAAggggAACCJRdASrqy+65Y88RQAABBBBAAAEEEEAAAQQQQAABBBBAAAEEskCgYhYcgx3CuHFj3aRJk92sWbPco48+ukkOa9WqVa5///6uQoUKrn379htsc+LEiW7o0CFuzpw5bp99mrhmzZq6gw8+ZIPlSmPCsGHD3Ndfz/bbPMD/NSuNTRAnAggUQWDIkMHu88+n+LRppuvevUe+ayi9mDZtmtt++1ru2GOPy3c5ZiCAQHYIkDZkx3nkKBBAYOMFipoehi0NHvye++GHH90pp5ziKleuHCbn+5qOcmK+O8MMBBDIaQHSu5w+/Rw8AkUSKHMV9aqAHjZsqNtss83czjvv7OrX380dffTR7oorrvCV4Ae7cePGFenAU7HQ9OnT3QMP3G9RJVbUd+7c2Y0ePcp17NjRNWzY0I0cOdL9978vuuHDR7htttkmFZsvMI7XX3/NqeLPb56K+gKlmIlA6QlMmDDBffzxJ27Bgm8K3cjEiRNcjx497Hqlor5QLhZAoEwLkDaU6dPHziOAQAoFipMehs2++eabVs5p1KhRkco56Sgnhn3lFQEEEAgCpHdBglcEEChIoMxU1KuC/rHHHvWV3o3cLrvs7H799VfLoMUO7mg3YcJEX8nVfZNW1Ddu3NhdfXVnt+22eSvep06dapX0t956q2vb9mTbxWOOOdZ17ny1q1gxteQ6ZoWOHTvZa/inGwctWhzq9tprrzCJVwQQ2MQCBxxwgNNfp07+jlkhQU+/6Maabj4SEEAguwVIG7L7/HJ0CCBQdIGC0sNYOaecNXyKxqhyzmGHtXQqixUlpKOcWJT9YhkEEMgtAdK73DrfHC0CJRVIba1xSfeikPVUSd+16w3upptuztPFzM0331zImqU7W49annPOORtsRF3OKKi7mxC23HLLAru9CMsV91Wt5pN1bUOL3OJKsjwC6RXQdZzsWk7vXrF1BBBItwBpQ7rPANtHAIF0CehJQz2dnBgo5ySK8BkBBMq6AOldWT+D7D8CqRPI+Ir6X375xSrp1XIisXuZmjVrFElCrTHmzZvnVq5c5Y488gjXpk3bPOtp3ujRo60VvB6h3H333d1JJ7WOLxPmrVix0u25557WSl0F51h/h5N8/9OfxyvhP/zwQ/f999/buqed1sGdcMIJbqeddrLPP/74o6tRo+YGGc7HH3/czZ8/z1rbt2zZ0q9zYnzb/fv3c+PHj3fLli2zViPRlvMjRoyIL6eEXUH7r79Ro0a5Tz752HXocFqeyj89ifDCCy/Y9sqXL2/HGo3zgw9G+r7tv3Z16tRxtWvXcUOGDLG+tdu3P8Xtu+++bocddohvkzcIIFB0gS222MKurb59+7q5c+dYl1gXXfSPeFdY6m/1008/ddttt51PI2JPyHzwwQduypTP3eabb+4OP/wIN2BAf3/tzrfuvpo2bWbXaXQPQlq3YsWKDdILpU1jxnwYj79nz572Wf3mh/QjxKVC8ccff+zeeuvNMMndf/8D8fe8QQCB1AmQNqTOkpgQQCC1AjNmzHBffPGFe++9QVbWefLJJ3x3fgv803/1/Xg6x7pdd61rTzR/99131i2pKtBDo4NRoz7w+ZrP3NKlP7m6deu5888/33ZOeZWff/7ZzZ49O15+StzrX35ZZmWZMD3Wst75/M/f3dZbb+2UP1Ke6eSTT45vT8uqW1KNH/bNN9+4WrVquWOOOcYddNBBIZqkrwXlnbTC0qVLfbersa5XddwNGuyRp0yqRlPqllXLaX6jRo19a//Dkm6LiQggkLkCpHekd5n77WTPck2gfKYf8MKFC20Xo5XXYZ/V7Uyo0ArTEl/PP/88qxxT//WNGjV03bp1c337vppnsVNOae8zlxWtUnvevPl5Mo3KvGn5Qw89zGdGd3GPP/6Yz/zNt253brjhBqukD5Epo6aK9RBU2RUq6TVN/SkmhtatW1vm7swzz7JK8Ntuuy3epY/6v1dmc//997dKN1Wm3XrrLRbFww8/5CvRB8ej+/HHH+y9Wu7ffPNNVkmvTGU0qMLviCMOt3lnnnmmr3jfzyroDjggNtislv/f/95wTz31lK+c/8rdc8/d7s8//7BKwnvvvce7PBONjvcIIFAMAXVDpWtTN8gU+vTp46688gp7r2t7zJgxllbZBP9P6clzzz3rx7b4r0267bZb3e+//+6vyT/dgw8+aGlRWFavSuu0zt/+9rd4ehHSOt3su/HGru7111+3iv7rr+9iA11red28q1SpkhW0nVsbL3zWrVvXuhpTuqCbdAQEECgdgbKWNuy6666kDaXzVSBWBDJO4Nxzz7HygCqw9HSzGjcpvPPOO1amUvngs88+c1WqVPUNmD6yrv7UwElBfTFPmzbV9evXz5ehdrVpyncsXvyDVdLbhHz+vfpq33h5KHGRl1/u4xsTfOQGDRqYZ5a2e8klnaySvl27du63335zl19+md1YyLNg5ENBeaewmPJqa9as8eXEDr4x1iKnYw5h8ODB7vnnn/M3A5pbJb3yczNmTA+zeUUAgTIkEE3vVFYivSO9K0NfX3Y1ywQyvkV9qKgPGbzi+H/77bfWEl0Zq9BCfvDgIdYyJMSjini1fjj99DNskvo6fPbZWOt0TVCG64477nBq6a4/tRjZfvsdrPXGqFGj8/Q9HR5PD60+Em8iKK5o0ICz5cuX85ndd22yKsZ69+5tLTI0QX3dqx+zk09uZ/OnTp3mM7eL7f0111xrr6Hva3ULFIJayCqECvgw/a677nKtWh3l/vWvf9kk9Yldrlw5p0p/7bP2VwPzKk4NhHvfffebjRbW/H79+oeoeEUAgWIKqHD6zDPd4y3oda0/+ugjduMsPNYdrmdFrfSkV6/edj2qslwt2pVWKeh6VHoSe0qnhn9aaKX766+/rII+pBfRtE6V96NHf2hxqWXcJZdcYq3S9PRMlSpVrJXb22+/Za3TQrq1/fbb201JtUTTjUQCAgiUjkBZSxv0ZJ0aLJA2lM73gVgRyCSB0Le78hwtWrRwrVu3sd1TvkQV9xpX56mnnrZpagTUpk1rK0OoRbnKKkrflLepWrWqLRPKStH8TrLjDfkiVfIrhLyJ3l955VUWb/TJYk1Xgyht95577tVHK+PoqefQQMImRv6pnKgnt5s2bRova0XzTlpU+a3Vq1e7s88+29Zs3HivPGOTqQHGDTd09Q2hjrA/lROjXZ9GNsdbBBDIcIFoenfEEUdazwjaZdK72IkjvcvwLzC7l1UCGd+iPvT3rpYMxQ3qvuXtt9+JV9Jr/Ro1qjtlzEJQIqzKqosv/qcbPny4dSVx++13hNk+Q9ra3X333X4g28esklzz1Dp/Y8NPP/1kGVlVoIVQvXp1GxRXleUKqqS76qqrw2y3994lHxj2hx8W23EmDi7bvHlzi18Zy2hQ9xuhUlDTVan/3Xfr3aLL8h4BBIomsM026wee3m+//WylBQtiTw0VFEOy61HLh5YeepImMb1ITOtC/Epn9Oi4QvQaP/fcc/1Ng098VztTbJ7SST1aHm5y2kT+IYBAqQiQNpQKK5EigEAKBUIlvaIMZZXjjjsuvgWVu1QRH/Im8Rmb4E0oV0XLaEceeaS15td+JQua/tZbb+cpayXmnUI58corr7QbAVonsZyoFv560lFPHaSqnJhsf5mGAAKbTkDdF4dAeheTUL0Y6V34VvCKQOkKZHxF/Q471DaBUHlUXI6vvprl1IXMeeed6yucTszTVY3i2mOPPfwjjPdZJfwNN1xvXcuo4j4EVZQrUerVq6e76KIL3RtvvBFmlfB1ra0XKsaPP379j0BihNqPJ5543G/3It/So621tk9cpqifFy2KtcTfcccd86yiijr9rVq1Ks90PiCAQOkK7L333raBChVSkwwrrYulFxdaiza1IitO0DgUCnqcXEHjVSi9OP744+0z/xBAYNMIkDZsGme2ggAC2SMQylXFbVxQWN4plBPnzZtrXd5cdtmlvjufaXE4lRP19LO6GlS3GS+++GJ8Hm8QQACB0hAgvSsNVeJEILMEUlNDVIrHpJYNCqFlfXE29dFH6iuxkx88sZq79NLLfCbqNevfOTEOFYp79uzl7rrrbusD+qqrroovooGObr75Ft9P9Eu+8quNdVUR+n2OL1SCN+ERUPXdmCyo4lyPlH755ZfurLPOsn7z1T91SYMGXlJQC9loUKtZDU4ZbYGi+Wtj9xOii/IeAQRKQWD33RtsdKwhrZs7d66/KXm+7//+ZesKp7gRn3baab7v+tjYFiNHjrSblMWNg+URQCA1AqQNqXEkFgQQyH6BUK5Sf/lFDUXNO6mc+PLLr7iHHnrYusHp2rVrfBOhnPjaa69b/uupp57cYCy0+MK8QQABBFIgQHqXAkSiQCDDBTK+ov6QQ1pYP6jqG3HAgA37SFffgvmFzz//zPqoP+mkk6wiequttrKBWaPL33nnHe6FF16wfqPVcrRDh9Osi5fQVYz6UFRltjJp6h9RfdgrU7axQX28qjuLt956K2lU06dPt65q9EipHrdSf9EXXnhh0mXDXdWkM9dNDNubPHlynsVGjnzf97W4ne938tA80zWoJAEBBEpP4LHHHnW77LJLnu5nSrq1kNZde+111keqMnCha53ixHnqqR18+vaV7/t1gvV/H33MvTjxsCwCCJRcgLSh5HasiQACmSWgcpO651O+IgQ9Mbx06dLwsdBXDT5bWAjlnKeffqqwRePzi5J3Uh/1KieqDHn44Ye7yy67PF5OVEShnKink9U9jrr+SUU5Mb6TvEEAgTIjQHpXZk4VO4pAxgtU8AOl3pHpe7nPPvu45cuX+0Fen/X9A77lBg9+z/769+/nB2J927Vv394qldQ3oAYtUlArevXDrAr+efPm28BnL73U01e0N3JqKfrLL8t8NzhT3B9//O7nz/Ut7f+wvpmfeOJJd+qpp/jKriPdihUr3KuvvuoqVKjgNttsc9+q/kWngYs0IOTmm29ufRGqNYaC+m9XP+4a3DG6H5qmMHXqVN9f/tuWgdM+HnjgQRbv4MGDfbc6vWz/xo8f7/797wdt39TdjuZpH5Shfe2111y1atV9P/rDbOAjdWuhzOCKFb/6/fqv9/nVvf/++7417BCbrvfvvz/C97lf20zC9oYNG2rxKU7ZaOClc845xw++1NL2U9PHjPnQ3odj0ofx4z9xo0aNsum1a9eJDwplE/iHAAIFCmjAZvUNP3XqlHj60KdPbxuwWZX1CmPHjnFqCab+T5VGKO1QYW/MmDE2P3o9qsCrp2NCv6tKL6JpXc+ePd2+++5r426EtE4F5Wh6tXLlKpc4SLduHiodWrr0Z7/9pvY4t22cfwggUCoCmZA2KG2ZOXOmHZ/ekzaUyqkmUgTKpMCvv/5q5aNQvgrlGuUnBg4caOUMlbmUf4iNbTPSjrNixYquQYMGvvy0mfvqq9nW2GrSpIk+rs+tkVLNmrXsKWY9Lfzzzz87bSeaRwnb0Tg+33670M2Z87Xle6ZNm27lHC07evRo277SLFWUq7ymco0Gfvzyy5l+3J2Pre/45ct/sfxOtHzmh5q1pwYLyzvpYL744gu/f8vdwoULfav6h+LlRM3T+n/88Yf9qXvUIUOGxMuJmk9AAIGyI0B6R3pXdr6t7Gm2C5SJinoNsnbkka3cPvs08ZVd1awQqWmNGjVynTtfYy01evfu7c9VOavc0qsqnFWRrQr3RYsW+czVAh/HkX6dxtbViyqo1EJ+re/jRZlI9YGvSvEzzzzTZ8A62HnfYostfEv2Haz/emX6mjTZ13Xpcr2rWbOmVaQpk6iKslhlWTlbRxX50f3QPihzO2LEcL//+9j2lJFUf4ZNmjRxemKgfPny7vvvv7fXtm3buDPOONPiOuaYY2xApjlz5rjdd9/dnX76GVZxp8xw27ZtnbqzWb16jVWaf/PNfFe37q5++smuW7c73axZs9xxxx3vyvndKuf/KcMbtqcbFzNmTPf9T+/k+1M8z+LVBrWfqqRff0yxQWSVCV3hbwjoWBSqVt163THbR/4hgEAhAkozKleu7G/kLfE39b7zaUgNu/YOPPBAW/PZZ3vYTcHmzcNA1eUsjfjf/17f4HrUdfrHH3/Gu6vSjUZd3yGtU1rQsGFDS9/U37zSul13rWvjc6y/tsv5ffnB1kvcdd2E7N27l3X5pcp9AgIIlJ5AYWmDfn/VYKA004YFCxZYOqMWqcq/kDaU3vkmZgTKmoAaAymEMoDyG8qHfPrp5HV5iPVlrldeeXldnmVHa1QU1tlrr71sTLCpU6e6GjVq2hPCypssWxZ7KlrlID1JHM2jhHVVTlu1aqVv0PSN23nnnd0JJ5xoaeLKlSvj2w9pVijnrFix0m4aVKpUyZfrznLt2rVfN87X+nJiaPxQUN5J5UTdBFA5UZX1GrA2Wk6Ui47np5+W+JsGo3xjsL3i5UTNIyCAQNkSIL0jvStb31j2NpsFyvkMEH2cZPMZ5tgQQACBYghccMH5dlPvmmuuLcZaLIoAAtkuQNqQ7WeY40MAAQQQQAABBBBAAIF0C1RM9w6wfQQQQACB9AroaSJ1p6Uni9RK7eST26V3h9g6AghkhABpQ0acBnYCAQQQQAABBBBAAAEEckSAFvU5cqI5TAQQQCCZwLRp09z5559nszTeh7reUl+vBAQQyG0B0obcPv8cPQIIIIAAAggggAACCGx6ASrqN705W0QAAQQySkBjeqh/avqkz6jTws4gkHYB0oa0nwJ2AAEEEEAAAQQQQAABBHJIgIr6HDrZHCoCCCCAAAIIIIAAAggggAACCCCAAAIIIIBA5gmUz7xdYo8QQAABBBBAAAEEEEAAAQQQQAABBBBAAAEEEMgdASrqc+dcc6QIIIAAAggggAACCCCAAAIIIIAAAggggAACGShARX0GnhR2CQEEEEAAAQQQQAABBBBAAAEEEEAAAQQQQCB3BKioz51zzZEigAACCCCAAAIIIIAAAggggAACCCCAAAIIZKAAFfUZeFLYJQQQQAABBBBAAAEEEEAAAQQQQAABBBBAAIHcEaCiPnfONUeKAAIIIIAAAggggAACCCCAAAIIIIAAAgggkIECVNRn4ElhlxBAAAEEEEAAAQQQQAABBBBAAAEEEEAAAQRyR4CK+tw51xwpAggggAACCCCAAAIIIIAAAggggAACCCCAQAYKUFGfgSeFXUIAAQQQQAABBBBAAAEEEEAAAQQQQAABBBDIHQEq6nPnXHOkCCCAAAIIIIAAAggggAACCCCAAAIIIIAAAhkoQEV9Bp4UdgkBBBBAAAEEEEAAAQQQQAABBBBAAAEEEEAgdwSoqM+dc82RIoAAAggggAACCCCAAAIIIIAAAggggAACCGSgABX1GXhS2CUEEEAAAQQQQAABBBBAAAEEEEAAAQQQQACB3BGgoj53zjVHigACCCCAAAIIIIAAAggggAACCCCAAAIIIJCBAlTUZ+BJYZcQQAABBBBAAAEEEEAAAQQQQAABBBBAAAEEckeAivrcOdccKQIIIIAAAggggAACCCCAAAIIIIAAAggggEAGClBRn4EnhV1CAAEEEEAAAQQQQAABBBBAAAEEEEAAAQQQyB0BKupz51xzpAgggAACCCCAAAIIIIAAAggggAACCCCAAAIZKEBFfQaeFHYJAQQQQAABBBBAAAEEEEAAAQQQQAABBBBAIHcEKqbrUOfMmeNGjBjuN1/O/61N2I1k0xIWKfF6ifHoc1G2l2y9VE7LhH1I5fFkY1ypPEcljSuV6xUlrqIsk43nuvBj2m67am7p0p8KX5AlEEAgpwSSpw1KS4sbEvNGWr+48SSLo7jxlGYcUZNkxxbdduL86LwQT2HLFDY/mU3idjIljnDM0dfEfYvOi75PPKbovE0Zh7ab374UdT/CvieLJ1kcyZYLceTOa/J0KneOnyNFAIHcESC9y51zzZEikG6BevXqu1atWm30bpRb68NGx1KCCFatWuWWLFlSgjVZBQEEEEi/QLly5Vyaks/0Hzx7gAAC+QqQNuRLwwwEEMgQAdKpDDkR7AYCCJS6AOldqROzAQQQWCdQuXJlV7169Y32SFtF/UbvOREggAACCCCAAAIIIIAAAggggAACCCCAAAIIIJAFAvRRnwUnkUNAAAEEEEAAAQQQQAABBBBAAAEEEEAAAQQQKLsCVNSX3XPHniOAAAIIIIAAAggggAACCCCAAAIIIIAAAghkgQAV9VlwEjkEBBBAAAEEEEAAAQQQQAABBBBAAAEEEEAAgbIrQEV92T137DkCCCCAAAIIIIAAAggggAACCCCAAAIIIIBAFghQUZ8FJ5FDQAABBBBAAAEEEEAAAQQQQAABBBBAAAEEECi7AlTUl91zx54jgAACCCCAAAIIIIAAAggggAACCCCAAAIIZIEAFfVZcBI5BAQQQAABBBBAAAEEEEAAAQQQQAABBBBAAIGyK0BFfdk9d+w5AggggAACCCCAAAIIIIAAAggggAACCCCAQBYIUFGfBSeRQ0AAAQQQQAABBBBAAAEEEEAAAQQQQAABBBAouwJU1Jfdc8eeI4AAAggggAACCCCAAAIIIIAAAggggAACCGSBABX1WXASOQQEEEAAAQQQQAABBBBAAAEEEEAAAQQQQACBsitARX3ZPXfsOQIIIIAAAggggAACCCCAAAIIIIAAAggggEAWCFBRnwUnkUNAAAEEEEAAAQQQQAABBBBAAAEEEEAAAQQQKLsCVNSX3XPHniME2QntAABAAElEQVSAAAIIIIAAAggggAACCCCAAAIIIIAAAghkgQAV9ZvoJH799debaEtsBgEEEEAAAQQQQAABBBBAAAEEEEAAAQQQQKAsCVQsSztbVvd14sSJ7oEHHnD333+/q1+/fqkextixY9zUqVP93zT3+OOPl3hby5cvd0OHDnVTpnzuateu7Tp27FTiuDJhRZ2DiRMnuGbNDvB/zVKySz16dLd4yrpNSjCIJK0CuhE4duxYN2HCePfoo4+VeF/GjRvrJk2a7GbNmuXjebTAePr37+fWrPndtW/f3pbLL+3Rcj//vMydcsoprnLlygXGyUwEckkgv2smVQbDhg1zX389O6W/e6naN+JBAAEE0i3w7bffutdff83Nnv21W736N3fhhRe55s2b227NnDnTffLJJ+7zzz9zp59+RsrKDuk65uLk7wrax6L+bq1atcr179/fVahQYYN8ospk3bv3iG/mzTfftPchPxmfkeRNKM+dcMKJbqeddkqyBJMQQCCZQDrTO12306ZNc9tvX8sde+xxyXaPaQggkCCQ8S3qVRnao0ePPH8//fRTwmFk7kclTJ06dXS33HJLqVfSS2HMGFXUT/OVdmM2CuXVV19xkydPcv369duoeDJlZVXS63uk11SFpk2bur59X7Pzm6o4iQeBkgicdloHN3z4MPfhhx+WZPX4OqNHj3Zffvmlj2d0fFqyN0rX7rjjDnfvvffEZ+eX9mi5Rx99xE2fPj2+LG8QQCB1v9f5WaoCKtW/e/lti+kIIIBAWRL45ptvXJs2rd3ChQtdhw4d3HbbbeeUBwrhvfcGWSX9iBEjwqQy/VrU/F1hB5lfXi9xPeX5Hnjg/ng+ccSI4e6+++7z5bCJiYvaMtH85AYLRCaE8txdd3WLTOUtAggUJJDu9E7X7eOPP+bCTbmC9pV5CCAQE6jgK1HuyGSM7777zs2Y8YVTxbFaee+zzz7uwAMPTOsu//jjj65btzvd0Uf/vdD9ePDBB91xxx3rdOd/U4QWLVq4b76ZbxmhjWnprVbnrVq1skK+3qslelGDbhI880x3d9RRRxV1lU2wXDlXp05tO446deoUe3u6YTRx4qQ8LWrq1NnR1axZw7388sv+u/mrO+SQQ4odLysgkAoBXeuLFy/a6Ou+RYtDi5R+6BrS3yGHtHCNGjWyQ8gv7alRo6Ytp/mbbbaZLZuZaUQqzgRxIFB0gfyumaLHUPCSm2++mdt7733cvvvuZ9erll62bJm7++673TbbbBOfVnAszEUAAQSyT0AV8aqkf+65592uu+5qZTqlySEcdFBzV61add8qvJ9r3bp1mU8vi5q/C8ef32tRf7d040O/M8cdd5zbY489Xb169d1ZZ51lnopbpiEon3jYYS3j+UlNV4X+nXfekWe52PKx8tw//3mx23rrrUMUvCKAQAEC6U/vYtftoYcelqfhqhpybbbZ5mU+fS2AnlkIlFigYonX3EQrnnRSa9/1Sh03cOAAd8QRR7gzzzxrE205/83MmDHD6ZHywoJaLyxevNhaEBS2bDbNV9c7P/74Q0YdUuxmQ8m7vFGGUXEkBt2A0Tnu3r2779qjvatbt17iInxGICsFlDYXJSR7lDkT04iiHAvLIFCWBJI9XvzVV185FdjatWtXlg6FfUUAAQRSKvDRRx/7iuHGKY2TyNYLqKvDc845Z/2EAt4lyyeG7kUTV9vY8lxifHxGIBcE0p3e5Xfd9u7d227S5cI54BgRKK5AxlfU53dAH330kT2SqApU9XP3xBNP+L5Yv/YX+6HWemy33XazVX/99VdfKH3PjRo1yvps1w+/Cqrly5d3hx9+hDv++ONtuT59+rg5c+a477//zj355FM2Tf2zjxw50rcwXeD22msvd/7559tjkTNmxLpw0CPlISiTUaNGjfDRXvV4zwEHNHNbbLFFnunff/+969mzp4/3G1erVi3Xtm0b16TJvvFldExDhw6x/WnYsKHr3Pma+LzwRsekvhMXLlzgtIy2v+uudcPs+Otjjz1qfS/uuecelhA2adIkPi/Zm3feedv6EPvhhx/z7fuvoP2Ldr0RfNTqvF27WD/WBa0b3Z/QR/4nn3zsH0k9zS1dutTO4S+/LHONGzfeoM98PWKpvhBlqlYcBx98cPzcKt4hQwb7rnwm+3nV/LodbVM6t/rO7LhjHX+sO7tBgwb5vrlnestT/HdoX7fDDjvYctHHXsMxqRXxYYcdZvNbtTrKf2eedAMGDHSXX365TeMfAkFA18SYMR/a91JP4fTt29fNnTvHbuqoRdHee+9tiypNmz59mvvjjz/s+620Sn2k/vvfD4WoLA2bP3+epV+77777BtdBWDBc9zVr1rQKubANzVcfhf/73/+c4qlYsaJr2bJlvk/85BfPuHHjrB/7Tz+d7B5++JGw2Q1edVNT1/Cnn37mHnkktlx+acTHH39s61eqVMm3wtrWp8+H282xp59+2m78rVy50rfC2C1+/W6wMSYgkEUC0d943QCOphXhMPVkyrhxH7l58+a5nXfe2SYvWvS922+//a0Vo/I94TdUhSSlJzNnfmnL6bdYfwrJ8i82g38IIIDAOoFo+Ul5maOPPjpuM3jwe/53/lPL5+gJv2j+JZoHSpynCNRiXWPjLFxXnjnvvPNd9erV7YlejbFRseJmFq8aaykd69r1BtuuWlOr3JXs6eFomWDrratai/nocmpspfyJGhUpr6+nj3RMRR1HTGUH5aPyK3NoB1XWVHcvSmd33nkXV7VqFbdo0SJXpUoVd9NNN9sxhH/R/F80n6jy3UUX/cNapmvZgpw1X2XeF154wfJ3KuemIp+oCnf13Z9os9VWW2mTPm/3sPviiy82yNPG+sSf5Mvqn+fpj95WivxLlk/MW+6KjQem/J++c8nKc4pOx/78889ZmVd538SytX4n1YBu9OhR1nJfNkVtcBLZXd7miADp3foTnYr0Ltl1q7RfIZofVd1KeFJb6fSwYUNtfLPddtvdpus3gIBArghkfB/1+Z0IVXaFStPzzjvX/fDDYlep0ub+R/p5d+ONXZ0qdRTUH9b9999nfbbfdddd9gOuH2dd/Lfeeot77bW+ttyCBd/4DNd8F+3/XpVReixSGS09FqkwYED/eNzOrfVTYn+JlfSqjFdmoGXLw2296L+zzz7L78dX7oILLvAZxek+E3aRVRJrGSVaV111pQ3gqgzEiBHv+4q2k6OrWwb4lltu9vuxwp18cjv32WefuS5duuRZZp99mljfi0uX/mwFeB3vQw/9O88yiR/U35+Mfv/9d5/BaesHilyTuEiB+6eENiS6WnHZsp99BftP/tz8aPEU5djCBl955WU7v9pv9Zn9zjvvWMZdAz7pvKvfwxA++OADd8klnezGjUx32mlHO7dXXPF/toiWV+bs9ddfD6tYHG+88T/30kv/9QNd/mzH/eeff/jM+ubWV2L37s/Ysg8//JBlCsOK4UmBLbfcMkxyu+yyi+3b+PGfxKfxBgEJ6Jq4+uqr7LunSrLrr7/erV37l33P9P274ILz7WaRlnvqqSedKqUVrr++i31ndTNJhQ8FVdRpHWVilFHR91o3AhPDoYe2sO909erV/HXztm1DaYSCMlvqk1WFRT0NogLYbbfdZgNQFzUexTFkyBC7UaiKwILCueeeY2mt0kKFgtKI44473qcVP/jjXeELY0fFn2DZd98m1l3H6tWr81QMFLRd5iFQlgVUQAy/8WqRqN9SpRVqUBCCrkHd8N9+++19PuBku+ZHjnzf7b9/U8tf3HzzTX753nme/nvhhef9jbrvLAr9vivfo5CYf7GJ/EMAAQTWCZx//nm+8ne+vwF4vG98VNkqy/v2fdXm6nddrSJDHvuKK66w33rlX1RJr/y05mn9xLyNGgM88MADVsZSHuf999+3MW0U8ZFHHul+++03p0ZT6vI0VNAcf/wJVmk8d+5ca4C0bhfjL4llApXflF/q1q2bLaP3yscoP6+GO6qkL07Q8WpcIA0ye0GSMofiUpnjyiuvcH/++afdSKhSZSvXq1cvd9BBBzl16RoN48eP92W46+L5P6Xd5cuXs0WU5l922aXmUJCz8olyOuKIw+3mrJ4+V1k3etzRbRYln6jfhzPPPNNve7Udr56EjAY1YPv73492GjRWZafEPO0NN9xglfTRdZK911ho6lo0mk9UpV6yoONJLM9pOZW5L730EhsLSY3q9JsZLVtrGT31vNlmFa3x17x58wu8eaDlCbkrQHq3/tynIr179tke1qgr/EYodnVrpbgVfv99jU8Xv7X3oZL+X//6lzUu0fgh6jZVXeQQEMg5gbVlIEyYMGFts2ZN1/rMXp691Wef2Vg7dOjQ+HS917L+0e74tLC+b3Edn6Y3xxzz97UnnnhCfJri69jx4vhnvQnr6jWEMC18TvbqW0fYfviK/jyzL7rowrX+ByA+zWdcbTmfUbVpd9xx+9oLL7wwPl/7pOMJwVdkrT322GPX+gJ6mLR24MCBefY7rBN1eeONN5LuT4gkrOMzemGSvSa6F7Z/WimZo6YXZV0tFw3a/kMPPRSdtPa6665d6yvy1voMvE2Xqa/UyLNM165d7Xh9K9349NixdI9/1hud786dr17rxx2IT9f+n3TSSfHPYTlNzy906tTJvk/5zWd6bguEa2LBggVxiM8++9S+o9Hvlb6P+p6Ga3f27Nm2vL7jJ5/cNr6u3vgCXJ71FY/WnTJlSnw5vde0a67pbNOUdin98K2V7LPSJ833FfrxdZLF4yv688SjhcNy8RWLOS0xrVU8778/wrbjW8PFo500aZJN8zft4tN4g0C2CCReR75l4toWLQ5Z68flyXOIJ554ov3u+RtWNl3Xz+233x5fJuR9kuVVCpsWj4Q3CCCAQIKA8gnRfINmt2p15AZlMqVJxx57zNovvphhMUR/xzXPV5T6vM0QmxfyNonlgjvvvDNP/ltlOeVR3nvvPVtP/1asWLHWd921Npq/j8/0b5Rf8o2XopPWvvTSSxZPdB3Fq/S3oBDKeyENDelzYWUOHdf//d/l8ah9IzBLvwvanox8w7O1vvFQfD0/Bpbtd3S9/Jw7dDi10ONWPDruaD4xMX/Xr9+7a/3TC2tVPlUobj4xcV+1v9Ggz4nTwn4VtlyYHzt368tzKkNHy9azZs2y4wxla8UvnxB0TDpHBAQSBUjvmlrdl1xSnd4lXrfahqaF9FWfFUK6q3JyCEoz/A3J8JFXBHJCoMy2qA93VHQnP/r4ZXivR9wSQ+jKJExv0KCB3YUPn1P56jMJFl104FK1+lfLVg06qhZz+hs0aKANtPjTT0ts+dtvv8MeWwz7kjiIqx4hVCsQdf8SgrrvUfc/iSFYaLoebVdIbMlhE/0/tfbVY0UaeK6gUNj+lca6aokSDTpv6grH/5jao6syPfLIVtFFXNOmTe2zWlkUFvRoqR6zDUHm4c5umFbYa8OGe0aetChsaebnqsCOO+4YP3R1d6UW7WrZEw1qNRauXT1qvD7daBFdzDVv3tw+J17T0W5u9F5/06bFuutS3O/5brPUUk0hpE/JrpNoPOoyS4OChXhs5VL4d8QRRzo9Tq3uOkLwlfe+lfD+GTY4ddg7XhFIrYC6j1ArUrVcjQZdA/rdC9eqWsaXizW6tMVCtwTqPoKAAAIIpEpA+YRovkHxqrV2sqDW63vu2dBmhZaRYTnls9Wti0JIrxLLFDvssH2e/LfG2dhjjz2s68oQj7qprOq7kVEr+8QQ8ktq7R0NKjcohPQzOq8471W2VPpc3DJHGFg1Mb+WuG11laq8VgjqAlAhMZ+Y6Kzj1lMCRT3uZPm78PSmnubWkw2hO7Xi5hMT9zUcS2m+TpgwPk/ZWk/Ca3y7ULZW3lI+F1/8Tzd8+HDL++q7R0AgUYD0br1Iaad367eU953Kqkrjrr/+Bqsr840prZ5L5UMCArkkUDGXDjbxWFX5pL7xSiOon2UFPSoYMkSLFi1Ouqm9986bodTj7OrTWt3wLFkSq8APK/oWufY2PAIapm/sqx4/0iOORQkF7V9h62/MuiHu2M2LHtaXtx49VVAlRjSoolPd46hbm7xBXRWlPuiGUYMGe6Q+YmLMagHdcNMjfwWFkG4kfsdV0NWfKu8KCvvtt58f82JofBGlLe+/P9J3KfWFv+kX65YqPrOANyqYF7atAlYv8qxzzz3Xd0n2mh8T5AJbRwXGf/7z4iKvz4IIlGWBiRMn2HUdrazR8ajCRjf2NX6Lgn8i0MaT8S0ufaVDbeuKSulBYTfbbWX+IYAAAsUQCPkGjXHx449LrHySqnJIKBcoP6Lu7xKDblqqG9OrrrrKGjdoMOz8yishv1SvXt080YTxuTYsE+RZrNAPoaI9MT+WWOY48MCDrNvV7t27+y4KD3DqGlPrXnLJpYVuI7qAKg3lXNR8YrQxiOIp6nErf6du1EJQdzTqikZjtIXK7jCvoFftb4UKm6oN4PrynBpuORe5c+0/qSulWPe0zm723HvvfdbF5A03XG9jmCXrd7+gY2Ne7giQ3sXOdemkd+uv24K+Ud263WXXq7q7GjBggB8D8P98vveYglZhHgJZJ7Cpfk0zEk6t03faaadS2bdq1apZvNOmre/Tr3bt2jYtDBapgY2if5qpQZLUl5f6j37ggX+5E088ydYJ/7bddtvwNqWvVapU9a0MRhQaZ2H7V1AEG7NuNF5VVihoIN7KlWN9xasv+2iIZdpcqZ3f6Lb0Xq0bVUlCQKCoAhrUVTfI1OqnoKAB0xTU72o0aH3/aLKNkRCdnvherZv22Sf2pIye4lFht1atmr7v/M6+4u+9xMUL/Owfhy5wfipmavBo9aH/4Yejnfrc1sBrbdq0SUXUxIFAxguoxZBa/ukvGsJvWshHNGrU2PoG1oCFAwcOsqfsnn32OX6Homi8RwCBjRbQQKexfEMt/3q1T28GOo0dk4qgcoHGHFOl6pNPPmljZCXGq3E6dONSfZP7LhGsMj/xiaOwTsgvqZFUNMyZM8c+bmyZTy3jFRLLHJMnT84T/5577mkV3+orXfkulbFefvmV+NOStnAR/m1sPrE4xx2egND+qv9oNfK46aab/AC2Q4qwp7FF9DsV4inySilYUPlEja+mMQfy/nWy2PV7qkZzPXv28mOS3W3LahwYAgKJAqR360U2dXq3fsvOnlx6+un/uBdffNGu3ZtuujHpeGrRdXiPQLYJ5HRFvbqnadFifXcSesxGFWfRAnJ05PnEk68MVH4hPCro+2GML6LHPvX4pQZXCq3i4jPXvVHmT496ajBXVfzuu+++eRYJ3fc8/vjjeaZv7Ic99mhgA9BNnTolHlViRlczCtu/sHIYsC58Ls660XWSvdfAS8pw6aZF8PD9WOdZVN0H1KhR0x188MF5pm/Mh8WLN2zpE+KTW+KTEWEerwgkEwgV7+p6qaCg77gyS6EgGJZVJbZu+v3tbxs+/h2W0RNDahUVbiKFGwO6QahWWtG0LqyT7HXatGmWNmqgylSFZGmE4laBXK3TNIjaO++8awX4ctE+PlK1A8SDQAYKhIp4FRajQdfgYYe1dKERgCpT2rY92QaD1qBb6q4gsRV+dP3E98Xt3i1xfT4jgEBuCIQnV/3YTfEBXVNx5MqPqEyhQUCVfqnRgh+ja4Ooy5cvb2UiDY6tAWxPOeXUDZYJE5Rf0l9i3iaUCUIL87B8cV/zK3Ooi75omUM3H1TRra4b1DWpbjaojFncEPKJapVfUAjHnZhPLMpxT58ey98l5hPPOutsa+SRaJnffrz55pvul19+iec381uuONOXLfulSIvrd/ODD0ZucN7Dyr169bRuZfUbqe5i1SDkp58Kfho1rMtrbgmQ3q0/35sqvUvMj+q34cEHH7Qd2WefJu6ee+6193TtuP7c8C43BCrc4UMmH6q6WtAFq8eQVLGk9+r6RC0u1XWDPivEukNxTpmSd99915bVIzt77LGnPW7Yv38/f3dulfMD6PhuH0b41gJ3Wmbi//7vCrfllrFW2Zv5UaVfe62vxant6pHyhQu/tT4N69at6xYvXuz7cd/NtvfKK6849een/tH9wDtWaRwq57VAzZo1rVsJbU+PrId+tVS5rAycH2zJ6cdAhfF///tBn7lZZsegfVZCNGfO17616yB/PJ/5Rw+/sbj06I+6g1CcAwb0t9Yls2bN9K0d3vOJ2N1Wea2+E5WpSnQZN26cPTavR+RXrly1QYZRifG7777j3n77bfNShuett950ftAmy2wuXfqzeRW2f+p/Uo7KUGvZjz/+yLxloO5hZs/+yh/7F9ZS9tNPJ1uLYD3uqmMLfVca8Lp/euRJ/XjLWX0QPvbYY2716jV2/mSsxzzlETKzOm4/eJDZqXVOaD2jljhyin6H5KTvlc5b+F5ps3pEddSoUbYHKjhUrVrVztfcuXPsvAwbNtx3JTLEtWrVypbRtnXTpkuX6+0z/xBIFND3S9fDpEkTfXcVU30F9DtOBQe1IgvduiiN0lgRCsq0hOu0QoUK/lHiCr5AO9SubX1vdV2oUKSWQ2H8CW1Dfwt891jqS15p4QsvPO9atmzprrnmWotX3/VXXnnZ+jv1A0f7lgr/jV/X2j8FVeyrFVY0HmWYVGgL29I1q5sA2p4eN9Z1lXea82lMXUs7o+mRltU+5JdG2A74f9tss60d46pVK90tt9zqQldiYT6vCGSDQLJrRpXxur71m62ga+yaa66xm/t+QMT4YY8e/aHPo/Sxii5Vdin9UPoS64YtNo6L1o39xtWO/8bpd1NpyW+/rfbpzZf2u7jVVlXsuoxHzhsEEEBgnUDVqlu7N954w8o8Krf07t3bqfJceYSQb1i2bJmVZ7RKmBbKRMorhBuP0bxNyHuPHPmBL18t8mWpfpZnUL/IShuj5QL1e//QQ/+29E19iysPkSwor1SxYkW70a+y01dfzYqXCVRZrvRVIZSJVHacOHGCfzJx13g5LRqv9lvlh1B20hhjiWWOO+640xpSRMscM2ZMN6d+/fpbBbLSZ5WrVLYM3aFGt6P3WkZBeTeVb19//XUrS0XzeXktY3k2OYbjHjx4cDyfGMpC0eNW+TMxf/evfz1oT0r4AYNt+4ovbz7xRRuTQE8z6PyrrBbi0bnW78jEiZPco48+4q677rr4+Cp59/VbK+PqNymWb4zlc+Wf7HdQ5fIVK361bht/9OOyffTROP9bNdjGV0pWntthh9rW97zKY19+OdOX48Zbd0kqO6qsprLovHlz3Z9//mHn74knnvSV9R2sfGsHzT8E1gkUJb3T937993j9dagoEr/3K9fVueR6eqd8qv6i9TDyWrBgoU/7Bvjfl+V+LJTBVkckK92U1fWqcqPSmwq+S61QltV6BARyQSDjK+qvvvoqu4iVgVCjSrWs1A+7CqgKuuBjr8psTbSKdrXGVFCrdS2rBFUZIE1Xn+9//fWX3U3v3PmaeCW9llclujIgykip9bQq5e+8s5vFqwFNV65cadvTYD/KRKhLCWVWmzc/2CrDFEc01KxZyz9m95KvxF0Yr4RWiwXdHdRxaP2tttrSV9a1caeddrqtqq4lVNmujJoSKt1QUCbmr7/W+r65jrVuLk444QQ/yM8uVtCeP3+evylQy/o9lMWrr77i/DDI61zKWd+IclF8slCCp0xP7P36vVVF/SGHtPAJYUW7MVC9eg135ZVXOd0I0I9WOPai7N/WW2/jM9EVrdJRfR5qWzpuDX6pGxaffPKJb/GyvVPmNvHY1u9R7J0qLI477jjfcvhPn4H/zio2dW9JlQ0hBI/p06ebqR67VEa+YcNGtoji0HbC8ctAIVaBsb7bEc3XsitW/OqXjX2vdOw6D6tXr/YFhJVmU7furtaSMQxAe9111/pWQBe5evXqWbz8QyBRQNeg0iENiqZrUd/Ra6+9zrcMO8UW1XxV0uu7FmvBkPc6VSswXZ9KM1QA3HHHnew7p1ZBIajirXHjRlaQ1U0lpU1HHXWUda8VllH86gbnyy+/tBte55xztjvooOY+zi98QWw39/e/H+PXq+D3s4HPNK2wQq4eKW7d+iRrERbi0THo2tATSWvX/mWPEceePoqlz7rGlEaef/55dq0q3VCQga6z/NIIW8j/0w04DV6nlk+HHnpomMwrAlkloAovXSvht0nXjK5RPfGioG5t9Nt18MGH2E1qm+j/qZ9lVULpd1C/VVpHf/qdevrpp6wy6u677/LpxTyrNInmnVSho7RBlRbKh6gLHaUTBAQQQCCZgPK6LVsebpW0qnRq1+5ky0eoEnS33epbGWT58l98vmFPy+srvZk7d66la8rbqLI7pFFK76JlEFV8K02aPn2GL9fsZHn3ZOUClbvU/7zSO5W5Cgp77bW3lZG+/14Nur60NO7aa6+JdyWqfVqzZo1vRHWEbwSwuZWZNt98c9vHaLwqD8TKPnnLTollDuWpomUOxTF79tfWgEd5mHDsanSkm61bblnZV9bHuiOMbi9U1OvJa+2jBobt0qWL5cu0nKbl56z54bjVz7+Oe/fdG7hzzz3PnX76GZptITF/t+2229gTCrH+3GPLaH9DPlFlTz3loHKlzpNudCgfG+JZvvxX25biUWOONm3aWiTJzrvyuGqYprLgLrvs4pcrZ79ByfKOsd+zNb5cvp2P/wvr6lRPj6qiL7E8p++EGmVpXIBKlbaw756M1YXsxRdfbPuj/dfNHd1kUQM0jXGgJ9cJCCQKFCW9Uz2NureqV6++/w6T3hWW3unG6Btv/M//drRfxx2rn9KHP//80yrklW7ttVdjX24838qKdevWs8ackyd/6po23d9fyx2dfgcICOSSQDn/41W0UR3KsIoyDJ06dbTHD0MF7KY6HLXQ12PpsT7zYoXvTbXtbNjOAQc0y2i7W265xbobUGaagEB+AuqmQumQHoEmFC7wwgsv+Ir6QdbiXzf3CAggsF7gvvvuszEcBgyIjdeyfo7zN+eb+UEMH7CGCdHpvEcAAQTKqoAqWFWOe/XVvoWOy5PuYxw4cIB1Saa+ldUwKxp0DCqHhpuxifP0mXxiVIX3COSeQC6kd7l3VjliBIovULH4q7BGcQTUUr5ateo2SGz9+rtReC4OXoYve++997jNN9/MWrxk+K6yewiUCQG1uJroH0NXq2A9OUMlfZk4bexkGgTU/Z+6IWjQYA/rlk/d6YWKe7WGJCCAAAJlXUBd56mbPlVeX3DBBRlfSR/11lNPdersaE8d6qlFdYmhBhs33nhTdDHeI4AAAiZAescXAQEEogJZ36JeXceoD3kF9XvcqFFD9+STT0UNNsl7Pa4XuuTZJBss4xvRI6d6TEpdFWkgTQ24qT4FCQiUNYErr7zCjR07Nr7b5557rvUHGp/AGxO47LJLrVssdQukxyNDf/jwIIBAXgEV5tS1jSp+fv/9d5up8VQ0HsVFF13o1HUdAQEEECjLAmoMo7F4lCdQfmB9twmZf1Rdu95g/aSr734FDWKqwWU1Llq9enm7yVR6/sQTT9j4QOHIyCcGCV4RyA2BXEnvcuNscpQIpEYg6yvqU8NELAgggAACpSmgsUFUYN3U3ZOV5jERNwKlKaBK+lmzZvmK+epO48EQEEAAgWwSUAv0spwn0HhBCupvmYAAAggUJEB6V5AO8xDIPQEq6nPvnHPECCCAAAIIIIAAAggggAACCCCAAAIIIIAAAhkkUD6D9oVdQQABBBBAAAEEEEAAAQQQQAABBBBAAAEEEEAg5wSoqM+5U84BI4AAAggggAACCCCAAAIIIIAAAggggAACCGSSABX1mXQ22BcEEEAAAQQQQAABBBBAAAEEEEAAAQQQQACBnBOgoj7nTjkHjAACCCCAAAIIIIAAAggggAACCCCAAAIIIJBJAlTUZ9LZYF8QQAABBBBAAAEEEEAAAQQQQAABBBBAAAEEck6AivqcO+UcMAIIIIAAAggggAACCCCAAAIIIIAAAggggEAmCVBRn0lng31BAAEEEEAAAQQQQAABBBBAAAEEEEAAAQQQyDkBKupz7pRzwAgggAACCCCAAAIIIIAAAggggAACCCCAAAKZJEBFfSadDfYFAQQQQAABBBBAAAEEEEAAAQQQQAABBBBAIOcEqKjPuVPOASOAAAIIIIAAAggggAACCCCAAAIIIIAAAghkkgAV9Zl0NtgXBBBAAAEEEEAAAQQQQAABBBBAAAEEEEAAgZwToKI+5045B4wAAggggAACCCCAAAIIIIAAAggggAACCCCQSQJU1GfS2WBfEEAAAQQQQAABBBBAAAEEEEAAAQQQQAABBHJOgIr6nDvlHDACCCCAAAIIIIAAAggggAACCCCAAAIIIIBAJglQUZ9JZ4N9QQABBBBAAAEEEEAAAQQQQAABBBBAAAEEEMg5ASrqc+6Uc8AIIIAAAggggAACCCCAAAIIIIAAAggggAACmSRARX0mnQ32BQEEEEAAAQQQQAABBBBAAAEEEEAAAQQQQCDnBKioz7lTzgEjgAACCCCAAAIIIIAAAggggAACCCCAAAIIZJIAFfWZdDbYFwQQQAABBBBAAAEEEEAAAQQQQAABBBBAAIGcE6iYriOeM2eOGzFiuN98Of+3NmE3kk1LWKTE6yXGo89F2V6y9VI5LRP2IZXHk41xpfIclTSuVK5XlLiKskw2nuvCj2m77aq5pUt/KnxBlkAAgZwSSJ42KC0tbkjMG2n94saTLI7ixlOacURNkh1bdNuJ86PzQjyFLVPY/GQ2idvJlDjCMUdfE/ctOi/6PvGYovM2ZRzabn77UtT9CPueLJ5kcSRbLsSRO6/J06ncOX6OFAEEckeA9C53zjVHikC6BerVq+9atWq10btRbq0PGx1LCSJYtWqVW7JkSQnWZBUEEEAg/QLlypVzaUo+03/w7AECCOQrQNqQLw0zEEAgQwRIpzLkRLAbCCBQ6gKkd6VOzAYQQGCdQOXKlV316tU32iNtFfUbvedEgAACCCCAAAIIIIAAAggggAACCCCAAAIIIIBAFgjQR30WnEQOAQEEEEAAAQQQQAABBBBAAAEEEEAAAQQQQKDsClBRX3bPHXuOAAIIIIAAAggggAACCCCAAAIIIIAAAgggkAUCVNRnwUnkEBBAAAEEEEAAAQQQQAABBBBAAAEEEEAAAQTKrgAV9WX33LHnCCCAAAIIIIAAAggggAACCCCAAAIIIIAAAlkgQEV9FpxEDgEBBBBAAAEEEEAAAQQQQAABBBBAAAEEEECg7ApQUV92zx17jgACCCCAAAIIIIAAAggggAACCCCAAAIIIJAFAlTUZ8FJ5BAQQAABBBBAAAEEEEAAAQQQQAABBBBAAAEEyq4AFfVl99yx5wgggAACCCCAAAIIIIAAAggggAACCCCAAAJZIEBFfRacRA4BAQQQQAABBBBAAAEEEEAAAQQQQAABBBBAoOwKUFFfds8de44AAggggAACCCCAAAIIIIAAAggggAACCCCQBQJU1GfBSeQQEEAAAQQQQAABBBBAAAEEEEAAAQQQQAABBMquABX1ZffcsecIIIAAAggggAACCCCAAAIIIIAAAggggAACWSBARX0WnEQOAQEEEEAAAQQQQAABBBBAAAEEEEAAAQQQQKDsClBRX3bPHXuOAAIIIIAAAggggAACCCCAAAIIIIAAAgggkAUCVNSX8kn8+uuvS3kLRI8AAghsvMDq1as3PpIsj4H0PMtPMIeXVIC0ISlLnomkDXk4+IDAJhXg+tuk3GwMAQTSKEB6l0Z8No3AJhSouAm3ldZNDRky2H3++RQ3a9ZM1717jxLvy+DB77mpU6e5mTO/LDSeiRMnugceeMDdf//9rn79+iXeZlFWHDt2jN+vqbZvjz/+eFFWSbrM8uXL3dChQ92UKZ+72rVru44dOyVdrqxM1DmYOHGCO+GEE91OO+2Ukt3u0aO7xVPWbVKCQSTFElDmavToUe6zzz53W29d1VWqtIWrXr1a2q+zYcOGOX2v77//gVJPq4oFlkEL69x17XoDRhl0TrJpV0gbyu7ZJG0ou+eOPS9cIFXli8K3VLIlilrWmjlzphs7dqyV30455VTXrFmzkm1wI9YKZZJmzQ5IyfaLUyYtzm537tzZ1alTx3Xp0qU4q7EsAmVegPQudaeQ9C51lsSUmwIZ36JelUfduz/jnnnmP+4//4n9FfdUTZgwwX388SdWSV/cdaPLK8EZP368ZfKi05O917KdOnV0t9xyyyap+BozRhX103wmdEyy3SnytFdffcVNnjzJ9evXr8jrZPKCqqTv0aOHu+uubinbzaZNm7q+fV+z85uySIko6wVUmXPjjTdaJf3ZZ5/lmjTZ173xxv/SftyqpL/llptdt253bZBWKR1TGqzX4gTd6OvTp48bOXKk082/dIX+/fu5lStXFmvz+e27brbuv39Td9ppHYrtUawdYOGcE8iltGHGjBn+9/NVN27cOLdixYq0neuSpA357TtpQ9pOIxveBAKpKl+Uxq4Wp6w1aNBAN336NDdkyJDS2JUixRnKJHrd2KBjL2qZtLjbUgW90mmVYwkI5JIA6V3qzjbpXeosiSk3Bf6fvfOAk6rW/ngoFkCRqgIWQEQR7FhARUVsz4K9F8AnKBZs2HvvXf+iPp8iKipFRAVBkKLYUJAqTaQqSpX2VHD/+Z01w91hZpmtzMx+8/nszr25SW7yvXMzJycnJ2mvqNeM/rx5893LL7/sfv55vqtVq1aBn1Tz5s3dbbfdVuB88RlkfXHrramV06NHD28l29Er4/aIL6ZEzrt2vd41a9a0yGVffHFHr9S+t1DlaJKgS5cuhcpbUplktaLncNtttxfqFlJS6i8amjffz1177TWmrHvssceilziGQFICd911p1f07uUef/xxb0nV3J1yyilJ0xbHheuuu3aDxUhR9tRTT7oOHTq4XXfdNZZ+4sSJrnPnS82CXIPBq6++yl11VRf3yy+/xNIkOtB1pbvsssvciBHD3e233+YuuqiDkyKytILu+9xzz7rLL7/M3Xnnna5Hj9dTunUqdb/++uvdQQcd5MRW1nkECBQHgbLQN8yfP9/eSSl+hg4d6m644XrXvn27jOgbUqk7fUNxvAmUkY4Eimt8URJtK8hYq0uXq9yZZ55VEtVIucwwJtFnUUNBxqQFvZfG3k8++RTjnIKCI33GE6C/K75HSH9XfCwpqWwSSHtF/fHHn+Datm1rT6dt25Pc6aefnvZPauTIke7XX391F1xwYdrXtTgrOGHCBPf5558VZ5FFLkuCrFzUFNbtTTJLYrnSufzyy12vXu+6n36aWeR6UkB2E/j666+dlN/FMThLhZQml2TNvqEgy7KqVauu11fJwv6PP/7wbrA+MRdfr776mpOySq688gu6rnRKLxdjb7zxptt22zo+34P5ZSvWa7///rt3czbO/fXXXwUqN5W6V6hQwU9e3OS22WYb99ln6dXXFaixJE4bAmWlb3jkkUdMLsrEviGVutM3pM0rRUXKCIFMHGuFMYk+0z0cfPDB7soruzitPlq9enW6V5f6QSCrCdDflezjpb8rWb6UXjgCFQuXLT1zSak6ZMgQN2fOHLf11lt7Bf+J5l4ivray7nz77bdNwSor0g4dLnJbbbVVLNmKFSvcf/7zspsx40dXu3btpOXEMsQd9OnTxzVvvq/bfPPN81zZULmq/+DBg9zMmTPNuvXqq6/Jk18nY8eOcQMGDIzVXVa5O+5Yf710spJV/XfZpbE75JBWG7Ts79fvPVMk/vbbwqRK7fzqF1VaydWMQu3atdzJJ+daDSvv0KFD3OzZc9wOO+yQ1O9h8JH/9ddf+UmZM9ySJUu8Ze4I9/vvy9xuu+22ni/vSZMmeSHyA3vm1atXdy1atHDHHntsjIf2JhgzZoyrXl1+wHOXcA4fPsys+GQxUqdOXVsGq70LTjnlVLfnnnt6xeK2ll9WfyGENjVp0sTzPMSiW7c+wj377LPuww8/MgvikJZPCEQJqL/Re1utWnX/bv9oKzSksM9voKZ9JmbPnuXKly/vGjVqtN73Pr++TsJcCNHVIIn2VND7cdxxx+fpq7QyRn3oRRddFIoxlziaNH366af8Uuuv3X777R+7Fg50X/nflxV72JNj++23dxdeeKEtn1ZdEtVB+QcOHOiksJw3b66rV287X/5+sfd44cKF7qOPPvIMx9pqBPU1moTYeuvaCctTPfWnoH44lVCQumvvjmbNmrlPPhlsKxFSKZ80EEhEgL6BviHR94I4CGQKgehvd/36DdwJJ5xgv4+q/9KlS82Npn7XNcEtGeDnn392m2yyiTv66GPWk4H+/PNP17dvH3PnUqlSJSf5QRP/ynPzzbf4sc6OebDkN9Z65ZVXTIaqWLGia9mypTvxxFyDrzwFRE6kjP7uuzEmgwRleuSyW7Zsmck3I0aM9LLcVm7nnRv7Mk/0+wxtZslkHCD5Z/r0Ga5Jk129DLSTa9OmTbQIcwOo8ceUKVPdlltuGRuTSJ7Rb0G9enVdxYqbmIylcWD8mCQUJneFEyaMd3LFVb9+/RC93qd4T58+3eTIVq1a2V5dShSVC3UuuUz77yjUq1fP9k4K46XDDjvM5L6vvvrK6ZgAgbJMgP6O/q4sf/9pe+kTSHuL+lSRfPrpp6YM2nTTTVy7du3c3Llz3B133JEw+y233OwFl3J2TX6U5eLhf//7n53L/cGll17i/RhOMgWT/BnKLcSAAQMSlhUfqfwS1lq1OjTPpfhyJ0+elKdcCYldulxpG7hKyTR06KdeyX1SnjIkXP373//2AuNSd9JJJ3tf19+vp/Deffc9vPB4gldwLzUhVwKdrFlD+/IU+M+J/Lffc889ZoGq1QsSluNDfvWT0lDXQ1i5coUXOmc4Kf0VdC3Xz2E5Lyge6ycEJqzXtpD3rbfe9ELki14J9okXZqe4fv36+c02a9qkg+KjlrnDhw93l1zSyVvPfm/PfLvt6nkXN7e6K6643IpTeing3n333VC8ldurV2/vGuM5v2fBdHffffe6tWvXuE033dTdf/99th+CEj/++GNegf9xLN/Chb/ZceXKlWNxmnBQ3aS4JEAgGQF9lxWWLl0SS6IJqGRBA10pgc8++xw/cbSXvQ9RhXN4n5L1dR9++EGyovPEq0+S8vuYY47JEy+FuUJQdoeLYWJh4cJFISrP53fffWfnyfItWpQ4n/o1WfCvWrXSnXfeeb4f+tPe43feedvKu+mmG22gKJc22uj63nvvsXc+UT+Vp0IFOClo3Rs0aGiubzamj+0CNI+kaUqgrPQN2idIIVnfoL4oUUiHvqGgdadvSPQkictGAvHvp8Ym7dpdaPvTqL3PP/+cudbr1auXTeBLptdEt+QOjQmiRgUyTLjyyiu8EdJPZjzQqNHOVs7BBx/iDW2qm3I/yjDZWEsT+xrDBRlKhjd33323n+z/MJo9z7HGFdqXS0YRkr9k/KOxRDRcf31XP2nws3edc6ZFK8+cObPtWGOgyy7rbMp5TQr07/9BwtXFb731lt8v7SuncU4Izz//vN+g/gFjNWvWbDMS+/PPv9wWW2zhNFbVHm3RoH3EpFSXkl4K9uiYJJrulltusXZIQa9w++232zhPxzJcev/9970cNd6MIhSnMeWKFSvNSCPqljGMc7R3GQECZZkA/R39XVn+/tP2jUMgayzqpRxWOP/8C0x5KmFLlp2zZv20nsX5Cy90i1nQy7/hk08+4bp3f82Enu7duzstYe7m3TYoyF/7WWed6caPHx+z8LQLSf7NmjXLrkgYjYb4ch966GFTVodyJeg1bryLnxxoZ9nkjz9YcStCwmefPn29Mv8q38bzLY3+vfde39ixDrQR4oMPPhSz5OjTZydTQEupf8ABB+RJqxP98EgZ/uqrr3ormN3tuqwm4je5zK9+UuDpT2UpxK8EUF5ZoGpzIoW1a9cmfTYSPPUnxaQE8WeeecbyyPd9167XmaL9qquuNisWPbNDDz005lNfdZg58ydblSBlY7AIiU6yyMJFf7mDhBHugQcejFn/qv4SsBWuueZa+8ydYHBmzWMRcf80KJeVNAECyQjoexjeDX238wvy516xYgVvVfaeJdN3uly5cjZxpDKUX++TQrK+Tu9/KvdTX6WVRzVq1LDywj9NsGmlSXwI7qMWLFgQf8nOFy1KnC8k1iA3Pmjgrr5R77SU9ApaAaRl1orX4PGll162NutdlGJz4MDcCTRZihVXKGjdgz9/sQirB4qrLpRTdgiUlb7ht99+TdinhCctV4HxIV36hoLWnb4h/klyno0EwvspuT74fddv9/HHH+/HE/81N6WygpflvH67tYK1Y8c7DUWbNkfapuwyagorVKW8nzFjhsnkUswrjB79jSnr//vf/9p59F+ysVafPr39CtzfvSI613hIFuca5226aa4laLSMcDxp0mS/YreJO+eccyxKlvXapDUEyVz6u+OOO60dkst0/yAnSd466qijY2PESpU2t5UAIX/4TDQm6dy5szcW62xjngkTxtsq3Ro1aloWTRaMHp0r7yniyy+/dI8++qjfI+s6b8hxtqVRXcI4xSL8v/ff7+c+/nigyZFalaAJUk2gyEBMQS5kpYDXfkJaqbz33vv41QTf2dhMY96wSsAS+38a5yST+0IaPiGQzQTo7+jvsvn7TdvSl0DWKOoliESttYIAtXDhovUU9VE3N3vttZc9HVkyKEgwlCI3KLoUp7IWL05sDarr0TBt2jQ7lVAaDYnKbdnyoFi5EgCjIdeXde5kgeK1rFJW3RKqQpCLl6iblxAfXW4pywhZin///diEinptiLjTTo1iSvpQRvznhuoXnz56Hp83v2cTzbfFFlWip36p6c5OKyfmzZtn/rM1+XDuubnKvZBwn332MUV9Mgu9kE6fGgxElWxiHp0ciaZNdrzrrrvYCoFk14mHQKoEpBDSdzoMekO+Aw880A61/FtB71P0nUr1fbLMkX/qq4Kbp0i09TN16+adaIxe15L0REEDufzyacVLfNBgV6t9Qj8cruu91HJwvccaUIZwxhlnhEOzfoudFPGgoHWXCyyFFSuWF/HOZIfAhglket+g1TT59Q1SJsWHdOkbClp3+ob4J8l5NhKQYl2/3cccc2ye5u29995+BfJH6/12S6Ecgn7fdR6U7SE+/rNWrVrewj7X+Cn+WrKxlibz5TovBK16jSq7Q3z087XXXoueerloG+9uZ34sTnWV2x1Z6p911tmmJA/GXEokJf0DD9zveay2a9GxaKyQFA5k0FSjRq6SXsnVL0YNjUKbZaCUX5gwYYJ393OQPYeQTpb+0dXFMty67rquVu/GjXf2rge/cg8//Mh6Snrl1zinOA0jQp34hECmEKC/W6ePSr/+biL9Xaa8SNSzwASyRlGvlsslhPyZz5492yzQU6EhwUihQoXy9iklsHPl7Dj8k3W+cznhNN/PoPiSoBTKVoZE5eZeX1euLEi1GevixYudBofRMHfuXDuNCrvR64U9lpVIsMzYUBn51a8k84ayw+TFmjVrzPWF4jUoiAZNUmhJqnxj5g3rOOeNL9qZLH939r4qCRAoKoEFC3KtSuO/0xrU6i/qLqcwfV18/eQnVu//H3/8kWdwpknGqDVZyBf6IO09kSgkyxfSasVQfAiTDw0aNMhzKfSd2rOiNEJB6x42VtO+AwQIlDSBbOgb8lOWpXvfUJC60zeU9NtA+elA4NtvR5tcEjV8Ur2kRJaivqC/3TJCkkwiI6kDDjjQxkySD3LHX+u3OFh9R8da8vOuvxtuuHH9DPnESAZ67bVXvcX6V2Y8pTFYfLj77nu8y8xn3WOPPWr7bbVv396UQ0p36qmnmhW/rn/88ceuffsO/q99Urc0uWUXfEwigyuNAeMNweLr+ssvC/KMP8N1WdJHg+qt1YQyUNJKTK2wTBTUp0UnEBKlIQ4C2UyA/i6d+7tf6O+y+eUr423L1U5nMISw5E/CnVzdSMklgerYY/9VoFYFKyj5Bfzrr7/MbYqWKa7765RSeVKoKcgPezRsqFz5HHzppRdtsx+5xdEGj9FQrVo1O5XFbXGGLbbY0m/Au27T1GRlb6h+yfIpPj6vLFIKE/RDqSBhslKlynYcfPzaif+XOyHikm6IG9LpM6fgcnI0ux3LnUd45utdJAICBSBQtWpVS629F6JBm6lp8jFYlms5dFH6ulB2ULh//vnnIco+a9WqbdZwGvBGgyYRFZJNTCXLp4GrQuPG609ohSXuWjEUDXJhpRDvQswiS+BfQeuuZ6IQr6QogapRJARcNvQNslCN71MypW8oSN3pG3hhywKBKlWq2Psc/04HGbygv93ySb/HHnv4je0rmTtO7enTufNlNgZLxDO47IuOtbRxrEI0LlHeaJyU0BpHfv/9OHN9I0t5jQHjg1YPPP/8//n9cp621XxXXnmlyUlKJ4MHKeblslCugLRv1rPPPhtfRJHPtQGt7hX6mGQFajWyfMqvG7+GsWzecWzv3r2d3AodfPDBftx8l0vkgkz30DinevXcMWiyexIPgWwmQH9Hf5fN32/alr4EMlpRP336NBMghFcWAbK80AaMUgjtueeeKVEPSwGDslXC5fDhw9YbUKZUmE+kcuQTUb4Wo0HlStGVzMpECmf5ctRmriojvv7BUn/QoEHRYot8rCWPM2ZMdxMmjI+VJQuV+LCh+kXTxwuR8XkD62ieVI617FM+MDVpEXiETSBDfi1Pk9KtRYsWISqfz9Q09cHqN1FB4tasWdNEl4iDQIEI6DstxfWYMWPy5Bs27FOnVST77be/xWspdKp9Xfy7GC04KNxlpRUNBx10kJ1qM7YQ1G/JFY2WU0fdVGjQGCxIk+V7zVuq7b///q5p0/Xfk/AehyXd4X4TJ060dz0MxkN8cX4Wpe5iJqt/FPXF+UQoKxmBbOwbli1bZkqiTOwb8qs7fUOybzHx2UQgKOLlNz0aCvvbrc1epeTXflRPPPGE35z1clPcR8uOHger8uhYS/2k9tLp2zfv3l3RfPHHkyZN8uOfCd646xhze7rNNtuYRXw0Xb9+77lHHnnEoiQDBYv9sKG9DCe0ylGykVwXyupdfURxh8A8asyR6D5bb72NrYqUjJMsaFPbRx99xLN+0m/i28UbP1XyLhXvsBWW8Xk0zolf9RifhnMIZDOB8O7R3zlHf5fN33Talm4EKvgX7s50q1S0PnL3IGFDSm75OB058jO/oeBg9+GHH5riSErf1q1bW5a33nrLXN6MGDHSvfPO2+7vv/92q1atNp/l2rxIgpSClLlTpvzgy/3OW0c85f30XRfzs7jttnW8hfkQr6wf7tNMNWFHaWTJrvtMnjzZNvRRObKyynXHorN14bfffvM+EUfbElDNwiqo3MGDB5sPfFlb5G4K9IhfLrnMypAyeN68ubYxqRRxY8d+7+bMmWPtUVu1yaw2nh04cKD5aZdyXZsF3XffvaYwkrWHLFuCYBbq9cUXX9gyVAmOYiE/i9Egwfb99/v5TWnf8+352SYp+vbt41auXGl+o5csWWoTB1LG6Z4//PCD5/6pr9+YmIsh1U98tWxVG9NqGanqr42iJNTmzTvMt2GA+bbUBrkqS3njgyZeJDiKu/z7a1PZefPmu3//+9/Whnr16hmPILCq3Q899JD5c5QlS9j4cuTIkcZJ7VcacRGnYB0cfYbffPO1uU5SXeT3W9YrK1eucK/6jXaXL19h3AcPHhT7vuneUoR27Xp9fPU5h0CMgL5v0XczfLfiv5v773+AbWSt/i3k0XvQp08fs4zSfhMhxPd1el9lBTZt2lS/Kdl+sXdxxYoVtsG03jNZTUWDlMwTJky09/qYY47xm61tapfVJ2jPDvWh+tQG1W+++Ya91xdffHHs3XrqqSd9rIPZswAAQABJREFU/3OfKatlCRfNF+r/mlfSqz/o1OmSWL5oHfQea5l29+6vWbTe0WuuucaWYyuP+ivto/HFF6Ps/dVvQHiPo+VEj9Wv9Ojxuu/vP7C8lStXsc/oZtpFrftLL73kNwM/xfbNiN6bYwgUhEB4T/SdVigLfYM2ZZs16yf31ltvmmxQlL5BzCRLqS8tjb4hlbrTN+ipELKJgH5TNfYJ/dSOO9a3iXTJJxpjKITfbk3qR32+B7la72fo3+Z6V54jRuSuHAwy+O+/L7eJOxlPST7XeE1/uq7xU1hVFLjWrl3bxkcaF8ndjsZaFSpUMJlB4yS9h3PmzLZ6PfvsMzYmk2vMaH+h8Y3kItV92LDh3qJ8gW1Cu9DvBzZz5sx/5LCZZkChushiX9eeeeZZX6dtvAX+uVYdXVuxYqUrV66ckzGVVkdL6a06xod4uU9jEsk3GvdpnKJxWHAFpnoF5krXtGkzz+Zz179/fz8O/sQmNrp1e8FWGOf4JcKaOFi2bKmT0YR+WwYMGOjHbJO9/DPFxlDByEOfUtKf5Vc3a6ykSQ/Jg2+/3dNkJclsoQ6Mc+KfIOfZToD+rrr1vfR32f5Np32ZQCDtFfWvvvpfr2Be5bRJqASRTTap6P3+VfH+8qqb8CbhQgKM/iRsfP31116oqmFKWwltEqoOOeQQEzqk+K1UaXPv63mxKX1lmX3OOWd769QTY89KQosUZnIJI4Fp7do15oamY8dOJjBJyNN9cq05yplgFcv8z4EESime5s+fF1NCh3LXrl1rAmCVKpXtvmeccablOuyww0x5rUkElX3XXXeZEPr33zm2UZHcXvzrX//yFhs7eGHsL68kn+WFwK3dFVdcYe5+evZ8y/iIg3zsN2/e3Oqr8kKcWOQer6uxlGtSpleoUNEmBmrWrGXWFRL2ypevYOwlPGpDyypVqhhfCah33rl+/apW3cqejwR6beAkC9pGjRqtl/eaa641f9tVqmzhVxEcHXPpsa5WuSskpDxcs2atcdQkyY033pRHMRZ4yCJGCkW5L7rjjjv9xke5Gz1qEKEf3ND+sPeABgHrnqGz60q7cuUKf7yvVWPLLatamj/++NMU9hL469ff0a94OMnapkTXXXetWd5gaRJ9chzHE1j3buq7Vc4GnOpbtNQ4bByrAZ6+p1J4633U93ny5EmuXr3t7Dt2+unrNlFVOn1/o33d5ptv5ieTfreVJFJuh3dRSm69i7vvvnvCzVf//nut69Wrl5/UXGt+YUPdjzjiCDtUP6DJUg1mtfFYdDWMJhxVj112aRwrO+T7/fffbRl1onzhHuEzbIymjeXmzp3nB5ktbZDbpEnuxtlani1uejf1GxBYhfzxn+p/xFcTbWKlwXJYEq/6KhSl7prA0AoATSgQIFAUAmWxb9CkolwstGjRYr0+JZ7lhvoG/W5LPtR7nvv7nlgmC+UWtW/YUN3pGwJpPrOJQI8ePXxzcmUUfVauXNl++zUuUtBGo5K1W7Ro6Z566imL079kcrUm/+vXb2AW6JI99tprb/tN1e+2xgT6nQ5/UlTLNV4igx6NgeLHWrJqV79Rvnx5G+dJXmjd+ggbK8X3F5JtJFdoo1WNF2WItPPOO9tYY/LkH5ys6+XiRvKM6jtz5o8+zRR3+OGHuQ4dLvJueja3tsq1qYylND6UixhZqId9dmIw/uGRaEySO07LHXtookP9mZT9CmFMIu4aB2qyISfnb2+YscZ/Om8wcLKv59ZmEKFxXKtWh3j3oNv4ceNRZnwhpqp/q1aHuuuvv8HGhVLeazynuqjeCpKJJH9qFWOog+IZ54gCoSwRoL+jv2vQoEFZ+srT1jQmUM4rPlLz/5HGjUjHqmnA9vDDD//jIzCvX8B0rG+61al5833Tmt2tt95qFijyR0mAQCYTePHFbjagfu65572y/oBMbkqJ133ChAnmz/Y//3nFTwjuWuL34wYQ2JgE6BtSp0/fkDorUkIgSmDu3LnupJPauquvvsade26ulXq4rj5Iynr5jk8UGGslolI8cZ07X2oW9zfffEvxFEgpEICAN0iiv0vHrwH9XTo+FepUEQQlQ0CW8jVq1LSNVBs23MmsIErmTpRa2gTuv/8+b6myiW0aVdr35n4QKG4CwSrusss6++XhyX2aFvd9M608WeO2a3eh+7//ewElfaY9POpbKAL0Dalho29IjROpIJAfgdmzZ5sSS1bdeqf0Jyt4rTBOFhhrJSNTtHhNkFSrVt2hpC8aR3JDIBkB+rtkZEo/nv6u9Jlzx9QIYFGfGqdCp5IfQS1VJKRGQEJ57969vI/qRba8Vm4revfuk1pmUkEAAoUmoGXg2syWkJwA/XlyNlzJXgL0DRt+tvQNG2ZECggkIyBFSf/+H5hPeqXRnldyZ9m+fQdzX5osX4jn/Qsk+IQABNKdAP1duj8h6geB9CCAoj49ngO1gAAEIAABCEAAAhCAAAQgUCYJLFiwwAx15CteynoCBCAAgWwlQH+XrU+WdkGgeAigqC8ejpQCAQhAAAIQgAAEIAABCEAAAhCAAAQgAAEIQAACECgUgfKFykUmCEAAAhCAAAQgAAEIQAACEIAABCAAAQhAAAIQgAAEioUAivpiwUghEIAABCAAAQhAAAIQgAAEIAABCEAAAhCAAAQgAIHCEUBRXzhu5IIABCAAAQhAAAIQgAAEIAABCEAAAhCAAAQgAAEIFAsBFPXFgpFCIAABCEAAAhCAAAQgAAEIQAACEIAABCAAAQhAAAKFI4CivnDcyAUBCEAAAhCAAAQgAAEIQAACEIAABCAAAQhAAAIQKBYCKOqLBSOFQAACEIAABCAAAQhAAAIQgAAEIAABCEAAAhCAAAQKRwBFfeG4kQsCEIAABCAAAQhAAAIQgAAEIAABCEAAAhCAAAQgUCwEUNQXC0YKgQAEIAABCEAAAhCAAAQgAAEIQAACEIAABCAAAQgUjgCK+sJxIxcEIAABCEAAAhCAAAQgAAEIQAACEIAABCAAAQhAoFgIoKgvFowUAgEIQAACEIAABCAAAQhAAAIQgAAEIAABCEAAAhAoHAEU9YXjRi4IQAACEIAABCAAAQhAAAIQgAAEIAABCEAAAhCAQLEQQFFfLBgpBAIQgAAEIAABCEAAAhCAAAQgAAEIQAACEIAABCBQOAIo6gvHjVwQgAAEIAABCEAAAhCAAAQgAAEIQAACEIAABCAAgWIhgKK+WDBSCAQgAAEIQAACEIAABCAAAQhAAAIQgAAEIAABCECgcARQ1BeOG7kgAAEIQAACEIAABCAAAQhAAAIQgAAEIAABCEAAAsVCAEV9sWCkEAhAAAIQgAAEIAABCEAAAhCAAAQgAAEIQAACEIBA4QigqC8cN3JBAAIQgAAEIAABCEAAAhCAAAQgAAEIQAACEIAABIqFAIr6YsFIIRCAAAQgAAEIQAACEIAABCAAAQhAAAIQgAAEIACBwhFAUV84buSCAAQgAAEIQAACEIAABCAAAQhAAAIQgAAEIAABCBQLgYrFUkohCpk5c6YbOnSIz1nO/+XElZAoLi5JofPFl6PzVO6XKF9xxqVDHYqzPdlYVnE+o8KWVZz5UikrlTTZ+Kw33Kbq1Wu4JUsWbzghKSAAgTJFIHHfoL60oCFeNlL+gpaTqIyCllOSZUSZJGpb9N7x16PXQjkbSrOh64nYxN8nXcoIbY5+xtctei16HN+m6LXSLEP3TVaXVOsR6p6onERlJEoXyig7n4n7qbLTfloKAQiUHQL0d2XnWdNSCGxsAg0aNHStW7cucjXK5fhQ5FIKUcDq1avdokWLCpGTLBCAAAQ2PoFy5cq5jdR9bvzGUwMIQCApAfqGpGi4AAEIpAkB+qk0eRBUAwIQKHEC9HcljpgbQAAC/xCoVKmSq1mzZpF5bDRFfZFrTgEQgAAEIAABCEAAAhCAAAQgAAEIQAACEIAABCAAgSwggI/6LHiINAECEIAABCAAAQhAAAIQgAAEIAABCEAAAhCAAAQylwCK+sx9dtQcAhCAAAQgAAEIQAACEIAABCAAAQhAAAIQgAAEsoAAivoseIg0AQIQgAAEIAABCEAAAhCAAAQgAAEIQAACEIAABDKXAIr6zH121BwCEIAABCAAAQhAAAIQgAAEIAABCEAAAhCAAASygACK+ix4iDQBAhCAAAQgAAEIQAACEIAABCAAAQhAAAIQgAAEMpcAivrMfXbUHAIQgAAEIAABCEAAAhCAAAQgAAEIQAACEIAABLKAAIr6LHiINAECEIAABCAAAQhAAAIQgAAEIAABCEAAAhCAAAQylwCK+sx9dtQcAhCAAAQgAAEIQAACEIAABCAAAQhAAAIQgAAEsoAAivoseIg0AQIQgAAEIAABCEAAAhCAAAQgAAEIQAACEIAABDKXAIr6zH121BwCEIAABCAAAQhAAAIQgAAEIAABCEAAAhCAAASygACK+ix4iDQBAhCAAAQgAAEIQAACEIAABCAAAQhAAAIQgAAEMpcAivrMfXbUHAIQgAAEIAABCEAAAhCAAAQgAAEIQAACEIAABLKAAIr6LHiINAECEIAABCAAAQhAAAIQgAAEIAABCEAAAhCAAAQylwCK+sx9dtQcAhCAAAQgAAEIQAACEIAABCAAAQhAAAIQgAAEsoAAivoseIg0AQIQgAAEIAABCEAAAhCAAAQgAAEIQAACEIAABDKXQMXMrXrJ1HzUqM/dhAkT/N9E9/TTT6d0kx9//NGNGjXKjR79jXvyyadieb799lu37777xs43dDB16lT39ddfu3HjvndnnnlWgfJuqOwNXU/Whg3l4zoEIFB0AqtXr3a9e/d2tWvXckcffUzRCyzGElKp2/Lly92gQYPcpEkT3TbbbOM6duxUjDWgKAhAAAIQgAAEIFA4Ai++2M1Nnz7dLVu2zLVr1861aNGycAWRCwIQgAAEIAABCJQCgbRX1EvZ/e23ow1FuXLl3OGHt3aNGjXKg0YC2JtvvuWOPLKNV3TVLpKS6PPPP3dz5sz1ivfP89wjv5Mzzjjd7brrru6HH36IJVOdXnzxRffII4/6Oh8ei8/vYODAAW7u3Llu6NChpqjPL21xX1Mbdt99dzd+/PjiLpryIAABT+Crr75yI0eOdNOmTXVNmzZze+65pzv00EONzaRJk/wk3xM2OZduivpU6vbmm29Yv6k+rGPHjjxvCEAAAhCAAASygIDGMzk5Of/85Tbo0ksvLfGW9enTx4+rJrtff/3VNWzY0B100MGFMmA6//zz3Jo1a9x1113n3n33XdetWzcU9SX+9LgBBCAAAQhAAAJFIZD2rm9kkf7zzz+b0rt///5OiqD40KdPX7dixXJL16zZ7vGXC3Tetev1rlmzpgXKM3r0t+7qq6/Jk+f440+w819++TlPfH4nV17ZpUQU9AsXLnQ33nhDfrf2qwG+9YJri3zTcBECECgcgbff7ukuu6yzmz17tk2IqV+49tpr/CTkt1bgbrvt5q666mp3yimnFO4GJZgrlbp16nSJu/fee0uwFhQNAQhAAAIQgEBpE6hbt66bN2++e/nll/04a76rVatWiVfhk08+cffff5/75ZcFZpz1yy+/uE6dOsZkplQrIGX/5MmT3X333e+V/M3dgw8+5FdLP2NGEyqPAAEIQAACEIAABNKRQNpb1AvazTff4qSklzXFZ5995i6//IoYy3nz5rm6deu4hQt/cw0aNHQtW6bHcsb//e9/VseGDXeK1XVjHUhIldBLgAAESp/AkiVL/MqaR8zSPLiEkZsruYqpWrWqVahSpUruvPPOK/3KpXDHdK5bCtUnCQQgAAEIQAAChSQgw6M6deq6jz760LVte1KhrNoLcmvJTDIu0uq8ZDJTquVNnDjRVlrLIj8EyV2TJ08Kp3xCAAIQgAAEIACBtCOQEYr6xYsXG7iDDz7IL1t8x82fP98r5+ta3Acf9HeHHXaYt/aY55YuXbIe4IEDB5rf93nz5rr69Ru4E044wVvMN8uT7osvvvAuX8Z5we0HV63aVl4grZPnejjR8s9Zs2a5lStXOlmZBgEyXI9+9u3b122//fbugAMOsGhZzn7yyWAnAVQCY5Mmu7lDDjkkmiXfY7Xzm2++Mf+Kie4tv4sjR45wI0aMtDbsvHNjd/rpp5vVSBBIVf8Q8qt7SBM+k7U7WOlLkVe9enWnFQEKIb5mzZqudesjTKiX+4x+/fq5n36aaW6CLrjgQqfrCmqbfPNrAKByPvzwA7dq1Sp3ww032nX+QSCTCWj/B4Xq1WvEmtG4cWN7L3beeWeL00Tajz/OMGuxbt1ejKXTgSYp9W5vttlm1qeo/9NScL0vW221le1pof5F+Z555hlfzo/mVufwww9zO+5Y369GUr812x/v4PujA+1a9AYrVqxwr7zyirf2n+XKly9v1mvR/uGLL0a57777zt9nnN0jmrdfv/ecBsK//bbQbbfddtFLHEMAAhCAAAQgUMYIhDHD8uUr3E47NfQ+4dubrBLFMGDAAC/3f+W0B47GRFo5vWDBApNrgsV+fjKTyorKLjrfYYcd3YUXXhi7l+SiX39d4OWT32xFo9wNynhKco7GewphXKT4Nm3auMGDB7kxY8a6I444wtfnFzd27Fg/5ltlbgqPOuoos84fMOAjWx2p9Pvss29sPGoF/lOmxoqrVq12xx13nJUbvRaO9SlZK4yZxEFW/wXZ2yxaFscQgAAEIAABCGQPgbR3fSPUQVEvi3oJcN9//33sCWhZo/w8K15K8GiQAHbrrbd4YWmlWasuW7bUC4wXujfeeCOWTIKcXFD07/+BF8xam5Je1q7xQWXJ5/y2225rSnody697orBo0SKz4Ojb9z27LMHv9ddf99b+B5lAqrxBeZ4of3zcQw896JXZH7i99947du/bbrs1T7Lrr+/qJBSfeeaZfsJiqVMeBSm9ixIuvPACUx7ut99+sXvLjYfCkUceadd03yOPPCp2m4MPPsT9+eefJizvuOOObvjw4e6SSzr5uD+cLHOGDv3Ub5h5lE06PP/88+6JJ570ljof2WTLDTdcb5v5Tps2LVYeBxDIZAIadLVu3dr3Oz38RNrwWFOCQl590JdffplwSff9999v1zRo1ASd0lapsoX1L02aNHFvv/229Usq9IILzvcD0l99H7WNe/bZZ9zdd9/t7rrrTjdlyhRT0r/zzjvuoos62EAzVELLyS+99BK/kW0vmzhUXdU/NW+euwm27jdkyBBT0oc84fO5555z99xzj/vrr7/MZc8ff+SuIgrX+YQABCAAAQhAoOwQ0LjozTffdPvvv7+NqbTvl8ZWwWBBJCTXDB8+zMY0Bx54oMk1m2yyiatXr543YmpiimrJTNr7JrpfWJCZVEa87KIxSvfur7nOnS91WtEs2UV/GotIrpGSXkH1GDToYxsXWkTkn8Z5jz32uHvnnbedjIs+/PAjk7dkYHTzzTfZymSNF5cuXebWrl1rKyWffvqpSAnOTxRcYPeQK9EmTXY1JXwYM4WEkrEUgkHEUUcd7WQwpoCS3jDwDwIQgAAEIAABv0FQ2ofPPhuZc+CBB1g97777rhyvfLdjL0jleAWwHV9xxRU555xzdqwtfmPXnIMOapnTs+dbsTgdeOuGnDZtjsj5448/crzVds7JJ5+U4wWwPGm6dXshZ99994nFeatROx89enQs7uGHH7Y4bwVicboWzRNL6A8U75Vmsag777wjZ9SoUbHz6EEoJ3qv8847N8dvNBlL5v1Y53TseHHsPOTxqwosbv78eTm33HJz7Hp8e2IX4g7i0/mVAzmJ7q36h/Dggw/k7Ldf8xwv/IaoHL9pprXZC8gW16FD+xzxCmHChAl23a92CFF2ftppp+bMmDHD4vymm7FrHEAg0wn4ScQc7/7Gvud+Mir2PY+2S+909L3+/PPPLP3gwYNjybzFfM5JJ7WNnetA761fbZQTTder17uW12+aFkvrJyAtrnfv3rG4hx56aL3y/ETmP3lfiKWLr5sfVFqa778fG0ujA/V1qg8BAhCAAAQgAIHsIBDGGdGxSXzLNDY4+uij80T7lXgmF3TpcqXFe6W3nUflFck1kh3CGEYJvcGRjZvC+CmMDULhkl3i75WK7BLyx8s0IV6fuqfktGg49thjLN4bisWiw5jJW+xbnOrftu2JOf37vx9Lo/FadMykC3379rGywjhH49joGCmWmQMIQAACEIAABMosgYxwfbNo0eKYm5T99z/APfzwQ+bmRu4iwgaotWrVdNOnr7PC1rJDWVUcc8yxeWZjZJWuZYuyxpCrHG3u2KFDhzxp4k+80t/ttdde3jpjtP3p+lZb5fqW/v33383KPj5P9FzuduQi4n//W+3OPvtsd8cdd0Yvb/D49dd75EmjtkaDrNYVZBl71lln2z3uvfe+aJJCHVeuXNmvBFj/3nK9EUKbNkd6d0TvetdB4/0eAQ0s+uOPB9ry0028hYwsfLUCQi6AZK0SDWIXDbLQD34kDz744OgljiGQ0QSqVavmrrvuOvt++8Gda9++nTv33HNjFlWJGqdNoBOFNWvWrhet5eNahh2C3HwpRK2zgpsd7ecRwrBhn7rDD28dTu1TFm4KWoqeLGjFi1xe7bFHrpVasnTEQwACEIAABCCQ/QTkTkYW8dGw++67m8u+GTNyXQBGr8Uf//XXn7EoufW77bbbzOr+mWeeNtehUZlJ7vji75WK7BK7wQYO4vcXkytT/e2xxx6xnHJT453nmEtUreqWS9b33usXu64DjdeiYybFnXTSyea2R9b5cmEod6tdu3bVJQIEIAABCEAAAhAwAhmhqJfrGwlBCkEQGzp0qHdX87576aWXLL5mzVrm8kXLEStUqGBKJil9JexFg9zkSFG/fPly862sa3LHkl+YO3ee+VGMT6ONjpL5s4+m7dLlKlexYkUnv/Uff/yx95V4uVfUtY8myfdYSzXlwmbMmDF+09yF5m8xKiyKzf33P+Cee+5Zv2zzUfNnrXs0bdo033JTuajJD/mSTHZvKQL1p02mTjzxRPMxOdDvC/Duu72s+AULfk14G7Hbbrt6Ca8RCYFsJeCtq5yWaGtzWS1/1iTb0Ucfk7C5cnWz9dZbu08//dR8qkpxrr00WrTIVaQnzFSASL3b8nWvyctoUL+pv3hXYtE03pLeXPFE4ziGAAQKRuDqq6+23+tortGjv42ecgwBCEAgIwjMmTPbyxN7rVdXjdtkWKWgfXMkX2jPLhkvyXWe5BoZGuhafDj++OPNbU28zKR7HXDA/nmSpyK75MlQAieSq/yqRRtfauwqV6jR8Vq45XnnnW+GYnKDGm8QFdLwCQEIlD4B5LLSZ84dIQCBxAQyRFG/KGZRL8V7y5YtvZ/zoaYgDoKdrBbki1DKJSmu5S9ZCm79SXgLQZvOKkjB7pdS2rE2M81PWS9lmvw8B3+ClqkA/3SfW2651Vu6n2PCqRTqlStX8v7kz9pgKbKU1UZDUthpA1Ypxb3rnvXyaWPWN998y1uvj7UNZG+88UbbhHK9hAWIkN9s70LHVhPkd+9jjz3W3XvvvTZRIqW+BO6w2W+YyNBzS6W9BageSSGQEQTCSpLQf8gq66qrrjLfq9qENVlo1GhnG+Dp3deGsvXr7+gn+DrEJiuT5Us1ftNNN7Ok2kMiao2vSA0uw6RoovI00SkfrgQIQKDwBJ544onCZyYnBCAAgTQg0KlTR9tovkaNmranTnyVJCu0anVoLLpeve1sXCa/7FWqVPF7iJ1ve+SEBPfff5+N4/KTmXQvrXaODxuSXeLTF+d5GDNprHPppZ1Nfjv88MMS3qJHj9dNma+Vy96lq7v99jsSpiMSAhAoXQLIZaXLm7tBAALJCZRPfil9rkQt6lUrbbwjgUibFYUgi3oFpY0GpYuGiRMneoGwlatRo0bMZU3YxCeaLnqsDYEWLVoYswiJXkvlWEKslj5qwkCCp6zJwyTBhvJLwNVkwzHHHOMOO+wwt+WWW5riPJpPikBZm0jg1Ya1N9xwo19RMN+sNaLp4pdfRq8lOh437nvb8PXaa69Lem/l0zLO6tWr+40te9rmT6eccmqsOE0gyOWGLPIJECirBMLmYaH933zztR0Gt1UhPvqpVSqyQuvSpYvfcPkJ/3lVvsrzaN5UjrUxtt7b+HfT+5S1936//db1r/HlbbHFFrbKSH1ECH7viXDIJwQgAAEIQAACWU5AFuTz5+e6ydtpp4Zuzpw55gozNFsbumrcpfGLwty5c20VkcZh9913v9+k9ZY8SnqlkVvMDclMjRvvbGMjpQ8hFdklpNXnsmV53W9GrxXmOIyZtApAblk1Jotfsahy33uvr5/Y6OaefvoZ78r1EVtprTEcAQIQgAAEIAABCAQCFe70IZyk46cEPFl8SsktgU8+AaXckkAmf+xVq+b6ih87NteSXIph58o5+YWXoBeU8Mp7zTXXmMK9U6dLrIx69ep5X/ULzG1L//4feLcyv7kePd5w22yzjd2revUazm+o6gXMw00gVHk//fSTmzx5sqW77bZbY1b2mhDwGwPZvcUxWJTrWPnWrFljf4MGfWznL7zQzW266aa6nCeEcurWreNWrVptijm5y1E9pLB/5513zKXNkCFDTJgVB4URI0aYex25xvEbM/lJiG3cOeeca9fkK75fv37mE1H+4uUySD6zo3UMqw/EKTesYzhr1mwvfM923bt3tyWoufde5p/BeLPwV/ply5a6nj17un322cdb/l/wTxm5H7qXGKiuEydOcn4TKffQQw/69q1yjRs39gr+t53fgNbK0v21SkJWJgQIZAMBfaf1pz7Gb6Tm+44erlevXt7lzdFmIa82qk8Jk4qaZFM/9/vvy51W+2gPCL+xrB3rXPtvrF27xvylLliwwK/2+cHKVzm5PlOd++67b92wYcP8O17Hrx6qaxN8fhM4X8YHsfdM+33ITZiWoIf3/9VXXzUXWppMlJsehUR1k5L//ff7Wb+i/SnGjh1j/Y7cbalf/fnnX8y9WLSPscL4BwEIQAACEIBAxhDQSmXJMJJDJFOMHPmZyQ0ffvihyRkan7Vu3drL87v8s2fVOFvdLNnl6aefMvd+wd2nxmwaD2gvK8k8kmni5RqN+zReyE9mkgyiscOoUaPMhV+QXf71r+Ncu3btjG2QvXQiuUpjqmAcsXLlChuLaNz35ZdfmLL88MMP92PGUebuU6uX5W5QbZKR0/Dhw6xMuTEN+/1o3zKNT7VyWLKOxopqWxgzvfZad+8isIkxmjp1ijeMqGHpNf7J9Ulfzsa2Mph44YX/s/KDvGYn/IMABCAAAQhAoMwSSGtFvYSsr7760gtB28YeUFBESRgLSnoJRqtWrTQFlBIGRVdYNjl9+nTz7d6iRUu/kevtfgOi3WLlyWe9QoUK5U3xLet53UPlSVm85ZZb2Cap2jRVCvxly5a5efPmm1X7DTfcYApvCZsS3g455BArS8q4UE9F1KpV21v6LzIrErmz6Nr1ele7dm1LG/2X245V/+QtZxMHKueoo44y5dzMmTNdo0aNzIWMLPIl3LVt29buLeXYtGlTzUe8hMV27dq7zTbLdW1RtepWThawEh7Lly/vlf8t/DLUVtFbuyOPbGN1ClYvElB1b5UlZaAU9bvuuqtNTOiZSNg97rjjY89AG8lKUJbVbxCEww0kxO+++x6uXDnn1Aa1XZtCyRL/tddeswkM3ctv6eyzlDMrFBR8gR6fmU5g++138BNce/l3ZUv/jk7ziuzt/Dt8puvc+TJrmvo59SH6zud+78v5dy93kDh//jz/bh4Zu6brUtTLxdTpp59hK1hUiNLnfja3AbUGhSFuyy2rWn4NhkNcSCvfqVqFo75BvlK33baOTR6obIVkddMgWfkqVKhobnI0AO3cubN/x8v5AfpSe6c1WUqAAAQgAAEIQCBzCbz66n/NsEaGOJLTN9mkoh8fVfErk6ubzCDXlpLhNSaR2xeNd6ZMmeo233xzd8QRR7jrr78+1ngZDGgV32mnnbaeXPPmm2+aoY/GDPnJTCosyCCLFi2OyS7nnHOO69Spk91LsstNN91oxk477LCDxcmQSfVU+OOPP/34rboZOsi9oFYQakJCRl9BTpKLP6V/6603/6lrPRsn6rrKX7NmrZUvJpUqVbI0Ycw0b95cJ8W/xpuzZ882AyuN0f7+e62t6JbyX4YNMp6Ijl+DvGaV5B8EIAABCEAAAmWWQDkvYEg7SoBAkQho2aYse19++T9FKofMEICAM7cyJ554gk24aVIrGuQOR+6u3nnn3Wg0xxCAAAQgAAEIQCBtCZxxxunuoov+bSsKo5WUXKP9uIYPH2HGOtFrHEMAAhCAAAQgAIGyRiAjNpMtaw8lk9o7fvw4c4Ej//QPPvhQJlWdukIgbQloQzRZd8kSa9asn8wdVHjXnnjicTZmTtsnR8UgAAEIQAACEEhG4NNPh5rLF7mQico1Z5xxBkr6ZNCIhwAEIAABCECgTBHAor5MPe7ibez5559n/qu1KdTJJ5+8njud4r0bpUGgbBGQ1bx8tMqVl4L2mmjSpIntPdGmTZuyBYPWQgACEIAABCCQ0QS0R498yyPXZPRjpPIQgAAEIAABCJQwART1JQw4m4uX/8bFixev55M+m9tM2yBQ2gS0R4Qs7GV9JmU9AQIQgAAEIAABCGQqAeSaTH1y1BsCEIAABCAAgdIggKK+NChzDwhAAAIQgAAEIAABCEAAAhCAAAQgAAEIQAACEIBAEgLlk8QTDQEIQAACEIAABCAAAQhAAAIQgAAEIAABCEAAAhCAQCkQQFFfCpC5BQQgAAEIQAACEIAABCAAAQhAAAIQgAAEIAABCEAgGQEU9cnIEA8BCEAAAhCAAAQgAAEIQAACEIAABCAAAQhAAAIQKAUCKOpLATK3gAAEIAABCEAAAhCAAAQgAAEIQAACEIAABCAAAQgkI4CiPhkZ4iEAAQhAAAIQgAAEIAABCEAAAhCAAAQgAAEIQAACpUAARX0pQOYWEIAABCAAAQhAAAIQgAAEIAABCEAAAhCAAAQgAIFkBFDUJyNDPAQgAAEIQAACEIAABCAAAQhAAAIQgAAEIAABCECgFAigqC8FyNwCAhCAAAQgAAEIQAACEIAABCAAAQhAAAIQgAAEIJCMAIr6ZGSIhwAEIAABCEAAAhCAAAQgAAEIQAACEIAABCAAAQiUAgEU9aUAmVtAAAIQgAAEIAABCEAAAhCAAAQgAAEIQAACEIAABJIRQFGfjAzxEIAABCAAAQhAAAIQgAAEIAABCEAAAhCAAAQgAIFSIICivhQgcwsIQAACEIAABCAAAQhAAAIQgAAEIAABCEAAAhCAQDICKOqTkSEeAhCAAAQgAAEIQAACEIAABCAAAQhAAAIQgAAEIFAKBFDUlwJkbgEBCEAAAhCAAAQgAAEIQAACEIAABCAAAQhAAAIQSEYARX0yMsRDAAIQgAAEIAABCEAAAhCAAAQgAAEIQAACEIAABEqBAIr6UoDMLSAAAQhAAAIQgAAEIAABCEAAAhCAAAQgAAEIQAACyQigqE9GhngIQAACEIAABCAAAQhAAAIQgAAEIAABCEAAAhCAQCkQQFFfCpC5BQQgAAEIQAACEIAABCAAAQhAAAIQgAAEIAABCEAgGQEU9cnIEA8BCEAAAhCAAAQgAAEIQAACEIAABCAAAQhAAAIQKAUCFUvhHglvMXPmTDd06BB/rZz/y4lLkyguLkmh88WXo/NU7pcoX3HGpUMdirM92VhWcT6jwpZVnPlSKSuVNNn4rDfcpurVa7glSxZvOCEpIACBMkUgcd+gvrSgIV42Uv6ClpOojIKWU5JlRJkkalv03vHXo9dCORtKs6HridjE3yddyghtjn7G1y16LXoc36botdIsQ/dNVpdU6xHqnqicRGUkShfKKDufifupstN+WgoBCJQdAvR3ZedZ01IIbGwCDRo0dK1bty5yNcrl+FDkUgpRwOrVq92iRYsKkZMsEIAABDY+gXLlyrmN1H1u/MZTAwhAICkB+oakaLgAAQikCQH6qTR5EFQDAhAocQL0dyWOmBtAAAL/EKhUqZKrWbNmkXlsNEV9kWtOARCAAAQgAAEIQAACEIAABCAAAQhAAAIQgAAEIACBLCCAj/oseIg0AQIQgAAEIAABCEAAAhCAAAQgAAEIQAACEIAABDKXAIr6zH121BwCEIAABCAAAQhAAAIQgAAEIAABCEAAAhCAAASygACK+ix4iDQBAhCAAAQgAAEIQAACEIAABCAAAQhAAAIQgAAEMpcAivrMfXbUHAIQgAAEIAABCEAAAhCAAAQgAAEIQAACEIAABLKAAIr6LHiINAECEIAABCAAAQhAAAIQgAAEIAABCEAAAhCAAAQylwCK+sx9dtQcAhCAAAQgAAEIQAACEIAABCAAAQhAAAIQgAAEsoAAivoseIg0AQIQgAAEIAABCEAAAhCAAAQgAAEIQAACEIAABDKXAIr6zH121BwCEIAABCAAAQhAAAIQgAAEIAABCEAAAhCAAASygACK+ix4iDQBAhCAAAQgAAEIQAACEIAABCAAAQhAAAIQgAAEMpcAivrMfXbUHAIQgAAEIAABCEAAAhCAAAQgAAEIQAACEIAABLKAAIr6LHiINAECEIAABCAAAQhAAAIQgAAEIAABCEAAAhCAAAQylwCK+sx9dtQcAhCAAAQgAAEIQAACEIAABCAAAQhAAAIQgAAEsoAAivoseIg0AQIQgAAEIAABCEAAAhCAAAQgAAEIQAACEIAABDKXAIr6zH121BwCEIAABCAAAQhAAAIQgAAEIAABCEAAAhCAAASygACK+ix4iDQBAhCAAAQgAAEIQAACEIAABCAAAQhAAAIQgAAEMpdAxcytetFr3qNHDyvkvPPOS7mwqVOnuqFDh7rPP//Mvf56bv6UM5MQAhCAQJoQUF82atQoN3XqFHfqqae5fffdN01qVvRqfPzxQPfbbwt9u051lSpVSqnA5cuXu8GDB7vx48e5OnXquI4dO6WUj0QQyDYC9A15nyh9Q14enEEgSmDQoI/duHHj3bRpU123bi9GL2X08erVq13v3r3djjvu6A455JCU2zJq1OduwoQJ/m+ie/rpp1POR0IIQCD9CdDf5X1G9Hd5eXAGgeIkUKYt6q+/vqvTX0HCYYcd6j74oL8bMmRIQbKRFgIQgEBaERgw4CM3adJEN2jQoLSqV3FUpk+fPu7JJ5/w7ZuUcnE9e77lxoz5zvXv3z/lPCSEQDYSoG/I+1TpG/Ly4AwCgcDo0aPdV199bUr6EJctn5IfJEdcffVVBWrS559LUT/RG0J8XqB8JIYABNKbAP3d+s+H/m59JsRAoLgIlGlF/cMPP+L0V5Awf/7P7vDDD08py4IFC1ynTh1TSkuivARefLGbe/HF7LHMyds6ziBQdAIPPPBAkfqXLl2ucmeeeVbRK5KGJZxyyinuqquudrvttlvKtbv44o7unnvuTTm9BvDffvttyulJCIHSIkDfkJw0fUNyNlyBQEEJNG/e3N12220FzZYR6SU/SI544oknC1Tfrl2vd82aNU0pj5T5Xbp0SSktiSAAgY1LgP5uff70d+szIQYCxUWgTLu+KYjLm8IAHzdunFlndutWmNxlO8/kyT+4Jk12LdsQaD0EkhDQRFbv3r2yyl1NkqYWKvroo48pVL6CZJLrtEMOaVWQLKSFQIkToG/IHzF9Q/58uAoBCOQSkNu8kh4nykWOXKkSIAABCGxMAvR3G5M+94ZAYgJpr6gPFulbb721q1atmrv22uusJY899qjTgKtZs2Z2HtLVr1/fbbrpZj7dte733383/4A//jjDbbLJJu74409wJ5xwgqUfNmyYmzx5kl+y+ZV79dXX8tDp06e3GzFipFuxYrlr0KCBW7Zsmfv5559dixYtXOfOl+VJq3pMnjzZ1ahRwx155FH+70i7/skng73Pxu/tWGlCCPUP5+FTg+tZs2a5VatWe4v9w9yJJ7YNl9xnn31mglz16tXNb7LSyofso48+ZmmmT5/u/eYPMevOhg0b+rZu6ubPn+/EbJdddvHl/uQWLPjVyZIs+KFWGUuXLnUzZsyI+ZT84osvzPVDxYoV3aGHHmaTDPI5edRRR5uvZ/Hs3v01N3fuXM99d7f//vu7xo0bx+qpAy0V7devn/vpp5lu1113dRdccKGrWbOmpRHzH3/80dWrV9dVrLiJ++abr93MmTN9vU51e+65p9t22239M1vm2Y8wplLUq54Kbdoc6dQ2AgQyjYDcsPzww2Q3duxY/z1u47bcckv30Ucf2Xf8tNNOc+3atbfvfmiX3uf/+7/n7V2ZM2eOn7Bq4vbbbz935ZW5Vlcqb+TIkSF5zKr+hhtuTPqOyE/q7Nmz/HtX0bVq1cr961/HxfInOpB7r2+++cb6PlmVxftrV584cuQI6yerVdvK7bxzY3f66afHitIkpa5Pnz7DJtwaNtzJ2h5L4A9uvPEGO91iiy19X1Xb903NrX+aMmWKGz58WOye3bt3Nxc9W21VzfclNWLxoc9cuXKlWc6HOi5cuNDnH268TzrppFifp5vl11decMEFeZ6DOOuZ/e9///PMDjGl/FZbbWV1Fh8FWdQHq3r5sNWzUvjkk0/832Dzj7/TTo0sPvS9loB/EPAE6Bt29X1W6n3DjBnTze1geNfpG3iNIFB6BPS79sUXo2wMEC/fJ6qFxiG9evUy2UNKoPbtO6wno+QnK2xIztA99fv77rvv2O3r1atn479OnXL3l5GMEPoK+Zu/6647LZ3GEkHeWLFihfvPf172Y6EfXe3atV3btie6PfbY09Kprd99950fy42LjZPsgv83YMAA9/XXXzmVq/I0RtQq6rZtT/Jj06NDMvt86qknrfxddmlscsQee+xh8RrbhRBWENeuXcudfPIpFq3xkuQIjat0D43nSmOiMdSJTwiUZQL0d+uePv3dOhYcQaA0CaS96xtZLI4fP8GU9Oeeu27T1549e7q33norxkrKLim1Jk2abMr4efPmuTPOON298sp/YgoiKfOD0nzIkE+88vvz9fwzP/bYY+7NN990Wt501FFHeQFztlu79m+311572QaDsRv6AymmpFSScuaDDz50F154gW3MqDTvvvtuNGm+x8ongUwTAVJO33333e7tt3taHinLbrrpRitPdZFPfSnppPSWgKnjK6+8wtdxrQmkm222ma//G+6AA/b3SrkKXjic7iZOnOi0uWIIEmx//fU3U9KHON3n/vvv87xesajbb7/Nl7nGC72b+smOp9wjjzziunbtaop1CYxy+3Drrbf4iYVVoQhTjl1ySSf3559/2KTI0KGfeqHyKFP2Pf/88+7BBx9wzz//nJ84mG2C8Z9//uW22GILd8stN3sh+AUrp2fPt03wXrjwt1i5HEAgkwn06/eeDer0jmuCTX2MJvcUNIiVZXwIij/rrDPtXfr1118tWnFSSIU+Qe9y5cqVQ5bY5+abbx47jh5oclIDyrPPPtsU0bfffntMuRxNF44feuhB35994Pbee29TgGsAedttt4bL9ql+aPnyFd51zpl2rjwhqH/5739f8RN1TVzLli39hN8Hvn+bES7HPjWxqb5VTA466OCYQl0Tfe+9914snSYpNKjWJt76VNAAXPXSJm+aSNCx+nsF9X9fffWlZ/6RnYd/oa/86681nsU5Fh3tKzVRGMKcOXPdp58OdbVq1TRF/Z133mkTD7quwX5Qzv/1159+gD7fsgUl/cMPP2xt0u+DJojVVxIgkIgAfUPB+oaPP/6YviHRF4k4CJQwAf3manK9cuUq7thjj/XGBz/4ccHDSe8qeefEE0/wSv05Jnv8739/2G/0BG9BHoJ+Ry+7rLNN1iWSFSRnyN1oIjkjlKEJcBkOSam27bZ1vCxxkF3666+/TC4YNWqUnWui4LTTTnf6/VdQvl9++cVdeuklpgi/8MILvVw2yXXo0MHkNdVNe5FJSR8f7r//fjMmkIx04IEHmjyg33pNFAQ5QHl2330PY7BkyVK3/fbbWx0lK2nyX+WHCX+lXblyhclJv/22UKem9Nd4SsZnatPgwZ/YxK5d5B8EIFCiBOjv1uGlv1vHgiMIlDqBnAwIN998c463aIzV1Fth5+yww/Y5DRs2iMXpoE6dbXO8gtzilEfn0fCvf/0rp02bI2JRjz76SJ40S5YstnOvsI6lef/99/Ok0YWQ7/XXX4+l+/777y2d0ocQ0oXzRJ9+QiHHW3Dk9O+/Lp+3fM+588478iTv2PHinFNPPSVn8OBBFu8t4e1T6S6//LJY2sWLF1sb77vv3lic3/wkZ99998nRZzSoTP1Fg85PP/20nFC+rnkluuXv3bt3LOngwYMtbuDAAbG4Dh3a53glVezcC+T/pBkYi1M9rrji8pxFixbG4rzCP+f444+PnetA6XRfAgSygYDeK32n9fnbb7/l6L3Xu6s4vdch6L1VnJ98syi/6iXHD2QtTvF+VYvFR8sLeRN9XnXVVTnXXXdt7JK3Nrey9P4qJOobzjvv3ByvXI7lueKKK/L0EyGP2hCC7hOC6uYnG8Op9W3J3mVvUWz1iSX2Bwcd1NLivIVaLPqBB+6P9S1euWnX/aqE2HX1O+IT8oQ66jOEVPpKpVU5N9xwfchmn2LiJxrzxCldtHxdDPf9/vuxsbTi4SdVY+ccQCBKIPou0zesI5Oob/CKvzzvuVLTN6xjxhEESoKAX+Vq7503YooVLxlBfVcIOo6ea0yj30hvYGRJJC/oXL/fISh9Mlkh/JYmkzNCGfr0Vu05F1/875zHH38sFu2Nsaw+XbteF4vTmKRFiwNzvHGAxT300EM53lAqdl11VR0VH0J8u/xqYUsTZCile+aZZywuWtcwboqm0xhK5X/55Zeh+Nj4Khbxz4Huq7FYCOKZTI4KafiEAASKToD+bl2/Tn9X9O8TJUCgKATS3qJeMxfavHXatGluyZIlNpHhlcPmikVLDr/9drTFeQW2uXpp27atnX/55Rfm/kYW9OGvdevDzYLCEiT4t2jRogSxuVGyTI8PUd+FYSnj1KlT4pPle163bl1vIdbPLNBDQllxaslofJALGbmAUZBVe35B1iSFDXKxEy1/33+sWOU6JwS58FCQdbzCb7/96vxkhdtqq6r/WLt2i/ldlMucaJC7oho1ct3hKF6WJsEqNZqOYwhkI4FatWo5vfd16tSx5v3000+xZsrVioLcVinI1UrUQkvLq1MNftLOrMB33nnnWBb1IaNHfxtbZRS7EDl4/fUefnOzq2IxzZo1jR3rQJZosmSXJVpY1fTEE+usxuUqS5bCWikzYcJ469vC8vM8BfkTrSKSKyC5u1JQ+7fZZhuzTBs0aJDFybWN3HJphZOCLPnEZc6c2bG+Rv2OQnxfY5H//EvUp+pSor4y2v8pjdzayEJwQyGwuf76G6xucsPTrduLrkqVKhvKynUI+BUc9A3haxDfN2hl0Zo1a+gbAiA+IVBKBOSmUuHQQw+N3VEygn7bkgW5GpWsIfleQTKPgqzYQ8hPVgi/pcnkjFCGPrWasEWLlt5155hYtFbQabyklXghaFx4wAEHeFd9uTLR6NHf2Kq/3BV63WwVXsuWB7nFi5OPBUNZiT61wi4+hLGS4sMYyk/kxydb71xsJHP4CQiz7BfPZHLUepmJgAAECk2A/i41dPR3qXEiFQSKQiBjFPU77bST+epTY+XXVULL/vsfYMsBFect2Z1c42zilx8qyPd5otCuXbtE0RYnX8KtW7e2JYlyiSBXE1qaKCW8rpVUmD59mtNyyAsuON+367iESy2T3Xu33ZpaegmaWkr52muv2oSGXEmUZljgfeAnCh07dnTbbVcv0SXiIACBOALeIstioordAw9sEUuVzL1NLEHkICj1w0Rb5FK+hxocPvPM07YE/KST2jptmhof5A+/QoUKNgnaufOl5l4rpDn11FPdOeec491tfezU3/73v/8Nl9b7lLsZTa5qolXh008/9cvq/+UOO+xwP4HZ1+K0pF2+Y7WPhcLcufNiPmQt4p9/6mvC5Ec0PhyrD9cy9pLuK++++x4/0dnA3+dFd9FFHdZzrxbqwycECkKgrPcNUrwdcUQb+oaCfGlIC4FiICC3m1KcB2V7qkX279/f3HXK7Z7cYMYHyQqXXXZ5TFZ47rnn8rjT1G+p3MnI2EoK61GjPo8vInYu1zny5a7Jfu2/pcl/Kck1JtSeNQqa8JfhVwi5fWo5f7ruT4ZE8RP1Ib0+d9yxvl2X73iND/v27ePds46ze+lacYXARpMPfoWf86strV3FVT7lQAACiQnQ363jQn+3jgVHENgYBCpujJsW9J5SCJ1zzrl+A8YBpjCXZb0U6rKyf/nll7zfxBtNUS8ffiFIse+XN+Zr8RHSRj/33nsf55co2Aau8ml43HHH+Y0E11mRRNMWx7FfAmmWp2eeeZa3UO1skwKH+81kUw0SKGVxunTpMlNAyad/7959zOI11TKKI11QkMnSVW0hQAACBSdQw6800eqS4MNeJQQLNK102WGHHVIuVJbqChMnTrBBdioZtUpJfmhl0S9l++677+6krI8P6pNf95b3sgyTAk19sAblCpowvOaaa32+k23DaFm0Va5cKWm/IEu4Ll2udPfcc69Nxj733PO+P1vi3nijh21KLSs4lRWCrPmlxL/lllvMAjnEb+jziCOOcO+887ZbtGix69nzLfMtq9VM22233YayFui6/M8+//z/2eC9Z8+e7uabbzIFR9j4vECFkRgC/xAo632DJv60d47kM/oGXgsIlB4ByR7ebUyBbphrpf6ilwWuceeff4HJEs2b75unDMkK7du3NyW3lPCSFZ599lmv3L/e0oXfUl3L3WPmSq8c/zDPpu+hQG20Kp/xX331lW1eq4l91VuKeRkCSOEvJf4TTzwZstgeWVpRd9lll8XiUjmoV287U9ZL8S+jivPOO99W3aWSN9U0WgEoNt5lq+2n1r37azZhITmJAAEIlBwB+ru8bOnv8vLgDAKlSSAjLOoF5IgjWtuGqLJiaNeuvTHSJomyiJBwJ6v3xo0bx9jJinTKlKleWZ+6K5pZs34yQUiWGVK0PPbY434joLa2kW2s4EIcaJPbZGHcuO9ts1Xvo93cQEjok7CZapB7CC2nlGCrZahyxyNFVjRos0VtPul9jcWiZTUbXAnFIotwIJcaWk4aXXpahOIsqza8JUCgLBHYaaeG1lwp6oMbnHnz5lpctF8ISni5VtFm0XqX5RImGmStLoGzb99cy/TotWTHskhT33DMMcfY4FluaDRYjAa5tdHm0uqrtExc1vWaXJAVioI2XpWlmSYRNWknS7xx48ZHi8hzrKXoCtr0TYNpbZ621157W384aNBgG6QGtzdKpw23NaEQrPAVl0pQXymr+5tuusnX/1HvPu20Iivp4112SfEgNgraSO6+++634/AM7YR/ECgEgbLcN3z44YeuUqXN/aqavegbCvHdIQsEikJAhjiyUs/Poj2+fP0WNmq0sxlZacJfckV8CLKC3OMEWWHZsmWWLMgZOglyho7//HN99zKKVzjppJPc119/ZRb0J5+c66pTssPAgQNtc3gZMgXZSenVrs8//8wtX75cpymFuXPnmktBlaXf95tvvqVYlPTxrvnuuitXjpIMpjHebbfdbisGUqokiSAAgUIToL9bh47+bh0LjiCwMQhU8ILSnRvjxgW9Z82atZzfyMj9+uuv7tZbbzUlkQSuBQsWeF/Fc7zVwXF5fDn7zWa9hecH9idLEAlj999/n7e87+fOOONMyyc3CLKIUJAFvmYNX3nlFder17sm2EnB9c4775jCbMWKlW7XXXc1gU4CaMgnf/Kqm5RMSisl/0cQDV8AAC0wSURBVBdfjLLPTTfdxHw4y2+y8si3vpZuR4MmFOQiQb7e5XP5tde6u912a+KGDRvm/S0vMwWXlEFaHaCg41WrVseU8ZMnTzLXFLI2Gzp0iCnI5F9t8eIlvpzdLI+Wfk6fPsO9+mquW5xhwz61FQi1a29t/pnl93WzzTbzeRabUizcR3VTUHlaRqoQ4iQMa/CscykJpZSrVq2atUVcJ06c5BVpg82lz6pVq0xZJy4DBgywY7nlaNx4FytTbPQXLV/uLebPn+ddGP1oQrfKk8KPAIFMIyCl9bBhw92KFcvNsrpBgwbujz/+8Fbh71nfpfbo+6+JR70TfkNsey/lzqtPn75mSaZ3+cEHH7L3VOl/8n7tlUeDWlmXv/56d7MuD++n0sjqXX/qG/zG19a/fPPNN85vcm19i9JqRY8s1erWrWP9yoEHHmjpVe6UKVPM13y1atW9j9RPzP+73m0p/9WmihUruoULf/Nucp71Fm7b2IBc99U19ZflypUzty8vvfSiu+OOO8x9ja4nCgsXLvKTrnP9SqkjrC9WmvLly1tfvN9++/lJgyNj2XbeubEN+t944w3joEmNHj3e8APZW2M+XOPbpclL9ZXqa+VKR3+qZ3xfGa6pr1myZKn1a1qxpKXt6rPU/wbG6qNk3afnOnDgxzZRItcAcpm2du0aX99y/vht/wzK2wqDWAM4gMA/BOgbUusb/MaSXll1aswYg76BVwgCpUdAv3n67ZT8Pn78eD+emOZXtbwZ+83Vb7B+cxXCb+SOO+5gYzb9bn733bfmAq9Ro0Y+73RTpus3PT9ZQYp9XU8mZyRqvRRsfiNYP56a5ZXo91mS+vUbmBy1YMEv3r3oBbGxky5uu20dG6fIV72MptSGqHyUqF1Vq2ofrhfNcEzpVUf96Z763dekg+quv/hxjcaNAwZ8ZGOZMI7T+Kxfv34mE44d+71NAmhiQmX6zcWdVhV8//04v9LgGXfddV0LtKoyESPiIACB/AnQ363rx+nv8v+ucBUCJU0gYxT1AiGFiBTqRx65TmmzzTbbmrLr3//+dx5WUp63bJm7UaFmBCXsaAmhLCAUunXr5v+XM4W6PmUdqqCJALlIkOJZApf+5Crh4Ycfcp07X+ZeeOGFPPlkSa40776bq6RXWaFcKa633LKqCWxSWh144AF+MiFXea57hSB/zJpwkKJKyzSVRtapUi7pB0NKeimAZCGrsqUcC8oiKQClJJMyS2n0t3btWte9e3dzN9Gs2e52m6ZNm7qmTZvZhIKYdejQ3gt8O3pFX+5Gr1qRIAEylKFMusfjjz9mSsPc+6ltuZtCSfEvvuXKlbeNZPfZZx9jJitS31TbI0B+pc8991xzWyGBVRbCQdkuCxaVKSWeQohX+1QHLW9fvXqVPVvx1USMfjAIEMg0App022WXxvYd13dbE4tyEaVBnb73+lO83gcpwWVZlpPzt1+WvaWfHNzFVvWcf/55fpNVvf+5QWlVxqabbuqt1hp5i65Wvn/qHC7HPvVea9AnxZZc6OizbdsT3VlnnW2DzdxJNE3IretXzjzzTD/Y/sUG1MEqfsaMGVa3sFm3Br+aRPvhhym+zzrM9ycX2YZuuvEWW2xh/a0GsdWrV3NXXtnFbcjtizbRVP3OOOOMWN3VLrnAOfbYY2Ob64aLGuTL0kwTCvPmzfdWtnt5y/4bYpOFidoV+srAW8yjfeWoUV9Y37rPPvtaH6Z7i7MmOEO/pM/QVymvnqEG002b7uYuvPBCU+aLjfrvMWPGun322dv71u0YYxPqzycERGAYfUNKfYP2zHj00UdjXxr6hhgKDiBQKgTCRqYaS/3yywI/FmtoK9OCMlu/p/oLv5GSVw49tJUp9yXL6PdRcr1czWhzdhkl5CcryMApPzkjUaM322wzG3tIHgor9ZRu1aqVvqz6sc1cQ165vdNeZ/ot175mVapU9gYTJ5oxl8YskmHi26VJQ60cPu2002LXlEaKehmTaTJArvXUVskP4tG8eXNT2ueOgfLKW1WrbuX96Fc0d4caT2qspv5Nhl5aPaB6bL75ZraSXOM8AgQgUPIE6O9yxzr0dyX/XeMOEMiPQDkvTOTkl6AsXevUqaM1Vy5kokHucw477DBvfTnaXDNEr23M448++tBp86UPP/xovWp06NDBJgbCj816CYiAAAQgUEYI0FeWkQdNMyFQQAL0DQUERnIIlGECZ5xxut8k/t9+c9yj81DQajzt7zN8+IiY4VeeBJxAAAIQyDAC9HcZ9sCobtYRqJh1LSpCg6ZMmeqXWVawTZNkuS9XNLJmkOJem8zKf3K6BVniS0CU/2q5sNGyVPnx1zLO22+/Pd2qS30gAAEIbBQC9JUbBTs3hUDaE6BvSPtHRAUhkDYEPv10qK0g1r5ccounPXieeOJxWxEYVmenTWWpCAQgAIEiEKC/KwI8skKgiASwqI8A7N+/vwlb0U0Z5Zde7hguueTSSMr0OJR7h8svv8yWTGo5qUKdOnVdq1atzLWN3P8QIAABCJR1AvSVZf0bQPshkJgAfUNiLsRCAALrE+jRo4ftPSNf/AryMd+kSRPbo6dNm7x7kK2fmxgIQAACmUOA/i5znhU1zU4CKOoTPNelS5e6SZMm2Was8jOf7kFK+mnTpvlNbWua3+Z0ry/1gwAEILAxCNBXbgzq3BMC6U+AviH9nxE1hEC6ENAqnEWLFjlZ1UtZT4AABCCQrQTo77L1ydKudCeAoj7dnxD1gwAEIAABCEAAAhCAAAQgAAEIQAACEIAABCAAgawmUD6rW0fjIAABCEAAAhCAAAQgAAEIQAACEIAABCAAAQhAAAJpTgBFfZo/IKoHAQhAAAIQgAAEIAABCEAAAhCAAAQgAAEIQAAC2U0ARX12P19aBwEIQAACEIAABCAAAQhAAAIQgAAEIAABCEAAAmlOAEV9mj8gqgcBCEAAAhCAAAQgAAEIQAACEIAABCAAAQhAAALZTQBFfXY/X1oHAQhAAAIQgAAEIAABCEAAAhCAAAQgAAEIQAACaU4ARX2aPyCqBwEIQAACEIAABCAAAQhAAAIQgAAEIAABCEAAAtlNAEV9dj9fWgcBCEAAAhCAAAQgAAEIQAACEIAABCAAAQhAAAJpTgBFfZo/IKoHAQhAAAIQgAAEIAABCEAAAhCAAAQgAAEIQAAC2U0ARX12P19aBwEIQAACEIAABCAAAQhAAAIQgAAEIAABCEAAAmlOAEV9mj8gqgcBCEAAAhCAAAQgAAEIQAACEIAABCAAAQhAAALZTQBFfXY/X1oHAQhAAAIQgAAEIAABCEAAAhCAAAQgAAEIQAACaU4ARX2aPyCqBwEIQAACEIAABCAAAQhAAAIQgAAEIAABCEAAAtlNAEV9dj9fWgcBCEAAAhCAAAQgAAEIQAACEIAABCAAAQhAAAJpTgBFfZo/IKoHAQhAAAIQgAAEIAABCEAAAhCAAAQgAAEIQAAC2U0ARX12P19aBwEIQAACEIAABCAAAQhAAAIQgAAEIAABCEAAAmlOAEV9mj8gqgcBCEAAAhCAAAQgAAEIQAACEIAABCAAAQhAAALZTQBFfXY/X1oHAQhAAAIQgAAEIAABCEAAAhCAAAQgAAEIQAACaU4ARX2aPyCqBwEIQAACEIAABCAAAQhAAAIQgAAEIAABCEAAAtlNAEV9dj9fWgcBCEAAAhCAAAQgAAEIQAACEIAABCAAAQhAAAJpTqDixqrfzJkz3dChQ/zty/m/nLhqJIqLS1LofPHl6DyV+yXKV5xx6VCH4mxPNpZVnM+osGUVZ75UykolTTY+6w23qXr1Gm7JksUbTkgKCECgTBFI3DeoLy1oiJeNlL+g5SQqo6DllGQZUSaJ2ha9d/z16LVQzobSbOh6Ijbx90mXMkKbo5/xdYteix7Htyl6rTTL0H2T1SXVeoS6JyonURmJ0oUyys5n4n6q7LSflkIAAmWHAP1d2XnWtBQCG5tAgwYNXevWrYtcjXI5PhS5lEIUsHr1ardo0aJC5CQLBCAAgY1PoFy5cm4jdZ8bv/HUAAIQSEqAviEpGi5AAAJpQoB+Kk0eBNWAAARKnAD9XYkj5gYQgMA/BCpVquRq1qxZZB4bTVFf5JpTAAQgAAEIQAACEIAABCAAAQhAAAIQgAAEIAABCEAgCwjgoz4LHiJNgAAEIAABCEAAAhCAAAQgAAEIQAACEIAABCAAgcwlgKI+c58dNYcABCAAAQhAAAIQgAAEIAABCEAAAhCAAAQgAIEsIICiPgseIk2AAAQgAAEIQAACEIAABCAAAQhAAAIQgAAEIACBzCWAoj5znx01hwAEIAABCEAAAhCAAAQgAAEIQAACEIAABCAAgSwggKI+Cx4iTYAABCAAAQhAAAIQgAAEIAABCEAAAhCAAAQgAIHMJYCiPnOfHTWHAAQgAAEIQAACEIAABCAAAQhAAAIQgAAEIACBLCCAoj4LHiJNgAAEIAABCEAAAhCAAAQgAAEIQAACEIAABCAAgcwlgKI+c58dNYcABCAAAQhAAAIQgAAEIAABCEAAAhCAAAQgAIEsIICiPgseIk2AAAQgAAEIQAACEIAABCAAAQhAAAIQgAAEIACBzCWAoj5znx01hwAEIAABCEAAAhCAAAQgAAEIQAACEIAABCAAgSwggKI+Cx4iTYAABCAAAQhAAAIQgAAEIAABCEAAAhCAAAQgAIHMJYCiPnOfHTWHAAQgAAEIQAACEIAABCAAAQhAAAIQgAAEIACBLCCAoj4LHiJNgAAEIAABCEAAAhCAAAQgAAEIQAACEIAABCAAgcwlgKI+c58dNYcABCAAAQhAAAIQgAAEIAABCEAAAhCAAAQgAIEsIICiPgseIk2AAAQgAAEIQAACEIAABCAAAQhAAAIQgAAEIACBzCVQMXOrnj0179u3r1uwYIG74IILXOXKlVNuWI8ePdzIkSPchRe2cy1btkw5HwkhAAEIQAACECh7BN56601Xo0YNd/TRx6Tc+EGDPnbjxo1306ZNdd26vZhyvqIknDp1qhs1apSbOnWKO/XU09y+++6bUnHLly93gwcPduPHj3N16tRxHTt2SikfiSAAAQhAAAIQgAAEIAABCKQDASzq0+ApvPFGD3f33Xe5sWPHplybunXruP/852XXv3//lPOQEAIQyCwC06dPd23bnuh+/vnnzKo4tYUABDZI4LPPPnO33HKLpXvxxW7u5Zdf3mCeoiTQPR577DHXp0+flIv59ttvneopJX1phgEDPnKTJk10gwYNynPbRx55xM5XrVrlbrvt1jzXdNKz51tuzJjvkI3WI0MEBEqfADJM6TPnjhCAwMYhQH+3cbhzVwhkKwEU9WnwZM899zx3++13uL322ivl2syf/7P79NNhKae/+eab3BdfjEo5PQlzCYwcOdJ16tQRHBDYKAT69u3j5s2bZ5ahG6UC3BQCECgxAlJEr1y5wsqXQrxy5Uoldi8VvO++zd2VV3Zxp5xySsr3kSX73Xffk3J6taM4fjO7dLnKnXnmWXnuO2HCBPf22z0t7t1333W//vprnus6ufjiju6ee+5dL54ICECg9Akgw5Q+c+4IAQhsHAL0dxuHO3eFQLYSwPVNGjzZk08+uURrIbc6AwYMcCeccEKJ3icbC588eVI2Nos2ZQABKfDefvtt99JLJWtlmwEoqCIEspZA5cpVYm2rVCl113exTAU4kNI9VRcyBSg2T1JZ7ZdU2H777WNFR49jkRxAAAJpQwAZJm0eBRWBAARKmAD9XQkDpngIlEECaa+oHzJkiBsy5BNXs2ZNUzS/8sp/3fTp01yjRjt7a6sz3N5775PnsT322KNuxowZ7vfff3e77LKLu+KKK1y1atVjaZYsWeL9lw4yH6bVq1d3u+3W1LVr1y52PdlBsBDbcsuq3rp1W/MJ36JFSycLr48/HuiuvfY6y/p///e8ubCpVauW+YEN8aFe8p8qy/kQP3HiRPfNN9/4PGN8e850KjOEH36Y7Hr37u0mT57sGjRo4HJynHeBMd9tu20d17lzZ1evXr2Q1L3zztu2PH316tXuyCOP9H9HObVvzJgxbvTo0eYDf9SoL7zP1y9cuXLOtWlzpNtjjz1i+cPBBx/0d999N8Zb8c51u+66q/ebf6Gx13XVQ89Dvl/lp1ZpR4wY4dq37+CaNGni/vzzT6fZZLXnjz/+8Pev4das+cstWrTInX/+Bd7H7Ti3bNky99NPM2N+brUEX+dz5sx1TzzxhFVD9/nhhx/cwIEDLN2zzz7j5s6d6xo2bGj11qeUAXIHsskmm5iv3Xjlw4oVK8w10IwZP7ratWub+5A99tjTyv/qqy/djz/+aExOPLGte++9vm727NmuVatWbs8993I77bSTpRs6dKhv8w92HJQPDRvu5OvQxuL4B4FUCCT7Pjdrtrvbf//9XePGjRMWo3dj7733tj8lkKXq0KFD/Hd1jtthhx1c165dE+YjEgIQyAwCUtJXrVo1VllZ1Os9f/fddyyufv369jt1xx132rl+h4LP9ZCuQoUKbscddzRref0OTpo0yf82f+B/U+e4rbfe2p177rn226kCJKvIxZ5kg1COFez/yVJdv92VKlVyUoLPnz/ffmNvvvkWKz+k029nr169rPzdd28W+03Wdf1mhpDoNzO/uimf6iyZQulycv52devWDcXZ51ZbbRU7jx7HIlM4ePrpp30fOsuVL1/ey5GN1uMwa9Ysv/fPSNv/R3KN0hx//Dojh3Bt5cpVJmM2bdq0xCc/UmgWSSBQYgSQYUoMLQVDAAJpRoD+Ls0eCNWBQBkmkNaub+Sq5fzzz3Ovvvqqk0L74osvdn//vdZtuummrvv/t3c/8DaV+R7HH9HNDbcJDZX0Z8jtUmkivSJ/oxpCiZvGrfyJpLr9UZOo638xJgyVputfwkxpLooyEe5V+dMwkj/R65K6wlG3QSZc7ft8f8ez7H0cxxbntPfyeV6vc/bea6299rPe65y91vqt5/k9L090zZs3t4HGwv7r1KmjD+D+zl177bU2b968d30g/p9SlunSpbMP4u9ynTp1cl9//bVTSph0yk03tXQHDhywnKlNmlwXBdSnTp3qc6LmdsXWeurWrWeBN+WODwO89uhxr+WFVWBdQXrliG3YsKF9rILEixb9lw+0516Y20T/S4Oh3X777U4X4R06/It99rhxY+1zS5QokRKkVxfw6dOn+4D0Ty0A/eCDD9rNCK1r4sSJSbllfaTfJfwFcCLfIP2QIc+4IUOG2EW5Wt/Pnz/fjRiRGzzXunL3xXi3ceNGN2bMGDd+/Hi7EaBAvC58H3jgfh903+TtW7hatWq7hQsX+Av+yhawX7Jkib+B8qm/8TDN+1TT6qzopsqmTbow/s8wyT5n0KCBdmPg8cd/5XThrDJjxgyn1woArFz5kStduoxP57PYutnr4jmUrVu3uu7d77GL/TvvvNMH+T+3/a1eBQpuaPBeDcSrg3Hv3k/YjQQNOjd48OAo562W0wB6e/Z8G1bLIwI/SED/N+HvuVevXvb/o5tNEyaMd3369PZ/Y3vyXa8C9TffnJuiQjfFcm8WFnO/+MWN/vvwYz+vdb7vYyICCGSHwJln/sSdccahQH2ZMmUs6Kvvh7lz57pKlSq5EKTfv3+/nd/oWKqioLxuuK9atcqnzCllrxcuXOjuuaeb+9vf9vgb2M3c0qVLXbt2be24p3Oj9957z84R8uo8+mhPOw7r2K1zJh3/6tW71gL6uhmeXHQMVhC9fPlyPg/8m3Ys1fxwzExeNvl5QXULyyn//PDhz/pzkMr+PK6+P2f47zArelTw/IcWndfoHETniPKTSa1aqYPUdu16t2/c8RPXtm07f+6xOSXXvc491ICiQYOGVsff/nbkD60K70MgawQ4h8maXUVFEUDgOAX4vjtOQN6OAAInTsAHbTO+DBv260SbNrckfMA2quuyZUsTvmV7QvNUnnjiiUTNmpdH8/XEtyS3ZTp0+KVN9xep9tq3nrbXerz33u72PJ1fr7wyyd6fvOxFF11o05LrVr/+tQkfgLPFpk6dYvP12aFonuruW4nbpFCv998/tIy2t33728JbEjt27EjUqFE94Vu9RdP0ROvp169vyjQ59Or1eMo0LZdch5SZB1/ceecdiY4dO0az+vXrl2jRokX0Wk9efHFM4sorf26Peu2DjHpIzJgxPXHddU0S/uaHvdav++7rkejQoUP0Wk+S3xtmhHWG13oM02bOnBFN9jcv7P0jR46Mpvn83TbNB0Kjaf5mQ0LbklyaNGmc0PRQtP6WLW9KrFy5MkxKTJv2mq1r06ZN0TR/0Z7QDwWB4xEIf8/6Pwll/fr19vfme46ESdHjnDlz/P9e8+h1377/lvI3/cYbMw/+rW6MluEJAghkl4DvTRZV+Ntvv42eh+8G38ssmuZ7FtqxyDcuiKb5BgGJLl26JHxPOpvmGyskhg4dGs3XOU7eY66OZ/o+CuW99xbZMv6meZiUGDVqVOKuu+6KXuuJ3te27a2J5OX8DW97r++pGC17pGPm0eqmOjVr1jRaj57oHE7112PeknyczjtPr/Nutz6/detWKYtOnjw5ZTnVQdsYis4vks8ttE5994ai7+X86hbm84hAXAQ4h4nLnmQ7EEDgaAJ83x1NiPkIIFAUAhmf+ib5loTSPYSiFttqRaZu2CqLF39wWCtxtZhS13F/0WvLhJQm/kLMdelyt//p4p577nmbl86vhg0b+dZvZ/iW1n9yzZqptdoS65qtlm5z577jW213dkqts2HDBjds2G9slWrtpvQW6h0QBnNVay2Vb775JqVlvE08+EtdwEN9k6d///33yS/tuVrVJRe9L2xz8vSjPZ8wYWLKIhUrVrBUOykTD74I3ebVTb6gom08nqKeDKGElDMlS54WJpm/9nNoda8Zy5cvd40bN7KW92FBpQBQi/7kUrFixZS/mQsuuNBm+5siKV39k9/DcwSOR0CplkKpWrWqPU3+2w3zlEIqeeyK0Ko2zD/77NyUEDt2fOX/Vi8Ik3lEAIEsEkj+3z399EP56fXdoFbfStOnHnIq6jWmY716vvXr19+pZ52Odeq5V7JkSZeTs933NFvp6tSpk3Lsu+aaugWK6HinonMpteQPJUwPr/WolDnJyyg9nop6xuk4fKSSTt10zhK+E4+0nuTpSveTbgmfn3dw2quvvtpWoTR6KjrHUyv7u+/u4m67rb1r0qSJ73XZ2+bpl1rkDxw40Fr6t2/fPurtEC3AEwRiLsA5TMx3MJuHAAKRAN93EQVPEEDgRxDIqkB9Xh/fctxyoWu60rHoAjVvUYqZkFamQoUK7oUXxrinnx7snnrqSbsIViqKmjWvyPu2fF8rdY0u3mbOnGmB+rfeetu1adPG8q4r/Y0C9eqursB87dq1bR0KwuWX2uKRRx6xPLD5fpCf2LJlS5/e52V/I+E5H7C/yPK2KsWMcuoXVtm7d68NXulb2DldpOfk5KT9Ueouf6rvIq+u4XXqXO270W+0nPTKj1vU5fPPNx/2kSHV0GEzmIBAhgloLAflih48+OmUmun7QP+bStml7wIKAgjEV6BRo0YWnPet4i2PvXK3P/DAv7pnn/2NTdd8Beo1to3Ktm3b88XwPfHynR4m6titG9lKdae87Qpaf/zxqhM6+Hw6dVPqHAW/C6OEz9eYH8lFNx30owYWKhov5PHHe7lnnnna0vrpZmmPHvdZKhzN79btHlt20qSXbbwQzVOjDQoCCBwS4BzmkAXPEEAg3gJ838V7/7J1CPyYAlkbqFeL8/fff99fOHUzPw0YumDBgsMs1cKsatVDgzVquXfemWuBMLWC1/uXLFl62PuONEEXxz6Vjhs9erTPXTrT56f/gw+cfeUHPVXe9JXurbdm2+Bt4f1q3a4BZ8PgsWF6fo8aLDYUDXyqFt9qqaaL8QYNGvgW+R8UWutZDUKrvO45OTt8jtt7rHWcT78TqnPUxypVqlrr9JIl/95yyVep8jM3atTolBbrR13JCVpALe3UOvCZZ4acoDWyGgSKTiC3Nf0t1no1fKryQvvUVa5nz0fdpZdeajcEdVOMggAC8RRo1Kix69+/vwXly5Qp7Qc6v9y+E3QOssiPa6OBZytU+KkNaCoBjbOiol5/eVuO24wj/ArHbgXrNbaOjt333tvjhB6706nbrl277Ob+Eap5XJPDgL3Kkx965mmFGtxe5wqhZb2eq4fCrFmz7bxr4cIFfkyhYW7AgIH2+T4Vjh+3Z6QfF+AjOx8bMKC/9eqrUaPGcdWPNyMQJwHOYeK0N9kWBBAoSIDvu4J0mIcAAscjkLWBep/D2bZbQSsVtYSaN2+eDWgWumArkL9ixQofJH/EltEF1+zZs/1y7/rUKI3t55xzzj6sy7ctfIRf9evXd8WKFfOtqd51lSuf7y9qq/glqzi12NYAsG+//ba12g9vv/TSy9xLL71kF8DqNp1u0YCzalWfToA/3XVqUNUjlTVr1tgNhb59+7oWLXLr6fPVWzfwI70nefrs2bOcLmKPFhy/7LLLbB8lv1cXxyeyyHzFiuXHtF8L+vy//nVnQbOZh8AJE9i+fbt9V0yaNCllneqp07r1za5Vq9zUOcnpJ1IW5AUCCMRCQAPLakDV3KD86dHA0mrB3adPH1eqVCnf6v1Qarhy5cpZ6hid8xxLoF7Hbn2/fPjhn0+YW95jZjp1U8MEpQ1MLvo+PBFF61baHtkkFz8+iL2sXfsqe1RL+eLFS5jvjTfeaD0NevfOTX2j85Ru3br6HpVv+Jull9mPegEoZQ+B+mRVnp/MApzDnMx7n21H4OQS4Pvu5NrfbC0CRS1Q3Adm+xb1hx7r5ym3+xdffOFb0H9gF1q///1UHwx/3rVr98/uoYcettWpe/eECRMsCPzVVzvcxIkTfC7RAe6GG27wOV2H2jJaj/LLlyhxqu8mvs2nlhhkOeK7du16TFXavn2b27z5M9e8efOoNdsppxR3r732qqtXr17KxbO6letCToH3jRs3ubVr11jXdeWdDUF4tfJSkP+8885zfkA5y02v1v5TpkzxQbs33ZtvvmHpe5SjVtumlnUqes/06f9h71MqjGrVqjn1NJgz522br+dqHRaWVcqM9es/sfd89NGqaJ7mn3POOWa3YMFCp+1Ty7qtW7da7nelwZk1a5ZTPnqlw9HFqYoer7yylj3fuXOXGz9+vDd4zdJzqM7qSq9u9OrFEFq0ff31/1qL+w8+WGzrVkDykkv+0dZVpsw/WFqP8uXL+xZrq6LPCZ+xePFiu9GSeyOmmNV5y5YtTq3eVJSzVzlulaJIgQf9fPLJeus9MXr0KNv3ulmibVi3bq3V7csvt0TbsHz5n61Xhm7eqN4XX1zN74/d5rxjR45t1/z571rvBvtAfiGQhsDu3btT/p6VX15BOD8Iof/fftN6r4T/JT9gtbXk7N27T8qa1eNFYyysW7fO/kYVYPruu+8sRdWCBfMtd3XKG3iBAAJZL6Bg/Lhx4+xYOWjQINsejaXy6quv2fFZ5xGnnXZatJ0a/0Y51tUVe/XqNf4Y+I6de+zevcuOc2vXrvXj+Sz2x85zDx6/r3Q6dut4nXzs1msdGytWPNuO3QpSK+2WypGOmc7lHpOTj5kaO0iNKtQL4Gh10/Fbx2zVX6lqdANBvYg0zo3GJ9IFsXooplN0rqTzIJ0r6Lv1qqvq+AB8cfPQtuhHnzNt2jSn879bbsntPbhkic5LNrkDB/7PvrPVK7Bt27Y+PWJNOzdTikOt59RT/86fb463BhvDh49Ip0osg0DWCnAOk7W7joojgMAxCvB9d4xgLI4AAoUmkFWB+urVq/sBXJdal+z+/Qe4O+64I4IpV66869y5swVhP/apZhRUViA9BOm1oILg559f2an1uAK8ajF1333320Bs0YrSeKJc92o9rhbnoVxyySV+nV+6W2+9NeqCHuYpOKxAuILsCtZrcLfBgwe7smXL2kW06pUbUC/mL1C32nMtV7bsma5u3WssEK8g/oEDB9zzz79gAfkZM2bYzYbwPq1bz8eO/XdbvlKl8/zHFzu4XhflntXF7uWX1/R5V3uE6kWPer8uQtesWevXUckGSlPuVt3YaNq0qb/wX23rvOKKn9t71LMgBNHVEm7Llv+xGyPaVv2ULl3ago4KGoQBbxVI1/uVLkjboxsbTZs2s5zbSpujwMSiRbkBgdAzQp+hi+2//GWFXXjrw0OwYOrUKfZZCjzs3LnT5qvlnN5TqlRpC7jv27fXBwoau8ce+5XVe/LkV+xRdVQJ69dNjPCZ6oav6Xv37vMBhjN9wH+dTzNQwabRmtnY+JWmgG4gqoS/Ld2Q0t+egmFhWu78Wj7tVDc3dOiv3YUX5g5sbG/0v5SaQf8b+v7TIM8PP/yI5UrW3/j1119vgaywLI8IIBAPAaVx+9ifzzRu3CRlDJ49e771N+m+8o0V2qVsqI5Nau3tD802bo+C461atbZGDTqG6hh58cVVbTwZHX8VgNaxWzem9T0Sjt16nDPnT+7TTzfYsVtB/DBP5xX63tL6NmxY72rV0s36YtExOfmYqXQ6aq2uehVUN21E9eo1/HlHZTt3U6MCnas9+OBDdnNSA+3qZmXy92XKhie9UABejQt0/Fa9Qn3Vm0/nXp99ttkaTJx7biV/DtfJB+IPGSZ8/kGNtaOGAjovU8780ItJA/ZWqFDRbhjohoLSEz766GNR/vqkKvAUgVgJcA4Tq93JxiCAQAECfN8VgMMsBBAoUoFi/sIkKTN6kX522h+mlDXKzz5t2utpv+dYF1ReVl0M51fmzZvrW7Oe2PQs+X1OmKbeAmPHjs23K7rS4XTseFfUDT6858d8VG+H1q1bWe+GvIPHKo+2LuhffPF3P2YV+WwEMl5AA2IrZ7KCZxQEEECgsAUKOnYrGK1zkddf/2NhV4P1I4BADAQ4h4nBTmQTEEAgLQG+79JiYiEEEDgOgRLH8d5YvTW55X3eDVNLs6IsavGlFv/Lli2zrt5KcaFgt1rgfvjhMn/x/EJRViftz9q8ebOlKFKLdrWi14Brat3Wr1+/tNfBggicrAIX5mlFf7I6sN0IIFC0AuHYrV5+So+jnxEjhh9TrvuirTGfhgACmSbAOUym7RHqgwAChSXA911hybJeBBAIAhnfol4ttJUXPJTu3bu7J598KryM5aNSsPTs2dOC3fv27bNtVOobDSJ3//0P2ABnmbbhGnBNNxGUK19F3ceVDqhz5y4+fU/dTKsu9UEAAQQQQOCkF1CvN42Fo3RyKuHYffvtv/Rpb6476X0AQAABBBBAAAEEEEAAAQSKUiDjA/VFiZFpn7V//37Lp6/BWJUfNhuKegJo8DflotcFPwUBBBBAAAEEMltg27ZtdqOdY3dm7ydqhwACCCCAAAIIIIAAAvEWIFAf7/3L1iGAAAIIIIAAAggggAACCCCAAAIIIIAAAghkuMApGV4/qocAAggggAACCCCAAAIIIIAAAggggAACCCCAQKwFCNTHeveycQgggAACCCCAAAIIIIAAAggggAACCCCAAAKZLkCgPtP3EPVDAAEEEEAAAQQQQAABBBBAAAEEEEAAAQQQiLUAgfpY7142DgEEEEAAAQQQQAABBBBAAAEEEEAAAQQQQCDTBQjUZ/oeon4IIIAAAggggAACCCCAAAIIIIAAAggggAACsRYgUB/r3cvGIYAAAggggAACCCCAAAIIIIAAAggggAACCGS6AIH6TN9D1A8BBBBAAAEEEEAAAQQQQAABBBBAAAEEEEAg1gIE6mO9e9k4BBBAAAEEEEAAAQQQQAABBBBAAAEEEEAAgUwXIFCf6XuI+iGAAAIIIIAAAggggAACCCCAAAIIIIAAAgjEWoBAfax3LxuHAAIIIIAAAggggAACCCCAAAIIIIAAAgggkOkCBOozfQ9RPwQQQAABBBBAAAEEEEAAAQQQQAABBBBAAIFYCxCoj/XuZeMQQAABBBBAAAEEEEAAAQQQQAABBBBAAAEEMl2AQH2m7yHqhwACCCCAAAIIIIAAAggggAACCCCAAAIIIBBrAQL1sd69bBwCCCCAAAIIIIAAAggggAACCCCAAAIIIIBApgsQqM/0PUT9EEAAAQQQQAABBBBAAAEEEEAAAQQQQAABBGItQKA+1ruXjUMAAQQQQAABBBBAAAEEEEAAAQQQQAABBBDIdAEC9Zm+h6gfAggggAACCCCAAAIIIIAAAggggAACCCCAQKwFCNTHeveycQgggAACCCCAAAIIIIAAAggggAACCCCAAAKZLkCgPtP3EPVDAAEEEEAAAQQQQAABBBBAAAEEEEAAAQQQiLVAicLcupycHLd69erC/AjWjQACCCCAAAIIIIAAAggggAACCCCAAAIIIIBAxgmcddZZrnr16mnVq1AD9QrS9+/fP62KsBACCCCAAAIIIIAAAggggAACCCCAAAIIIIAAAnERaNCgQdqB+mIJX+Ky4WwHAggggAACCCCAAAIIIIAAAggggAACCCCAAALZJkCO+mzbY9QXAQQQQAABBBBAAAEEEEAAAQQQQAABBBBAIFYCBOpjtTvZGAQQQAABBBBAAAEEEEAAAQQQQAABBBBAAIFsEyBQn217jPoigAACCCCAAAIIIIAAAggggAACCCCAAAIIxEqAQH2sdicbgwACCCCAAAIIIIAAAggggAACCCCAAAIIIJBtAgTqs22PUV8EEEAAAQQQQAABBBBAAAEEEEAAAQQQQACBWAkQqI/V7mRjEEAAAQQQQAABBBBAAAEEEEAAAQQQQAABBLJNgEB9tu0x6osAAggggAACCCCAAAIIIIAAAggggAACCCAQKwEC9bHanWwMAggggAACCCCAAAIIIIAAAggggAACCCCAQLYJEKjPtj1GfRFAAAEEEEAAAQQQQAABBBBAAAEEEEAAAQRiJUCgPla7k41BAAEEEEAAAQQQQAABBBBAAAEEEEAAAQQQyDYBAvXZtseoLwIIIIAAAggggAACCCCAAAIIIIAAAggggECsBAjUx2p3sjEIIIAAAggggAACCCCAAAIIIIAAAggggAAC2SZAoD7b9hj1RQABBBBAAAEEEEAAAQQQQAABBBBAAAEEEIiVAIH6WO1ONgYBBBBAAAEEEEAAAQQQQAABBBBAAAEEEEAg2wQI1GfbHqO+CCCAAAIIIIAAAggggAACCCCAAAIIIIAAArESIFAfq93JxiCAAAIIIIAAAggggAACCCCAAAIIIIAAAghkmwCB+mzbY9QXAQQQQAABBBBAAAEEEEAAAQQQQAABBBBAIFYCBOpjtTvZGAQQQAABBBBAAAEEEEAAAQQQQAABBBBAAIFsEyBQn217jPoigAACCCCAAAIIIIAAAggggAACCCCAAAIIxEqAQH2sdicbgwACCCCAAAIIIIAAAggggAACCCCAAAIIIJBtAv8PaG/I0TQqz/0AAAAASUVORK5CYII=)"
      ],
      "metadata": {
        "id": "zAZwUkUwCGTH"
      }
    },
    {
      "cell_type": "markdown",
      "metadata": {
        "id": "oFVDKNluVZtt"
      },
      "source": [
        "## Model Configuration (Our first convolutional neural network)"
      ]
    },
    {
      "cell_type": "code",
      "execution_count": 7,
      "metadata": {
        "id": "bYAzESSaVZtt"
      },
      "outputs": [],
      "source": [
        "torch.manual_seed(13)\n",
        "model_cnn1 = nn.Sequential()\n",
        "\n",
        "# Featurizer, which will encode our images into features using convolutions\n",
        "# Block 1: 1@10x10 -> n_channels@8x8 -> n_channels@4x4            TYPICAL CONVOLUTIONAL BLOCK\n",
        "n_channels = 1      # Filters or level of information\n",
        "model_cnn1.add_module('conv1', nn.Conv2d(in_channels=1, out_channels=n_channels, kernel_size=3))    # Convolutional layer (Filters are trained)\n",
        "model_cnn1.add_module('relu1', nn.ReLU())                                                           # Activation function\n",
        "model_cnn1.add_module('maxp1', nn.MaxPool2d(kernel_size=2))                                         # Pooling layer for summarizing and reducing sizes and therefore reducing memmory cost and keeping the importnat information\n",
        "# Flattening: n_channels * 4 * 4\n",
        "model_cnn1.add_module('flatten', nn.Flatten())"
      ]
    },
    {
      "cell_type": "markdown",
      "source": [
        "- The image (1@10x10) is convolved with the kernel (3x3), and the resulting image has one channel, and is 8x8 pixels in size (1@8x8)\n",
        "- A ReLU activation function is applied to the resulting image\n",
        "- The \"activated\" image goes under a max pooling operation with a kernel size of 2x2, so it is divided into 16 chunks of size two-by-two, resulting in an image with one channel, but only 4x4 pixels in size (1@4x4)\n",
        "- These 16 values of the resulting image, with only one channel or level of information, can be considered features, and are flattened into a tensor with 16 elements"
      ],
      "metadata": {
        "id": "NaguhWVxrNFX"
      }
    },
    {
      "cell_type": "code",
      "execution_count": 8,
      "metadata": {
        "id": "sbhYwAKkVZtt"
      },
      "outputs": [],
      "source": [
        "# Classification, it uses the flattened featues to feed what would be a simple neural network\n",
        "# Hidden Layer\n",
        "model_cnn1.add_module('fc1', nn.Linear(in_features=n_channels*4*4, out_features=10))\n",
        "model_cnn1.add_module('relu2', nn.ReLU())\n",
        "# Output Layer\n",
        "model_cnn1.add_module('fc2', nn.Linear(in_features=10, out_features=3)) # In this case we expecting 3 classes and therefore 3 units/nodes. and here we have 3 logits one for each class"
      ]
    },
    {
      "cell_type": "markdown",
      "metadata": {
        "id": "m5Jy3msAVZtt"
      },
      "source": [
        "![](https://github.com/dvgodoy/PyTorchStepByStep/blob/master/images/classification_softmax.png?raw=1)"
      ]
    },
    {
      "cell_type": "code",
      "execution_count": 9,
      "metadata": {
        "id": "yHXsKzBDVZtu"
      },
      "outputs": [],
      "source": [
        "lr = 0.1\n",
        "multi_loss_fn = nn.CrossEntropyLoss(reduction='mean')       # Since our model producess logits, we must use the nn.CrossEntropyLoss() function\n",
        "optimizer_cnn1 = optim.SGD(model_cnn1.parameters(), lr=lr)"
      ]
    },
    {
      "cell_type": "markdown",
      "source": [
        "The backpropagation will flow backwards through:\n",
        "- The classifier layers (fc2, relu2, fc1)\n",
        "- The flattening layer\n",
        "- All the convolutional layers (conv1,relu,maxp1)\n",
        "\n",
        "The only layers that don't get updated are ones without learnable parametes (like Relu, MaxPool2d, and Flatten). But the convolutional layers do have weights and biases that get updated based on the gradients calculated during backpropagation"
      ],
      "metadata": {
        "id": "BFA1Y3TS24fP"
      }
    },
    {
      "cell_type": "markdown",
      "metadata": {
        "id": "Tx6fdgM5VZtu"
      },
      "source": [
        "## Model Training"
      ]
    },
    {
      "cell_type": "code",
      "execution_count": 10,
      "metadata": {
        "id": "l47M0ZiMVZtu"
      },
      "outputs": [],
      "source": [
        "sbs_cnn1 = StepByStep(model_cnn1, multi_loss_fn, optimizer_cnn1)\n",
        "sbs_cnn1.set_loaders(train_loader, val_loader)"
      ]
    },
    {
      "cell_type": "code",
      "execution_count": 11,
      "metadata": {
        "id": "cqL5t97uVZtu"
      },
      "outputs": [],
      "source": [
        "sbs_cnn1.train(20)"
      ]
    },
    {
      "cell_type": "code",
      "execution_count": 67,
      "metadata": {
        "id": "TaBHOS-kVZtu",
        "outputId": "9f7e3b80-8ae7-49aa-df5d-d2d145798094",
        "colab": {
          "base_uri": "https://localhost:8080/",
          "height": 395
        }
      },
      "outputs": [
        {
          "output_type": "display_data",
          "data": {
            "text/plain": [
              "<Figure size 1000x400 with 1 Axes>"
            ],
            "image/png": "[encoded data removed]"
          },
          "metadata": {}
        }
      ],
      "source": [
        "fig = sbs_cnn1.plot_losses()"
      ]
    },
    {
      "cell_type": "markdown",
      "metadata": {
        "id": "wmH3RYEBVZtu"
      },
      "source": [
        "## Visualizing Filters and More!"
      ]
    },
    {
      "cell_type": "code",
      "execution_count": 12,
      "metadata": {
        "id": "SsXUBNUBVZtu"
      },
      "outputs": [],
      "source": [
        "@staticmethod                   # It allows the method or function to be called on an uninstantiated class object.\n",
        "                                #It is as if we're attaching a method to a class but that method does not depend on an instance of the class it is attached to\n",
        "def _visualize_tensors(axs, x, y=None, yhat=None,\n",
        "                       layer_name='', title=None):\n",
        "    # The number of images is the number of subplots in a row\n",
        "    n_images = len(axs)\n",
        "    # Gets max and min values for scaling the grayscale\n",
        "    minv, maxv = np.min(x[:n_images]), np.max(x[:n_images])\n",
        "    # For each image\n",
        "    for j, image in enumerate(x[:n_images]):\n",
        "        ax = axs[j]\n",
        "        # Sets title, labels, and removes ticks\n",
        "        if title is not None:\n",
        "            ax.set_title(f'{title} #{j}', fontsize=12)\n",
        "        shp = np.atleast_2d(image).shape\n",
        "        ax.set_ylabel(\n",
        "            f'{layer_name}\\n{shp[0]}x{shp[1]}',\n",
        "            rotation=0, labelpad=40\n",
        "        )\n",
        "        xlabel1 = '' if y is None else f'\\nLabel: {y[j]}'\n",
        "        xlabel2 = '' if yhat is None else f'\\nPredicted: {yhat[j]}'\n",
        "        xlabel = f'{xlabel1}{xlabel2}'\n",
        "        if len(xlabel):\n",
        "            ax.set_xlabel(xlabel, fontsize=12)\n",
        "        ax.set_xticks([])\n",
        "        ax.set_yticks([])\n",
        "\n",
        "        # Plots weight as an image\n",
        "        ax.imshow(\n",
        "            np.atleast_2d(image.squeeze()),\n",
        "            cmap='gray',\n",
        "            vmin=minv,\n",
        "            vmax=maxv\n",
        "        )\n",
        "    return\n",
        "\n",
        "setattr(StepByStep, '_visualize_tensors', _visualize_tensors)"
      ]
    },
    {
      "cell_type": "markdown",
      "metadata": {
        "id": "xuuG1VJSVZtv"
      },
      "source": [
        "### Static Method"
      ]
    },
    {
      "cell_type": "code",
      "execution_count": null,
      "metadata": {
        "id": "KF-RgOzMVZtv"
      },
      "outputs": [],
      "source": [
        "class Cat(object):\n",
        "    def __init__(self, name):\n",
        "        self.name = name\n",
        "\n",
        "    @staticmethod\n",
        "    def meow():\n",
        "        print('Meow')"
      ]
    },
    {
      "cell_type": "code",
      "execution_count": null,
      "metadata": {
        "id": "MJmCXwnjVZtv",
        "outputId": "2b777feb-ed51-4c1f-d503-f2fdb225dba3"
      },
      "outputs": [
        {
          "name": "stdout",
          "output_type": "stream",
          "text": [
            "Meow\n"
          ]
        }
      ],
      "source": [
        "Cat.meow()"
      ]
    },
    {
      "cell_type": "markdown",
      "metadata": {
        "id": "BkgmQdoAVZtv"
      },
      "source": [
        "### Visualizing Filters\n",
        "\n",
        "Remember; Filters are like sheets or images that can be conv with an original image. The filter contains elements that in the case of convolutional layers, they are trainable params"
      ]
    },
    {
      "cell_type": "code",
      "execution_count": 13,
      "metadata": {
        "id": "IWA4jeAwVZtv",
        "outputId": "f83ddf9a-57fc-401a-a389-570f6c9f3018",
        "colab": {
          "base_uri": "https://localhost:8080/"
        }
      },
      "outputs": [
        {
          "output_type": "execute_result",
          "data": {
            "text/plain": [
              "(1, 1, 3, 3)"
            ]
          },
          "metadata": {},
          "execution_count": 13
        }
      ],
      "source": [
        "weights_filter = model_cnn1.conv1.weight.data.cpu().numpy() # Obtaining the weights of the filtes and passing it to cpu an numpy for visualization\n",
        "weights_filter.shape"
      ]
    },
    {
      "cell_type": "code",
      "execution_count": 14,
      "metadata": {
        "id": "_z8YCgEmVZtv"
      },
      "outputs": [],
      "source": [
        "def visualize_filters(self, layer_name, **kwargs):\n",
        "    try:\n",
        "        # Gets the layer object from the model\n",
        "        layer = self.model\n",
        "        for name in layer_name.split('.'):\n",
        "            layer = getattr(layer, name)\n",
        "        # We are only looking at filters for 2D convolutions\n",
        "        if isinstance(layer, nn.Conv2d):\n",
        "            # Takes the weight information\n",
        "            weights = layer.weight.data.cpu().numpy()\n",
        "            # weights -> (channels_out (filter), channels_in, H, W)\n",
        "            n_filters, n_channels, _, _ = weights.shape\n",
        "\n",
        "            # Builds a figure\n",
        "            size = (2 * n_channels + 2, 2 * n_filters)\n",
        "            fig, axes = plt.subplots(n_filters, n_channels,\n",
        "                                     figsize=size)\n",
        "            axes = np.atleast_2d(axes)\n",
        "            axes = axes.reshape(n_filters, n_channels)\n",
        "            # For each channel_out (filter)\n",
        "            for i in range(n_filters):\n",
        "                StepByStep._visualize_tensors(\n",
        "                    axes[i, :],\n",
        "                    weights[i],\n",
        "                    layer_name=f'Filter #{i}',\n",
        "                    title='Channel'\n",
        "                )\n",
        "\n",
        "            for ax in axes.flat:\n",
        "                ax.label_outer()\n",
        "\n",
        "            fig.tight_layout()\n",
        "            return fig\n",
        "    except AttributeError:\n",
        "        return\n",
        "\n",
        "setattr(StepByStep, 'visualize_filters', visualize_filters)"
      ]
    },
    {
      "cell_type": "code",
      "execution_count": 15,
      "metadata": {
        "id": "Fj3GKSLHVZtw",
        "outputId": "3a79df98-5dd1-41ab-c8e3-bbe525d40ec6",
        "colab": {
          "base_uri": "https://localhost:8080/",
          "height": 0
        }
      },
      "outputs": [
        {
          "output_type": "display_data",
          "data": {
            "text/plain": [
              "<Figure size 400x200 with 1 Axes>"
            ],
            "image/png": "[encoded data removed]"
          },
          "metadata": {}
        }
      ],
      "source": [
        "fig = sbs_cnn1.visualize_filters('conv1', cmap='gray')      # we can see all the filters or channels that will be trained"
      ]
    },
    {
      "cell_type": "markdown",
      "source": [
        "To really understand the effect this filter has on each image, we need to visualize the intermidate values produced by our model, namely, the output of each and every layer"
      ],
      "metadata": {
        "id": "ubU1-0MH-hRl"
      }
    },
    {
      "cell_type": "markdown",
      "metadata": {
        "id": "kTov8RnvVZtw"
      },
      "source": [
        "### Hooks\n",
        "\n",
        "A hook is simply a way to force a model to execute a function either after its forward pass or after its backward pass. Hence, there are forward hooks and backward hooks. We're using only **forward hooks** here, but the idea is the same for both"
      ]
    },
    {
      "cell_type": "markdown",
      "source": [
        "First, we create a function that is going to be hooked to the forward pass"
      ],
      "metadata": {
        "id": "SvJ7uyrV82DQ"
      }
    },
    {
      "cell_type": "code",
      "execution_count": 19,
      "metadata": {
        "id": "TqGJ7VdvVZtw"
      },
      "outputs": [],
      "source": [
        "dummy_model = nn.Linear(1, 1)\n",
        "\n",
        "dummy_list = []                     # For storing the information that the hook fetches\n",
        "\n",
        "def dummy_hook(layer, inputs, outputs):               # Forward hook function takes three arguments: a model, a model input tensor, and a model output tensor\n",
        "    dummy_list.append((layer, inputs, outputs))"
      ]
    },
    {
      "cell_type": "markdown",
      "source": [
        "So, any function that takes three arguments, regardless of their names, can work as a hook. In our case we would like to keep the information that goes through the hook function"
      ],
      "metadata": {
        "id": "GEHh5siF9e3w"
      }
    },
    {
      "cell_type": "markdown",
      "source": [
        "Let's hook the hook function to the model"
      ],
      "metadata": {
        "id": "sZboCpgF-L2r"
      }
    },
    {
      "cell_type": "code",
      "execution_count": 20,
      "metadata": {
        "id": "OzAF2NhDVZtw",
        "outputId": "dccaace7-8637-4e66-fdfe-90c7749c4cff",
        "colab": {
          "base_uri": "https://localhost:8080/"
        }
      },
      "outputs": [
        {
          "output_type": "execute_result",
          "data": {
            "text/plain": [
              "<torch.utils.hooks.RemovableHandle at 0x7b5bd77db4f0>"
            ]
          },
          "metadata": {},
          "execution_count": 20
        }
      ],
      "source": [
        "dummy_handle = dummy_model.register_forward_hook(dummy_hook)    # Hooking the hook function to the model\n",
        "dummy_handle          # The handle will allow us to keep track of the hooks attached to our model"
      ]
    },
    {
      "cell_type": "markdown",
      "source": [
        "Let's see it in action"
      ],
      "metadata": {
        "id": "Xxn692TY-1LD"
      }
    },
    {
      "cell_type": "code",
      "execution_count": 21,
      "metadata": {
        "id": "cIsRsPCmVZtw",
        "outputId": "b298ad82-dcf8-44d5-d8c9-86449f49b1ac",
        "colab": {
          "base_uri": "https://localhost:8080/"
        }
      },
      "outputs": [
        {
          "output_type": "execute_result",
          "data": {
            "text/plain": [
              "tensor([-0.0552], grad_fn=<ViewBackward0>)"
            ]
          },
          "metadata": {},
          "execution_count": 21
        }
      ],
      "source": [
        "dummy_x = torch.tensor([0.3])\n",
        "dummy_model.forward(dummy_x)"
      ]
    },
    {
      "cell_type": "code",
      "execution_count": 22,
      "metadata": {
        "id": "lMqH7IItVZtw",
        "outputId": "7bee567c-fd39-4850-8eb1-9387df4ace26",
        "colab": {
          "base_uri": "https://localhost:8080/"
        }
      },
      "outputs": [
        {
          "output_type": "execute_result",
          "data": {
            "text/plain": [
              "[]"
            ]
          },
          "metadata": {},
          "execution_count": 22
        }
      ],
      "source": [
        "dummy_list"
      ]
    },
    {
      "cell_type": "markdown",
      "source": [
        "We should call the whole model instead of the forward(x), to perform a forward pass. Otherwise, our hooks won't work"
      ],
      "metadata": {
        "id": "LOmO6zch_LED"
      }
    },
    {
      "cell_type": "code",
      "execution_count": 25,
      "metadata": {
        "id": "bSabSKJ_VZtx",
        "outputId": "201090ee-d0cc-4503-fe2b-5173f830cd85",
        "colab": {
          "base_uri": "https://localhost:8080/"
        }
      },
      "outputs": [
        {
          "output_type": "execute_result",
          "data": {
            "text/plain": [
              "tensor([-0.0552], grad_fn=<ViewBackward0>)"
            ]
          },
          "metadata": {},
          "execution_count": 25
        }
      ],
      "source": [
        "dummy_model(dummy_x)"
      ]
    },
    {
      "cell_type": "code",
      "execution_count": 26,
      "metadata": {
        "id": "ZTWFtNjBVZtx",
        "outputId": "82414a89-5952-4954-c8cc-cfb13a78ffbc",
        "colab": {
          "base_uri": "https://localhost:8080/"
        }
      },
      "outputs": [
        {
          "output_type": "execute_result",
          "data": {
            "text/plain": [
              "[(Linear(in_features=1, out_features=1, bias=True),\n",
              "  (tensor([0.3000]),),\n",
              "  tensor([-0.0552], grad_fn=<ViewBackward0>)),\n",
              " (Linear(in_features=1, out_features=1, bias=True),\n",
              "  (tensor([0.3000]),),\n",
              "  tensor([-0.0552], grad_fn=<ViewBackward0>))]"
            ]
          },
          "metadata": {},
          "execution_count": 26
        }
      ],
      "source": [
        "dummy_list"
      ]
    },
    {
      "cell_type": "code",
      "execution_count": 27,
      "metadata": {
        "id": "0LIeXUGnVZtx"
      },
      "outputs": [],
      "source": [
        "dummy_handle.remove()       # A hook is going to be hooked to the model until is explicitly removed"
      ]
    },
    {
      "cell_type": "code",
      "execution_count": 30,
      "metadata": {
        "id": "ZkgDZSsZVZtx",
        "outputId": "f3927106-6513-44bb-f9c9-d253835f4013",
        "colab": {
          "base_uri": "https://localhost:8080/"
        }
      },
      "outputs": [
        {
          "output_type": "execute_result",
          "data": {
            "text/plain": [
              "[('',\n",
              "  Sequential(\n",
              "    (conv1): Conv2d(1, 1, kernel_size=(3, 3), stride=(1, 1))\n",
              "    (relu1): ReLU()\n",
              "    (maxp1): MaxPool2d(kernel_size=2, stride=2, padding=0, dilation=1, ceil_mode=False)\n",
              "    (flatten): Flatten(start_dim=1, end_dim=-1)\n",
              "    (fc1): Linear(in_features=16, out_features=10, bias=True)\n",
              "    (relu2): ReLU()\n",
              "    (fc2): Linear(in_features=10, out_features=3, bias=True)\n",
              "  )),\n",
              " ('conv1', Conv2d(1, 1, kernel_size=(3, 3), stride=(1, 1))),\n",
              " ('relu1', ReLU()),\n",
              " ('maxp1',\n",
              "  MaxPool2d(kernel_size=2, stride=2, padding=0, dilation=1, ceil_mode=False)),\n",
              " ('flatten', Flatten(start_dim=1, end_dim=-1)),\n",
              " ('fc1', Linear(in_features=16, out_features=10, bias=True)),\n",
              " ('relu2', ReLU()),\n",
              " ('fc2', Linear(in_features=10, out_features=3, bias=True))]"
            ]
          },
          "metadata": {},
          "execution_count": 30
        }
      ],
      "source": [
        "modules = list(sbs_cnn1.model.named_modules())          # Fetching a list of all named modules from a model\n",
        "modules        # we get: ['', moduleWholeModel, moduleLayers]"
      ]
    },
    {
      "cell_type": "code",
      "execution_count": 39,
      "metadata": {
        "id": "CKCe4OWtVZtx",
        "outputId": "26003428-dd3e-4624-8761-f6d2cabae0dc",
        "colab": {
          "base_uri": "https://localhost:8080/"
        }
      },
      "outputs": [
        {
          "output_type": "execute_result",
          "data": {
            "text/plain": [
              "{Conv2d(1, 1, kernel_size=(3, 3), stride=(1, 1)): 'conv1',\n",
              " ReLU(): 'relu1',\n",
              " MaxPool2d(kernel_size=2, stride=2, padding=0, dilation=1, ceil_mode=False): 'maxp1',\n",
              " Flatten(start_dim=1, end_dim=-1): 'flatten',\n",
              " Linear(in_features=16, out_features=10, bias=True): 'fc1',\n",
              " ReLU(): 'relu2',\n",
              " Linear(in_features=10, out_features=3, bias=True): 'fc2'}"
            ]
          },
          "metadata": {},
          "execution_count": 39
        }
      ],
      "source": [
        "layer_names = {layer: name for name, layer in modules[1:]}        # Print based on the layer values comming from the module\n",
        "\n",
        "# Same thing written in multiple lines (more explicit)\n",
        "# layer_names = {}\n",
        "# for name, layer in modules[1:]:\n",
        "#    layer_names[layer] = name\n",
        "\n",
        "layer_names    # A dictionary (object); The hook function will take the layer instance as an argument and look its name up in the dictionary!\n",
        "\n",
        "# Keys are the layer objects\n",
        "# Values are their corresponding names"
      ]
    },
    {
      "cell_type": "markdown",
      "source": [
        "Let's create a real hook function"
      ],
      "metadata": {
        "id": "-a3Y6wmTCgQD"
      }
    },
    {
      "cell_type": "code",
      "execution_count": 40,
      "metadata": {
        "id": "_V_HlJPJVZtx"
      },
      "outputs": [],
      "source": [
        "visualization = {}\n",
        "\n",
        "def hook_fn(layer, inputs, outputs):\n",
        "    name = layer_names[layer]                   # it looks up the name of the layer and uses it as a key to a dictionary defined outside the hook function. Looking for the attribute of an object\n",
        "    visualization[name] = outputs.detach().cpu().numpy()"
      ]
    },
    {
      "cell_type": "code",
      "execution_count": 48,
      "metadata": {
        "id": "Joir7fLSVZty"
      },
      "outputs": [],
      "source": [
        "layers_to_hook = ['conv1', 'relu1', 'maxp1', 'flatten', 'fc1', 'relu2', 'fc2']\n",
        "\n",
        "handles = {}\n",
        "\n",
        "for name, layer in modules:\n",
        "    if name in layers_to_hook:\n",
        "        handles[name] = layer.register_forward_hook(hook_fn)"
      ]
    },
    {
      "cell_type": "code",
      "execution_count": 50,
      "metadata": {
        "id": "_krVdQQWVZty"
      },
      "outputs": [],
      "source": [
        "images_batch, labels_batch = next(iter(val_loader))\n",
        "logits = sbs_cnn1.predict(images_batch)"
      ]
    },
    {
      "cell_type": "code",
      "execution_count": 51,
      "metadata": {
        "id": "SPuK1LuQVZty",
        "outputId": "95fd5481-429a-4eb9-d2ba-2f9334e2b40e",
        "colab": {
          "base_uri": "https://localhost:8080/"
        }
      },
      "outputs": [
        {
          "output_type": "execute_result",
          "data": {
            "text/plain": [
              "dict_keys(['conv1', 'relu1', 'maxp1', 'flatten', 'fc1', 'relu2', 'fc2'])"
            ]
          },
          "metadata": {},
          "execution_count": 51
        }
      ],
      "source": [
        "visualization.keys()"
      ]
    },
    {
      "cell_type": "code",
      "execution_count": 52,
      "metadata": {
        "id": "LHfOT_NvVZty"
      },
      "outputs": [],
      "source": [
        "for handle in handles.values():\n",
        "    handle.remove()\n",
        "handles = {}"
      ]
    },
    {
      "cell_type": "code",
      "execution_count": 16,
      "metadata": {
        "id": "_M7jXR1eVZty"
      },
      "outputs": [],
      "source": [
        "setattr(StepByStep, 'visualization', {})\n",
        "setattr(StepByStep, 'handles', {})\n",
        "\n",
        "def attach_hooks(self, layers_to_hook, hook_fn=None):\n",
        "    # Clear any previous values\n",
        "    self.visualization = {}\n",
        "    # Creates the dictionary to map layer objects to their names\n",
        "    modules = list(self.model.named_modules())\n",
        "    layer_names = {layer: name for name, layer in modules[1:]}\n",
        "\n",
        "    if hook_fn is None:\n",
        "        # Hook function to be attached to the forward pass\n",
        "        def hook_fn(layer, inputs, outputs):\n",
        "            # Gets the layer name\n",
        "            name = layer_names[layer]\n",
        "            # Detaches outputs\n",
        "            values = outputs.detach().cpu().numpy()\n",
        "            # Since the hook function may be called multiple times\n",
        "            # for example, if we make predictions for multiple mini-batches\n",
        "            # it concatenates the results\n",
        "            if self.visualization[name] is None:\n",
        "                self.visualization[name] = values\n",
        "            else:\n",
        "                self.visualization[name] = np.concatenate([self.visualization[name], values])\n",
        "\n",
        "    for name, layer in modules:\n",
        "        # If the layer is in our list\n",
        "        if name in layers_to_hook:\n",
        "            # Initializes the corresponding key in the dictionary\n",
        "            self.visualization[name] = None\n",
        "            # Register the forward hook and keep the handle in another dict\n",
        "            self.handles[name] = layer.register_forward_hook(hook_fn)\n",
        "\n",
        "def remove_hooks(self):\n",
        "    # Loops through all hooks and removes them\n",
        "    for handle in self.handles.values():\n",
        "        handle.remove()\n",
        "    # Clear the dict, as all hooks have been removed\n",
        "    self.handles = {}\n",
        "\n",
        "setattr(StepByStep, 'attach_hooks', attach_hooks)\n",
        "setattr(StepByStep, 'remove_hooks', remove_hooks)"
      ]
    },
    {
      "cell_type": "code",
      "execution_count": 54,
      "metadata": {
        "id": "xAqXbHF_VZty"
      },
      "outputs": [],
      "source": [
        "sbs_cnn1.attach_hooks(layers_to_hook=['conv1', 'relu1', 'maxp1', 'flatten', 'fc1', 'relu2', 'fc2'])"
      ]
    },
    {
      "cell_type": "code",
      "execution_count": 20,
      "metadata": {
        "id": "GyqPjEAWVZtz"
      },
      "outputs": [],
      "source": [
        "images_batch, labels_batch = next(iter(val_loader))\n",
        "logits = sbs_cnn1.predict(images_batch)"
      ]
    },
    {
      "cell_type": "code",
      "execution_count": 56,
      "metadata": {
        "id": "MW3ZvrFjVZtz"
      },
      "outputs": [],
      "source": [
        "sbs_cnn1.remove_hooks()"
      ]
    },
    {
      "cell_type": "markdown",
      "source": [
        "Don't forget the model is producing logits output. To get the predicted classes, we can simply take the index of the largest logit for each data point"
      ],
      "metadata": {
        "id": "N0mh6i2aHMOf"
      }
    },
    {
      "cell_type": "code",
      "execution_count": 59,
      "metadata": {
        "id": "Kui-KkkFVZtz",
        "outputId": "f2c5b49e-6dc9-4068-ec23-f512370f62c6",
        "colab": {
          "base_uri": "https://localhost:8080/"
        }
      },
      "outputs": [
        {
          "output_type": "execute_result",
          "data": {
            "text/plain": [
              "array([2, 2, 2, 0, 0, 0, 2, 2, 2, 1, 0, 1, 2, 1, 2, 0])"
            ]
          },
          "metadata": {},
          "execution_count": 59
        }
      ],
      "source": [
        "predicted = np.argmax(logits, 1)\n",
        "predicted"
      ]
    },
    {
      "cell_type": "markdown",
      "metadata": {
        "id": "rIE1qq1GVZtz"
      },
      "source": [
        "### Visualizing Feature Maps"
      ]
    },
    {
      "cell_type": "code",
      "execution_count": 60,
      "metadata": {
        "id": "D9fYpPIwVZtz",
        "outputId": "edddc233-16b0-42de-af0e-327f60890541",
        "colab": {
          "base_uri": "https://localhost:8080/",
          "height": 150
        }
      },
      "outputs": [
        {
          "output_type": "display_data",
          "data": {
            "text/plain": [
              "<Figure size 1500x150 with 10 Axes>"
            ],
            "image/png": "[encoded data removed]"
          },
          "metadata": {}
        }
      ],
      "source": [
        "fig = plot_images(images_batch.squeeze(), labels_batch.squeeze(), n_plot=10)"
      ]
    },
    {
      "cell_type": "code",
      "execution_count": 17,
      "metadata": {
        "id": "Ub_hm1WHVZtz"
      },
      "outputs": [],
      "source": [
        "# The outputs of the featurizer layers are the feature/activation maps\n",
        "def visualize_outputs(self, layers, n_images=10, y=None, yhat=None):\n",
        "    layers = filter(lambda l: l in self.visualization.keys(), layers)\n",
        "    layers = list(layers)\n",
        "    shapes = [self.visualization[layer].shape for layer in layers]\n",
        "    n_rows = [shape[1] if len(shape) == 4 else 1\n",
        "              for shape in shapes]\n",
        "    total_rows = np.sum(n_rows)\n",
        "\n",
        "    fig, axes = plt.subplots(total_rows, n_images,\n",
        "                             figsize=(1.5*n_images, 1.5*total_rows))\n",
        "    axes = np.atleast_2d(axes).reshape(total_rows, n_images)\n",
        "\n",
        "    # Loops through the layers, one layer per row of subplots\n",
        "    row = 0\n",
        "    for i, layer in enumerate(layers):\n",
        "        start_row = row\n",
        "        # Takes the produced feature maps for that layer\n",
        "        output = self.visualization[layer]\n",
        "\n",
        "        is_vector = len(output.shape) == 2\n",
        "\n",
        "        for j in range(n_rows[i]):\n",
        "            StepByStep._visualize_tensors(\n",
        "                axes[row, :],\n",
        "                output if is_vector else output[:, j].squeeze(),\n",
        "                y,\n",
        "                yhat,\n",
        "                layer_name=layers[i] \\\n",
        "                           if is_vector \\\n",
        "                           else f'{layers[i]}\\nfil#{row-start_row}',\n",
        "                title='Image' if (row == 0) else None\n",
        "            )\n",
        "            row += 1\n",
        "\n",
        "    for ax in axes.flat:\n",
        "        ax.label_outer()\n",
        "\n",
        "    plt.tight_layout()\n",
        "    return fig\n",
        "\n",
        "setattr(StepByStep, 'visualize_outputs', visualize_outputs)"
      ]
    },
    {
      "cell_type": "code",
      "execution_count": 82,
      "metadata": {
        "id": "q_38gaGJVZt0",
        "outputId": "f6e65b1b-1680-4824-8f9a-f00662540acb",
        "colab": {
          "base_uri": "https://localhost:8080/",
          "height": 539
        }
      },
      "outputs": [
        {
          "output_type": "display_data",
          "data": {
            "text/plain": [
              "<Figure size 1500x600 with 40 Axes>"
            ],
            "image/png": "[encoded data removed]"
          },
          "metadata": {}
        }
      ],
      "source": [
        "featurizer_layers = ['conv1', 'relu1', 'maxp1', 'flatten']\n",
        "\n",
        "with plt.style.context('seaborn-v0_8-white'):\n",
        "    fig = sbs_cnn1.visualize_outputs(featurizer_layers)"
      ]
    },
    {
      "cell_type": "markdown",
      "metadata": {
        "id": "1ylNK3lFVZt0"
      },
      "source": [
        "### Visualizing Classifier Layers"
      ]
    },
    {
      "cell_type": "code",
      "execution_count": 84,
      "metadata": {
        "id": "sWQS_azaVZt0",
        "outputId": "0b7403f2-112e-4f36-caa6-903aceba3fc4",
        "colab": {
          "base_uri": "https://localhost:8080/",
          "height": 360
        }
      },
      "outputs": [
        {
          "output_type": "display_data",
          "data": {
            "text/plain": [
              "<Figure size 1500x450 with 30 Axes>"
            ],
            "image/png": "[encoded data removed]"
          },
          "metadata": {}
        }
      ],
      "source": [
        "classifier_layers = ['fc1', 'relu2', 'fc2']\n",
        "\n",
        "with plt.style.context('seaborn-v0_8-white'):\n",
        "    fig = sbs_cnn1.visualize_outputs(classifier_layers, y=labels_batch, yhat=predicted)"
      ]
    },
    {
      "cell_type": "markdown",
      "source": [
        "The classifier got eight out of ten right. It made wrong predictions for images #6 and #8. Unsurprisingly, these are the two images that got their vertical lines suppresed during the Featurizer. The filter doesn't seem to work so well whenever the vertical line is too close to the left edge of the image"
      ],
      "metadata": {
        "id": "TDla6ghpLyHe"
      }
    },
    {
      "cell_type": "markdown",
      "metadata": {
        "id": "_bTFhyUOVZt0"
      },
      "source": [
        "### Accuracy\n",
        "\n",
        "How good is the model actually?\n",
        "\n",
        "The idea is to get the number of correct predictions and the number of data points in that class"
      ]
    },
    {
      "cell_type": "code",
      "execution_count": 33,
      "metadata": {
        "id": "UyeNjbaPVZt0"
      },
      "outputs": [],
      "source": [
        "def correct(self, x, y, threshold=.5):\n",
        "    print(\"x.shape: \", x.shape)\n",
        "    print(\"y.shape:\", y.shape)\n",
        "    self.model.eval()\n",
        "    yhat = self.model(x.to(self.device))\n",
        "    y = y.to(self.device)\n",
        "    print(\"yhat.shape: \", yhat.shape)\n",
        "    print(\"y.shape:\", y.shape)\n",
        "    self.model.train()\n",
        "\n",
        "    # We get the size of the batch and the number of classes\n",
        "    # (only 1, if it is binary)\n",
        "    n_samples, n_dims = yhat.shape\n",
        "    if n_dims > 1:\n",
        "        # In a multiclass classification, the biggest logit\n",
        "        # always wins, so we don't bother getting probabilities\n",
        "\n",
        "        # This is PyTorch's version of argmax,\n",
        "        # but it returns a tuple: (max value, index of max value)\n",
        "        print(yhat)\n",
        "        _, predicted = torch.max(yhat, 1)\n",
        "        print(\"predicted\", predicted)\n",
        "        print(\"y_lables: \", y)\n",
        "    else:\n",
        "        n_dims += 1\n",
        "        # In binary classification, we NEED to check if the\n",
        "        # last layer is a sigmoid (and then it produces probs)\n",
        "        if isinstance(self.model, nn.Sequential) and \\\n",
        "           isinstance(self.model[-1], nn.Sigmoid):\n",
        "            predicted = (yhat > threshold).long()\n",
        "        # or something else (logits), which we need to convert\n",
        "        # using a sigmoid\n",
        "        else:\n",
        "            predicted = (F.sigmoid(yhat) > threshold).long()\n",
        "\n",
        "    # How many samples got classified correctly for each class\n",
        "    result = []\n",
        "    for c in range(n_dims):\n",
        "        n_class = (y == c).sum().item()                     # Number of items for the class 'c' in 'y'\n",
        "        n_correct = (predicted[y == c] == c).sum().item()   # Number of items for class 'c' in 'predicted'\n",
        "        result.append((n_correct, n_class))\n",
        "    return torch.tensor(result)\n",
        "\n",
        "setattr(StepByStep, 'correct', correct)"
      ]
    },
    {
      "cell_type": "code",
      "execution_count": 34,
      "metadata": {
        "id": "gagTPLcRVZt0",
        "outputId": "8aeda1cd-a530-444e-8c20-b551448bdede",
        "colab": {
          "base_uri": "https://localhost:8080/"
        },
        "collapsed": true
      },
      "outputs": [
        {
          "output_type": "stream",
          "name": "stdout",
          "text": [
            "x.shape:  torch.Size([16, 1, 10, 10])\n",
            "y.shape: torch.Size([16])\n",
            "yhat.shape:  torch.Size([16, 3])\n",
            "y.shape: torch.Size([16])\n",
            "tensor([[ -0.4888,  -0.7405,   1.4701],\n",
            "        [ -0.4888,  -0.7405,   1.4701],\n",
            "        [ -0.4888,  -0.7405,   1.4701],\n",
            "        [  8.7027,   1.7883,  -5.4678],\n",
            "        [  6.4709,  -1.2642,  -2.8015],\n",
            "        [  8.7027,   1.7883,  -5.4678],\n",
            "        [ -0.4888,  -0.7405,   1.4701],\n",
            "        [ -0.4888,  -0.7405,   1.4701],\n",
            "        [ -0.4888,  -0.7405,   1.4701],\n",
            "        [  0.8632,   6.2313,  -5.2358],\n",
            "        [ 10.0063,   2.7433, -10.8433],\n",
            "        [ -0.8574,   5.0248,  -2.7073],\n",
            "        [ -0.4888,  -0.7405,   1.4701],\n",
            "        [  1.2478,   7.5828,  -5.8709],\n",
            "        [ -0.4888,  -0.7405,   1.4701],\n",
            "        [  7.3204,  -0.0212,  -2.1209]], grad_fn=<AddmmBackward0>)\n",
            "predicted tensor([2, 2, 2, 0, 0, 0, 2, 2, 2, 1, 0, 1, 2, 1, 2, 0])\n",
            "y_lables:  tensor([2, 2, 2, 0, 0, 0, 0, 2, 0, 1, 0, 1, 2, 1, 2, 0])\n"
          ]
        },
        {
          "output_type": "execute_result",
          "data": {
            "text/plain": [
              "tensor([[5, 7],\n",
              "        [3, 3],\n",
              "        [6, 6]])"
            ]
          },
          "metadata": {},
          "execution_count": 34
        }
      ],
      "source": [
        "sbs_cnn1.correct(images_batch, labels_batch)"
      ]
    },
    {
      "cell_type": "markdown",
      "source": [
        "- three rows = three classes\n",
        "- n_correct = correct predictions = first column\n",
        "- n_class = number of datapoints for that class = second column"
      ],
      "metadata": {
        "id": "pNcDHkFM1Hpr"
      }
    },
    {
      "cell_type": "markdown",
      "metadata": {
        "id": "3aoVqCKWVZt0"
      },
      "source": [
        "### Loader Apply\n",
        "\n",
        "It allows to apply a function to each mini-batch, and stacks the results before applying a reducing function"
      ]
    },
    {
      "cell_type": "code",
      "execution_count": 36,
      "metadata": {
        "id": "kHNTyszOVZt1"
      },
      "outputs": [],
      "source": [
        "@staticmethod\n",
        "def loader_apply(loader, func, reduce='sum'):\n",
        "    results = [func(x, y) for i, (x, y) in enumerate(loader)]\n",
        "    results = torch.stack(results, axis=0)\n",
        "\n",
        "    if reduce == 'sum':\n",
        "        results = results.sum(axis=0)\n",
        "    elif reduce == 'mean':\n",
        "        results = results.float().mean(axis=0)\n",
        "\n",
        "    return results\n",
        "\n",
        "setattr(StepByStep, 'loader_apply', loader_apply)"
      ]
    },
    {
      "cell_type": "code",
      "execution_count": 37,
      "metadata": {
        "id": "ae4GHTXjVZt1",
        "outputId": "e4611144-2d7f-4446-e89b-2b42b549d0b3",
        "colab": {
          "base_uri": "https://localhost:8080/"
        },
        "collapsed": true
      },
      "outputs": [
        {
          "output_type": "stream",
          "name": "stdout",
          "text": [
            "x.shape:  torch.Size([16, 1, 10, 10])\n",
            "y.shape: torch.Size([16])\n",
            "yhat.shape:  torch.Size([16, 3])\n",
            "y.shape: torch.Size([16])\n",
            "tensor([[ -0.4888,  -0.7405,   1.4701],\n",
            "        [ -0.4888,  -0.7405,   1.4701],\n",
            "        [ -0.4888,  -0.7405,   1.4701],\n",
            "        [  8.7027,   1.7883,  -5.4678],\n",
            "        [  6.4709,  -1.2642,  -2.8015],\n",
            "        [  8.7027,   1.7883,  -5.4678],\n",
            "        [ -0.4888,  -0.7405,   1.4701],\n",
            "        [ -0.4888,  -0.7405,   1.4701],\n",
            "        [ -0.4888,  -0.7405,   1.4701],\n",
            "        [  0.8632,   6.2313,  -5.2358],\n",
            "        [ 10.0063,   2.7433, -10.8433],\n",
            "        [ -0.8574,   5.0248,  -2.7073],\n",
            "        [ -0.4888,  -0.7405,   1.4701],\n",
            "        [  1.2478,   7.5828,  -5.8709],\n",
            "        [ -0.4888,  -0.7405,   1.4701],\n",
            "        [  7.3204,  -0.0212,  -2.1209]], grad_fn=<AddmmBackward0>)\n",
            "predicted tensor([2, 2, 2, 0, 0, 0, 2, 2, 2, 1, 0, 1, 2, 1, 2, 0])\n",
            "y_lables:  tensor([2, 2, 2, 0, 0, 0, 0, 2, 0, 1, 0, 1, 2, 1, 2, 0])\n",
            "x.shape:  torch.Size([16, 1, 10, 10])\n",
            "y.shape: torch.Size([16])\n",
            "yhat.shape:  torch.Size([16, 3])\n",
            "y.shape: torch.Size([16])\n",
            "tensor([[ -0.4888,  -0.7405,   1.4701],\n",
            "        [ -0.2818,   5.4706,  -2.8386],\n",
            "        [ -0.7267,   4.7546,  -2.7934],\n",
            "        [  8.7027,   1.7883,  -5.4678],\n",
            "        [  1.2478,   7.5828,  -5.8709],\n",
            "        [ -0.4888,  -0.7405,   1.4701],\n",
            "        [ 10.0063,   2.7433, -10.8433],\n",
            "        [ -0.4888,  -0.7405,   1.4701],\n",
            "        [ -0.4888,  -0.7405,   1.4701],\n",
            "        [ -0.4888,  -0.7405,   1.4701],\n",
            "        [ -0.4888,  -0.7405,   1.4701],\n",
            "        [  8.7027,   1.7883,  -5.4678],\n",
            "        [ -0.4888,  -0.7405,   1.4701],\n",
            "        [  0.1232,   8.0260,  -5.7367],\n",
            "        [ -0.2818,   5.4706,  -2.8386],\n",
            "        [  8.7027,   1.7883,  -5.4678]], grad_fn=<AddmmBackward0>)\n",
            "predicted tensor([2, 1, 1, 0, 1, 2, 0, 2, 2, 2, 2, 0, 2, 1, 1, 0])\n",
            "y_lables:  tensor([1, 1, 1, 0, 1, 2, 0, 2, 2, 1, 2, 0, 2, 1, 1, 0])\n",
            "x.shape:  torch.Size([16, 1, 10, 10])\n",
            "y.shape: torch.Size([16])\n",
            "yhat.shape:  torch.Size([16, 3])\n",
            "y.shape: torch.Size([16])\n",
            "tensor([[ 9.2680,  3.1552, -7.3485],\n",
            "        [-0.4888, -0.7405,  1.4701],\n",
            "        [ 9.5867,  3.4091, -9.8553],\n",
            "        [-0.4888, -0.7405,  1.4701],\n",
            "        [-0.4888, -0.7405,  1.4701],\n",
            "        [-0.4888, -0.7405,  1.4701],\n",
            "        [ 9.5867,  3.4091, -9.8553],\n",
            "        [-0.6277,  6.9981, -4.4669],\n",
            "        [ 0.6663,  7.9310, -4.3047],\n",
            "        [-0.4888, -0.7405,  1.4701],\n",
            "        [ 0.1232,  8.0260, -5.7367],\n",
            "        [ 8.7027,  1.7883, -5.4678],\n",
            "        [ 8.0200,  1.1899, -6.0938],\n",
            "        [-0.4888, -0.7405,  1.4701],\n",
            "        [-0.4888, -0.7405,  1.4701],\n",
            "        [-0.4888, -0.7405,  1.4701]], grad_fn=<AddmmBackward0>)\n",
            "predicted tensor([0, 2, 0, 2, 2, 2, 0, 1, 1, 2, 1, 0, 0, 2, 2, 2])\n",
            "y_lables:  tensor([0, 2, 0, 2, 1, 2, 0, 1, 1, 2, 1, 0, 0, 2, 2, 2])\n",
            "x.shape:  torch.Size([16, 1, 10, 10])\n",
            "y.shape: torch.Size([16])\n",
            "yhat.shape:  torch.Size([16, 3])\n",
            "y.shape: torch.Size([16])\n",
            "tensor([[-0.4888, -0.7405,  1.4701],\n",
            "        [-0.4888, -0.7405,  1.4701],\n",
            "        [ 7.3204, -0.0212, -2.1209],\n",
            "        [ 9.5642,  2.5549, -9.2995],\n",
            "        [ 9.5867,  3.4091, -9.8553],\n",
            "        [ 0.5179,  6.0115, -4.7493],\n",
            "        [-0.7267,  4.7546, -2.7934],\n",
            "        [-0.4888, -0.7405,  1.4701],\n",
            "        [ 9.5642,  2.5549, -9.2995],\n",
            "        [-0.4888, -0.7405,  1.4701],\n",
            "        [-0.4888, -0.7405,  1.4701],\n",
            "        [ 9.5867,  3.4091, -9.8553],\n",
            "        [-0.4888, -0.7405,  1.4701],\n",
            "        [-0.2818,  5.4706, -2.8386],\n",
            "        [-0.4888, -0.7405,  1.4701],\n",
            "        [-0.5333,  5.1769, -2.3004]], grad_fn=<AddmmBackward0>)\n",
            "predicted tensor([2, 2, 0, 0, 0, 1, 1, 2, 0, 2, 2, 0, 2, 1, 2, 1])\n",
            "y_lables:  tensor([0, 2, 0, 0, 0, 1, 1, 2, 0, 2, 2, 0, 2, 1, 2, 1])\n",
            "x.shape:  torch.Size([16, 1, 10, 10])\n",
            "y.shape: torch.Size([16])\n",
            "yhat.shape:  torch.Size([16, 3])\n",
            "y.shape: torch.Size([16])\n",
            "tensor([[-0.2672,  5.6808, -3.7467],\n",
            "        [ 9.2680,  3.1552, -7.3485],\n",
            "        [ 9.5867,  3.4091, -9.8553],\n",
            "        [-0.4888, -0.7405,  1.4701],\n",
            "        [ 8.0200,  1.1899, -6.0938],\n",
            "        [-0.4888, -0.7405,  1.4701],\n",
            "        [-0.4888, -0.7405,  1.4701],\n",
            "        [ 1.2478,  7.5828, -5.8709],\n",
            "        [ 0.4741,  7.3178, -5.1285],\n",
            "        [-0.4888, -0.7405,  1.4701],\n",
            "        [ 8.0200,  1.1899, -6.0938],\n",
            "        [-0.4888, -0.7405,  1.4701],\n",
            "        [ 0.0643,  7.0286, -4.9647],\n",
            "        [-0.6277,  6.9981, -4.4669],\n",
            "        [-0.4888, -0.7405,  1.4701],\n",
            "        [-0.4888, -0.7405,  1.4701]], grad_fn=<AddmmBackward0>)\n",
            "predicted tensor([1, 0, 0, 2, 0, 2, 2, 1, 1, 2, 0, 2, 1, 1, 2, 2])\n",
            "y_lables:  tensor([1, 0, 0, 0, 0, 2, 2, 1, 1, 2, 0, 0, 1, 1, 2, 2])\n",
            "x.shape:  torch.Size([16, 1, 10, 10])\n",
            "y.shape: torch.Size([16])\n",
            "yhat.shape:  torch.Size([16, 3])\n",
            "y.shape: torch.Size([16])\n",
            "tensor([[ 9.5867,  3.4091, -9.8553],\n",
            "        [ 0.5179,  6.0115, -4.7493],\n",
            "        [ 1.2478,  7.5828, -5.8709],\n",
            "        [ 6.4709, -1.2642, -2.8015],\n",
            "        [ 0.6663,  7.9310, -4.3047],\n",
            "        [-0.4888, -0.7405,  1.4701],\n",
            "        [-0.4888, -0.7405,  1.4701],\n",
            "        [ 0.0643,  7.0286, -4.9647],\n",
            "        [-0.4888, -0.7405,  1.4701],\n",
            "        [-0.7267,  4.7546, -2.7934],\n",
            "        [ 0.4741,  7.3178, -5.1285],\n",
            "        [-0.2818,  5.4706, -2.8386],\n",
            "        [-0.5333,  5.1769, -2.3004],\n",
            "        [-0.4888, -0.7405,  1.4701],\n",
            "        [ 0.6663,  7.9310, -4.3047],\n",
            "        [ 8.0200,  1.1899, -6.0938]], grad_fn=<AddmmBackward0>)\n",
            "predicted tensor([0, 1, 1, 0, 1, 2, 2, 1, 2, 1, 1, 1, 1, 2, 1, 0])\n",
            "y_lables:  tensor([0, 1, 1, 0, 1, 0, 2, 1, 2, 1, 1, 1, 1, 2, 1, 0])\n",
            "x.shape:  torch.Size([16, 1, 10, 10])\n",
            "y.shape: torch.Size([16])\n",
            "yhat.shape:  torch.Size([16, 3])\n",
            "y.shape: torch.Size([16])\n",
            "tensor([[ -0.4888,  -0.7405,   1.4701],\n",
            "        [ -0.2818,   5.4706,  -2.8386],\n",
            "        [ -0.2818,   5.4706,  -2.8386],\n",
            "        [  1.2478,   7.5828,  -5.8709],\n",
            "        [  9.5642,   2.5549,  -9.2995],\n",
            "        [ -0.4888,  -0.7405,   1.4701],\n",
            "        [ -0.4888,  -0.7405,   1.4701],\n",
            "        [ 10.0063,   2.7433, -10.8433],\n",
            "        [ -0.4888,  -0.7405,   1.4701],\n",
            "        [ -0.4888,  -0.7405,   1.4701],\n",
            "        [  6.4709,  -1.2642,  -2.8015],\n",
            "        [ -0.4888,  -0.7405,   1.4701],\n",
            "        [ -0.4888,  -0.7405,   1.4701],\n",
            "        [  9.2680,   3.1552,  -7.3485],\n",
            "        [ -0.5333,   5.1769,  -2.3004],\n",
            "        [  8.0200,   1.1899,  -6.0938]], grad_fn=<AddmmBackward0>)\n",
            "predicted tensor([2, 1, 1, 1, 0, 2, 2, 0, 2, 2, 0, 2, 2, 0, 1, 0])\n",
            "y_lables:  tensor([2, 1, 1, 1, 0, 2, 1, 0, 2, 1, 0, 2, 2, 0, 1, 0])\n",
            "x.shape:  torch.Size([16, 1, 10, 10])\n",
            "y.shape: torch.Size([16])\n",
            "yhat.shape:  torch.Size([16, 3])\n",
            "y.shape: torch.Size([16])\n",
            "tensor([[-0.6277,  6.9981, -4.4669],\n",
            "        [-0.5333,  5.1769, -2.3004],\n",
            "        [ 0.5179,  6.0115, -4.7493],\n",
            "        [ 8.7027,  1.7883, -5.4678],\n",
            "        [-0.4888, -0.7405,  1.4701],\n",
            "        [-0.5333,  5.1769, -2.3004],\n",
            "        [-0.4888, -0.7405,  1.4701],\n",
            "        [ 8.0200,  1.1899, -6.0938],\n",
            "        [ 1.2478,  7.5828, -5.8709],\n",
            "        [-0.4888, -0.7405,  1.4701],\n",
            "        [ 9.5867,  3.4091, -9.8553],\n",
            "        [ 9.5867,  3.4091, -9.8553],\n",
            "        [ 8.7027,  1.7883, -5.4678],\n",
            "        [ 8.0200,  1.1899, -6.0938],\n",
            "        [-0.9474,  4.0280, -1.8893],\n",
            "        [-0.2672,  5.6808, -3.7467]], grad_fn=<AddmmBackward0>)\n",
            "predicted tensor([1, 1, 1, 0, 2, 1, 2, 0, 1, 2, 0, 0, 0, 0, 1, 1])\n",
            "y_lables:  tensor([1, 1, 1, 0, 2, 1, 2, 0, 1, 2, 0, 0, 0, 0, 1, 1])\n",
            "x.shape:  torch.Size([16, 1, 10, 10])\n",
            "y.shape: torch.Size([16])\n",
            "yhat.shape:  torch.Size([16, 3])\n",
            "y.shape: torch.Size([16])\n",
            "tensor([[ -0.4888,  -0.7405,   1.4701],\n",
            "        [ -0.4888,  -0.7405,   1.4701],\n",
            "        [ -0.6277,   6.9981,  -4.4669],\n",
            "        [  6.4709,  -1.2642,  -2.8015],\n",
            "        [ -0.7267,   4.7546,  -2.7934],\n",
            "        [ -0.4888,  -0.7405,   1.4701],\n",
            "        [  8.7027,   1.7883,  -5.4678],\n",
            "        [ -0.4888,  -0.7405,   1.4701],\n",
            "        [ 10.0063,   2.7433, -10.8433],\n",
            "        [ -0.4888,  -0.7405,   1.4701],\n",
            "        [  0.8632,   6.2313,  -5.2358],\n",
            "        [ -0.4888,  -0.7405,   1.4701],\n",
            "        [ -0.4888,  -0.7405,   1.4701],\n",
            "        [ -0.4888,  -0.7405,   1.4701],\n",
            "        [ -0.4888,  -0.7405,   1.4701],\n",
            "        [  8.0200,   1.1899,  -6.0938]], grad_fn=<AddmmBackward0>)\n",
            "predicted tensor([2, 2, 1, 0, 1, 2, 0, 2, 0, 2, 1, 2, 2, 2, 2, 0])\n",
            "y_lables:  tensor([2, 0, 1, 0, 1, 2, 0, 2, 0, 2, 1, 2, 2, 2, 0, 0])\n",
            "x.shape:  torch.Size([16, 1, 10, 10])\n",
            "y.shape: torch.Size([16])\n",
            "yhat.shape:  torch.Size([16, 3])\n",
            "y.shape: torch.Size([16])\n",
            "tensor([[ -0.4888,  -0.7405,   1.4701],\n",
            "        [ -0.7267,   4.7546,  -2.7934],\n",
            "        [  9.5867,   3.4091,  -9.8553],\n",
            "        [  0.1232,   8.0260,  -5.7367],\n",
            "        [  9.5867,   3.4091,  -9.8553],\n",
            "        [ -0.4888,  -0.7405,   1.4701],\n",
            "        [  0.8632,   6.2313,  -5.2358],\n",
            "        [  0.1232,   8.0260,  -5.7367],\n",
            "        [ -0.4888,  -0.7405,   1.4701],\n",
            "        [  9.5867,   3.4091,  -9.8553],\n",
            "        [ -0.4888,  -0.7405,   1.4701],\n",
            "        [ 10.0063,   2.7433, -10.8433],\n",
            "        [  0.0643,   7.0286,  -4.9647],\n",
            "        [ -0.7267,   4.7546,  -2.7934],\n",
            "        [ -0.4888,  -0.7405,   1.4701],\n",
            "        [  7.3204,  -0.0212,  -2.1209]], grad_fn=<AddmmBackward0>)\n",
            "predicted tensor([2, 1, 0, 1, 0, 2, 1, 1, 2, 0, 2, 0, 1, 1, 2, 0])\n",
            "y_lables:  tensor([2, 1, 0, 1, 0, 2, 1, 1, 2, 0, 2, 0, 1, 1, 2, 0])\n",
            "x.shape:  torch.Size([16, 1, 10, 10])\n",
            "y.shape: torch.Size([16])\n",
            "yhat.shape:  torch.Size([16, 3])\n",
            "y.shape: torch.Size([16])\n",
            "tensor([[  0.0643,   7.0286,  -4.9647],\n",
            "        [ -0.4888,  -0.7405,   1.4701],\n",
            "        [  6.4709,  -1.2642,  -2.8015],\n",
            "        [ -0.4888,  -0.7405,   1.4701],\n",
            "        [ -0.4888,  -0.7405,   1.4701],\n",
            "        [ -0.4888,  -0.7405,   1.4701],\n",
            "        [ -0.4888,  -0.7405,   1.4701],\n",
            "        [ 10.0063,   2.7433, -10.8433],\n",
            "        [  8.0200,   1.1899,  -6.0938],\n",
            "        [ -0.4888,  -0.7405,   1.4701],\n",
            "        [ -0.4888,  -0.7405,   1.4701],\n",
            "        [ -0.4888,  -0.7405,   1.4701],\n",
            "        [ -0.4888,  -0.7405,   1.4701],\n",
            "        [ -0.4888,  -0.7405,   1.4701],\n",
            "        [  0.8632,   6.2313,  -5.2358],\n",
            "        [ -0.4888,  -0.7405,   1.4701]], grad_fn=<AddmmBackward0>)\n",
            "predicted tensor([1, 2, 0, 2, 2, 2, 2, 0, 0, 2, 2, 2, 2, 2, 1, 2])\n",
            "y_lables:  tensor([1, 2, 0, 2, 2, 1, 2, 0, 0, 2, 2, 2, 2, 2, 1, 2])\n",
            "x.shape:  torch.Size([16, 1, 10, 10])\n",
            "y.shape: torch.Size([16])\n",
            "yhat.shape:  torch.Size([16, 3])\n",
            "y.shape: torch.Size([16])\n",
            "tensor([[  7.3204,  -0.0212,  -2.1209],\n",
            "        [ 10.0063,   2.7433, -10.8433],\n",
            "        [ -0.4888,  -0.7405,   1.4701],\n",
            "        [ -0.4888,  -0.7405,   1.4701],\n",
            "        [  7.3204,  -0.0212,  -2.1209],\n",
            "        [ -0.4888,  -0.7405,   1.4701],\n",
            "        [  8.0200,   1.1899,  -6.0938],\n",
            "        [ -0.4888,  -0.7405,   1.4701],\n",
            "        [  0.5179,   6.0115,  -4.7493],\n",
            "        [ 10.0063,   2.7433, -10.8433],\n",
            "        [  9.5642,   2.5549,  -9.2995],\n",
            "        [  9.2680,   3.1552,  -7.3485],\n",
            "        [  0.4741,   7.3178,  -5.1285],\n",
            "        [ -0.4888,  -0.7405,   1.4701],\n",
            "        [ -0.4888,  -0.7405,   1.4701],\n",
            "        [  1.2478,   7.5828,  -5.8709]], grad_fn=<AddmmBackward0>)\n",
            "predicted tensor([0, 0, 2, 2, 0, 2, 0, 2, 1, 0, 0, 0, 1, 2, 2, 1])\n",
            "y_lables:  tensor([0, 0, 1, 2, 0, 2, 0, 2, 1, 0, 0, 0, 1, 2, 2, 1])\n",
            "x.shape:  torch.Size([8, 1, 10, 10])\n",
            "y.shape: torch.Size([8])\n",
            "yhat.shape:  torch.Size([8, 3])\n",
            "y.shape: torch.Size([8])\n",
            "tensor([[-0.4888, -0.7405,  1.4701],\n",
            "        [ 8.0200,  1.1899, -6.0938],\n",
            "        [-0.4888, -0.7405,  1.4701],\n",
            "        [ 6.4709, -1.2642, -2.8015],\n",
            "        [-0.4888, -0.7405,  1.4701],\n",
            "        [ 0.5179,  6.0115, -4.7493],\n",
            "        [ 9.2680,  3.1552, -7.3485],\n",
            "        [-0.4888, -0.7405,  1.4701]], grad_fn=<AddmmBackward0>)\n",
            "predicted tensor([2, 0, 2, 0, 2, 1, 0, 2])\n",
            "y_lables:  tensor([2, 0, 2, 0, 2, 1, 0, 2])\n"
          ]
        },
        {
          "output_type": "execute_result",
          "data": {
            "text/plain": [
              "tensor([[59, 67],\n",
              "        [55, 62],\n",
              "        [71, 71]])"
            ]
          },
          "metadata": {},
          "execution_count": 37
        }
      ],
      "source": [
        "StepByStep.loader_apply(sbs_cnn1.val_loader, sbs_cnn1.correct)"
      ]
    },
    {
      "cell_type": "markdown",
      "metadata": {
        "id": "EV0nJkjWVZt1"
      },
      "source": [
        "## Putting It All Together"
      ]
    },
    {
      "cell_type": "markdown",
      "metadata": {
        "id": "JDNTUJWnVZt1"
      },
      "source": [
        "### Data Preparation"
      ]
    },
    {
      "cell_type": "code",
      "execution_count": 38,
      "metadata": {
        "id": "9mbxaEg5VZt1"
      },
      "outputs": [],
      "source": [
        "# Builds tensors from numpy arrays BEFORE split\n",
        "# Modifies the scale of pixel values from [0, 255] to [0, 1]\n",
        "x_tensor = torch.as_tensor(images / 255).float()\n",
        "y_tensor = torch.as_tensor(labels).long()\n",
        "\n",
        "# Uses index_splitter to generate indices for training and\n",
        "# validation sets\n",
        "train_idx, val_idx = index_splitter(len(x_tensor), [80, 20])\n",
        "# Uses indices to perform the split\n",
        "x_train_tensor = x_tensor[train_idx]\n",
        "y_train_tensor = y_tensor[train_idx]\n",
        "x_val_tensor = x_tensor[val_idx]\n",
        "y_val_tensor = y_tensor[val_idx]\n",
        "\n",
        "# We're not doing any data augmentation now\n",
        "train_composer = Compose([Normalize(mean=(.5,), std=(.5,))])\n",
        "val_composer = Compose([Normalize(mean=(.5,), std=(.5,))])\n",
        "\n",
        "# Uses custom dataset to apply composed transforms to each set\n",
        "train_dataset = TransformedTensorDataset(x_train_tensor, y_train_tensor, transform=train_composer)\n",
        "val_dataset = TransformedTensorDataset(x_val_tensor, y_val_tensor, transform=val_composer)\n",
        "\n",
        "# Builds a weighted random sampler to handle imbalanced classes\n",
        "sampler = make_balanced_sampler(y_train_tensor)\n",
        "\n",
        "# Uses sampler in the training set to get a balanced data loader\n",
        "train_loader = DataLoader(dataset=train_dataset, batch_size=16, sampler=sampler)\n",
        "val_loader = DataLoader(dataset=val_dataset, batch_size=16)"
      ]
    },
    {
      "cell_type": "markdown",
      "metadata": {
        "id": "58EFuUaqVZt1"
      },
      "source": [
        "### Model Configuration"
      ]
    },
    {
      "cell_type": "code",
      "execution_count": 39,
      "metadata": {
        "id": "JEdYG6M0VZt1"
      },
      "outputs": [],
      "source": [
        "torch.manual_seed(13)\n",
        "model_cnn1 = nn.Sequential()\n",
        "\n",
        "# Featurizer\n",
        "# Block 1: 1@10x10 -> n_channels@8x8 -> n_channels@4x4\n",
        "n_channels = 1\n",
        "model_cnn1.add_module('conv1', nn.Conv2d(in_channels=1, out_channels=n_channels, kernel_size=3))\n",
        "model_cnn1.add_module('relu1', nn.ReLU())\n",
        "model_cnn1.add_module('maxp1', nn.MaxPool2d(kernel_size=2))\n",
        "# Flattening: n_channels * 4 * 4\n",
        "model_cnn1.add_module('flatten', nn.Flatten())\n",
        "\n",
        "# Classification\n",
        "# Hidden Layer\n",
        "model_cnn1.add_module('fc1', nn.Linear(in_features=n_channels*4*4, out_features=10))\n",
        "model_cnn1.add_module('relu2', nn.ReLU())\n",
        "# Output Layer\n",
        "model_cnn1.add_module('fc2', nn.Linear(in_features=10, out_features=3))\n",
        "\n",
        "lr = 0.1\n",
        "multi_loss_fn = nn.CrossEntropyLoss(reduction='mean')\n",
        "optimizer_cnn1 = optim.SGD(model_cnn1.parameters(), lr=lr)"
      ]
    },
    {
      "cell_type": "markdown",
      "metadata": {
        "id": "c0_gr8J1VZt1"
      },
      "source": [
        "### Model Training"
      ]
    },
    {
      "cell_type": "code",
      "execution_count": 40,
      "metadata": {
        "id": "It-mSM5nVZt2"
      },
      "outputs": [],
      "source": [
        "sbs_cnn1 = StepByStep(model_cnn1, multi_loss_fn, optimizer_cnn1)\n",
        "sbs_cnn1.set_loaders(train_loader, val_loader)\n",
        "sbs_cnn1.train(20)"
      ]
    },
    {
      "cell_type": "markdown",
      "metadata": {
        "id": "zx-Y9g8qVZt2"
      },
      "source": [
        "### Visualizing Filters"
      ]
    },
    {
      "cell_type": "code",
      "execution_count": 41,
      "metadata": {
        "id": "TPknxuF-VZt2",
        "outputId": "b466b9a4-44c3-4722-929b-a792a524a225",
        "colab": {
          "base_uri": "https://localhost:8080/",
          "height": 195
        }
      },
      "outputs": [
        {
          "output_type": "display_data",
          "data": {
            "text/plain": [
              "<Figure size 400x200 with 1 Axes>"
            ],
            "image/png": "[encoded data removed]"
          },
          "metadata": {}
        }
      ],
      "source": [
        "fig_filters = sbs_cnn1.visualize_filters('conv1', cmap='gray')"
      ]
    },
    {
      "cell_type": "markdown",
      "metadata": {
        "id": "8LHwup7pVZt2"
      },
      "source": [
        "### Capturing Outputs"
      ]
    },
    {
      "cell_type": "code",
      "execution_count": 42,
      "metadata": {
        "id": "tZ5YFCiqVZt2"
      },
      "outputs": [],
      "source": [
        "featurizer_layers = ['conv1', 'relu1', 'maxp1', 'flatten']\n",
        "classifier_layers = ['fc1', 'relu2', 'fc2']\n",
        "\n",
        "sbs_cnn1.attach_hooks(layers_to_hook=featurizer_layers + classifier_layers)\n",
        "\n",
        "images_batch, labels_batch = next(iter(val_loader))\n",
        "logits = sbs_cnn1.predict(images_batch)\n",
        "predicted = np.argmax(logits, 1)\n",
        "\n",
        "sbs_cnn1.remove_hooks()"
      ]
    },
    {
      "cell_type": "markdown",
      "metadata": {
        "id": "1Q5cR7XSVZt2"
      },
      "source": [
        "### Visualizing Feature Maps"
      ]
    },
    {
      "cell_type": "code",
      "execution_count": 44,
      "metadata": {
        "scrolled": false,
        "id": "d7bGnrpFVZt2",
        "outputId": "beac5564-54f6-42ba-f300-a3dd5f382a04",
        "colab": {
          "base_uri": "https://localhost:8080/",
          "height": 882
        }
      },
      "outputs": [
        {
          "output_type": "display_data",
          "data": {
            "text/plain": [
              "<Figure size 1500x600 with 40 Axes>"
            ],
            "image/png": "[encoded data removed]"
          },
          "metadata": {}
        },
        {
          "output_type": "display_data",
          "data": {
            "text/plain": [
              "<Figure size 1500x450 with 30 Axes>"
            ],
            "image/png": "[encoded data removed]"
          },
          "metadata": {}
        }
      ],
      "source": [
        "with plt.style.context('seaborn-v0_8-white'):\n",
        "    fig_maps1 = sbs_cnn1.visualize_outputs(featurizer_layers)\n",
        "    fig_maps2 = sbs_cnn1.visualize_outputs(classifier_layers, y=labels_batch, yhat=predicted)"
      ]
    },
    {
      "cell_type": "markdown",
      "metadata": {
        "id": "HTXIv56kVZt3"
      },
      "source": [
        "### Accuracy"
      ]
    },
    {
      "cell_type": "code",
      "execution_count": 45,
      "metadata": {
        "id": "x4IeNqRLVZt3",
        "outputId": "6b744256-9630-451f-d2c7-0d85401109fe",
        "colab": {
          "base_uri": "https://localhost:8080/"
        }
      },
      "outputs": [
        {
          "output_type": "stream",
          "name": "stdout",
          "text": [
            "x.shape:  torch.Size([16, 1, 10, 10])\n",
            "y.shape: torch.Size([16])\n",
            "yhat.shape:  torch.Size([16, 3])\n",
            "y.shape: torch.Size([16])\n",
            "tensor([[ -0.4888,  -0.7405,   1.4701],\n",
            "        [ -0.4888,  -0.7405,   1.4701],\n",
            "        [ -0.4888,  -0.7405,   1.4701],\n",
            "        [  8.7027,   1.7883,  -5.4678],\n",
            "        [  6.4709,  -1.2642,  -2.8015],\n",
            "        [  8.7027,   1.7883,  -5.4678],\n",
            "        [ -0.4888,  -0.7405,   1.4701],\n",
            "        [ -0.4888,  -0.7405,   1.4701],\n",
            "        [ -0.4888,  -0.7405,   1.4701],\n",
            "        [  0.8632,   6.2313,  -5.2358],\n",
            "        [ 10.0063,   2.7433, -10.8433],\n",
            "        [ -0.8574,   5.0248,  -2.7073],\n",
            "        [ -0.4888,  -0.7405,   1.4701],\n",
            "        [  1.2478,   7.5828,  -5.8709],\n",
            "        [ -0.4888,  -0.7405,   1.4701],\n",
            "        [  7.3204,  -0.0212,  -2.1209]], grad_fn=<AddmmBackward0>)\n",
            "predicted tensor([2, 2, 2, 0, 0, 0, 2, 2, 2, 1, 0, 1, 2, 1, 2, 0])\n",
            "y_lables:  tensor([2, 2, 2, 0, 0, 0, 0, 2, 0, 1, 0, 1, 2, 1, 2, 0])\n",
            "x.shape:  torch.Size([16, 1, 10, 10])\n",
            "y.shape: torch.Size([16])\n",
            "yhat.shape:  torch.Size([16, 3])\n",
            "y.shape: torch.Size([16])\n",
            "tensor([[ -0.4888,  -0.7405,   1.4701],\n",
            "        [ -0.2818,   5.4706,  -2.8386],\n",
            "        [ -0.7267,   4.7546,  -2.7934],\n",
            "        [  8.7027,   1.7883,  -5.4678],\n",
            "        [  1.2478,   7.5828,  -5.8709],\n",
            "        [ -0.4888,  -0.7405,   1.4701],\n",
            "        [ 10.0063,   2.7433, -10.8433],\n",
            "        [ -0.4888,  -0.7405,   1.4701],\n",
            "        [ -0.4888,  -0.7405,   1.4701],\n",
            "        [ -0.4888,  -0.7405,   1.4701],\n",
            "        [ -0.4888,  -0.7405,   1.4701],\n",
            "        [  8.7027,   1.7883,  -5.4678],\n",
            "        [ -0.4888,  -0.7405,   1.4701],\n",
            "        [  0.1232,   8.0260,  -5.7367],\n",
            "        [ -0.2818,   5.4706,  -2.8386],\n",
            "        [  8.7027,   1.7883,  -5.4678]], grad_fn=<AddmmBackward0>)\n",
            "predicted tensor([2, 1, 1, 0, 1, 2, 0, 2, 2, 2, 2, 0, 2, 1, 1, 0])\n",
            "y_lables:  tensor([1, 1, 1, 0, 1, 2, 0, 2, 2, 1, 2, 0, 2, 1, 1, 0])\n",
            "x.shape:  torch.Size([16, 1, 10, 10])\n",
            "y.shape: torch.Size([16])\n",
            "yhat.shape:  torch.Size([16, 3])\n",
            "y.shape: torch.Size([16])\n",
            "tensor([[ 9.2680,  3.1552, -7.3485],\n",
            "        [-0.4888, -0.7405,  1.4701],\n",
            "        [ 9.5867,  3.4091, -9.8553],\n",
            "        [-0.4888, -0.7405,  1.4701],\n",
            "        [-0.4888, -0.7405,  1.4701],\n",
            "        [-0.4888, -0.7405,  1.4701],\n",
            "        [ 9.5867,  3.4091, -9.8553],\n",
            "        [-0.6277,  6.9981, -4.4669],\n",
            "        [ 0.6663,  7.9310, -4.3047],\n",
            "        [-0.4888, -0.7405,  1.4701],\n",
            "        [ 0.1232,  8.0260, -5.7367],\n",
            "        [ 8.7027,  1.7883, -5.4678],\n",
            "        [ 8.0200,  1.1899, -6.0938],\n",
            "        [-0.4888, -0.7405,  1.4701],\n",
            "        [-0.4888, -0.7405,  1.4701],\n",
            "        [-0.4888, -0.7405,  1.4701]], grad_fn=<AddmmBackward0>)\n",
            "predicted tensor([0, 2, 0, 2, 2, 2, 0, 1, 1, 2, 1, 0, 0, 2, 2, 2])\n",
            "y_lables:  tensor([0, 2, 0, 2, 1, 2, 0, 1, 1, 2, 1, 0, 0, 2, 2, 2])\n",
            "x.shape:  torch.Size([16, 1, 10, 10])\n",
            "y.shape: torch.Size([16])\n",
            "yhat.shape:  torch.Size([16, 3])\n",
            "y.shape: torch.Size([16])\n",
            "tensor([[-0.4888, -0.7405,  1.4701],\n",
            "        [-0.4888, -0.7405,  1.4701],\n",
            "        [ 7.3204, -0.0212, -2.1209],\n",
            "        [ 9.5642,  2.5549, -9.2995],\n",
            "        [ 9.5867,  3.4091, -9.8553],\n",
            "        [ 0.5179,  6.0115, -4.7493],\n",
            "        [-0.7267,  4.7546, -2.7934],\n",
            "        [-0.4888, -0.7405,  1.4701],\n",
            "        [ 9.5642,  2.5549, -9.2995],\n",
            "        [-0.4888, -0.7405,  1.4701],\n",
            "        [-0.4888, -0.7405,  1.4701],\n",
            "        [ 9.5867,  3.4091, -9.8553],\n",
            "        [-0.4888, -0.7405,  1.4701],\n",
            "        [-0.2818,  5.4706, -2.8386],\n",
            "        [-0.4888, -0.7405,  1.4701],\n",
            "        [-0.5333,  5.1769, -2.3004]], grad_fn=<AddmmBackward0>)\n",
            "predicted tensor([2, 2, 0, 0, 0, 1, 1, 2, 0, 2, 2, 0, 2, 1, 2, 1])\n",
            "y_lables:  tensor([0, 2, 0, 0, 0, 1, 1, 2, 0, 2, 2, 0, 2, 1, 2, 1])\n",
            "x.shape:  torch.Size([16, 1, 10, 10])\n",
            "y.shape: torch.Size([16])\n",
            "yhat.shape:  torch.Size([16, 3])\n",
            "y.shape: torch.Size([16])\n",
            "tensor([[-0.2672,  5.6808, -3.7467],\n",
            "        [ 9.2680,  3.1552, -7.3485],\n",
            "        [ 9.5867,  3.4091, -9.8553],\n",
            "        [-0.4888, -0.7405,  1.4701],\n",
            "        [ 8.0200,  1.1899, -6.0938],\n",
            "        [-0.4888, -0.7405,  1.4701],\n",
            "        [-0.4888, -0.7405,  1.4701],\n",
            "        [ 1.2478,  7.5828, -5.8709],\n",
            "        [ 0.4741,  7.3178, -5.1285],\n",
            "        [-0.4888, -0.7405,  1.4701],\n",
            "        [ 8.0200,  1.1899, -6.0938],\n",
            "        [-0.4888, -0.7405,  1.4701],\n",
            "        [ 0.0643,  7.0286, -4.9647],\n",
            "        [-0.6277,  6.9981, -4.4669],\n",
            "        [-0.4888, -0.7405,  1.4701],\n",
            "        [-0.4888, -0.7405,  1.4701]], grad_fn=<AddmmBackward0>)\n",
            "predicted tensor([1, 0, 0, 2, 0, 2, 2, 1, 1, 2, 0, 2, 1, 1, 2, 2])\n",
            "y_lables:  tensor([1, 0, 0, 0, 0, 2, 2, 1, 1, 2, 0, 0, 1, 1, 2, 2])\n",
            "x.shape:  torch.Size([16, 1, 10, 10])\n",
            "y.shape: torch.Size([16])\n",
            "yhat.shape:  torch.Size([16, 3])\n",
            "y.shape: torch.Size([16])\n",
            "tensor([[ 9.5867,  3.4091, -9.8553],\n",
            "        [ 0.5179,  6.0115, -4.7493],\n",
            "        [ 1.2478,  7.5828, -5.8709],\n",
            "        [ 6.4709, -1.2642, -2.8015],\n",
            "        [ 0.6663,  7.9310, -4.3047],\n",
            "        [-0.4888, -0.7405,  1.4701],\n",
            "        [-0.4888, -0.7405,  1.4701],\n",
            "        [ 0.0643,  7.0286, -4.9647],\n",
            "        [-0.4888, -0.7405,  1.4701],\n",
            "        [-0.7267,  4.7546, -2.7934],\n",
            "        [ 0.4741,  7.3178, -5.1285],\n",
            "        [-0.2818,  5.4706, -2.8386],\n",
            "        [-0.5333,  5.1769, -2.3004],\n",
            "        [-0.4888, -0.7405,  1.4701],\n",
            "        [ 0.6663,  7.9310, -4.3047],\n",
            "        [ 8.0200,  1.1899, -6.0938]], grad_fn=<AddmmBackward0>)\n",
            "predicted tensor([0, 1, 1, 0, 1, 2, 2, 1, 2, 1, 1, 1, 1, 2, 1, 0])\n",
            "y_lables:  tensor([0, 1, 1, 0, 1, 0, 2, 1, 2, 1, 1, 1, 1, 2, 1, 0])\n",
            "x.shape:  torch.Size([16, 1, 10, 10])\n",
            "y.shape: torch.Size([16])\n",
            "yhat.shape:  torch.Size([16, 3])\n",
            "y.shape: torch.Size([16])\n",
            "tensor([[ -0.4888,  -0.7405,   1.4701],\n",
            "        [ -0.2818,   5.4706,  -2.8386],\n",
            "        [ -0.2818,   5.4706,  -2.8386],\n",
            "        [  1.2478,   7.5828,  -5.8709],\n",
            "        [  9.5642,   2.5549,  -9.2995],\n",
            "        [ -0.4888,  -0.7405,   1.4701],\n",
            "        [ -0.4888,  -0.7405,   1.4701],\n",
            "        [ 10.0063,   2.7433, -10.8433],\n",
            "        [ -0.4888,  -0.7405,   1.4701],\n",
            "        [ -0.4888,  -0.7405,   1.4701],\n",
            "        [  6.4709,  -1.2642,  -2.8015],\n",
            "        [ -0.4888,  -0.7405,   1.4701],\n",
            "        [ -0.4888,  -0.7405,   1.4701],\n",
            "        [  9.2680,   3.1552,  -7.3485],\n",
            "        [ -0.5333,   5.1769,  -2.3004],\n",
            "        [  8.0200,   1.1899,  -6.0938]], grad_fn=<AddmmBackward0>)\n",
            "predicted tensor([2, 1, 1, 1, 0, 2, 2, 0, 2, 2, 0, 2, 2, 0, 1, 0])\n",
            "y_lables:  tensor([2, 1, 1, 1, 0, 2, 1, 0, 2, 1, 0, 2, 2, 0, 1, 0])\n",
            "x.shape:  torch.Size([16, 1, 10, 10])\n",
            "y.shape: torch.Size([16])\n",
            "yhat.shape:  torch.Size([16, 3])\n",
            "y.shape: torch.Size([16])\n",
            "tensor([[-0.6277,  6.9981, -4.4669],\n",
            "        [-0.5333,  5.1769, -2.3004],\n",
            "        [ 0.5179,  6.0115, -4.7493],\n",
            "        [ 8.7027,  1.7883, -5.4678],\n",
            "        [-0.4888, -0.7405,  1.4701],\n",
            "        [-0.5333,  5.1769, -2.3004],\n",
            "        [-0.4888, -0.7405,  1.4701],\n",
            "        [ 8.0200,  1.1899, -6.0938],\n",
            "        [ 1.2478,  7.5828, -5.8709],\n",
            "        [-0.4888, -0.7405,  1.4701],\n",
            "        [ 9.5867,  3.4091, -9.8553],\n",
            "        [ 9.5867,  3.4091, -9.8553],\n",
            "        [ 8.7027,  1.7883, -5.4678],\n",
            "        [ 8.0200,  1.1899, -6.0938],\n",
            "        [-0.9474,  4.0280, -1.8893],\n",
            "        [-0.2672,  5.6808, -3.7467]], grad_fn=<AddmmBackward0>)\n",
            "predicted tensor([1, 1, 1, 0, 2, 1, 2, 0, 1, 2, 0, 0, 0, 0, 1, 1])\n",
            "y_lables:  tensor([1, 1, 1, 0, 2, 1, 2, 0, 1, 2, 0, 0, 0, 0, 1, 1])\n",
            "x.shape:  torch.Size([16, 1, 10, 10])\n",
            "y.shape: torch.Size([16])\n",
            "yhat.shape:  torch.Size([16, 3])\n",
            "y.shape: torch.Size([16])\n",
            "tensor([[ -0.4888,  -0.7405,   1.4701],\n",
            "        [ -0.4888,  -0.7405,   1.4701],\n",
            "        [ -0.6277,   6.9981,  -4.4669],\n",
            "        [  6.4709,  -1.2642,  -2.8015],\n",
            "        [ -0.7267,   4.7546,  -2.7934],\n",
            "        [ -0.4888,  -0.7405,   1.4701],\n",
            "        [  8.7027,   1.7883,  -5.4678],\n",
            "        [ -0.4888,  -0.7405,   1.4701],\n",
            "        [ 10.0063,   2.7433, -10.8433],\n",
            "        [ -0.4888,  -0.7405,   1.4701],\n",
            "        [  0.8632,   6.2313,  -5.2358],\n",
            "        [ -0.4888,  -0.7405,   1.4701],\n",
            "        [ -0.4888,  -0.7405,   1.4701],\n",
            "        [ -0.4888,  -0.7405,   1.4701],\n",
            "        [ -0.4888,  -0.7405,   1.4701],\n",
            "        [  8.0200,   1.1899,  -6.0938]], grad_fn=<AddmmBackward0>)\n",
            "predicted tensor([2, 2, 1, 0, 1, 2, 0, 2, 0, 2, 1, 2, 2, 2, 2, 0])\n",
            "y_lables:  tensor([2, 0, 1, 0, 1, 2, 0, 2, 0, 2, 1, 2, 2, 2, 0, 0])\n",
            "x.shape:  torch.Size([16, 1, 10, 10])\n",
            "y.shape: torch.Size([16])\n",
            "yhat.shape:  torch.Size([16, 3])\n",
            "y.shape: torch.Size([16])\n",
            "tensor([[ -0.4888,  -0.7405,   1.4701],\n",
            "        [ -0.7267,   4.7546,  -2.7934],\n",
            "        [  9.5867,   3.4091,  -9.8553],\n",
            "        [  0.1232,   8.0260,  -5.7367],\n",
            "        [  9.5867,   3.4091,  -9.8553],\n",
            "        [ -0.4888,  -0.7405,   1.4701],\n",
            "        [  0.8632,   6.2313,  -5.2358],\n",
            "        [  0.1232,   8.0260,  -5.7367],\n",
            "        [ -0.4888,  -0.7405,   1.4701],\n",
            "        [  9.5867,   3.4091,  -9.8553],\n",
            "        [ -0.4888,  -0.7405,   1.4701],\n",
            "        [ 10.0063,   2.7433, -10.8433],\n",
            "        [  0.0643,   7.0286,  -4.9647],\n",
            "        [ -0.7267,   4.7546,  -2.7934],\n",
            "        [ -0.4888,  -0.7405,   1.4701],\n",
            "        [  7.3204,  -0.0212,  -2.1209]], grad_fn=<AddmmBackward0>)\n",
            "predicted tensor([2, 1, 0, 1, 0, 2, 1, 1, 2, 0, 2, 0, 1, 1, 2, 0])\n",
            "y_lables:  tensor([2, 1, 0, 1, 0, 2, 1, 1, 2, 0, 2, 0, 1, 1, 2, 0])\n",
            "x.shape:  torch.Size([16, 1, 10, 10])\n",
            "y.shape: torch.Size([16])\n",
            "yhat.shape:  torch.Size([16, 3])\n",
            "y.shape: torch.Size([16])\n",
            "tensor([[  0.0643,   7.0286,  -4.9647],\n",
            "        [ -0.4888,  -0.7405,   1.4701],\n",
            "        [  6.4709,  -1.2642,  -2.8015],\n",
            "        [ -0.4888,  -0.7405,   1.4701],\n",
            "        [ -0.4888,  -0.7405,   1.4701],\n",
            "        [ -0.4888,  -0.7405,   1.4701],\n",
            "        [ -0.4888,  -0.7405,   1.4701],\n",
            "        [ 10.0063,   2.7433, -10.8433],\n",
            "        [  8.0200,   1.1899,  -6.0938],\n",
            "        [ -0.4888,  -0.7405,   1.4701],\n",
            "        [ -0.4888,  -0.7405,   1.4701],\n",
            "        [ -0.4888,  -0.7405,   1.4701],\n",
            "        [ -0.4888,  -0.7405,   1.4701],\n",
            "        [ -0.4888,  -0.7405,   1.4701],\n",
            "        [  0.8632,   6.2313,  -5.2358],\n",
            "        [ -0.4888,  -0.7405,   1.4701]], grad_fn=<AddmmBackward0>)\n",
            "predicted tensor([1, 2, 0, 2, 2, 2, 2, 0, 0, 2, 2, 2, 2, 2, 1, 2])\n",
            "y_lables:  tensor([1, 2, 0, 2, 2, 1, 2, 0, 0, 2, 2, 2, 2, 2, 1, 2])\n",
            "x.shape:  torch.Size([16, 1, 10, 10])\n",
            "y.shape: torch.Size([16])\n",
            "yhat.shape:  torch.Size([16, 3])\n",
            "y.shape: torch.Size([16])\n",
            "tensor([[  7.3204,  -0.0212,  -2.1209],\n",
            "        [ 10.0063,   2.7433, -10.8433],\n",
            "        [ -0.4888,  -0.7405,   1.4701],\n",
            "        [ -0.4888,  -0.7405,   1.4701],\n",
            "        [  7.3204,  -0.0212,  -2.1209],\n",
            "        [ -0.4888,  -0.7405,   1.4701],\n",
            "        [  8.0200,   1.1899,  -6.0938],\n",
            "        [ -0.4888,  -0.7405,   1.4701],\n",
            "        [  0.5179,   6.0115,  -4.7493],\n",
            "        [ 10.0063,   2.7433, -10.8433],\n",
            "        [  9.5642,   2.5549,  -9.2995],\n",
            "        [  9.2680,   3.1552,  -7.3485],\n",
            "        [  0.4741,   7.3178,  -5.1285],\n",
            "        [ -0.4888,  -0.7405,   1.4701],\n",
            "        [ -0.4888,  -0.7405,   1.4701],\n",
            "        [  1.2478,   7.5828,  -5.8709]], grad_fn=<AddmmBackward0>)\n",
            "predicted tensor([0, 0, 2, 2, 0, 2, 0, 2, 1, 0, 0, 0, 1, 2, 2, 1])\n",
            "y_lables:  tensor([0, 0, 1, 2, 0, 2, 0, 2, 1, 0, 0, 0, 1, 2, 2, 1])\n",
            "x.shape:  torch.Size([8, 1, 10, 10])\n",
            "y.shape: torch.Size([8])\n",
            "yhat.shape:  torch.Size([8, 3])\n",
            "y.shape: torch.Size([8])\n",
            "tensor([[-0.4888, -0.7405,  1.4701],\n",
            "        [ 8.0200,  1.1899, -6.0938],\n",
            "        [-0.4888, -0.7405,  1.4701],\n",
            "        [ 6.4709, -1.2642, -2.8015],\n",
            "        [-0.4888, -0.7405,  1.4701],\n",
            "        [ 0.5179,  6.0115, -4.7493],\n",
            "        [ 9.2680,  3.1552, -7.3485],\n",
            "        [-0.4888, -0.7405,  1.4701]], grad_fn=<AddmmBackward0>)\n",
            "predicted tensor([2, 0, 2, 0, 2, 1, 0, 2])\n",
            "y_lables:  tensor([2, 0, 2, 0, 2, 1, 0, 2])\n"
          ]
        },
        {
          "output_type": "execute_result",
          "data": {
            "text/plain": [
              "tensor([[59, 67],\n",
              "        [55, 62],\n",
              "        [71, 71]])"
            ]
          },
          "metadata": {},
          "execution_count": 45
        }
      ],
      "source": [
        "StepByStep.loader_apply(sbs_cnn1.val_loader, sbs_cnn1.correct)"
      ]
    },
    {
      "cell_type": "code",
      "execution_count": null,
      "metadata": {
        "id": "Z5_w_CzBVZt3"
      },
      "outputs": [],
      "source": []
    }
  ],
  "metadata": {
    "kernelspec": {
      "display_name": "Python 3 (ipykernel)",
      "language": "python",
      "name": "python3"
    },
    "language_info": {
      "codemirror_mode": {
        "name": "ipython",
        "version": 3
      },
      "file_extension": ".py",
      "mimetype": "text/x-python",
      "name": "python",
      "nbconvert_exporter": "python",
      "pygments_lexer": "ipython3",
      "version": "3.9.0"
    },
    "colab": {
      "provenance": [],
      "collapsed_sections": [
        "M-qPhDXBVZta",
        "E2YUFyKxVZtb",
        "9OTh6tpJVZtc",
        "-U5gKoMUVZtd",
        "zN-QR7gzVZte",
        "3o5AEaOOVZte",
        "ipXu8EuEVZtg",
        "zSCoTmLFVZtl",
        "YVc7_fxjVZtm",
        "-p_5UcjKVZtn",
        "cU51rULHVZto",
        "c7qzWfvVVZtr",
        "6SdVZKTlVZtt",
        "oFVDKNluVZtt",
        "Tx6fdgM5VZtu",
        "wmH3RYEBVZtu",
        "EV0nJkjWVZt1",
        "JDNTUJWnVZt1",
        "58EFuUaqVZt1"
      ],
      "include_colab_link": true
    }
  },
  "nbformat": 4,
  "nbformat_minor": 0
}