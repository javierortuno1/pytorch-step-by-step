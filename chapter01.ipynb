{
  "cells": [
    {
      "cell_type": "markdown",
      "metadata": {
        "id": "view-in-github",
        "colab_type": "text"
      },
      "source": [
        "<a href=\"https://colab.research.google.com/github/javierortuno1/pytorch-step-by-step/blob/main/chapter01.ipynb\" target=\"_parent\"><img src=\"https://colab.research.google.com/assets/colab-badge.svg\" alt=\"Open In Colab\"/></a>"
      ]
    },
    {
      "cell_type": "markdown",
      "metadata": {
        "id": "046-PD6BjPVk"
      },
      "source": [
        "# Deep Learning with PyTorch Step-by-Step: A Beginner's Guide"
      ]
    },
    {
      "cell_type": "markdown",
      "metadata": {
        "id": "dgyCjaHijPVp"
      },
      "source": [
        "# Chapter 1"
      ]
    },
    {
      "cell_type": "code",
      "execution_count": 2,
      "metadata": {
        "id": "7J71xWOgjPVq",
        "colab": {
          "base_uri": "https://localhost:8080/"
        },
        "outputId": "b8aa3ab3-596e-4b2e-8289-f88c05ca7f37"
      },
      "outputs": [
        {
          "output_type": "stream",
          "name": "stdout",
          "text": [
            "Installing torchviz...\n",
            "Downloading files from GitHub repo to Colab...\n",
            "Creating folders...\n",
            "Finished!\n"
          ]
        }
      ],
      "source": [
        "try:\n",
        "    import google.colab\n",
        "    import requests\n",
        "    url = 'https://raw.githubusercontent.com/dvgodoy/PyTorchStepByStep/master/config.py'\n",
        "    r = requests.get(url, allow_redirects=True)\n",
        "    open('config.py', 'wb').write(r.content)\n",
        "except ModuleNotFoundError:\n",
        "    pass\n",
        "\n",
        "from config import *\n",
        "config_chapter1()\n",
        "# This is needed to render the plots in this chapter\n",
        "from plots.chapter1 import *"
      ]
    },
    {
      "cell_type": "code",
      "execution_count": 3,
      "metadata": {
        "id": "tUZ9B08ljPVs"
      },
      "outputs": [],
      "source": [
        "import numpy as np\n",
        "from sklearn.linear_model import LinearRegression\n",
        "\n",
        "import torch\n",
        "import torch.optim as optim\n",
        "import torch.nn as nn\n",
        "from torchviz import make_dot"
      ]
    },
    {
      "cell_type": "markdown",
      "metadata": {
        "id": "wBhJnWrUjPVt"
      },
      "source": [
        "# A Simple Regression Problem\n",
        "\n",
        "$$\n",
        "\\Large y = b + w x + \\epsilon\n",
        "$$"
      ]
    },
    {
      "cell_type": "markdown",
      "metadata": {
        "id": "jQpR6tuMjPVt"
      },
      "source": [
        "## Data Generation"
      ]
    },
    {
      "cell_type": "markdown",
      "metadata": {
        "id": "yvPsBwVEjPVt"
      },
      "source": [
        "### Synthetic Data Generation"
      ]
    },
    {
      "cell_type": "code",
      "execution_count": 17,
      "metadata": {
        "id": "U3ECpTPLjPVu",
        "colab": {
          "base_uri": "https://localhost:8080/"
        },
        "outputId": "289e3ebe-db1c-4a5e-dfe3-8eb198ca5c70"
      },
      "outputs": [
        {
          "output_type": "stream",
          "name": "stdout",
          "text": [
            "(100, 1) (100, 1)\n"
          ]
        }
      ],
      "source": [
        "true_b = 1\n",
        "true_w = 2\n",
        "N = 100      # Total number of points to be made of x and y pairs\n",
        "\n",
        "# Data Generation\n",
        "np.random.seed(42)\n",
        "x = np.random.rand(N, 1)                  # Creates 100 random x values\n",
        "epsilon = (.1 * np.random.randn(N, 1))    # Creates 100 noise values\n",
        "y = true_b + true_w * x + epsilon         # Creates 100 y values\n",
        "\n",
        "print(x.shape, y.shape)"
      ]
    },
    {
      "cell_type": "markdown",
      "metadata": {
        "id": "-RQO44gujPVu"
      },
      "source": [
        "### Cell 1.1"
      ]
    },
    {
      "cell_type": "code",
      "execution_count": 18,
      "metadata": {
        "id": "iAUUK1bMjPVv"
      },
      "outputs": [],
      "source": [
        "# THEN: Create indices to split data based on the generated data\n",
        "idx = np.arange(N)                  # Creates indices [0,1,2,...,99]\n",
        "np.random.shuffle(idx)              # Shuffles to like [45,21,8,...,67]\n",
        "\n",
        "# Uses first 80 random indices for train\n",
        "train_idx = idx[:int(N*.8)]         # Takes first 80 indices\n",
        "# Uses the remaining indices for validation\n",
        "val_idx = idx[int(N*.8):]\n",
        "\n",
        "# Generates train and validation sets\n",
        "x_train, y_train = x[train_idx], y[train_idx]     # Takes the x values at those 80 indices\n",
        "x_val, y_val = x[val_idx], y[val_idx]"
      ]
    },
    {
      "cell_type": "code",
      "source": [
        "print(x_train.shape, y_train.shape)\n",
        "print(x_val.shape, y_val.shape)"
      ],
      "metadata": {
        "colab": {
          "base_uri": "https://localhost:8080/"
        },
        "id": "4s95Eaw7jpPW",
        "outputId": "db13c6d0-a09c-422b-97cc-0fb02e222edb"
      },
      "execution_count": 19,
      "outputs": [
        {
          "output_type": "stream",
          "name": "stdout",
          "text": [
            "(80, 1) (80, 1)\n",
            "(20, 1) (20, 1)\n"
          ]
        }
      ]
    },
    {
      "cell_type": "code",
      "execution_count": 20,
      "metadata": {
        "id": "RPkxvQ6djPVv",
        "outputId": "1f90638b-0319-4199-eaab-bbca0a29690b",
        "colab": {
          "base_uri": "https://localhost:8080/",
          "height": 664
        }
      },
      "outputs": [
        {
          "output_type": "execute_result",
          "data": {
            "text/plain": [
              "(<Figure size 1200x600 with 2 Axes>,\n",
              " array([<Axes: title={'center': 'Generated Data - Train'}, xlabel='x', ylabel='y'>,\n",
              "        <Axes: title={'center': 'Generated Data - Validation'}, xlabel='x', ylabel='y'>],\n",
              "       dtype=object))"
            ]
          },
          "metadata": {},
          "execution_count": 20
        },
        {
          "output_type": "display_data",
          "data": {
            "text/plain": [
              "<Figure size 1200x600 with 2 Axes>"
            ],
            "image/png": "[encoded data removed]"
          },
          "metadata": {}
        }
      ],
      "source": [
        "figure1(x_train, y_train, x_val, y_val)"
      ]
    },
    {
      "cell_type": "markdown",
      "metadata": {
        "id": "uzXwI_yHjPVw"
      },
      "source": [
        "# Gradient Descent"
      ]
    },
    {
      "cell_type": "markdown",
      "metadata": {
        "id": "S7CbnRLJjPVx"
      },
      "source": [
        "## Step 0: Random Initialization"
      ]
    },
    {
      "cell_type": "code",
      "execution_count": 20,
      "metadata": {
        "id": "GagkClOujPVx",
        "outputId": "21afe0c9-bbc8-4b58-f749-9a009f7eab48",
        "colab": {
          "base_uri": "https://localhost:8080/"
        }
      },
      "outputs": [
        {
          "output_type": "stream",
          "name": "stdout",
          "text": [
            "[0.49671415] [-0.1382643]\n"
          ]
        }
      ],
      "source": [
        "# Step 0 - Initializes parameters \"b\" and \"w\" randomly\n",
        "np.random.seed(42)\n",
        "b = np.random.randn(1)\n",
        "w = np.random.randn(1)\n",
        "\n",
        "print(b, w)"
      ]
    },
    {
      "cell_type": "markdown",
      "metadata": {
        "id": "gCuStUBpjPVx"
      },
      "source": [
        "## Step 1: Compute Model's Predictions (FORWARD PASS)\n",
        "\n",
        "It simply compute the model's predictions (yhat) using the current values of parameters / weights"
      ]
    },
    {
      "cell_type": "code",
      "execution_count": 21,
      "metadata": {
        "id": "q-rkRa4LjPVx",
        "colab": {
          "base_uri": "https://localhost:8080/"
        },
        "outputId": "a6d7f7b1-f3e8-49c8-ea9d-d8d866112670"
      },
      "outputs": [
        {
          "output_type": "stream",
          "name": "stdout",
          "text": [
            "(80, 1)\n"
          ]
        }
      ],
      "source": [
        "# Step 1 - Computes our model's predicted output - forward pass\n",
        "yhat = b + w * x_train\n",
        "\n",
        "print(yhat.shape)"
      ]
    },
    {
      "cell_type": "markdown",
      "metadata": {
        "id": "8BjkKurajPVx"
      },
      "source": [
        "## Step 2: Compute the Loss"
      ]
    },
    {
      "cell_type": "code",
      "execution_count": 22,
      "metadata": {
        "id": "ydizDiMkjPVy",
        "outputId": "3e7ca327-7827-4fed-e636-815bb4a7a687",
        "colab": {
          "base_uri": "https://localhost:8080/"
        }
      },
      "outputs": [
        {
          "output_type": "stream",
          "name": "stdout",
          "text": [
            "(80, 1)\n",
            "2.7421577700550976\n"
          ]
        }
      ],
      "source": [
        "# Step 2 - Computing the loss\n",
        "# We are using ALL data points, so this is BATCH gradient\n",
        "# descent. How wrong is our model? That's the error!\n",
        "error = (yhat - y_train)            # Difference per point\n",
        "print(error.shape)\n",
        "\n",
        "# It is a regression, so it computes mean squared error (MSE)\n",
        "loss = (error ** 2).mean()          # summary statistic, that tells us on average how far off our predictions are from the true values.\n",
        "print(loss)"
      ]
    },
    {
      "cell_type": "markdown",
      "metadata": {
        "id": "19QnrGE8jPVy"
      },
      "source": [
        "## Step 3: Compute the Gradients (How much our loss changes when we vary each of our two parameters separately?)\n",
        "\n",
        "\n",
        "Gradient = How much the loss changes if one parameter changes a little bit"
      ]
    },
    {
      "cell_type": "code",
      "execution_count": 23,
      "metadata": {
        "id": "VdXP069ojPVy",
        "outputId": "d5f17ee4-f461-4637-d52e-5566a74ae685",
        "colab": {
          "base_uri": "https://localhost:8080/"
        }
      },
      "outputs": [
        {
          "output_type": "stream",
          "name": "stdout",
          "text": [
            "-3.044811379650508 -1.8337537171510832\n"
          ]
        }
      ],
      "source": [
        "# Step 3 - Computes gradients for both \"b\" and \"w\" parameters\n",
        "b_grad = 2 * error.mean()\n",
        "w_grad = 2 * (x_train * error).mean()\n",
        "print(b_grad, w_grad)"
      ]
    },
    {
      "cell_type": "markdown",
      "metadata": {
        "id": "xXaTR24WjPVz"
      },
      "source": [
        "## Step 4: Update the Parameters"
      ]
    },
    {
      "cell_type": "code",
      "execution_count": 24,
      "metadata": {
        "id": "TgKVTJc-jPVz",
        "outputId": "fbe9e660-1804-408c-dfe3-ec08a540678c",
        "colab": {
          "base_uri": "https://localhost:8080/"
        }
      },
      "outputs": [
        {
          "output_type": "stream",
          "name": "stdout",
          "text": [
            "[0.49671415] [-0.1382643]\n",
            "[0.80119529] [0.04511107]\n"
          ]
        }
      ],
      "source": [
        "# Sets learning rate - this is \"eta\" ~ the \"n\" like Greek letter\n",
        "lr = 0.1\n",
        "print(b, w)\n",
        "\n",
        "# Step 4 - Updates parameters using gradients and\n",
        "# the learning rate\n",
        "b = b - lr * b_grad\n",
        "w = w - lr * w_grad\n",
        "\n",
        "print(b, w)"
      ]
    },
    {
      "cell_type": "markdown",
      "metadata": {
        "id": "cghzITQCjPVz"
      },
      "source": [
        "## Step 5: Rinse and Repeat!"
      ]
    },
    {
      "cell_type": "code",
      "execution_count": 25,
      "metadata": {
        "id": "o_omNi96jPV0"
      },
      "outputs": [],
      "source": [
        "# Go back to Step 1 and run observe how your parameters b and w change"
      ]
    },
    {
      "cell_type": "markdown",
      "metadata": {
        "id": "d_92P0IgjPV0"
      },
      "source": [
        "# Linear Regression in Numpy"
      ]
    },
    {
      "cell_type": "markdown",
      "metadata": {
        "id": "tYWlbOEhjPV0"
      },
      "source": [
        "### Cell 1.2"
      ]
    },
    {
      "cell_type": "code",
      "execution_count": 26,
      "metadata": {
        "id": "Y5pJK3kpjPV0",
        "outputId": "92ec6776-8c50-4a5e-8507-ccf6069a3785",
        "colab": {
          "base_uri": "https://localhost:8080/"
        }
      },
      "outputs": [
        {
          "output_type": "stream",
          "name": "stdout",
          "text": [
            "[0.49671415] [-0.1382643]\n",
            "[1.02354094] [1.96896411]\n"
          ]
        }
      ],
      "source": [
        "# Step 0 - Initializes parameters \"b\" and \"w\" randomly\n",
        "np.random.seed(42)\n",
        "b = np.random.randn(1)\n",
        "w = np.random.randn(1)\n",
        "\n",
        "print(b, w)\n",
        "\n",
        "# Sets learning rate - this is \"eta\" ~ the \"n\"-like Greek letter\n",
        "lr = 0.1\n",
        "# Defines number of epochs\n",
        "n_epochs = 1000\n",
        "\n",
        "for epoch in range(n_epochs):             # Meaning that going once through all of the steps is already one epoch\n",
        "    # Step 1 - Computes model's predicted output - forward pass\n",
        "    yhat = b + w * x_train\n",
        "\n",
        "    # Step 2 - Computes the loss\n",
        "    # We are using ALL data points, so this is BATCH gradient\n",
        "    # descent. How wrong is our model? That's the error!\n",
        "    error = (yhat - y_train)\n",
        "    # It is a regression, so it computes mean squared error (MSE)\n",
        "    loss = (error ** 2).mean()\n",
        "\n",
        "    # Step 3 - Computes gradients for both \"b\" and \"w\" parameters\n",
        "    b_grad = 2 * error.mean()\n",
        "    w_grad = 2 * (x_train * error).mean()\n",
        "\n",
        "    # Step 4 - Updates parameters using gradients and\n",
        "    # the learning rate\n",
        "    b = b - lr * b_grad\n",
        "    w = w - lr * w_grad\n",
        "\n",
        "print(b, w)"
      ]
    },
    {
      "cell_type": "code",
      "execution_count": 27,
      "metadata": {
        "id": "Nd7wwvnPjPV1",
        "outputId": "42d9c1e5-1446-4fec-f9fc-16e104a377b2",
        "colab": {
          "base_uri": "https://localhost:8080/"
        }
      },
      "outputs": [
        {
          "output_type": "stream",
          "name": "stdout",
          "text": [
            "[1.02354075] [1.96896447]\n"
          ]
        }
      ],
      "source": [
        "# Sanity Check: do we get the same results as our\n",
        "# gradient descent?\n",
        "linr = LinearRegression()\n",
        "linr.fit(x_train, y_train)\n",
        "print(linr.intercept_, linr.coef_[0])"
      ]
    },
    {
      "cell_type": "code",
      "execution_count": 28,
      "metadata": {
        "id": "5nrw5dnMjPV1",
        "outputId": "cc0fdae8-cab0-4329-c144-82c26d74bf98",
        "colab": {
          "base_uri": "https://localhost:8080/",
          "height": 0
        }
      },
      "outputs": [
        {
          "output_type": "display_data",
          "data": {
            "text/plain": [
              "<Figure size 600x600 with 1 Axes>"
            ],
            "image/png": "[encoded data removed]"
          },
          "metadata": {}
        }
      ],
      "source": [
        "fig = figure3(x_train, y_train)"
      ]
    },
    {
      "cell_type": "markdown",
      "metadata": {
        "id": "EJWNphLIjPV1"
      },
      "source": [
        "# PyTorch"
      ]
    },
    {
      "cell_type": "markdown",
      "metadata": {
        "id": "0oOTDtL8jPV2"
      },
      "source": [
        "## Tensor"
      ]
    },
    {
      "cell_type": "code",
      "execution_count": 29,
      "metadata": {
        "id": "OxB46TJRjPV2",
        "outputId": "43a22860-15f5-4d9b-8f8e-2d0da18bb1d1",
        "colab": {
          "base_uri": "https://localhost:8080/"
        }
      },
      "outputs": [
        {
          "output_type": "stream",
          "name": "stdout",
          "text": [
            "tensor(3.1416)\n",
            "tensor([1, 2, 3])\n",
            "tensor([[1., 1., 1.],\n",
            "        [1., 1., 1.]])\n",
            "tensor([[[ 1.0597, -0.0416,  0.8763,  0.7957],\n",
            "         [ 0.7865, -0.7329,  1.0715,  0.2057],\n",
            "         [-0.2233, -1.9006,  0.2356, -0.7141]],\n",
            "\n",
            "        [[-0.2602,  0.1366, -1.1430, -0.7096],\n",
            "         [ 0.6857,  0.5971,  0.2479, -1.1979],\n",
            "         [-0.9257,  0.2143, -0.0945,  0.3145]]])\n"
          ]
        }
      ],
      "source": [
        "scalar = torch.tensor(3.14159)\n",
        "vector = torch.tensor([1, 2, 3])\n",
        "matrix = torch.ones((2, 3), dtype=torch.float)\n",
        "tensor = torch.randn((2, 3, 4), dtype=torch.float)\n",
        "\n",
        "print(scalar)\n",
        "print(vector)\n",
        "print(matrix)\n",
        "print(tensor)"
      ]
    },
    {
      "cell_type": "code",
      "execution_count": 30,
      "metadata": {
        "id": "fegzIgSOjPV2",
        "outputId": "25417be1-fb41-4125-892e-bc28cd0736ec",
        "colab": {
          "base_uri": "https://localhost:8080/"
        }
      },
      "outputs": [
        {
          "output_type": "stream",
          "name": "stdout",
          "text": [
            "torch.Size([2, 3, 4]) torch.Size([2, 3, 4])\n"
          ]
        }
      ],
      "source": [
        "print(tensor.size(), tensor.shape)"
      ]
    },
    {
      "cell_type": "code",
      "execution_count": 31,
      "metadata": {
        "id": "fkFQqTH7jPV3",
        "outputId": "d65dbba6-4b26-4416-e79e-5f1a1b7d6f3a",
        "colab": {
          "base_uri": "https://localhost:8080/"
        }
      },
      "outputs": [
        {
          "output_type": "stream",
          "name": "stdout",
          "text": [
            "torch.Size([]) torch.Size([])\n"
          ]
        }
      ],
      "source": [
        "print(scalar.size(), scalar.shape)"
      ]
    },
    {
      "cell_type": "markdown",
      "source": [
        "in real applications, reshaping is often necessary to make data compatible with model architectures or mathematical operations.\n",
        "\n",
        "\n",
        "Key points:\n",
        "\n",
        "Total number of elements stays the same (2×3 = 1×6 = 6 elements)\n",
        "It's like reshaping/reorganizing elements:\n",
        "\n",
        "\n",
        "They share the same memory location - they're looking at the same data just arranged differently\n",
        "That's why changing one changes both - they're the same data, just viewed differently\n",
        "\n"
      ],
      "metadata": {
        "id": "AxwbOIfbI8Ld"
      }
    },
    {
      "cell_type": "code",
      "execution_count": 32,
      "metadata": {
        "id": "ogDLfZyPjPV3",
        "outputId": "3e067068-4b86-4497-fbdc-136c75f21296",
        "colab": {
          "base_uri": "https://localhost:8080/"
        }
      },
      "outputs": [
        {
          "output_type": "stream",
          "name": "stdout",
          "text": [
            "tensor([[1., 2., 1.],\n",
            "        [1., 1., 1.]])\n",
            "tensor([[1., 2., 1., 1., 1., 1.]])\n"
          ]
        }
      ],
      "source": [
        "# We get a tensor with a different shape but it still is\n",
        "# the SAME tensor\n",
        "same_matrix = matrix.view(1, 6)\n",
        "# If we change one of its elements...\n",
        "same_matrix[0, 1] = 2.\n",
        "# It changes both variables: matrix and same_matrix\n",
        "print(matrix)\n",
        "print(same_matrix)\n",
        "\n",
        "# [[1, 1, 1],      [[1, 1, 1, 1, 1, 1]]\n",
        "#  [1, 1, 1]]  →"
      ]
    },
    {
      "cell_type": "code",
      "execution_count": 33,
      "metadata": {
        "id": "lBb-nYTUjPV4",
        "outputId": "1c3fffea-a875-4b23-89bf-91ae88f60444",
        "colab": {
          "base_uri": "https://localhost:8080/"
        }
      },
      "outputs": [
        {
          "output_type": "stream",
          "name": "stdout",
          "text": [
            "tensor([[1., 2., 1.],\n",
            "        [1., 1., 1.]])\n",
            "tensor([[1., 3., 1., 1., 1., 1.]])\n"
          ]
        },
        {
          "output_type": "stream",
          "name": "stderr",
          "text": [
            "<ipython-input-33-bac3a3914f46>:2: UserWarning: To copy construct from a tensor, it is recommended to use sourceTensor.clone().detach() or sourceTensor.clone().detach().requires_grad_(True), rather than tensor.new_tensor(sourceTensor).\n",
            "  different_matrix = matrix.new_tensor(matrix.view(1, 6))\n"
          ]
        }
      ],
      "source": [
        "# We can use \"new_tensor\" method to REALLY copy it into a new one\n",
        "different_matrix = matrix.new_tensor(matrix.view(1, 6))\n",
        "# Now, if we change one of its elements...\n",
        "different_matrix[0, 1] = 3.\n",
        "# The original tensor (matrix) is left untouched!\n",
        "# But we get a \"warning\" from PyTorch telling us\n",
        "# to use \"clone()\" instead!\n",
        "print(matrix)\n",
        "print(different_matrix)"
      ]
    },
    {
      "cell_type": "code",
      "execution_count": 34,
      "metadata": {
        "id": "pDEuQGUTjPV4",
        "outputId": "b3985af2-0732-4e8e-f9fb-1e1acab5cefd",
        "colab": {
          "base_uri": "https://localhost:8080/"
        }
      },
      "outputs": [
        {
          "output_type": "stream",
          "name": "stdout",
          "text": [
            "tensor([[1., 2., 1.],\n",
            "        [1., 1., 1.]])\n",
            "tensor([[1., 4., 1., 1., 1., 1.]])\n"
          ]
        }
      ],
      "source": [
        "# Lets follow PyTorch's suggestion and use \"clone\" method\n",
        "another_matrix = matrix.view(1, 6).clone().detach()\n",
        "# Again, if we change one of its elements...\n",
        "another_matrix[0, 1] = 4.\n",
        "# The original tensor (matrix) is left untouched!\n",
        "print(matrix)\n",
        "print(another_matrix)"
      ]
    },
    {
      "cell_type": "markdown",
      "metadata": {
        "id": "ecBuxDM7jPV4"
      },
      "source": [
        "## Loading Data, Devices and CUDA"
      ]
    },
    {
      "cell_type": "code",
      "execution_count": 21,
      "metadata": {
        "id": "d9bZT05FjPV5",
        "outputId": "7e299d7b-8b8e-4767-9767-ecbbff010607",
        "colab": {
          "base_uri": "https://localhost:8080/"
        }
      },
      "outputs": [
        {
          "output_type": "execute_result",
          "data": {
            "text/plain": [
              "(dtype('float64'), torch.float64)"
            ]
          },
          "metadata": {},
          "execution_count": 21
        }
      ],
      "source": [
        "x_train_tensor = torch.as_tensor(x_train)   # FROM Numpy's arrays to PyTorch's tensors, retruning a Tensor that shares the same underlying data\n",
        "x_train.dtype, x_train_tensor.dtype"
      ]
    },
    {
      "cell_type": "code",
      "execution_count": 22,
      "metadata": {
        "id": "J_uOo_STjPV9",
        "outputId": "10a6d097-20e5-4a29-85e7-80df28006112",
        "colab": {
          "base_uri": "https://localhost:8080/"
        }
      },
      "outputs": [
        {
          "output_type": "execute_result",
          "data": {
            "text/plain": [
              "torch.float32"
            ]
          },
          "metadata": {},
          "execution_count": 22
        }
      ],
      "source": [
        "float_tensor = x_train_tensor.float()     # Less space in memory => Less precision\n",
        "float_tensor.dtype"
      ]
    },
    {
      "cell_type": "code",
      "execution_count": 23,
      "metadata": {
        "id": "fX8Hm8-bjPV9",
        "outputId": "78246b17-4746-4e13-f6bd-7e987bd3f593",
        "colab": {
          "base_uri": "https://localhost:8080/"
        }
      },
      "outputs": [
        {
          "output_type": "execute_result",
          "data": {
            "text/plain": [
              "tensor([1, 1, 3])"
            ]
          },
          "metadata": {},
          "execution_count": 23
        }
      ],
      "source": [
        "dummy_array = np.array([1, 2, 3])\n",
        "dummy_tensor = torch.as_tensor(dummy_array)\n",
        "# Modifies the numpy array\n",
        "dummy_array[1] = 1\n",
        "# Tensor gets modified too...\n",
        "dummy_tensor"
      ]
    },
    {
      "cell_type": "code",
      "execution_count": 24,
      "metadata": {
        "id": "QAHrHbFCjPV-",
        "outputId": "f09a263d-7a62-45b7-d509-a568978a90f6",
        "colab": {
          "base_uri": "https://localhost:8080/"
        }
      },
      "outputs": [
        {
          "output_type": "execute_result",
          "data": {
            "text/plain": [
              "array([1, 1, 3])"
            ]
          },
          "metadata": {},
          "execution_count": 24
        }
      ],
      "source": [
        "dummy_tensor.numpy()\n",
        "\n",
        "# The key is that tensors and numpy arrays serve different purposes,\n",
        "# and you often need to switch between them depending on what you're trying to do at each step of your ML pipeline."
      ]
    },
    {
      "cell_type": "markdown",
      "metadata": {
        "id": "TLHMpkemjPV-"
      },
      "source": [
        "### Defining your device"
      ]
    },
    {
      "cell_type": "code",
      "execution_count": 25,
      "metadata": {
        "id": "cEeZQCZGjPV-"
      },
      "outputs": [],
      "source": [
        "device = 'cuda' if torch.cuda.is_available() else 'cpu'"
      ]
    },
    {
      "cell_type": "code",
      "execution_count": 26,
      "metadata": {
        "id": "TF6kGwFcjPV-"
      },
      "outputs": [],
      "source": [
        "n_cudas = torch.cuda.device_count()\n",
        "for i in range(n_cudas):\n",
        "    print(torch.cuda.get_device_name(i))"
      ]
    },
    {
      "cell_type": "code",
      "execution_count": 27,
      "metadata": {
        "id": "TRScfN88jPV-",
        "outputId": "eb282da0-5e6a-43b4-a37a-fa0633f0a95c",
        "colab": {
          "base_uri": "https://localhost:8080/"
        }
      },
      "outputs": [
        {
          "output_type": "execute_result",
          "data": {
            "text/plain": [
              "tensor([0.7713], dtype=torch.float64)"
            ]
          },
          "metadata": {},
          "execution_count": 27
        }
      ],
      "source": [
        "gpu_tensor = torch.as_tensor(x_train).to(device)\n",
        "gpu_tensor[0]"
      ]
    },
    {
      "cell_type": "markdown",
      "metadata": {
        "id": "idB2K89JjPV-"
      },
      "source": [
        "### Cell 1.3"
      ]
    },
    {
      "cell_type": "code",
      "execution_count": 28,
      "metadata": {
        "scrolled": true,
        "id": "3r3FmjkrjPV-"
      },
      "outputs": [],
      "source": [
        "device = 'cuda' if torch.cuda.is_available() else 'cpu'\n",
        "\n",
        "# Our data was in Numpy arrays, but we need to transform them\n",
        "# into PyTorch's Tensors and then we send them to the\n",
        "# chosen device\n",
        "x_train_tensor = torch.as_tensor(x_train).float().to(device)\n",
        "y_train_tensor = torch.as_tensor(y_train).float().to(device)"
      ]
    },
    {
      "cell_type": "code",
      "execution_count": 29,
      "metadata": {
        "id": "_VL0SWIZjPV_",
        "outputId": "78ea394e-6bd1-4c3b-d27f-58d7a75dd205",
        "colab": {
          "base_uri": "https://localhost:8080/"
        }
      },
      "outputs": [
        {
          "output_type": "stream",
          "name": "stdout",
          "text": [
            "<class 'numpy.ndarray'> <class 'torch.Tensor'> torch.FloatTensor\n"
          ]
        }
      ],
      "source": [
        "# Here we can see the difference - notice that .type() is more\n",
        "# useful since it also tells us WHERE the tensor is (device)\n",
        "print(type(x_train), type(x_train_tensor), x_train_tensor.type())"
      ]
    },
    {
      "cell_type": "markdown",
      "source": [
        "Unfortunately, Numpy cannot handle GPU tensors! You need to make them CPU tensors first"
      ],
      "metadata": {
        "id": "e-qQFyaTOHgD"
      }
    },
    {
      "cell_type": "code",
      "execution_count": 30,
      "metadata": {
        "id": "xZdFk25BjPV_"
      },
      "outputs": [],
      "source": [
        "back_to_numpy = x_train_tensor.numpy()"
      ]
    },
    {
      "cell_type": "code",
      "execution_count": 31,
      "metadata": {
        "id": "4tM_zftIjPV_"
      },
      "outputs": [],
      "source": [
        "# So. to avoid this error, use first cpu() and then numpy()\n",
        "back_to_numpy = x_train_tensor.cpu().numpy()"
      ]
    },
    {
      "cell_type": "markdown",
      "metadata": {
        "id": "lpoYaloejPV_"
      },
      "source": [
        "## Creating Parameters"
      ]
    },
    {
      "cell_type": "code",
      "execution_count": 46,
      "metadata": {
        "id": "skM8M0BSjPV_",
        "colab": {
          "base_uri": "https://localhost:8080/"
        },
        "outputId": "237971fd-d4eb-47ae-8a4b-d3903f42e635"
      },
      "outputs": [
        {
          "output_type": "stream",
          "name": "stdout",
          "text": [
            "tensor([0.3367], requires_grad=True) tensor([0.1288], requires_grad=True)\n"
          ]
        }
      ],
      "source": [
        "# FIRST\n",
        "# Initializes parameters \"b\" and \"w\" randomly, ALMOST as we\n",
        "# did in Numpy since we want to apply gradient descent on\n",
        "# these parameters we need to set REQUIRES_GRAD = TRUE. This Flag can be interpreted as an identifier that those parameters are trainables,\n",
        "# since the requires_grad will computate the gradients of those tensors\n",
        "torch.manual_seed(42)\n",
        "b = torch.randn(1, requires_grad=True, dtype=torch.float)\n",
        "w = torch.randn(1, requires_grad=True, dtype=torch.float)\n",
        "print(b, w)"
      ]
    },
    {
      "cell_type": "code",
      "execution_count": 47,
      "metadata": {
        "id": "v3siBIqQjPWA",
        "colab": {
          "base_uri": "https://localhost:8080/"
        },
        "outputId": "e5315634-0777-4ecf-fcfe-65563fc4f3cb"
      },
      "outputs": [
        {
          "output_type": "stream",
          "name": "stdout",
          "text": [
            "tensor([0.3367], requires_grad=True) tensor([0.1288], requires_grad=True)\n"
          ]
        }
      ],
      "source": [
        "# SECOND\n",
        "# But what if we want to run it on a GPU? We could just\n",
        "# send them to device, right?\n",
        "torch.manual_seed(42)\n",
        "b = torch.randn(1, requires_grad=True, dtype=torch.float).to(device)\n",
        "w = torch.randn(1, requires_grad=True, dtype=torch.float).to(device)\n",
        "print(b, w)\n",
        "# Sorry, but NO! The to(device) \"shadows\" the gradient...\n",
        "\n",
        "# This new tensor loses the gradient tracking information\n",
        "# The gradient information gets \"shadowed\" (lost) in the transfer"
      ]
    },
    {
      "cell_type": "code",
      "execution_count": 48,
      "metadata": {
        "id": "gFPcrHoajPWA",
        "colab": {
          "base_uri": "https://localhost:8080/"
        },
        "outputId": "b7f36b13-0503-484e-a3fc-b1476ab3f8e6"
      },
      "outputs": [
        {
          "output_type": "stream",
          "name": "stdout",
          "text": [
            "tensor([0.3367], requires_grad=True) tensor([0.1288], requires_grad=True)\n"
          ]
        }
      ],
      "source": [
        "# THIRD\n",
        "# We can either create regular tensors and send them to\n",
        "# the device (as we did with our data)\n",
        "torch.manual_seed(42)\n",
        "b = torch.randn(1, dtype=torch.float).to(device)\n",
        "w = torch.randn(1, dtype=torch.float).to(device)\n",
        "# and THEN set them as requiring gradients...\n",
        "b.requires_grad_()              # In PyTorch, every method that ends with an underscore (_), like the requires_grad_(), make changes in-lace, meaning, they will modify the underlying variable\n",
        "w.requires_grad_()\n",
        "print(b, w)"
      ]
    },
    {
      "cell_type": "markdown",
      "metadata": {
        "id": "QPm7mduIjPWA"
      },
      "source": [
        "### Cell 1.4"
      ]
    },
    {
      "cell_type": "code",
      "execution_count": 49,
      "metadata": {
        "id": "if_bI6xNjPWA",
        "colab": {
          "base_uri": "https://localhost:8080/"
        },
        "outputId": "003544fd-a9c9-46d5-9927-2cc018499c92"
      },
      "outputs": [
        {
          "output_type": "stream",
          "name": "stdout",
          "text": [
            "tensor([0.3367], requires_grad=True) tensor([0.1288], requires_grad=True)\n"
          ]
        }
      ],
      "source": [
        "# FINAL\n",
        "# We can specify the device at the moment of creation\n",
        "# RECOMMENDED!\n",
        "\n",
        "# Step 0 - Initializes parameters \"b\" and \"w\" randomly\n",
        "torch.manual_seed(42)\n",
        "b = torch.randn(1, requires_grad=True, dtype=torch.float, device=device)\n",
        "w = torch.randn(1, requires_grad=True, dtype=torch.float, device=device)\n",
        "print(b, w)"
      ]
    },
    {
      "cell_type": "markdown",
      "metadata": {
        "id": "RPCIx2oWjPWB"
      },
      "source": [
        "# Autograd"
      ]
    },
    {
      "cell_type": "markdown",
      "metadata": {
        "id": "RNnF542rjPWB"
      },
      "source": [
        "## backward"
      ]
    },
    {
      "cell_type": "markdown",
      "metadata": {
        "id": "e9imnNl4jPWB"
      },
      "source": [
        "### Cell 1.5"
      ]
    },
    {
      "cell_type": "code",
      "execution_count": 50,
      "metadata": {
        "id": "0jxgQuz3jPWB"
      },
      "outputs": [],
      "source": [
        "# Step 1 - Computes our model's predicted output - forward pass\n",
        "yhat = b + w * x_train_tensor\n",
        "\n",
        "# Step 2 - Computes the loss\n",
        "# We are using ALL data points, so this is BATCH gradient descent\n",
        "# How wrong is our model? That's the error!\n",
        "error = (yhat - y_train_tensor)\n",
        "# It is a regression, so it computes mean squared error (MSE) -> Statistic summary of the error\n",
        "loss = (error ** 2).mean()\n",
        "\n",
        "# Step 3 - Computes gradients for both \"b\" and \"w\" parameters\n",
        "# No more manual computation of gradients!\n",
        "# b_grad = 2 * error.mean()\n",
        "# w_grad = 2 * (x_tensor * error).mean()\n",
        "loss.backward() # Computing the gradients based on the loss and triggering the chain rule"
      ]
    },
    {
      "cell_type": "markdown",
      "source": [
        "Since b and w have been set requires_grad=True to both b and w, so they are obviously included in the list. we use them both to compute yhat, so it will also make it to the list. Then we use yhat to compute the error, which is also added to the list.\n",
        "\n",
        "Then if a tensor in the list is used to compute another tensor, the later will also be included in the list. Tracking these dependencies is exactly what the dynamic computation graph is doing."
      ],
      "metadata": {
        "id": "1Wklj7CXe771"
      }
    },
    {
      "cell_type": "code",
      "execution_count": 51,
      "metadata": {
        "id": "NNp88R1LjPWB",
        "outputId": "479dbc0d-2429-4371-f5b9-b8bdb9912e30",
        "colab": {
          "base_uri": "https://localhost:8080/"
        }
      },
      "outputs": [
        {
          "output_type": "stream",
          "name": "stdout",
          "text": [
            "True True True True\n",
            "False False\n"
          ]
        }
      ],
      "source": [
        "print(error.requires_grad, yhat.requires_grad, \\\n",
        "      b.requires_grad, w.requires_grad)\n",
        "print(y_train_tensor.requires_grad, x_train_tensor.requires_grad)"
      ]
    },
    {
      "cell_type": "markdown",
      "metadata": {
        "id": "udtR6kzujPWC"
      },
      "source": [
        "## grad\n",
        "\n",
        "With the grad attribute we can inspect the actual values of the gradients.\n",
        "\n",
        "If we compute the Forward pass and with the grad attribute we can see that the gradients are accumulative and that is not what we want. The idea is to calculate the gradients of the current loss, not to accumulate them\n",
        "\n",
        "\n",
        "Accumulation can be useful in some cases (like when you want to process multiple batches before updating), but usually you want to clear gradients before each backward pass to ensure proper parameter updates.\n",
        "\n",
        "The key is that without clearing gradients, you're using incorrect gradient values for your parameter updates, which can prevent proper model training.\n",
        "\n",
        "```\n",
        "# First backward pass\n",
        "loss.backward()  # grad = 0.5\n",
        "\n",
        "# Second backward pass without clearing\n",
        "loss.backward()  # grad = 0.5 + 0.5 = 1.0\n",
        "\n",
        "# Third backward pass without clearing  \n",
        "loss.backward()  # grad = 1.0 + 0.5 = 1.5\n",
        "```\n",
        "\n",
        "It turns out this behavior of accumulating the gradients can be useful to circumvent hardware limitations. During the training of large models, the necessary number of data points in a mini-batch my be too large to fit in memory (of the graphics card). How can one solve this, other than buying more-expensive hardware?\n",
        "\n",
        "One can split a mini-batch into \"sub-mini-batches\", comput the gradients for those \"subs\" and accumulate them to achieve the same result as computing the gradients on the full mini-batch\n"
      ]
    },
    {
      "cell_type": "code",
      "execution_count": 52,
      "metadata": {
        "id": "X8MW86BGjPWC",
        "outputId": "f6e7da82-9202-4149-d333-f49a2aa5e7e5",
        "colab": {
          "base_uri": "https://localhost:8080/"
        }
      },
      "outputs": [
        {
          "output_type": "stream",
          "name": "stdout",
          "text": [
            "tensor([-3.1125]) tensor([-1.8156])\n"
          ]
        }
      ],
      "source": [
        "print(b.grad, w.grad)"
      ]
    },
    {
      "cell_type": "code",
      "execution_count": 53,
      "metadata": {
        "id": "dxym2wODjPWC"
      },
      "outputs": [],
      "source": [
        "# Just run the two cells above one more time"
      ]
    },
    {
      "cell_type": "markdown",
      "metadata": {
        "id": "mO_Hs1w5jPWC"
      },
      "source": [
        "## zero_\n",
        "\n",
        "Every time we use the gradients to update the parameters, we need to zero the gradients afterwards. Therefore we can use this function. And we do it in-place to affect the underlying data"
      ]
    },
    {
      "cell_type": "code",
      "execution_count": 54,
      "metadata": {
        "id": "hYS_g1UIjPWC",
        "outputId": "b90572a5-4c5a-466a-dc3a-5cb473da72af",
        "colab": {
          "base_uri": "https://localhost:8080/"
        }
      },
      "outputs": [
        {
          "output_type": "execute_result",
          "data": {
            "text/plain": [
              "(tensor([0.]), tensor([0.]))"
            ]
          },
          "metadata": {},
          "execution_count": 54
        }
      ],
      "source": [
        "# This code will be placed *after* Step 4\n",
        "# (updating the parameters)\n",
        "b.grad.zero_(), w.grad.zero_()"
      ]
    },
    {
      "cell_type": "markdown",
      "metadata": {
        "id": "MQVLkAnVjPWC"
      },
      "source": [
        "## Updating Parameters"
      ]
    },
    {
      "cell_type": "markdown",
      "metadata": {
        "id": "jyZOyz6ujPWD"
      },
      "source": [
        "### Cell 1.6"
      ]
    },
    {
      "cell_type": "code",
      "execution_count": 55,
      "metadata": {
        "id": "0CFizGiXjPWD",
        "outputId": "faf8171e-756d-4ed5-e0b0-f9197be488d4",
        "colab": {
          "base_uri": "https://localhost:8080/"
        }
      },
      "outputs": [
        {
          "output_type": "stream",
          "name": "stdout",
          "text": [
            "tensor([1.0235], requires_grad=True) tensor([1.9690], requires_grad=True)\n"
          ]
        }
      ],
      "source": [
        "# Sets learning rate - this is \"eta\" ~ the \"n\"-like Greek letter\n",
        "lr = 0.1\n",
        "\n",
        "# Step 0 - Initializes parameters \"b\" and \"w\" randomly\n",
        "torch.manual_seed(42)\n",
        "b = torch.randn(1, requires_grad=True, dtype=torch.float, device=device)\n",
        "w = torch.randn(1, requires_grad=True, dtype=torch.float, device=device)\n",
        "\n",
        "# Defines number of epochs\n",
        "n_epochs = 1000\n",
        "\n",
        "for epoch in range(n_epochs):\n",
        "    # Step 1 - Computes model's predicted output - forward pass\n",
        "    yhat = b + w * x_train_tensor\n",
        "\n",
        "    # Step 2 - Computes the loss\n",
        "    # We are using ALL data points, so this is BATCH gradient\n",
        "    # descent. How wrong is our model? That's the error!\n",
        "    error = (yhat - y_train_tensor)\n",
        "    # It is a regression, so it computes mean squared error (MSE)\n",
        "    loss = (error ** 2).mean()\n",
        "\n",
        "    # Step 3 - Computes gradients for both \"b\" and \"w\" parameters\n",
        "    # No more manual computation of gradients!\n",
        "    # b_grad = 2 * error.mean()\n",
        "    # w_grad = 2 * (x_tensor * error).mean()\n",
        "    # We just tell PyTorch to work its way BACKWARDS\n",
        "    # from the specified loss!\n",
        "    loss.backward()\n",
        "\n",
        "    # Step 4 - Updates parameters using gradients and\n",
        "    # the learning rate. But not so fast...\n",
        "    # FIRST ATTEMPT - just using the same code as before\n",
        "    # AttributeError: 'NoneType' object has no attribute 'zero_'\n",
        "    # b = b - lr * b.grad\n",
        "    # w = w - lr * w.grad\n",
        "    # print(b)\n",
        "\n",
        "    # SECOND ATTEMPT - using in-place Python assigment\n",
        "    # RuntimeError: a leaf Variable that requires grad\n",
        "    # has been used in an in-place operation.\n",
        "    # b -= lr * b.grad\n",
        "    # w -= lr * w.grad\n",
        "\n",
        "    # THIRD ATTEMPT - NO_GRAD for the win!\n",
        "    # We need to use NO_GRAD to keep the update out of\n",
        "    # the gradient computation. Why is that? It boils\n",
        "    # down to the DYNAMIC GRAPH that PyTorch uses...\n",
        "    with torch.no_grad():\n",
        "        b -= lr * b.grad\n",
        "        w -= lr * w.grad\n",
        "\n",
        "    # PyTorch is \"clingy\" to its computed gradients, we\n",
        "    # need to tell it to let it go...\n",
        "    b.grad.zero_()\n",
        "    w.grad.zero_()\n",
        "\n",
        "print(b, w)"
      ]
    },
    {
      "cell_type": "markdown",
      "metadata": {
        "id": "ikhu0bmhjPWD"
      },
      "source": [
        "## no_grad\n",
        "\n",
        "It allows us to perform regular python operations on tensors without affecting PyTorch's computation graph\n",
        "\n",
        "In a nutshell, it allows us to update the params"
      ]
    },
    {
      "cell_type": "code",
      "execution_count": 56,
      "metadata": {
        "id": "oPqUj79ojPWD"
      },
      "outputs": [],
      "source": [
        "# This is what we used in the THIRD ATTEMPT..."
      ]
    },
    {
      "cell_type": "markdown",
      "metadata": {
        "id": "lqAuJk08jPWE"
      },
      "source": [
        "# Dynamic Computation Graph"
      ]
    },
    {
      "cell_type": "code",
      "execution_count": 96,
      "metadata": {
        "id": "0fsBU0ezjPWE",
        "outputId": "1a7cbb19-d09f-46be-cd11-110738122015",
        "colab": {
          "base_uri": "https://localhost:8080/",
          "height": 399
        }
      },
      "outputs": [
        {
          "output_type": "execute_result",
          "data": {
            "image/svg+xml": "<?xml version=\"1.0\" encoding=\"UTF-8\" standalone=\"no\"?>\n<!DOCTYPE svg PUBLIC \"-//W3C//DTD SVG 1.1//EN\"\n \"http://www.w3.org/Graphics/SVG/1.1/DTD/svg11.dtd\">\n<!-- Generated by graphviz version 2.43.0 (0)\n -->\n<!-- Title: %3 Pages: 1 -->\n<svg width=\"222pt\" height=\"283pt\"\n viewBox=\"0.00 0.00 222.00 283.00\" xmlns=\"http://www.w3.org/2000/svg\" xmlns:xlink=\"http://www.w3.org/1999/xlink\">\n<g id=\"graph0\" class=\"graph\" transform=\"scale(1 1) rotate(0) translate(4 279)\">\n<title>%3</title>\n<polygon fill=\"white\" stroke=\"transparent\" points=\"-4,4 -4,-279 218,-279 218,4 -4,4\"/>\n<!-- 138414339654176 -->\n<g id=\"node1\" class=\"node\">\n<title>138414339654176</title>\n<polygon fill=\"#caff70\" stroke=\"black\" points=\"139,-31 74,-31 74,0 139,0 139,-31\"/>\n<text text-anchor=\"middle\" x=\"106.5\" y=\"-7\" font-family=\"monospace\" font-size=\"10.00\"> (80, 1)</text>\n</g>\n<!-- 138414339845056 -->\n<g id=\"node2\" class=\"node\">\n<title>138414339845056</title>\n<polygon fill=\"lightgrey\" stroke=\"black\" points=\"151,-86 62,-86 62,-67 151,-67 151,-86\"/>\n<text text-anchor=\"middle\" x=\"106.5\" y=\"-74\" font-family=\"monospace\" font-size=\"10.00\">AddBackward0</text>\n</g>\n<!-- 138414339845056&#45;&gt;138414339654176 -->\n<g id=\"edge6\" class=\"edge\">\n<title>138414339845056&#45;&gt;138414339654176</title>\n<path fill=\"none\" stroke=\"black\" d=\"M106.5,-66.79C106.5,-60.07 106.5,-50.4 106.5,-41.34\"/>\n<polygon fill=\"black\" stroke=\"black\" points=\"110,-41.19 106.5,-31.19 103,-41.19 110,-41.19\"/>\n</g>\n<!-- 138414339835120 -->\n<g id=\"node3\" class=\"node\">\n<title>138414339835120</title>\n<polygon fill=\"lightgrey\" stroke=\"black\" points=\"101,-141 0,-141 0,-122 101,-122 101,-141\"/>\n<text text-anchor=\"middle\" x=\"50.5\" y=\"-129\" font-family=\"monospace\" font-size=\"10.00\">AccumulateGrad</text>\n</g>\n<!-- 138414339835120&#45;&gt;138414339845056 -->\n<g id=\"edge1\" class=\"edge\">\n<title>138414339835120&#45;&gt;138414339845056</title>\n<path fill=\"none\" stroke=\"black\" d=\"M59.5,-121.98C67.69,-114.23 80.01,-102.58 89.97,-93.14\"/>\n<polygon fill=\"black\" stroke=\"black\" points=\"92.48,-95.59 97.34,-86.17 87.67,-90.5 92.48,-95.59\"/>\n</g>\n<!-- 138414382949264 -->\n<g id=\"node4\" class=\"node\">\n<title>138414382949264</title>\n<polygon fill=\"lightblue\" stroke=\"black\" points=\"77.5,-208 23.5,-208 23.5,-177 77.5,-177 77.5,-208\"/>\n<text text-anchor=\"middle\" x=\"50.5\" y=\"-184\" font-family=\"monospace\" font-size=\"10.00\"> (1)</text>\n</g>\n<!-- 138414382949264&#45;&gt;138414339835120 -->\n<g id=\"edge2\" class=\"edge\">\n<title>138414382949264&#45;&gt;138414339835120</title>\n<path fill=\"none\" stroke=\"black\" d=\"M50.5,-176.92C50.5,-169.22 50.5,-159.69 50.5,-151.43\"/>\n<polygon fill=\"black\" stroke=\"black\" points=\"54,-151.25 50.5,-141.25 47,-151.25 54,-151.25\"/>\n</g>\n<!-- 138414339849088 -->\n<g id=\"node5\" class=\"node\">\n<title>138414339849088</title>\n<polygon fill=\"lightgrey\" stroke=\"black\" points=\"208,-141 119,-141 119,-122 208,-122 208,-141\"/>\n<text text-anchor=\"middle\" x=\"163.5\" y=\"-129\" font-family=\"monospace\" font-size=\"10.00\">MulBackward0</text>\n</g>\n<!-- 138414339849088&#45;&gt;138414339845056 -->\n<g id=\"edge3\" class=\"edge\">\n<title>138414339849088&#45;&gt;138414339845056</title>\n<path fill=\"none\" stroke=\"black\" d=\"M154.34,-121.98C146,-114.23 133.47,-102.58 123.32,-93.14\"/>\n<polygon fill=\"black\" stroke=\"black\" points=\"125.53,-90.42 115.82,-86.17 120.76,-95.54 125.53,-90.42\"/>\n</g>\n<!-- 138414339840016 -->\n<g id=\"node6\" class=\"node\">\n<title>138414339840016</title>\n<polygon fill=\"lightgrey\" stroke=\"black\" points=\"214,-202 113,-202 113,-183 214,-183 214,-202\"/>\n<text text-anchor=\"middle\" x=\"163.5\" y=\"-190\" font-family=\"monospace\" font-size=\"10.00\">AccumulateGrad</text>\n</g>\n<!-- 138414339840016&#45;&gt;138414339849088 -->\n<g id=\"edge4\" class=\"edge\">\n<title>138414339840016&#45;&gt;138414339849088</title>\n<path fill=\"none\" stroke=\"black\" d=\"M163.5,-182.79C163.5,-174.6 163.5,-162.06 163.5,-151.55\"/>\n<polygon fill=\"black\" stroke=\"black\" points=\"167,-151.24 163.5,-141.24 160,-151.24 167,-151.24\"/>\n</g>\n<!-- 138414341577984 -->\n<g id=\"node7\" class=\"node\">\n<title>138414341577984</title>\n<polygon fill=\"lightblue\" stroke=\"black\" points=\"190.5,-275 136.5,-275 136.5,-244 190.5,-244 190.5,-275\"/>\n<text text-anchor=\"middle\" x=\"163.5\" y=\"-251\" font-family=\"monospace\" font-size=\"10.00\"> (1)</text>\n</g>\n<!-- 138414341577984&#45;&gt;138414339840016 -->\n<g id=\"edge5\" class=\"edge\">\n<title>138414341577984&#45;&gt;138414339840016</title>\n<path fill=\"none\" stroke=\"black\" d=\"M163.5,-243.75C163.5,-234.39 163.5,-222.19 163.5,-212.16\"/>\n<polygon fill=\"black\" stroke=\"black\" points=\"167,-212.02 163.5,-202.02 160,-212.02 167,-212.02\"/>\n</g>\n</g>\n</svg>\n",
            "text/plain": [
              "<graphviz.graphs.Digraph at 0x7de3198ef250>"
            ]
          },
          "metadata": {},
          "execution_count": 96
        }
      ],
      "source": [
        "# Step 0 - Initializes parameters \"b\" and \"w\" randomly\n",
        "torch.manual_seed(42)\n",
        "b = torch.randn(1, requires_grad=True, \\\n",
        "                dtype=torch.float, device=device)\n",
        "w = torch.randn(1, requires_grad=True, \\\n",
        "                dtype=torch.float, device=device)\n",
        "\n",
        "# Step 1 - Computes our model's predicted output - forward pass\n",
        "yhat = b + w * x_train_tensor\n",
        "\n",
        "# Step 2 - Computes the loss\n",
        "# We are using ALL data points, so this is BATCH gradient\n",
        "# descent. How wrong is our model? That's the error!\n",
        "error = (yhat - y_train_tensor)\n",
        "# It is a regression, so it computes mean squared error (MSE)\n",
        "loss = (error ** 2).mean()\n",
        "\n",
        "# We can try plotting the graph for any python variable:\n",
        "# yhat, error, loss...\n",
        "make_dot(yhat)"
      ]
    },
    {
      "cell_type": "code",
      "execution_count": 97,
      "metadata": {
        "id": "drP2OHm-jPWE",
        "outputId": "13d4e87a-6437-4c14-917c-d6f87654c8d2",
        "colab": {
          "base_uri": "https://localhost:8080/",
          "height": 383
        }
      },
      "outputs": [
        {
          "output_type": "execute_result",
          "data": {
            "image/svg+xml": "<?xml version=\"1.0\" encoding=\"UTF-8\" standalone=\"no\"?>\n<!DOCTYPE svg PUBLIC \"-//W3C//DTD SVG 1.1//EN\"\n \"http://www.w3.org/Graphics/SVG/1.1/DTD/svg11.dtd\">\n<!-- Generated by graphviz version 2.43.0 (0)\n -->\n<!-- Title: %3 Pages: 1 -->\n<svg width=\"109pt\" height=\"271pt\"\n viewBox=\"0.00 0.00 109.00 271.00\" xmlns=\"http://www.w3.org/2000/svg\" xmlns:xlink=\"http://www.w3.org/1999/xlink\">\n<g id=\"graph0\" class=\"graph\" transform=\"scale(1 1) rotate(0) translate(4 267)\">\n<title>%3</title>\n<polygon fill=\"white\" stroke=\"transparent\" points=\"-4,4 -4,-267 105,-267 105,4 -4,4\"/>\n<!-- 138414341385616 -->\n<g id=\"node1\" class=\"node\">\n<title>138414341385616</title>\n<polygon fill=\"#caff70\" stroke=\"black\" points=\"83,-31 18,-31 18,0 83,0 83,-31\"/>\n<text text-anchor=\"middle\" x=\"50.5\" y=\"-7\" font-family=\"monospace\" font-size=\"10.00\"> (80, 1)</text>\n</g>\n<!-- 138414339846304 -->\n<g id=\"node2\" class=\"node\">\n<title>138414339846304</title>\n<polygon fill=\"lightgrey\" stroke=\"black\" points=\"95,-86 6,-86 6,-67 95,-67 95,-86\"/>\n<text text-anchor=\"middle\" x=\"50.5\" y=\"-74\" font-family=\"monospace\" font-size=\"10.00\">AddBackward0</text>\n</g>\n<!-- 138414339846304&#45;&gt;138414341385616 -->\n<g id=\"edge4\" class=\"edge\">\n<title>138414339846304&#45;&gt;138414341385616</title>\n<path fill=\"none\" stroke=\"black\" d=\"M50.5,-66.79C50.5,-60.07 50.5,-50.4 50.5,-41.34\"/>\n<polygon fill=\"black\" stroke=\"black\" points=\"54,-41.19 50.5,-31.19 47,-41.19 54,-41.19\"/>\n</g>\n<!-- 138414339846016 -->\n<g id=\"node3\" class=\"node\">\n<title>138414339846016</title>\n<polygon fill=\"lightgrey\" stroke=\"black\" points=\"95,-141 6,-141 6,-122 95,-122 95,-141\"/>\n<text text-anchor=\"middle\" x=\"50.5\" y=\"-129\" font-family=\"monospace\" font-size=\"10.00\">MulBackward0</text>\n</g>\n<!-- 138414339846016&#45;&gt;138414339846304 -->\n<g id=\"edge1\" class=\"edge\">\n<title>138414339846016&#45;&gt;138414339846304</title>\n<path fill=\"none\" stroke=\"black\" d=\"M50.5,-121.75C50.5,-114.8 50.5,-104.85 50.5,-96.13\"/>\n<polygon fill=\"black\" stroke=\"black\" points=\"54,-96.09 50.5,-86.09 47,-96.09 54,-96.09\"/>\n</g>\n<!-- 138414339845776 -->\n<g id=\"node4\" class=\"node\">\n<title>138414339845776</title>\n<polygon fill=\"lightgrey\" stroke=\"black\" points=\"101,-196 0,-196 0,-177 101,-177 101,-196\"/>\n<text text-anchor=\"middle\" x=\"50.5\" y=\"-184\" font-family=\"monospace\" font-size=\"10.00\">AccumulateGrad</text>\n</g>\n<!-- 138414339845776&#45;&gt;138414339846016 -->\n<g id=\"edge2\" class=\"edge\">\n<title>138414339845776&#45;&gt;138414339846016</title>\n<path fill=\"none\" stroke=\"black\" d=\"M50.5,-176.75C50.5,-169.8 50.5,-159.85 50.5,-151.13\"/>\n<polygon fill=\"black\" stroke=\"black\" points=\"54,-151.09 50.5,-141.09 47,-151.09 54,-151.09\"/>\n</g>\n<!-- 138414341382256 -->\n<g id=\"node5\" class=\"node\">\n<title>138414341382256</title>\n<polygon fill=\"lightblue\" stroke=\"black\" points=\"77.5,-263 23.5,-263 23.5,-232 77.5,-232 77.5,-263\"/>\n<text text-anchor=\"middle\" x=\"50.5\" y=\"-239\" font-family=\"monospace\" font-size=\"10.00\"> (1)</text>\n</g>\n<!-- 138414341382256&#45;&gt;138414339845776 -->\n<g id=\"edge3\" class=\"edge\">\n<title>138414341382256&#45;&gt;138414339845776</title>\n<path fill=\"none\" stroke=\"black\" d=\"M50.5,-231.92C50.5,-224.22 50.5,-214.69 50.5,-206.43\"/>\n<polygon fill=\"black\" stroke=\"black\" points=\"54,-206.25 50.5,-196.25 47,-206.25 54,-206.25\"/>\n</g>\n</g>\n</svg>\n",
            "text/plain": [
              "<graphviz.graphs.Digraph at 0x7de3198ef9a0>"
            ]
          },
          "metadata": {},
          "execution_count": 97
        }
      ],
      "source": [
        "b_nograd = torch.randn(1, requires_grad=False, \\\n",
        "                       dtype=torch.float, device=device)\n",
        "w = torch.randn(1, requires_grad=True, \\\n",
        "                dtype=torch.float, device=device)\n",
        "\n",
        "yhat = b_nograd + w * x_train_tensor\n",
        "\n",
        "make_dot(yhat)"
      ]
    },
    {
      "cell_type": "code",
      "execution_count": 98,
      "metadata": {
        "id": "Gn7-99urjPWE",
        "outputId": "5eb21874-1b17-4fff-e5b0-dbe3c2fdabb2",
        "colab": {
          "base_uri": "https://localhost:8080/",
          "height": 693
        }
      },
      "outputs": [
        {
          "output_type": "execute_result",
          "data": {
            "image/svg+xml": "<?xml version=\"1.0\" encoding=\"UTF-8\" standalone=\"no\"?>\n<!DOCTYPE svg PUBLIC \"-//W3C//DTD SVG 1.1//EN\"\n \"http://www.w3.org/Graphics/SVG/1.1/DTD/svg11.dtd\">\n<!-- Generated by graphviz version 2.43.0 (0)\n -->\n<!-- Title: %3 Pages: 1 -->\n<svg width=\"326pt\" height=\"503pt\"\n viewBox=\"0.00 0.00 326.00 503.00\" xmlns=\"http://www.w3.org/2000/svg\" xmlns:xlink=\"http://www.w3.org/1999/xlink\">\n<g id=\"graph0\" class=\"graph\" transform=\"scale(1 1) rotate(0) translate(4 499)\">\n<title>%3</title>\n<polygon fill=\"white\" stroke=\"transparent\" points=\"-4,4 -4,-499 322,-499 322,4 -4,4\"/>\n<!-- 138414339654736 -->\n<g id=\"node1\" class=\"node\">\n<title>138414339654736</title>\n<polygon fill=\"#caff70\" stroke=\"black\" points=\"242.5,-31 188.5,-31 188.5,0 242.5,0 242.5,-31\"/>\n<text text-anchor=\"middle\" x=\"215.5\" y=\"-7\" font-family=\"monospace\" font-size=\"10.00\"> ()</text>\n</g>\n<!-- 138414339834928 -->\n<g id=\"node2\" class=\"node\">\n<title>138414339834928</title>\n<polygon fill=\"lightgrey\" stroke=\"black\" points=\"260,-86 171,-86 171,-67 260,-67 260,-86\"/>\n<text text-anchor=\"middle\" x=\"215.5\" y=\"-74\" font-family=\"monospace\" font-size=\"10.00\">AddBackward0</text>\n</g>\n<!-- 138414339834928&#45;&gt;138414339654736 -->\n<g id=\"edge14\" class=\"edge\">\n<title>138414339834928&#45;&gt;138414339654736</title>\n<path fill=\"none\" stroke=\"black\" d=\"M215.5,-66.79C215.5,-60.07 215.5,-50.4 215.5,-41.34\"/>\n<polygon fill=\"black\" stroke=\"black\" points=\"219,-41.19 215.5,-31.19 212,-41.19 219,-41.19\"/>\n</g>\n<!-- 138414339844576 -->\n<g id=\"node3\" class=\"node\">\n<title>138414339844576</title>\n<polygon fill=\"lightgrey\" stroke=\"black\" points=\"225,-141 130,-141 130,-122 225,-122 225,-141\"/>\n<text text-anchor=\"middle\" x=\"177.5\" y=\"-129\" font-family=\"monospace\" font-size=\"10.00\">MeanBackward0</text>\n</g>\n<!-- 138414339844576&#45;&gt;138414339834928 -->\n<g id=\"edge1\" class=\"edge\">\n<title>138414339844576&#45;&gt;138414339834928</title>\n<path fill=\"none\" stroke=\"black\" d=\"M183.77,-121.75C189.09,-114.34 196.86,-103.5 203.38,-94.41\"/>\n<polygon fill=\"black\" stroke=\"black\" points=\"206.36,-96.26 209.34,-86.09 200.67,-92.18 206.36,-96.26\"/>\n</g>\n<!-- 138414339840592 -->\n<g id=\"node4\" class=\"node\">\n<title>138414339840592</title>\n<polygon fill=\"lightgrey\" stroke=\"black\" points=\"205,-196 116,-196 116,-177 205,-177 205,-196\"/>\n<text text-anchor=\"middle\" x=\"160.5\" y=\"-184\" font-family=\"monospace\" font-size=\"10.00\">PowBackward0</text>\n</g>\n<!-- 138414339840592&#45;&gt;138414339844576 -->\n<g id=\"edge2\" class=\"edge\">\n<title>138414339840592&#45;&gt;138414339844576</title>\n<path fill=\"none\" stroke=\"black\" d=\"M163.31,-176.75C165.56,-169.72 168.8,-159.62 171.62,-150.84\"/>\n<polygon fill=\"black\" stroke=\"black\" points=\"175.02,-151.68 174.75,-141.09 168.36,-149.54 175.02,-151.68\"/>\n</g>\n<!-- 138414339839200 -->\n<g id=\"node5\" class=\"node\">\n<title>138414339839200</title>\n<polygon fill=\"lightgrey\" stroke=\"black\" points=\"205,-251 116,-251 116,-232 205,-232 205,-251\"/>\n<text text-anchor=\"middle\" x=\"160.5\" y=\"-239\" font-family=\"monospace\" font-size=\"10.00\">SubBackward0</text>\n</g>\n<!-- 138414339839200&#45;&gt;138414339840592 -->\n<g id=\"edge3\" class=\"edge\">\n<title>138414339839200&#45;&gt;138414339840592</title>\n<path fill=\"none\" stroke=\"black\" d=\"M160.5,-231.75C160.5,-224.8 160.5,-214.85 160.5,-206.13\"/>\n<polygon fill=\"black\" stroke=\"black\" points=\"164,-206.09 160.5,-196.09 157,-206.09 164,-206.09\"/>\n</g>\n<!-- 138414339842176 -->\n<g id=\"node6\" class=\"node\">\n<title>138414339842176</title>\n<polygon fill=\"lightgrey\" stroke=\"black\" points=\"205,-306 116,-306 116,-287 205,-287 205,-306\"/>\n<text text-anchor=\"middle\" x=\"160.5\" y=\"-294\" font-family=\"monospace\" font-size=\"10.00\">AddBackward0</text>\n</g>\n<!-- 138414339842176&#45;&gt;138414339839200 -->\n<g id=\"edge4\" class=\"edge\">\n<title>138414339842176&#45;&gt;138414339839200</title>\n<path fill=\"none\" stroke=\"black\" d=\"M160.5,-286.75C160.5,-279.8 160.5,-269.85 160.5,-261.13\"/>\n<polygon fill=\"black\" stroke=\"black\" points=\"164,-261.09 160.5,-251.09 157,-261.09 164,-261.09\"/>\n</g>\n<!-- 138414339848176 -->\n<g id=\"node7\" class=\"node\">\n<title>138414339848176</title>\n<polygon fill=\"lightgrey\" stroke=\"black\" points=\"101,-361 0,-361 0,-342 101,-342 101,-361\"/>\n<text text-anchor=\"middle\" x=\"50.5\" y=\"-349\" font-family=\"monospace\" font-size=\"10.00\">AccumulateGrad</text>\n</g>\n<!-- 138414339848176&#45;&gt;138414339842176 -->\n<g id=\"edge5\" class=\"edge\">\n<title>138414339848176&#45;&gt;138414339842176</title>\n<path fill=\"none\" stroke=\"black\" d=\"M68.17,-341.98C85.79,-333.5 113.08,-320.35 133.43,-310.54\"/>\n<polygon fill=\"black\" stroke=\"black\" points=\"135.02,-313.66 142.51,-306.17 131.98,-307.36 135.02,-313.66\"/>\n</g>\n<!-- 138414339667776 -->\n<g id=\"node8\" class=\"node\">\n<title>138414339667776</title>\n<polygon fill=\"lightblue\" stroke=\"black\" points=\"77.5,-428 23.5,-428 23.5,-397 77.5,-397 77.5,-428\"/>\n<text text-anchor=\"middle\" x=\"50.5\" y=\"-404\" font-family=\"monospace\" font-size=\"10.00\"> (1)</text>\n</g>\n<!-- 138414339667776&#45;&gt;138414339848176 -->\n<g id=\"edge6\" class=\"edge\">\n<title>138414339667776&#45;&gt;138414339848176</title>\n<path fill=\"none\" stroke=\"black\" d=\"M50.5,-396.92C50.5,-389.22 50.5,-379.69 50.5,-371.43\"/>\n<polygon fill=\"black\" stroke=\"black\" points=\"54,-371.25 50.5,-361.25 47,-371.25 54,-371.25\"/>\n</g>\n<!-- 138414339839824 -->\n<g id=\"node9\" class=\"node\">\n<title>138414339839824</title>\n<polygon fill=\"lightgrey\" stroke=\"black\" points=\"208,-361 119,-361 119,-342 208,-342 208,-361\"/>\n<text text-anchor=\"middle\" x=\"163.5\" y=\"-349\" font-family=\"monospace\" font-size=\"10.00\">MulBackward0</text>\n</g>\n<!-- 138414339839824&#45;&gt;138414339842176 -->\n<g id=\"edge7\" class=\"edge\">\n<title>138414339839824&#45;&gt;138414339842176</title>\n<path fill=\"none\" stroke=\"black\" d=\"M163,-341.75C162.61,-334.8 162.05,-324.85 161.55,-316.13\"/>\n<polygon fill=\"black\" stroke=\"black\" points=\"165.05,-315.88 160.99,-306.09 158.06,-316.27 165.05,-315.88\"/>\n</g>\n<!-- 138414339846688 -->\n<g id=\"node10\" class=\"node\">\n<title>138414339846688</title>\n<polygon fill=\"lightgrey\" stroke=\"black\" points=\"267,-422 166,-422 166,-403 267,-403 267,-422\"/>\n<text text-anchor=\"middle\" x=\"216.5\" y=\"-410\" font-family=\"monospace\" font-size=\"10.00\">AccumulateGrad</text>\n</g>\n<!-- 138414339846688&#45;&gt;138414339839824 -->\n<g id=\"edge8\" class=\"edge\">\n<title>138414339846688&#45;&gt;138414339839824</title>\n<path fill=\"none\" stroke=\"black\" d=\"M208.68,-402.79C200.69,-393.91 188.11,-379.89 178.24,-368.91\"/>\n<polygon fill=\"black\" stroke=\"black\" points=\"180.64,-366.34 171.35,-361.24 175.43,-371.02 180.64,-366.34\"/>\n</g>\n<!-- 138414339838720 -->\n<g id=\"node14\" class=\"node\">\n<title>138414339838720</title>\n<polygon fill=\"lightgrey\" stroke=\"black\" points=\"315,-361 226,-361 226,-342 315,-342 315,-361\"/>\n<text text-anchor=\"middle\" x=\"270.5\" y=\"-349\" font-family=\"monospace\" font-size=\"10.00\">MulBackward0</text>\n</g>\n<!-- 138414339846688&#45;&gt;138414339838720 -->\n<g id=\"edge13\" class=\"edge\">\n<title>138414339846688&#45;&gt;138414339838720</title>\n<path fill=\"none\" stroke=\"black\" d=\"M224.47,-402.79C232.6,-393.91 245.43,-379.89 255.48,-368.91\"/>\n<polygon fill=\"black\" stroke=\"black\" points=\"258.33,-370.98 262.5,-361.24 253.17,-366.26 258.33,-370.98\"/>\n</g>\n<!-- 138414339667296 -->\n<g id=\"node11\" class=\"node\">\n<title>138414339667296</title>\n<polygon fill=\"lightblue\" stroke=\"black\" points=\"243.5,-495 189.5,-495 189.5,-464 243.5,-464 243.5,-495\"/>\n<text text-anchor=\"middle\" x=\"216.5\" y=\"-471\" font-family=\"monospace\" font-size=\"10.00\"> (1)</text>\n</g>\n<!-- 138414339667296&#45;&gt;138414339846688 -->\n<g id=\"edge9\" class=\"edge\">\n<title>138414339667296&#45;&gt;138414339846688</title>\n<path fill=\"none\" stroke=\"black\" d=\"M216.5,-463.75C216.5,-454.39 216.5,-442.19 216.5,-432.16\"/>\n<polygon fill=\"black\" stroke=\"black\" points=\"220,-432.02 216.5,-422.02 213,-432.02 220,-432.02\"/>\n</g>\n<!-- 138414339844960 -->\n<g id=\"node12\" class=\"node\">\n<title>138414339844960</title>\n<polygon fill=\"lightgrey\" stroke=\"black\" points=\"318,-196 223,-196 223,-177 318,-177 318,-196\"/>\n<text text-anchor=\"middle\" x=\"270.5\" y=\"-184\" font-family=\"monospace\" font-size=\"10.00\">MeanBackward0</text>\n</g>\n<!-- 138414339844960&#45;&gt;138414339834928 -->\n<g id=\"edge10\" class=\"edge\">\n<title>138414339844960&#45;&gt;138414339834928</title>\n<path fill=\"none\" stroke=\"black\" d=\"M266,-176.66C256.97,-158.93 236.5,-118.73 224.57,-95.32\"/>\n<polygon fill=\"black\" stroke=\"black\" points=\"227.57,-93.48 219.91,-86.16 221.33,-96.66 227.57,-93.48\"/>\n</g>\n<!-- 138414339847600 -->\n<g id=\"node13\" class=\"node\">\n<title>138414339847600</title>\n<polygon fill=\"lightgrey\" stroke=\"black\" points=\"315,-306 226,-306 226,-287 315,-287 315,-306\"/>\n<text text-anchor=\"middle\" x=\"270.5\" y=\"-294\" font-family=\"monospace\" font-size=\"10.00\">SubBackward0</text>\n</g>\n<!-- 138414339847600&#45;&gt;138414339844960 -->\n<g id=\"edge11\" class=\"edge\">\n<title>138414339847600&#45;&gt;138414339844960</title>\n<path fill=\"none\" stroke=\"black\" d=\"M270.5,-286.66C270.5,-269.17 270.5,-229.8 270.5,-206.27\"/>\n<polygon fill=\"black\" stroke=\"black\" points=\"274,-206.16 270.5,-196.16 267,-206.16 274,-206.16\"/>\n</g>\n<!-- 138414339838720&#45;&gt;138414339847600 -->\n<g id=\"edge12\" class=\"edge\">\n<title>138414339838720&#45;&gt;138414339847600</title>\n<path fill=\"none\" stroke=\"black\" d=\"M270.5,-341.75C270.5,-334.8 270.5,-324.85 270.5,-316.13\"/>\n<polygon fill=\"black\" stroke=\"black\" points=\"274,-316.09 270.5,-306.09 267,-316.09 274,-316.09\"/>\n</g>\n</g>\n</svg>\n",
            "text/plain": [
              "<graphviz.graphs.Digraph at 0x7de3198ef3a0>"
            ]
          },
          "metadata": {},
          "execution_count": 98
        }
      ],
      "source": [
        "b = torch.randn(1, requires_grad=True, \\\n",
        "                dtype=torch.float, device=device)\n",
        "w = torch.randn(1, requires_grad=True, \\\n",
        "                dtype=torch.float, device=device)\n",
        "\n",
        "yhat = b + w * x_train_tensor\n",
        "error = yhat - y_train_tensor\n",
        "loss = (error ** 2).mean()\n",
        "\n",
        "# this makes no sense!!\n",
        "if loss > 0:\n",
        "    yhat2 = w * x_train_tensor\n",
        "    error2 = yhat2 - y_train_tensor\n",
        "\n",
        "# neither does this :-)\n",
        "loss += error2.mean()\n",
        "\n",
        "make_dot(loss)"
      ]
    },
    {
      "cell_type": "markdown",
      "metadata": {
        "id": "yxFAW8uNjPWE"
      },
      "source": [
        "# Optimizer\n",
        "\n",
        "They are the responsible of updating the params through its step() method"
      ]
    },
    {
      "cell_type": "markdown",
      "metadata": {
        "id": "RR3PiSbyjPWF"
      },
      "source": [
        "## step / zero_grad"
      ]
    },
    {
      "cell_type": "code",
      "execution_count": 57,
      "metadata": {
        "id": "CesbUN7jjPWF"
      },
      "outputs": [],
      "source": [
        "# Defines a SGD optimizer to update the parameters\n",
        "optimizer = optim.SGD([b, w], lr=lr)"
      ]
    },
    {
      "cell_type": "markdown",
      "metadata": {
        "id": "E0FjC5uujPWF"
      },
      "source": [
        "### Cell 1.7"
      ]
    },
    {
      "cell_type": "code",
      "execution_count": 58,
      "metadata": {
        "id": "YW3Ln3LFjPWF",
        "outputId": "6b2cdf2b-1ef2-4086-92eb-494627572285",
        "colab": {
          "base_uri": "https://localhost:8080/"
        }
      },
      "outputs": [
        {
          "output_type": "stream",
          "name": "stdout",
          "text": [
            "tensor([1.0235], requires_grad=True) tensor([1.9690], requires_grad=True)\n"
          ]
        }
      ],
      "source": [
        "# Sets learning rate - this is \"eta\" ~ the \"n\"-like Greek letter\n",
        "lr = 0.1\n",
        "\n",
        "# Step 0 - Initializes parameters \"b\" and \"w\" randomly\n",
        "torch.manual_seed(42)\n",
        "b = torch.randn(1, requires_grad=True, \\\n",
        "                dtype=torch.float, device=device)\n",
        "w = torch.randn(1, requires_grad=True, \\\n",
        "                dtype=torch.float, device=device)\n",
        "\n",
        "# Defines a SGD optimizer to update the parameters\n",
        "optimizer = optim.SGD([b, w], lr=lr)\n",
        "\n",
        "# Defines number of epochs\n",
        "n_epochs = 1000\n",
        "\n",
        "for epoch in range(n_epochs):\n",
        "    # Step 1 - Computes model's predicted output - forward pass\n",
        "    yhat = b + w * x_train_tensor\n",
        "\n",
        "    # Step 2 - Computes the loss\n",
        "    # We are using ALL data points, so this is BATCH gradient\n",
        "    # descent. How wrong is our model? That's the error!\n",
        "    error = (yhat - y_train_tensor)\n",
        "    # It is a regression, so it computes mean squared error (MSE)\n",
        "    loss = (error ** 2).mean()\n",
        "\n",
        "    # Step 3 - Computes gradients for both \"b\" and \"w\" parameters\n",
        "    loss.backward()\n",
        "\n",
        "    # Step 4 - Updates parameters using gradients and\n",
        "    # the learning rate. No more manual update!\n",
        "    # with torch.no_grad():\n",
        "    #     b -= lr * b.grad\n",
        "    #     w -= lr * w.grad\n",
        "    optimizer.step()\n",
        "\n",
        "    # No more telling Pytorch to let gradients go!\n",
        "    # b.grad.zero_()\n",
        "    # w.grad.zero_()\n",
        "    optimizer.zero_grad() # it ensures each iteration starts with a clean slate for gradient computation.\n",
        "\n",
        "print(b, w)"
      ]
    },
    {
      "cell_type": "markdown",
      "metadata": {
        "id": "5sWjD31WjPWF"
      },
      "source": [
        "# Loss"
      ]
    },
    {
      "cell_type": "code",
      "execution_count": 59,
      "metadata": {
        "id": "B4jrYRW-jPWG",
        "outputId": "566fbce3-38f4-4882-981f-ee000d891427",
        "colab": {
          "base_uri": "https://localhost:8080/"
        }
      },
      "outputs": [
        {
          "output_type": "execute_result",
          "data": {
            "text/plain": [
              "MSELoss()"
            ]
          },
          "metadata": {},
          "execution_count": 59
        }
      ],
      "source": [
        "# Defines a MSE loss function\n",
        "loss_fn = nn.MSELoss(reduction='mean')\n",
        "loss_fn"
      ]
    },
    {
      "cell_type": "code",
      "execution_count": 62,
      "metadata": {
        "id": "RwdcGBAujPWG",
        "outputId": "348edf77-836c-412b-ebf1-d66820295e72",
        "colab": {
          "base_uri": "https://localhost:8080/"
        }
      },
      "outputs": [
        {
          "output_type": "stream",
          "name": "stdout",
          "text": [
            "torch.Size([2])\n",
            "torch.Size([])\n"
          ]
        }
      ],
      "source": [
        "# This is a random example to illustrate the loss function\n",
        "predictions = torch.tensor([0.5, 1.0])\n",
        "labels = torch.tensor([2.0, 1.3])\n",
        "loss_fn(predictions, labels)\n",
        "\n",
        "print(predictions.size())\n",
        "print(loss_fn(predictions, labels).size())"
      ]
    },
    {
      "cell_type": "markdown",
      "metadata": {
        "id": "1wWeIVDLjPWG"
      },
      "source": [
        "### Cell 1.8"
      ]
    },
    {
      "cell_type": "code",
      "execution_count": 63,
      "metadata": {
        "id": "SfleN1E-jPWG",
        "outputId": "0d3db591-5676-4611-c806-22f4bb6aba3d",
        "colab": {
          "base_uri": "https://localhost:8080/"
        }
      },
      "outputs": [
        {
          "output_type": "stream",
          "name": "stdout",
          "text": [
            "tensor([1.0235], requires_grad=True) tensor([1.9690], requires_grad=True)\n"
          ]
        }
      ],
      "source": [
        "# Sets learning rate - this is \"eta\" ~ the \"n\"-like\n",
        "# Greek letter\n",
        "lr = 0.1\n",
        "\n",
        "# Step 0 - Initializes parameters \"b\" and \"w\" randomly\n",
        "torch.manual_seed(42)\n",
        "b = torch.randn(1, requires_grad=True, \\\n",
        "                dtype=torch.float, device=device)\n",
        "w = torch.randn(1, requires_grad=True, \\\n",
        "                dtype=torch.float, device=device)\n",
        "\n",
        "# Defines a SGD optimizer to update the parameters\n",
        "optimizer = optim.SGD([b, w], lr=lr)\n",
        "\n",
        "# Defines a MSE loss function\n",
        "loss_fn = nn.MSELoss(reduction='mean')\n",
        "\n",
        "# Defines number of epochs\n",
        "n_epochs = 1000\n",
        "\n",
        "for epoch in range(n_epochs):\n",
        "    # Step 1 - Computes model's predicted output - forward pass\n",
        "    yhat = b + w * x_train_tensor             # prediction and therefore forward pass\n",
        "\n",
        "    # Step 2 - Computes the loss\n",
        "    # No more manual loss!\n",
        "    # error = (yhat - y_train_tensor)\n",
        "    # loss = (error ** 2).mean()\n",
        "    loss = loss_fn(yhat, y_train_tensor)    # loss calculation\n",
        "\n",
        "    # Step 3 - Computes gradients for both \"b\" and \"w\" parameters\n",
        "    loss.backward()              # gradients and chain rule\n",
        "\n",
        "    # Step 4 - Updates parameters using gradients and\n",
        "    # the learning rate\n",
        "    optimizer.step()            # updating params\n",
        "    optimizer.zero_grad()       # cleaning\n",
        "\n",
        "print(b, w)"
      ]
    },
    {
      "cell_type": "code",
      "execution_count": 70,
      "metadata": {
        "id": "cZ7FMA3PjPWH",
        "outputId": "108f9fb4-dfe4-464e-e4f6-7b0cef777c42",
        "colab": {
          "base_uri": "https://localhost:8080/"
        }
      },
      "outputs": [
        {
          "output_type": "stream",
          "name": "stdout",
          "text": [
            "tensor(0.0080, grad_fn=<MseLossBackward0>)\n",
            "0.008044655434787273\n"
          ]
        }
      ],
      "source": [
        "loss\n",
        "print(loss)\n",
        "print(loss.item())"
      ]
    },
    {
      "cell_type": "code",
      "execution_count": 65,
      "metadata": {
        "id": "Q-yBzIUGjPWH",
        "outputId": "746e1ddf-c523-4392-ed38-16d6744b3672",
        "colab": {
          "base_uri": "https://localhost:8080/",
          "height": 141
        }
      },
      "outputs": [
        {
          "output_type": "error",
          "ename": "RuntimeError",
          "evalue": "Can't call numpy() on Tensor that requires grad. Use tensor.detach().numpy() instead.",
          "traceback": [
            "\u001b[0;31m---------------------------------------------------------------------------\u001b[0m",
            "\u001b[0;31mRuntimeError\u001b[0m                              Traceback (most recent call last)",
            "\u001b[0;32m<ipython-input-65-58c76a7bac74>\u001b[0m in \u001b[0;36m<cell line: 1>\u001b[0;34m()\u001b[0m\n\u001b[0;32m----> 1\u001b[0;31m \u001b[0mloss\u001b[0m\u001b[0;34m.\u001b[0m\u001b[0mcpu\u001b[0m\u001b[0;34m(\u001b[0m\u001b[0;34m)\u001b[0m\u001b[0;34m.\u001b[0m\u001b[0mnumpy\u001b[0m\u001b[0;34m(\u001b[0m\u001b[0;34m)\u001b[0m\u001b[0;34m\u001b[0m\u001b[0;34m\u001b[0m\u001b[0m\n\u001b[0m",
            "\u001b[0;31mRuntimeError\u001b[0m: Can't call numpy() on Tensor that requires grad. Use tensor.detach().numpy() instead."
          ]
        }
      ],
      "source": [
        "loss.cpu().numpy()     # the los tensor is actually computing gradientes; to use numpy, we need to detach() the tensor from the computation graph"
      ]
    },
    {
      "cell_type": "code",
      "execution_count": 66,
      "metadata": {
        "id": "QDGy5Bh6jPWH",
        "outputId": "137dc1f6-892a-4c09-e786-17142ec50c28",
        "colab": {
          "base_uri": "https://localhost:8080/"
        }
      },
      "outputs": [
        {
          "output_type": "execute_result",
          "data": {
            "text/plain": [
              "array(0.00804466, dtype=float32)"
            ]
          },
          "metadata": {},
          "execution_count": 66
        }
      ],
      "source": [
        "loss.detach().cpu().numpy()"
      ]
    },
    {
      "cell_type": "code",
      "execution_count": 71,
      "metadata": {
        "id": "7l0HmpV1jPWH",
        "outputId": "3b686832-519b-41a5-8ff0-85ad1a4e9ebd",
        "colab": {
          "base_uri": "https://localhost:8080/"
        }
      },
      "outputs": [
        {
          "output_type": "stream",
          "name": "stdout",
          "text": [
            "0.008044655434787273 0.008044655434787273\n"
          ]
        }
      ],
      "source": [
        "print(loss.item(), loss.tolist())   # Or we can use directly the fuctions \"item\" or \"tolist\" for extracting the value out of the tensor"
      ]
    },
    {
      "cell_type": "markdown",
      "metadata": {
        "id": "xFTeDl1LjPWI"
      },
      "source": [
        "# Model"
      ]
    },
    {
      "cell_type": "markdown",
      "metadata": {
        "id": "eUqKaea4jPWI"
      },
      "source": [
        "### Cell 1.9"
      ]
    },
    {
      "cell_type": "code",
      "execution_count": 12,
      "metadata": {
        "id": "FLpT0TuCjPWI"
      },
      "outputs": [],
      "source": [
        "class ManualLinearRegression(nn.Module):\n",
        "    def __init__(self):\n",
        "        super().__init__()\n",
        "        # To make \"b\" and \"w\" real parameters of the model,\n",
        "        # we need to wrap them with nn.Parameter\n",
        "        self.b = nn.Parameter(torch.randn(1,\n",
        "                                          requires_grad=True,\n",
        "                                          dtype=torch.float))\n",
        "        self.w = nn.Parameter(torch.randn(1,\n",
        "                                          requires_grad=True,\n",
        "                                          dtype=torch.float))\n",
        "\n",
        "    def forward(self, x):\n",
        "        # Computes the outputs / predictions\n",
        "        return self.b + self.w * x"
      ]
    },
    {
      "cell_type": "markdown",
      "metadata": {
        "id": "X0rHVvPhjPWI"
      },
      "source": [
        "## Parameters"
      ]
    },
    {
      "cell_type": "code",
      "execution_count": 11,
      "metadata": {
        "id": "GX3yLOTRjPWI",
        "outputId": "8d3784b6-8417-4211-e80b-6975850d0547",
        "colab": {
          "base_uri": "https://localhost:8080/"
        }
      },
      "outputs": [
        {
          "output_type": "execute_result",
          "data": {
            "text/plain": [
              "[Parameter containing:\n",
              " tensor([0.3367], requires_grad=True),\n",
              " Parameter containing:\n",
              " tensor([0.1288], requires_grad=True)]"
            ]
          },
          "metadata": {},
          "execution_count": 11
        }
      ],
      "source": [
        "torch.manual_seed(42)\n",
        "# Creates a \"dummy\" instance of our ManualLinearRegression model\n",
        "dummy = ManualLinearRegression()\n",
        "list(dummy.parameters())"
      ]
    },
    {
      "cell_type": "markdown",
      "metadata": {
        "id": "zwDuZjbzjPWI"
      },
      "source": [
        "## state_dict\n",
        "\n",
        "It's a method for getting the current values of all the model's params. It is a python dictionary that maps each attribute / parameter to its corresponding tensor\n",
        "\n",
        "Its purpose is to keep track of parameters that are going to be updated by the optimizer\n",
        "\n",
        "state_dict() is crucial for:\n",
        "\n",
        "* Inspecting model parameters\n",
        "* Saving/loading models\n",
        "* Tracking parameter changes during training"
      ]
    },
    {
      "cell_type": "code",
      "execution_count": 33,
      "metadata": {
        "id": "cB2UtlirjPWJ",
        "outputId": "1f681362-be80-40a6-c673-e387ab4c1d55",
        "colab": {
          "base_uri": "https://localhost:8080/"
        }
      },
      "outputs": [
        {
          "output_type": "execute_result",
          "data": {
            "text/plain": [
              "OrderedDict([('b', tensor([0.3367])), ('w', tensor([0.1288]))])"
            ]
          },
          "metadata": {},
          "execution_count": 33
        }
      ],
      "source": [
        "dummy.state_dict()"
      ]
    },
    {
      "cell_type": "code",
      "execution_count": 32,
      "metadata": {
        "id": "B5LI36-NjPWJ",
        "outputId": "4e689b6c-67a2-49f2-912b-fe6ce06bb74d",
        "colab": {
          "base_uri": "https://localhost:8080/",
          "height": 141
        }
      },
      "outputs": [
        {
          "output_type": "error",
          "ename": "NameError",
          "evalue": "name 'optimizer' is not defined",
          "traceback": [
            "\u001b[0;31m---------------------------------------------------------------------------\u001b[0m",
            "\u001b[0;31mNameError\u001b[0m                                 Traceback (most recent call last)",
            "\u001b[0;32m<ipython-input-32-9342311b9935>\u001b[0m in \u001b[0;36m<cell line: 1>\u001b[0;34m()\u001b[0m\n\u001b[0;32m----> 1\u001b[0;31m \u001b[0moptimizer\u001b[0m\u001b[0;34m.\u001b[0m\u001b[0mstate_dict\u001b[0m\u001b[0;34m(\u001b[0m\u001b[0;34m)\u001b[0m\u001b[0;34m\u001b[0m\u001b[0;34m\u001b[0m\u001b[0m\n\u001b[0m",
            "\u001b[0;31mNameError\u001b[0m: name 'optimizer' is not defined"
          ]
        }
      ],
      "source": [
        "optimizer.state_dict()"
      ]
    },
    {
      "cell_type": "markdown",
      "metadata": {
        "id": "-57caIIjjPWJ"
      },
      "source": [
        "## device"
      ]
    },
    {
      "cell_type": "code",
      "execution_count": 34,
      "metadata": {
        "id": "DwMp9p50jPWJ"
      },
      "outputs": [],
      "source": [
        "torch.manual_seed(42)\n",
        "# Creates a \"dummy\" instance of our ManualLinearRegression model\n",
        "# and sends it to the device\n",
        "dummy = ManualLinearRegression().to(device)"
      ]
    },
    {
      "cell_type": "markdown",
      "metadata": {
        "id": "Ur7caeDjjPWJ"
      },
      "source": [
        "## Forward Pass"
      ]
    },
    {
      "cell_type": "markdown",
      "metadata": {
        "id": "o7GX3EsTjPWJ"
      },
      "source": [
        "### Cell 1.10"
      ]
    },
    {
      "cell_type": "code",
      "execution_count": 78,
      "metadata": {
        "id": "-KYQRymxjPWJ",
        "outputId": "972e2e4e-b829-4c2c-f016-3a3c86aec12f",
        "colab": {
          "base_uri": "https://localhost:8080/"
        }
      },
      "outputs": [
        {
          "output_type": "stream",
          "name": "stdout",
          "text": [
            "OrderedDict([('b', tensor([1.0235])), ('w', tensor([1.9690]))])\n"
          ]
        }
      ],
      "source": [
        "# Sets learning rate - this is \"eta\" ~ the \"n\"-like\n",
        "# Greek letter\n",
        "lr = 0.1\n",
        "\n",
        "# Step 0 - Initializes parameters \"b\" and \"w\" randomly\n",
        "torch.manual_seed(42)\n",
        "# Now we can create a model and send it at once to the device\n",
        "model = ManualLinearRegression().to(device)               # init the model with the parms\n",
        "\n",
        "# Defines a SGD optimizer to update the parameters\n",
        "# (now retrieved directly from the model)\n",
        "optimizer = optim.SGD(model.parameters(), lr=lr)\n",
        "\n",
        "# Defines a MSE loss function\n",
        "loss_fn = nn.MSELoss(reduction='mean')\n",
        "\n",
        "# Defines number of epochs\n",
        "n_epochs = 1000\n",
        "\n",
        "for epoch in range(n_epochs):\n",
        "    model.train() # What is this?!?    --> this is a good practice for setting the model to a train flag\n",
        "\n",
        "    # Step 1 - Computes model's predicted output - forward pass\n",
        "    # No more manual prediction!\n",
        "    yhat = model(x_train_tensor) # It will call or send the data through the forward pass ()prediction\n",
        "\n",
        "    # Step 2 - Computes the loss\n",
        "    loss = loss_fn(yhat, y_train_tensor)\n",
        "\n",
        "    # Step 3 - Computes gradients for both \"b\" and \"w\" parameters\n",
        "    loss.backward()\n",
        "\n",
        "    # Step 4 - Updates parameters using gradients and\n",
        "    # the learning rate\n",
        "    optimizer.step()\n",
        "    optimizer.zero_grad()\n",
        "\n",
        "# We can also inspect its parameters using its state_dict\n",
        "print(model.state_dict())"
      ]
    },
    {
      "cell_type": "markdown",
      "metadata": {
        "id": "hZqtRWOTjPWK"
      },
      "source": [
        "## train"
      ]
    },
    {
      "cell_type": "code",
      "execution_count": 79,
      "metadata": {
        "id": "LRG0u4YSjPWK"
      },
      "outputs": [],
      "source": [
        "## Never forget to include model.train() in your training loop!"
      ]
    },
    {
      "cell_type": "markdown",
      "metadata": {
        "id": "uOCHWB00jPWK"
      },
      "source": [
        "## Nested Models\n",
        "\n",
        "Key points:\n",
        "\n",
        "* in_features: Number of elements in your input vector\n",
        "* out_features: Number of elements you want in your output vector\n",
        "* Each output unit will be connected to ALL input elements\n",
        "\n",
        "For a layer with in_features=n and out_features=m:\n",
        "\n",
        "* Input must be a vector of size n\n",
        "* Output will be a vector of size m\n",
        "* Layer will have (n × m) weights + m biases"
      ]
    },
    {
      "cell_type": "code",
      "execution_count": 9,
      "metadata": {
        "id": "g7ERFZt3jPWK",
        "outputId": "9feff75c-18d2-4bdc-b1f1-61bc3ab7c46f",
        "colab": {
          "base_uri": "https://localhost:8080/"
        }
      },
      "outputs": [
        {
          "output_type": "execute_result",
          "data": {
            "text/plain": [
              "Linear(in_features=1, out_features=1, bias=True)"
            ]
          },
          "metadata": {},
          "execution_count": 9
        }
      ],
      "source": [
        "linear = nn.Linear(1, 1) # We are implementing a single-feature linear regression\n",
        "linear"
      ]
    },
    {
      "cell_type": "markdown",
      "source": [
        "state_dict() is crucial for:\n",
        "\n",
        "* Inspecting model parameters\n",
        "* Saving/loading models\n",
        "* Tracking parameter changes during training"
      ],
      "metadata": {
        "id": "HkKpS3pR6KO7"
      }
    },
    {
      "cell_type": "code",
      "execution_count": 10,
      "metadata": {
        "id": "dsH6lPu7jPWK",
        "outputId": "3f36d3c4-d178-40ac-95ca-fec423424e42",
        "colab": {
          "base_uri": "https://localhost:8080/"
        }
      },
      "outputs": [
        {
          "output_type": "execute_result",
          "data": {
            "text/plain": [
              "OrderedDict([('weight', tensor([[0.3079]])), ('bias', tensor([0.5311]))])"
            ]
          },
          "metadata": {},
          "execution_count": 10
        }
      ],
      "source": [
        "linear.state_dict()   # Here we get all the params of the model"
      ]
    },
    {
      "cell_type": "markdown",
      "metadata": {
        "id": "82mF7OhhjPWK"
      },
      "source": [
        "### Cell 1.11"
      ]
    },
    {
      "cell_type": "code",
      "execution_count": 12,
      "metadata": {
        "id": "rkoshvPFjPWL"
      },
      "outputs": [],
      "source": [
        "# Each instance of MyLinearRegression will have its own linear layer\n",
        "class MyLinearRegression(nn.Module):\n",
        "    # Constructor: we're installing components (the linear layer)\n",
        "    def __init__(self):\n",
        "        super().__init__()\n",
        "        # Instead of our custom parameters, we use a Linear model\n",
        "        # with single input and single output\n",
        "        # Create a Linear layer as an attribute of this class\n",
        "        self.linear = nn.Linear(1, 1) # This becomes a property of the class\n",
        "\n",
        "    # we're using those components to process inputs\n",
        "    # PyTorch will automatically call forward when you do model(x)\n",
        "    def forward(self, x):\n",
        "        # Now it only takes a call\n",
        "        # Use the linear layer attribute to process input x\n",
        "         # PyTorch will automatically call the nested forward of nn.Linear\n",
        "        self.linear(x)"
      ]
    },
    {
      "cell_type": "code",
      "execution_count": 28,
      "metadata": {
        "id": "sC5iSjH2jPWL",
        "outputId": "ad445ba2-4d2f-42d7-a599-ae29c31b4b70",
        "colab": {
          "base_uri": "https://localhost:8080/"
        }
      },
      "outputs": [
        {
          "output_type": "stream",
          "name": "stdout",
          "text": [
            "[Parameter containing:\n",
            "tensor([[0.7645]], requires_grad=True), Parameter containing:\n",
            "tensor([0.8300], requires_grad=True)]\n",
            "OrderedDict([('linear.weight', tensor([[0.7645]])), ('linear.bias', tensor([0.8300]))])\n"
          ]
        }
      ],
      "source": [
        "torch.manual_seed(42)\n",
        "dummy = MyLinearRegression().to(device)\n",
        "print(list(dummy.parameters()))\n",
        "print(dummy.state_dict())"
      ]
    },
    {
      "cell_type": "code",
      "execution_count": 29,
      "metadata": {
        "id": "rmS1uYsojPWL",
        "outputId": "0e7a0eaf-6cc4-4857-b941-29445a96ad57",
        "colab": {
          "base_uri": "https://localhost:8080/"
        }
      },
      "outputs": [
        {
          "output_type": "execute_result",
          "data": {
            "text/plain": [
              "OrderedDict([('linear.weight', tensor([[0.7645]])),\n",
              "             ('linear.bias', tensor([0.8300]))])"
            ]
          },
          "metadata": {},
          "execution_count": 29
        }
      ],
      "source": [
        "dummy.state_dict()"
      ]
    },
    {
      "cell_type": "markdown",
      "metadata": {
        "id": "40u6nVlfjPWL"
      },
      "source": [
        "## Sequential Models\n",
        "\n",
        "Straightforward models that use a series of built-in Pytorch models (like Linear), where the output of one is sequentially fed as an input to the next\n",
        "\n"
      ]
    },
    {
      "cell_type": "markdown",
      "metadata": {
        "id": "oPJsDNZIjPWL"
      },
      "source": [
        "### Cell 1.12"
      ]
    },
    {
      "cell_type": "code",
      "execution_count": 36,
      "metadata": {
        "id": "AhmN1SRUjPWL",
        "outputId": "068177e1-c08b-47b4-dadf-1fc96964be71",
        "colab": {
          "base_uri": "https://localhost:8080/"
        }
      },
      "outputs": [
        {
          "output_type": "execute_result",
          "data": {
            "text/plain": [
              "OrderedDict([('0.weight', tensor([[0.7645]])), ('0.bias', tensor([0.8300]))])"
            ]
          },
          "metadata": {},
          "execution_count": 36
        }
      ],
      "source": [
        "torch.manual_seed(42)\n",
        "# Alternatively, you can use a Sequential model\n",
        "model = nn.Sequential(nn.Linear(1, 1)).to(device)\n",
        "\n",
        "model.state_dict()"
      ]
    },
    {
      "cell_type": "markdown",
      "metadata": {
        "id": "-QK-UHdDjPWM"
      },
      "source": [
        "## Layers\n",
        "\n",
        "Models inside other models can be called a layer for any internal model\n",
        "\n",
        "Therefore a Linear model can be seen as a layer in a neural Network"
      ]
    },
    {
      "cell_type": "code",
      "execution_count": 35,
      "metadata": {
        "id": "_D6_-dNMjPWM"
      },
      "outputs": [],
      "source": [
        "torch.manual_seed(42)\n",
        "# Building the model from the figure above\n",
        "model = nn.Sequential(nn.Linear(3, 5), nn.Linear(5, 1)).to(device)"
      ]
    },
    {
      "cell_type": "markdown",
      "source": [
        "![image.png](data:image/png;base64,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)"
      ],
      "metadata": {
        "id": "Fm4H_Bp-CS5i"
      }
    },
    {
      "cell_type": "code",
      "execution_count": 36,
      "metadata": {
        "id": "e_4-_91UjPWM",
        "outputId": "ed085976-6908-49d7-bda5-6ddba70a4eb5",
        "colab": {
          "base_uri": "https://localhost:8080/"
        }
      },
      "outputs": [
        {
          "output_type": "stream",
          "name": "stdout",
          "text": [
            "Sequential(\n",
            "  (layer1): Linear(in_features=3, out_features=5, bias=True)\n",
            "  (layer2): Linear(in_features=5, out_features=1, bias=True)\n",
            ")\n",
            "OrderedDict([('layer1.weight', tensor([[ 0.4414,  0.4792, -0.1353],\n",
            "        [ 0.5304, -0.1265,  0.1165],\n",
            "        [-0.2811,  0.3391,  0.5090],\n",
            "        [-0.4236,  0.5018,  0.1081],\n",
            "        [ 0.4266,  0.0782,  0.2784]])), ('layer1.bias', tensor([-0.0815,  0.4451,  0.0853, -0.2695,  0.1472])), ('layer2.weight', tensor([[-0.2060, -0.0524, -0.1816,  0.2967, -0.3530]])), ('layer2.bias', tensor([-0.2062]))])\n"
          ]
        }
      ],
      "source": [
        "torch.manual_seed(42)\n",
        "# Building the model from the figure above\n",
        "model = nn.Sequential()\n",
        "# built-in method of the Sequential libray for adding a name to a layer\n",
        "model.add_module('layer1', nn.Linear(3, 5))\n",
        "model.add_module('layer2', nn.Linear(5, 1))\n",
        "model.to(device)\n",
        "\n",
        "print(model)\n",
        "print(model.state_dict())"
      ]
    },
    {
      "cell_type": "markdown",
      "source": [
        "There are many different layers that can be used in Pytorch"
      ],
      "metadata": {
        "id": "NoalrkO2EVrj"
      }
    },
    {
      "cell_type": "markdown",
      "metadata": {
        "id": "NgNw0qoHjPWM"
      },
      "source": [
        "# Putting It All Together\n",
        "\n",
        "The code is organized into three fundamentals pilars or in the pipeline after the data generation\n",
        "\n",
        "* Data Preparation\n",
        "* Model Configuration\n",
        "* Model Training"
      ]
    },
    {
      "cell_type": "markdown",
      "metadata": {
        "id": "bsUJ7tOKjPWM"
      },
      "source": [
        "## Data Preparation"
      ]
    },
    {
      "cell_type": "markdown",
      "metadata": {
        "id": "ZRMSkWtEjPWM"
      },
      "source": [
        "### Data Preparation V0"
      ]
    },
    {
      "cell_type": "code",
      "execution_count": 37,
      "metadata": {
        "id": "yvwfxOrbjPWM",
        "outputId": "ad13f922-37e9-40a8-e35b-5787aaeb20fd",
        "colab": {
          "base_uri": "https://localhost:8080/"
        }
      },
      "outputs": [
        {
          "output_type": "stream",
          "name": "stdout",
          "text": [
            "Writing data_preparation/v0.py\n"
          ]
        }
      ],
      "source": [
        "%%writefile data_preparation/v0.py\n",
        "\n",
        "device = 'cuda' if torch.cuda.is_available() else 'cpu'\n",
        "\n",
        "# Our data was in Numpy arrays, but we need to transform them\n",
        "# into PyTorch's Tensors and then we send them to the\n",
        "# chosen device\n",
        "x_train_tensor = torch.as_tensor(x_train).float().to(device)\n",
        "y_train_tensor = torch.as_tensor(y_train).float().to(device)"
      ]
    },
    {
      "cell_type": "code",
      "execution_count": 38,
      "metadata": {
        "id": "wf0zBN-8jPWN",
        "colab": {
          "base_uri": "https://localhost:8080/",
          "height": 34
        },
        "outputId": "e0d7582d-50f8-4419-e630-88902952af5a"
      },
      "outputs": [
        {
          "output_type": "display_data",
          "data": {
            "text/plain": [
              "<Figure size 640x480 with 0 Axes>"
            ]
          },
          "metadata": {}
        }
      ],
      "source": [
        "%run -i data_preparation/v0.py"
      ]
    },
    {
      "cell_type": "markdown",
      "source": [
        "![image.png](data:image/png;base64,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)\n",
        "\n",
        "\n",
        "The idea is to have versioning of the different stages of the pipeline. In this way, we can re-start a process startgin from one specif pipeline's stage\n",
        "\n"
      ],
      "metadata": {
        "id": "TmtDK-4VAvcS"
      }
    },
    {
      "cell_type": "markdown",
      "metadata": {
        "id": "2gDzOp2wjPWN"
      },
      "source": [
        "## Model Configurtion"
      ]
    },
    {
      "cell_type": "markdown",
      "metadata": {
        "id": "MV4BjnzxjPWN"
      },
      "source": [
        "### Model Configuration V0"
      ]
    },
    {
      "cell_type": "code",
      "execution_count": 42,
      "metadata": {
        "id": "UQ0doMByjPWN",
        "outputId": "a3974488-8b28-40b2-8b13-726da5ca0812",
        "colab": {
          "base_uri": "https://localhost:8080/"
        }
      },
      "outputs": [
        {
          "output_type": "stream",
          "name": "stdout",
          "text": [
            "Overwriting model_configuration/v0.py\n"
          ]
        }
      ],
      "source": [
        "%%writefile model_configuration/v0.py\n",
        "\n",
        "# This is redundant now, but it won't be when we introduce\n",
        "# Datasets...\n",
        "device = 'cuda' if torch.cuda.is_available() else 'cpu'\n",
        "\n",
        "# Sets learning rate - this is \"eta\" ~ the \"n\"-like Greek letter\n",
        "lr = 0.1\n",
        "\n",
        "torch.manual_seed(42)\n",
        "# Now we can create a model and send it at once to the device\n",
        "model = nn.Sequential(nn.Linear(1, 1)).to(device)\n",
        "\n",
        "# Defines a SGD optimizer to update the parameters\n",
        "# (now retrieved directly from the model)\n",
        "optimizer = optim.SGD(model.parameters(), lr=lr)\n",
        "\n",
        "# Defines a MSE loss function\n",
        "loss_fn = nn.MSELoss(reduction='mean')"
      ]
    },
    {
      "cell_type": "code",
      "execution_count": 43,
      "metadata": {
        "id": "OcYMN_IyjPWN"
      },
      "outputs": [],
      "source": [
        "%run -i model_configuration/v00.py"
      ]
    },
    {
      "cell_type": "markdown",
      "metadata": {
        "id": "Mf2t7ifAjPWN"
      },
      "source": [
        "## Model Training"
      ]
    },
    {
      "cell_type": "markdown",
      "metadata": {
        "id": "ZKHNZA16jPWO"
      },
      "source": [
        "### Model Training V0"
      ]
    },
    {
      "cell_type": "code",
      "execution_count": 44,
      "metadata": {
        "id": "3-wRWS8EjPWO",
        "outputId": "84346585-cbab-46d2-cf4f-916bea21abeb",
        "colab": {
          "base_uri": "https://localhost:8080/"
        }
      },
      "outputs": [
        {
          "output_type": "stream",
          "name": "stdout",
          "text": [
            "Writing model_training/v0.py\n"
          ]
        }
      ],
      "source": [
        "%%writefile model_training/v0.py\n",
        "\n",
        "# Defines number of epochs\n",
        "n_epochs = 1000\n",
        "\n",
        "for epoch in range(n_epochs):\n",
        "    # Sets model to TRAIN mode\n",
        "    model.train()\n",
        "\n",
        "    # Step 1 - Computes model's predicted output - forward pass\n",
        "    yhat = model(x_train_tensor)\n",
        "\n",
        "    # Step 2 - Computes the loss\n",
        "    loss = loss_fn(yhat, y_train_tensor)\n",
        "\n",
        "    # Step 3 - Computes gradients for both \"b\" and \"w\" parameters\n",
        "    loss.backward()\n",
        "\n",
        "    # Step 4 - Updates parameters using gradients and\n",
        "    # the learning rate\n",
        "    optimizer.step()\n",
        "    optimizer.zero_grad()"
      ]
    },
    {
      "cell_type": "code",
      "execution_count": 45,
      "metadata": {
        "id": "StVo8ZT6jPWO"
      },
      "outputs": [],
      "source": [
        "%run -i model_training/v0.py"
      ]
    },
    {
      "cell_type": "code",
      "execution_count": 46,
      "metadata": {
        "id": "vp83HWcOjPWO",
        "outputId": "7fc25ce0-9c02-4383-8c39-e3d24845620c",
        "colab": {
          "base_uri": "https://localhost:8080/"
        }
      },
      "outputs": [
        {
          "output_type": "stream",
          "name": "stdout",
          "text": [
            "OrderedDict([('0.weight', tensor([[1.9690]])), ('0.bias', tensor([1.0235]))])\n"
          ]
        }
      ],
      "source": [
        "print(model.state_dict())"
      ]
    },
    {
      "cell_type": "code",
      "execution_count": null,
      "metadata": {
        "id": "FBtdCGOgjPWO"
      },
      "outputs": [],
      "source": []
    }
  ],
  "metadata": {
    "kernelspec": {
      "display_name": "Python 3",
      "name": "python3"
    },
    "language_info": {
      "codemirror_mode": {
        "name": "ipython",
        "version": 3
      },
      "file_extension": ".py",
      "mimetype": "text/x-python",
      "name": "python",
      "nbconvert_exporter": "python",
      "pygments_lexer": "ipython3",
      "version": "3.7.5"
    },
    "colab": {
      "provenance": [],
      "include_colab_link": true
    }
  },
  "nbformat": 4,
  "nbformat_minor": 0
}